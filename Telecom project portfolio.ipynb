{
 "cells": [
  {
   "cell_type": "markdown",
   "id": "79bb9692",
   "metadata": {},
   "source": [
    "## Определение перспективного тарифа для телеком-компании"
   ]
  },
  {
   "cell_type": "markdown",
   "id": "939902b0",
   "metadata": {},
   "source": [
    "Требуется сделать предварительный анализ тарифов на небольшой выборке клиентов компании «Мегалайн» — федерального оператора сотовой связи. Клиентам предлагают два тарифных плана: «Смарт» и «Ультра». Чтобы скорректировать рекламный бюджет, коммерческий департамент хочет понять, какой тариф приносит больше денег. \n",
    "Нужно проанализировать поведение клиентов и сделать вывод — какой тариф лучше. В вашем распоряжении данные 500 пользователей «Мегалайна»: кто они, откуда, каким тарифом пользуются, сколько звонков и сообщений каждый отправил за 2018 год. \n",
    "\n",
    "##### Описание тарифов\n",
    "##### Тариф «Смарт»\n",
    "* Ежеемесячная плата: 550 рублей\n",
    "* Включено 500 минут разговора, 50 сообщений и 15 Гб интернет-трафика\n",
    "* Стоимость услуг сверх тарифного пакета:\n",
    "* минута разговора: 3 рубля\n",
    "* сообщение: 3 рубля\n",
    "* 1 Гб интернет-трафика: 200 рублей\n",
    "    \n",
    "##### Тариф «Ультра»\n",
    "* Ежемесячная плата: 1950 рублей\n",
    "* Включено 3000 минут разговора, 1000 сообщений и 30 Гб интернет-трафика\n",
    "* Стоимость услуг сверх тарифного пакета:\n",
    "* минута разговора: 1 рубль\n",
    "* сообщение: 1 рубль\n",
    "* 1 Гб интернет-трафика: 150 рублей\n",
    "\n",
    "\n",
    "### Описание данных <a class=\"anchor\" id=\"first-bullet\"></a>\n",
    "\n",
    "_Таблица users (информация о пользователях):_\n",
    "* user_id — уникальный идентификатор пользователя\n",
    "* first_name — имя пользователя\n",
    "* last_name — фамилия пользователя\n",
    "* age — возраст пользователя (годы)\n",
    "* reg_date — дата подключения тарифа (день, месяц, год)\n",
    "* churn_date — дата прекращения пользования тарифом (если значение пропущено, то тариф ещё действовал на момент выгрузки данных)\n",
    "* city — город проживания пользователя\n",
    "* tariff — название тарифного плана\n",
    "\n",
    "_Таблица calls (информация о звонках):_\n",
    "* id — уникальный номер звонка\n",
    "* call_date — дата звонка\n",
    "* duration — длительность звонка в минутах\n",
    "* user_id — идентификатор пользователя, сделавшего звонок\n",
    "\n",
    "_Таблица messages (информация о сообщениях):_\n",
    "* id — уникальный номер сообщения\n",
    "* message_date — дата сообщения\n",
    "* user_id — идентификатор пользователя, отправившего сообщение\n",
    "\n",
    "_Таблица internet (информация об интернет-сессиях):_\n",
    "* id — уникальный номер сессии\n",
    "* mb_used — объём потраченного за сессию интернет-трафика (в мегабайтах)\n",
    "* session_date — дата интернет-сессии\n",
    "* user_id — идентификатор пользователя\n",
    "\n",
    "_Таблица tariffs (информация о тарифах):_\n",
    "* tariff_name — название тарифа\n",
    "* rub_monthly_fee — ежемесячная абонентская плата в рублях\n",
    "* minutes_included — количество минут разговора в месяц, включённых в абонентскую плату\n",
    "* messages_included — количество сообщений в месяц, включённых в абонентскую плату\n",
    "* mb_per_month_included — объём интернет-трафика, включённого в абонентскую плату (в мегабайтах)\n",
    "* rub_per_minute — стоимость минуты разговора сверх тарифного пакета (например, если в тарифе 100 минут разговора в месяц, то со 101 минуты будет взиматься плата)\n",
    "* rub_per_message — стоимость отправки сообщения сверх тарифного пакета\n",
    "* rub_per_gb — стоимость дополнительного гигабайта интернет-трафика сверх тарифного пакета (1 гигабайт = 1024 мегабайта)\n",
    "\n",
    "    \n",
    "_Примечание\n",
    "«Мегалайн» всегда округляет секунды до минут, а мегабайты — до гигабайт. Каждый звонок округляется отдельно: даже если он длился всего 1 секунду, будет засчитан как 1 минута.\n",
    "Для веб-трафика отдельные сессии не считаются. Вместо этого общая сумма за месяц округляется в бо́льшую сторону. Если абонент использует 1025 мегабайт в этом месяце, с него возьмут плату за 2 гигабайта. Примите, что неиспользованные за предыдущий месяц звонки, смс, интернет на следующий месяц не переносятся._"
   ]
  },
  {
   "cell_type": "markdown",
   "id": "bbd5df9e",
   "metadata": {},
   "source": [
    "### Содержание:\n",
    "* [Описание данных](#first-bullet)\n",
    "* [Анализ входных данных таблиц users, calls, messages, internet, tariffs](#second-bullet)\n",
    "* [Выводы по первичному анализу данных таблиц users, calls, messages, internet, tariffs](#third-bullet)\n",
    "* [Поиск аномалий в данных, скрытых и явных дубликатов](#fourth-bullet)\n",
    "* [Формирование сводных таблиц, сгруппированных по пользователям и месяцам](#fifth-bullet)\n",
    "* [Визуализация данных свобной таблицы](#sixth-bullet)    \n",
    "* [Общие выводы о поведение клиентов оператора](#seventh-bullet)\n",
    "* [Проверка гипотез](#eight-bullet)\n",
    "* [Общие выводы](#ninth-bullet)"
   ]
  },
  {
   "cell_type": "markdown",
   "id": "d9441a93",
   "metadata": {},
   "source": [
    "### Описание данных <a class=\"anchor\" id=\"first-bullet\"></a>\n",
    "\n",
    "_Таблица users (информация о пользователях):_\n",
    "* user_id — уникальный идентификатор пользователя\n",
    "* first_name — имя пользователя\n",
    "* last_name — фамилия пользователя\n",
    "* age — возраст пользователя (годы)\n",
    "* reg_date — дата подключения тарифа (день, месяц, год)\n",
    "* churn_date — дата прекращения пользования тарифом (если значение пропущено, то тариф ещё действовал на момент выгрузки данных)\n",
    "* city — город проживания пользователя\n",
    "* tariff — название тарифного плана\n",
    "\n",
    "_Таблица calls (информация о звонках):_\n",
    "* id — уникальный номер звонка\n",
    "* call_date — дата звонка\n",
    "* duration — длительность звонка в минутах\n",
    "* user_id — идентификатор пользователя, сделавшего звонок\n",
    "\n",
    "_Таблица messages (информация о сообщениях):_\n",
    "* id — уникальный номер сообщения\n",
    "* message_date — дата сообщения\n",
    "* user_id — идентификатор пользователя, отправившего сообщение\n",
    "\n",
    "_Таблица internet (информация об интернет-сессиях):_\n",
    "* id — уникальный номер сессии\n",
    "* mb_used — объём потраченного за сессию интернет-трафика (в мегабайтах)\n",
    "* session_date — дата интернет-сессии\n",
    "* user_id — идентификатор пользователя\n",
    "\n",
    "_Таблица tariffs (информация о тарифах):_\n",
    "* tariff_name — название тарифа\n",
    "* rub_monthly_fee — ежемесячная абонентская плата в рублях\n",
    "* minutes_included — количество минут разговора в месяц, включённых в абонентскую плату\n",
    "* messages_included — количество сообщений в месяц, включённых в абонентскую плату\n",
    "* mb_per_month_included — объём интернет-трафика, включённого в абонентскую плату (в мегабайтах)\n",
    "* rub_per_minute — стоимость минуты разговора сверх тарифного пакета (например, если в тарифе 100 минут разговора в месяц, то со 101 минуты будет взиматься плата)\n",
    "* rub_per_message — стоимость отправки сообщения сверх тарифного пакета\n",
    "* rub_per_gb — стоимость дополнительного гигабайта интернет-трафика сверх тарифного пакета (1 гигабайт = 1024 мегабайта)"
   ]
  },
  {
   "cell_type": "code",
   "execution_count": 1,
   "id": "972a083a",
   "metadata": {},
   "outputs": [],
   "source": [
    "import pandas as pd\n",
    "import matplotlib.pyplot as plt\n",
    "import seaborn as sns\n",
    "import numpy as np\n",
    "from scipy import stats as st\n",
    "import random"
   ]
  },
  {
   "cell_type": "code",
   "execution_count": 2,
   "id": "d9e46b32",
   "metadata": {},
   "outputs": [],
   "source": [
    "try:\n",
    "    calls = pd.read_csv('/datasets/calls.csv')\n",
    "    internet = pd.read_csv('/datasets/internet.csv')\n",
    "    messages = pd.read_csv('/datasets/messages.csv')\n",
    "    tariffs = pd.read_csv('/datasets/tariffs.csv')\n",
    "    users = pd.read_csv('/datasets/users.csv')\n",
    "except FileNotFoundError:\n",
    "    calls = pd.read_csv('C:/Users/Sveta/Downloads/calls.csv')\n",
    "    internet = pd.read_csv('C:/Users/Sveta/Downloads/internet.csv')\n",
    "    messages = pd.read_csv('C:/Users/Sveta/Downloads/messages.csv')\n",
    "    tariffs = pd.read_csv('C:/Users/Sveta/Downloads/tariffs.csv')\n",
    "    users = pd.read_csv('C:/Users/Sveta/Downloads/users.csv')"
   ]
  },
  {
   "cell_type": "markdown",
   "id": "89bdde86",
   "metadata": {},
   "source": [
    "### Анализ входных данных таблиц users, calls, messages, internet, tariffs <a class=\"anchor\" id=\"second-bullet\"></a>"
   ]
  },
  {
   "cell_type": "code",
   "execution_count": 3,
   "id": "e84b7964",
   "metadata": {},
   "outputs": [],
   "source": [
    "dataframes = [users, calls, messages, internet, tariffs]\n",
    " \n",
    "def dataframe_info():\n",
    "    for dataframe in dataframes:\n",
    "        print('Для ознакомления с данными выведем на экран 5 первых строк таблицы')\n",
    "        display(dataframe.head())\n",
    "        display(dataframe.info())"
   ]
  },
  {
   "cell_type": "code",
   "execution_count": 4,
   "id": "99f3714d",
   "metadata": {
    "scrolled": false
   },
   "outputs": [
    {
     "name": "stdout",
     "output_type": "stream",
     "text": [
      "Для ознакомления с данными выведем на экран 5 первых строк таблицы\n"
     ]
    },
    {
     "data": {
      "text/html": [
       "<div>\n",
       "<style scoped>\n",
       "    .dataframe tbody tr th:only-of-type {\n",
       "        vertical-align: middle;\n",
       "    }\n",
       "\n",
       "    .dataframe tbody tr th {\n",
       "        vertical-align: top;\n",
       "    }\n",
       "\n",
       "    .dataframe thead th {\n",
       "        text-align: right;\n",
       "    }\n",
       "</style>\n",
       "<table border=\"1\" class=\"dataframe\">\n",
       "  <thead>\n",
       "    <tr style=\"text-align: right;\">\n",
       "      <th></th>\n",
       "      <th>user_id</th>\n",
       "      <th>age</th>\n",
       "      <th>churn_date</th>\n",
       "      <th>city</th>\n",
       "      <th>first_name</th>\n",
       "      <th>last_name</th>\n",
       "      <th>reg_date</th>\n",
       "      <th>tariff</th>\n",
       "    </tr>\n",
       "  </thead>\n",
       "  <tbody>\n",
       "    <tr>\n",
       "      <th>0</th>\n",
       "      <td>1000</td>\n",
       "      <td>52</td>\n",
       "      <td>NaN</td>\n",
       "      <td>Краснодар</td>\n",
       "      <td>Рафаил</td>\n",
       "      <td>Верещагин</td>\n",
       "      <td>2018-05-25</td>\n",
       "      <td>ultra</td>\n",
       "    </tr>\n",
       "    <tr>\n",
       "      <th>1</th>\n",
       "      <td>1001</td>\n",
       "      <td>41</td>\n",
       "      <td>NaN</td>\n",
       "      <td>Москва</td>\n",
       "      <td>Иван</td>\n",
       "      <td>Ежов</td>\n",
       "      <td>2018-11-01</td>\n",
       "      <td>smart</td>\n",
       "    </tr>\n",
       "    <tr>\n",
       "      <th>2</th>\n",
       "      <td>1002</td>\n",
       "      <td>59</td>\n",
       "      <td>NaN</td>\n",
       "      <td>Стерлитамак</td>\n",
       "      <td>Евгений</td>\n",
       "      <td>Абрамович</td>\n",
       "      <td>2018-06-17</td>\n",
       "      <td>smart</td>\n",
       "    </tr>\n",
       "    <tr>\n",
       "      <th>3</th>\n",
       "      <td>1003</td>\n",
       "      <td>23</td>\n",
       "      <td>NaN</td>\n",
       "      <td>Москва</td>\n",
       "      <td>Белла</td>\n",
       "      <td>Белякова</td>\n",
       "      <td>2018-08-17</td>\n",
       "      <td>ultra</td>\n",
       "    </tr>\n",
       "    <tr>\n",
       "      <th>4</th>\n",
       "      <td>1004</td>\n",
       "      <td>68</td>\n",
       "      <td>NaN</td>\n",
       "      <td>Новокузнецк</td>\n",
       "      <td>Татьяна</td>\n",
       "      <td>Авдеенко</td>\n",
       "      <td>2018-05-14</td>\n",
       "      <td>ultra</td>\n",
       "    </tr>\n",
       "  </tbody>\n",
       "</table>\n",
       "</div>"
      ],
      "text/plain": [
       "   user_id  age churn_date         city first_name  last_name    reg_date  \\\n",
       "0     1000   52        NaN    Краснодар     Рафаил  Верещагин  2018-05-25   \n",
       "1     1001   41        NaN       Москва       Иван       Ежов  2018-11-01   \n",
       "2     1002   59        NaN  Стерлитамак    Евгений  Абрамович  2018-06-17   \n",
       "3     1003   23        NaN       Москва      Белла   Белякова  2018-08-17   \n",
       "4     1004   68        NaN  Новокузнецк    Татьяна   Авдеенко  2018-05-14   \n",
       "\n",
       "  tariff  \n",
       "0  ultra  \n",
       "1  smart  \n",
       "2  smart  \n",
       "3  ultra  \n",
       "4  ultra  "
      ]
     },
     "metadata": {},
     "output_type": "display_data"
    },
    {
     "name": "stdout",
     "output_type": "stream",
     "text": [
      "<class 'pandas.core.frame.DataFrame'>\n",
      "RangeIndex: 500 entries, 0 to 499\n",
      "Data columns (total 8 columns):\n",
      " #   Column      Non-Null Count  Dtype \n",
      "---  ------      --------------  ----- \n",
      " 0   user_id     500 non-null    int64 \n",
      " 1   age         500 non-null    int64 \n",
      " 2   churn_date  38 non-null     object\n",
      " 3   city        500 non-null    object\n",
      " 4   first_name  500 non-null    object\n",
      " 5   last_name   500 non-null    object\n",
      " 6   reg_date    500 non-null    object\n",
      " 7   tariff      500 non-null    object\n",
      "dtypes: int64(2), object(6)\n",
      "memory usage: 31.4+ KB\n"
     ]
    },
    {
     "data": {
      "text/plain": [
       "None"
      ]
     },
     "metadata": {},
     "output_type": "display_data"
    },
    {
     "name": "stdout",
     "output_type": "stream",
     "text": [
      "Для ознакомления с данными выведем на экран 5 первых строк таблицы\n"
     ]
    },
    {
     "data": {
      "text/html": [
       "<div>\n",
       "<style scoped>\n",
       "    .dataframe tbody tr th:only-of-type {\n",
       "        vertical-align: middle;\n",
       "    }\n",
       "\n",
       "    .dataframe tbody tr th {\n",
       "        vertical-align: top;\n",
       "    }\n",
       "\n",
       "    .dataframe thead th {\n",
       "        text-align: right;\n",
       "    }\n",
       "</style>\n",
       "<table border=\"1\" class=\"dataframe\">\n",
       "  <thead>\n",
       "    <tr style=\"text-align: right;\">\n",
       "      <th></th>\n",
       "      <th>id</th>\n",
       "      <th>call_date</th>\n",
       "      <th>duration</th>\n",
       "      <th>user_id</th>\n",
       "    </tr>\n",
       "  </thead>\n",
       "  <tbody>\n",
       "    <tr>\n",
       "      <th>0</th>\n",
       "      <td>1000_0</td>\n",
       "      <td>2018-07-25</td>\n",
       "      <td>0.00</td>\n",
       "      <td>1000</td>\n",
       "    </tr>\n",
       "    <tr>\n",
       "      <th>1</th>\n",
       "      <td>1000_1</td>\n",
       "      <td>2018-08-17</td>\n",
       "      <td>0.00</td>\n",
       "      <td>1000</td>\n",
       "    </tr>\n",
       "    <tr>\n",
       "      <th>2</th>\n",
       "      <td>1000_2</td>\n",
       "      <td>2018-06-11</td>\n",
       "      <td>2.85</td>\n",
       "      <td>1000</td>\n",
       "    </tr>\n",
       "    <tr>\n",
       "      <th>3</th>\n",
       "      <td>1000_3</td>\n",
       "      <td>2018-09-21</td>\n",
       "      <td>13.80</td>\n",
       "      <td>1000</td>\n",
       "    </tr>\n",
       "    <tr>\n",
       "      <th>4</th>\n",
       "      <td>1000_4</td>\n",
       "      <td>2018-12-15</td>\n",
       "      <td>5.18</td>\n",
       "      <td>1000</td>\n",
       "    </tr>\n",
       "  </tbody>\n",
       "</table>\n",
       "</div>"
      ],
      "text/plain": [
       "       id   call_date  duration  user_id\n",
       "0  1000_0  2018-07-25      0.00     1000\n",
       "1  1000_1  2018-08-17      0.00     1000\n",
       "2  1000_2  2018-06-11      2.85     1000\n",
       "3  1000_3  2018-09-21     13.80     1000\n",
       "4  1000_4  2018-12-15      5.18     1000"
      ]
     },
     "metadata": {},
     "output_type": "display_data"
    },
    {
     "name": "stdout",
     "output_type": "stream",
     "text": [
      "<class 'pandas.core.frame.DataFrame'>\n",
      "RangeIndex: 202607 entries, 0 to 202606\n",
      "Data columns (total 4 columns):\n",
      " #   Column     Non-Null Count   Dtype  \n",
      "---  ------     --------------   -----  \n",
      " 0   id         202607 non-null  object \n",
      " 1   call_date  202607 non-null  object \n",
      " 2   duration   202607 non-null  float64\n",
      " 3   user_id    202607 non-null  int64  \n",
      "dtypes: float64(1), int64(1), object(2)\n",
      "memory usage: 6.2+ MB\n"
     ]
    },
    {
     "data": {
      "text/plain": [
       "None"
      ]
     },
     "metadata": {},
     "output_type": "display_data"
    },
    {
     "name": "stdout",
     "output_type": "stream",
     "text": [
      "Для ознакомления с данными выведем на экран 5 первых строк таблицы\n"
     ]
    },
    {
     "data": {
      "text/html": [
       "<div>\n",
       "<style scoped>\n",
       "    .dataframe tbody tr th:only-of-type {\n",
       "        vertical-align: middle;\n",
       "    }\n",
       "\n",
       "    .dataframe tbody tr th {\n",
       "        vertical-align: top;\n",
       "    }\n",
       "\n",
       "    .dataframe thead th {\n",
       "        text-align: right;\n",
       "    }\n",
       "</style>\n",
       "<table border=\"1\" class=\"dataframe\">\n",
       "  <thead>\n",
       "    <tr style=\"text-align: right;\">\n",
       "      <th></th>\n",
       "      <th>id</th>\n",
       "      <th>message_date</th>\n",
       "      <th>user_id</th>\n",
       "    </tr>\n",
       "  </thead>\n",
       "  <tbody>\n",
       "    <tr>\n",
       "      <th>0</th>\n",
       "      <td>1000_0</td>\n",
       "      <td>2018-06-27</td>\n",
       "      <td>1000</td>\n",
       "    </tr>\n",
       "    <tr>\n",
       "      <th>1</th>\n",
       "      <td>1000_1</td>\n",
       "      <td>2018-10-08</td>\n",
       "      <td>1000</td>\n",
       "    </tr>\n",
       "    <tr>\n",
       "      <th>2</th>\n",
       "      <td>1000_2</td>\n",
       "      <td>2018-08-04</td>\n",
       "      <td>1000</td>\n",
       "    </tr>\n",
       "    <tr>\n",
       "      <th>3</th>\n",
       "      <td>1000_3</td>\n",
       "      <td>2018-06-16</td>\n",
       "      <td>1000</td>\n",
       "    </tr>\n",
       "    <tr>\n",
       "      <th>4</th>\n",
       "      <td>1000_4</td>\n",
       "      <td>2018-12-05</td>\n",
       "      <td>1000</td>\n",
       "    </tr>\n",
       "  </tbody>\n",
       "</table>\n",
       "</div>"
      ],
      "text/plain": [
       "       id message_date  user_id\n",
       "0  1000_0   2018-06-27     1000\n",
       "1  1000_1   2018-10-08     1000\n",
       "2  1000_2   2018-08-04     1000\n",
       "3  1000_3   2018-06-16     1000\n",
       "4  1000_4   2018-12-05     1000"
      ]
     },
     "metadata": {},
     "output_type": "display_data"
    },
    {
     "name": "stdout",
     "output_type": "stream",
     "text": [
      "<class 'pandas.core.frame.DataFrame'>\n",
      "RangeIndex: 123036 entries, 0 to 123035\n",
      "Data columns (total 3 columns):\n",
      " #   Column        Non-Null Count   Dtype \n",
      "---  ------        --------------   ----- \n",
      " 0   id            123036 non-null  object\n",
      " 1   message_date  123036 non-null  object\n",
      " 2   user_id       123036 non-null  int64 \n",
      "dtypes: int64(1), object(2)\n",
      "memory usage: 2.8+ MB\n"
     ]
    },
    {
     "data": {
      "text/plain": [
       "None"
      ]
     },
     "metadata": {},
     "output_type": "display_data"
    },
    {
     "name": "stdout",
     "output_type": "stream",
     "text": [
      "Для ознакомления с данными выведем на экран 5 первых строк таблицы\n"
     ]
    },
    {
     "data": {
      "text/html": [
       "<div>\n",
       "<style scoped>\n",
       "    .dataframe tbody tr th:only-of-type {\n",
       "        vertical-align: middle;\n",
       "    }\n",
       "\n",
       "    .dataframe tbody tr th {\n",
       "        vertical-align: top;\n",
       "    }\n",
       "\n",
       "    .dataframe thead th {\n",
       "        text-align: right;\n",
       "    }\n",
       "</style>\n",
       "<table border=\"1\" class=\"dataframe\">\n",
       "  <thead>\n",
       "    <tr style=\"text-align: right;\">\n",
       "      <th></th>\n",
       "      <th>Unnamed: 0</th>\n",
       "      <th>id</th>\n",
       "      <th>mb_used</th>\n",
       "      <th>session_date</th>\n",
       "      <th>user_id</th>\n",
       "    </tr>\n",
       "  </thead>\n",
       "  <tbody>\n",
       "    <tr>\n",
       "      <th>0</th>\n",
       "      <td>0</td>\n",
       "      <td>1000_0</td>\n",
       "      <td>112.95</td>\n",
       "      <td>2018-11-25</td>\n",
       "      <td>1000</td>\n",
       "    </tr>\n",
       "    <tr>\n",
       "      <th>1</th>\n",
       "      <td>1</td>\n",
       "      <td>1000_1</td>\n",
       "      <td>1052.81</td>\n",
       "      <td>2018-09-07</td>\n",
       "      <td>1000</td>\n",
       "    </tr>\n",
       "    <tr>\n",
       "      <th>2</th>\n",
       "      <td>2</td>\n",
       "      <td>1000_2</td>\n",
       "      <td>1197.26</td>\n",
       "      <td>2018-06-25</td>\n",
       "      <td>1000</td>\n",
       "    </tr>\n",
       "    <tr>\n",
       "      <th>3</th>\n",
       "      <td>3</td>\n",
       "      <td>1000_3</td>\n",
       "      <td>550.27</td>\n",
       "      <td>2018-08-22</td>\n",
       "      <td>1000</td>\n",
       "    </tr>\n",
       "    <tr>\n",
       "      <th>4</th>\n",
       "      <td>4</td>\n",
       "      <td>1000_4</td>\n",
       "      <td>302.56</td>\n",
       "      <td>2018-09-24</td>\n",
       "      <td>1000</td>\n",
       "    </tr>\n",
       "  </tbody>\n",
       "</table>\n",
       "</div>"
      ],
      "text/plain": [
       "   Unnamed: 0      id  mb_used session_date  user_id\n",
       "0           0  1000_0   112.95   2018-11-25     1000\n",
       "1           1  1000_1  1052.81   2018-09-07     1000\n",
       "2           2  1000_2  1197.26   2018-06-25     1000\n",
       "3           3  1000_3   550.27   2018-08-22     1000\n",
       "4           4  1000_4   302.56   2018-09-24     1000"
      ]
     },
     "metadata": {},
     "output_type": "display_data"
    },
    {
     "name": "stdout",
     "output_type": "stream",
     "text": [
      "<class 'pandas.core.frame.DataFrame'>\n",
      "RangeIndex: 149396 entries, 0 to 149395\n",
      "Data columns (total 5 columns):\n",
      " #   Column        Non-Null Count   Dtype  \n",
      "---  ------        --------------   -----  \n",
      " 0   Unnamed: 0    149396 non-null  int64  \n",
      " 1   id            149396 non-null  object \n",
      " 2   mb_used       149396 non-null  float64\n",
      " 3   session_date  149396 non-null  object \n",
      " 4   user_id       149396 non-null  int64  \n",
      "dtypes: float64(1), int64(2), object(2)\n",
      "memory usage: 5.7+ MB\n"
     ]
    },
    {
     "data": {
      "text/plain": [
       "None"
      ]
     },
     "metadata": {},
     "output_type": "display_data"
    },
    {
     "name": "stdout",
     "output_type": "stream",
     "text": [
      "Для ознакомления с данными выведем на экран 5 первых строк таблицы\n"
     ]
    },
    {
     "data": {
      "text/html": [
       "<div>\n",
       "<style scoped>\n",
       "    .dataframe tbody tr th:only-of-type {\n",
       "        vertical-align: middle;\n",
       "    }\n",
       "\n",
       "    .dataframe tbody tr th {\n",
       "        vertical-align: top;\n",
       "    }\n",
       "\n",
       "    .dataframe thead th {\n",
       "        text-align: right;\n",
       "    }\n",
       "</style>\n",
       "<table border=\"1\" class=\"dataframe\">\n",
       "  <thead>\n",
       "    <tr style=\"text-align: right;\">\n",
       "      <th></th>\n",
       "      <th>messages_included</th>\n",
       "      <th>mb_per_month_included</th>\n",
       "      <th>minutes_included</th>\n",
       "      <th>rub_monthly_fee</th>\n",
       "      <th>rub_per_gb</th>\n",
       "      <th>rub_per_message</th>\n",
       "      <th>rub_per_minute</th>\n",
       "      <th>tariff_name</th>\n",
       "    </tr>\n",
       "  </thead>\n",
       "  <tbody>\n",
       "    <tr>\n",
       "      <th>0</th>\n",
       "      <td>50</td>\n",
       "      <td>15360</td>\n",
       "      <td>500</td>\n",
       "      <td>550</td>\n",
       "      <td>200</td>\n",
       "      <td>3</td>\n",
       "      <td>3</td>\n",
       "      <td>smart</td>\n",
       "    </tr>\n",
       "    <tr>\n",
       "      <th>1</th>\n",
       "      <td>1000</td>\n",
       "      <td>30720</td>\n",
       "      <td>3000</td>\n",
       "      <td>1950</td>\n",
       "      <td>150</td>\n",
       "      <td>1</td>\n",
       "      <td>1</td>\n",
       "      <td>ultra</td>\n",
       "    </tr>\n",
       "  </tbody>\n",
       "</table>\n",
       "</div>"
      ],
      "text/plain": [
       "   messages_included  mb_per_month_included  minutes_included  \\\n",
       "0                 50                  15360               500   \n",
       "1               1000                  30720              3000   \n",
       "\n",
       "   rub_monthly_fee  rub_per_gb  rub_per_message  rub_per_minute tariff_name  \n",
       "0              550         200                3               3       smart  \n",
       "1             1950         150                1               1       ultra  "
      ]
     },
     "metadata": {},
     "output_type": "display_data"
    },
    {
     "name": "stdout",
     "output_type": "stream",
     "text": [
      "<class 'pandas.core.frame.DataFrame'>\n",
      "RangeIndex: 2 entries, 0 to 1\n",
      "Data columns (total 8 columns):\n",
      " #   Column                 Non-Null Count  Dtype \n",
      "---  ------                 --------------  ----- \n",
      " 0   messages_included      2 non-null      int64 \n",
      " 1   mb_per_month_included  2 non-null      int64 \n",
      " 2   minutes_included       2 non-null      int64 \n",
      " 3   rub_monthly_fee        2 non-null      int64 \n",
      " 4   rub_per_gb             2 non-null      int64 \n",
      " 5   rub_per_message        2 non-null      int64 \n",
      " 6   rub_per_minute         2 non-null      int64 \n",
      " 7   tariff_name            2 non-null      object\n",
      "dtypes: int64(7), object(1)\n",
      "memory usage: 256.0+ bytes\n"
     ]
    },
    {
     "data": {
      "text/plain": [
       "None"
      ]
     },
     "metadata": {},
     "output_type": "display_data"
    }
   ],
   "source": [
    "dataframe_info()"
   ]
  },
  {
   "cell_type": "markdown",
   "id": "7825680b",
   "metadata": {},
   "source": [
    "### Выводы по первичному анализу данных таблиц users, calls, messages, internet, tariffs <a class=\"anchor\" id=\"third-bullet\"></a>"
   ]
  },
  {
   "cell_type": "markdown",
   "id": "9ec518aa",
   "metadata": {},
   "source": [
    "* Датасет calls: Необходимо перевести столбец call_date в формат datetime.\n",
    "* Датасет internet: Необходимо перевести столбец session_date в формат datetime.\n",
    "* Датасет messages: Необходимо перевести столбец message_date в формат datetime.\n",
    "* Датасет users: Необходимо перевести столбцы reg_date и churn_date в формат datetime.\n",
    "* Пропуски данных есть в столбце churn_date таблицы users — дата прекращения пользования тарифом, для данного анализа пропуски данных роли не играют и остаются без изменений.\n",
    "* В таблице calls есть значения 0, которые также оставляем без изменения, они означают что абонент не дозвонился и не мешают дальнейшему анализу."
   ]
  },
  {
   "cell_type": "markdown",
   "id": "9b30e0a6",
   "metadata": {},
   "source": [
    "#### Перевод столбцов в формат datetime"
   ]
  },
  {
   "cell_type": "code",
   "execution_count": 5,
   "id": "0cbdeed7",
   "metadata": {},
   "outputs": [],
   "source": [
    "DATE = '%Y-%m-%d'\n",
    "calls['call_date'] = pd.to_datetime(calls['call_date'], format=DATE)\n",
    "internet['session_date'] = pd.to_datetime(internet['session_date'], format=DATE)\n",
    "messages['message_date'] = pd.to_datetime(messages['message_date'], format=DATE)\n",
    "users['reg_date'] = pd.to_datetime(users['reg_date'], format=DATE)\n",
    "users['churn_date'] = pd.to_datetime(users['churn_date'], format=DATE)\n"
   ]
  },
  {
   "cell_type": "markdown",
   "id": "3fbe9231",
   "metadata": {},
   "source": [
    "### Поиск аномалий в данных, скрытых и явных дубликатов <a class=\"anchor\" id=\"fourth-bullet\"></a>"
   ]
  },
  {
   "cell_type": "markdown",
   "id": "751c55d5",
   "metadata": {},
   "source": [
    "#### Анализ таблицы calls:"
   ]
  },
  {
   "cell_type": "code",
   "execution_count": 6,
   "id": "161d58e4",
   "metadata": {},
   "outputs": [
    {
     "name": "stdout",
     "output_type": "stream",
     "text": [
      "count    202607.000000\n",
      "mean          6.755887\n",
      "std           5.843365\n",
      "min           0.000000\n",
      "25%           1.300000\n",
      "50%           6.000000\n",
      "75%          10.700000\n",
      "max          38.000000\n",
      "Name: duration, dtype: float64\n",
      "['1000_0' '1000_1' '1000_2' ... '1499_217' '1499_218' '1499_219']\n",
      "0\n"
     ]
    }
   ],
   "source": [
    "print(calls['duration'].describe()) \n",
    "print(calls['id'].unique())\n",
    "print(calls.duplicated().sum())"
   ]
  },
  {
   "cell_type": "markdown",
   "id": "2848562b",
   "metadata": {},
   "source": [
    "* Данные по продолжительности вызовов не вызывают вопросов, минимальная продолжительность 0, максимальная - 38 минут, средняя 6,75 минут.\n",
    "* Уникальные значения столбца id не имеют аномалий.\n",
    "* Явные дубликаты не выявлены."
   ]
  },
  {
   "cell_type": "code",
   "execution_count": 7,
   "id": "174cdad2",
   "metadata": {},
   "outputs": [
    {
     "data": {
      "text/plain": [
       "array([1000, 1001, 1002, 1003, 1004, 1005, 1006, 1007, 1008, 1009, 1010,\n",
       "       1011, 1012, 1013, 1014, 1015, 1016, 1017, 1018, 1019, 1020, 1021,\n",
       "       1022, 1023, 1024, 1025, 1026, 1027, 1028, 1029, 1030, 1031, 1032,\n",
       "       1033, 1034, 1035, 1036, 1037, 1038, 1039, 1040, 1041, 1042, 1043,\n",
       "       1044, 1045, 1046, 1047, 1048, 1049, 1050, 1051, 1052, 1053, 1054,\n",
       "       1055, 1056, 1057, 1058, 1059, 1060, 1061, 1062, 1063, 1064, 1065,\n",
       "       1066, 1067, 1068, 1069, 1070, 1071, 1072, 1073, 1074, 1075, 1076,\n",
       "       1077, 1078, 1079, 1080, 1081, 1082, 1083, 1084, 1085, 1086, 1087,\n",
       "       1088, 1089, 1090, 1092, 1093, 1094, 1095, 1096, 1097, 1098, 1099,\n",
       "       1100, 1101, 1102, 1103, 1104, 1105, 1107, 1108, 1109, 1110, 1111,\n",
       "       1112, 1113, 1114, 1115, 1116, 1117, 1118, 1119, 1120, 1121, 1122,\n",
       "       1123, 1124, 1125, 1126, 1127, 1129, 1130, 1131, 1132, 1133, 1134,\n",
       "       1135, 1136, 1137, 1138, 1139, 1140, 1141, 1142, 1143, 1144, 1145,\n",
       "       1146, 1147, 1148, 1149, 1150, 1151, 1152, 1153, 1154, 1155, 1156,\n",
       "       1157, 1158, 1159, 1160, 1161, 1162, 1163, 1164, 1165, 1166, 1167,\n",
       "       1168, 1169, 1170, 1171, 1172, 1173, 1174, 1175, 1176, 1177, 1178,\n",
       "       1179, 1180, 1181, 1182, 1183, 1184, 1185, 1186, 1187, 1188, 1189,\n",
       "       1190, 1191, 1192, 1193, 1194, 1195, 1196, 1197, 1198, 1199, 1200,\n",
       "       1201, 1202, 1203, 1204, 1205, 1206, 1207, 1208, 1209, 1210, 1211,\n",
       "       1212, 1213, 1214, 1215, 1216, 1217, 1218, 1219, 1220, 1221, 1222,\n",
       "       1223, 1224, 1225, 1226, 1227, 1228, 1229, 1230, 1232, 1233, 1234,\n",
       "       1235, 1236, 1237, 1238, 1239, 1240, 1241, 1242, 1243, 1244, 1245,\n",
       "       1246, 1247, 1248, 1249, 1250, 1251, 1252, 1253, 1254, 1255, 1256,\n",
       "       1257, 1258, 1259, 1260, 1261, 1262, 1263, 1264, 1265, 1266, 1267,\n",
       "       1268, 1269, 1270, 1271, 1272, 1273, 1274, 1275, 1276, 1277, 1278,\n",
       "       1279, 1280, 1281, 1282, 1283, 1284, 1285, 1286, 1287, 1288, 1289,\n",
       "       1290, 1291, 1292, 1293, 1294, 1295, 1296, 1297, 1298, 1299, 1300,\n",
       "       1301, 1302, 1303, 1304, 1305, 1306, 1307, 1308, 1309, 1310, 1311,\n",
       "       1312, 1313, 1314, 1315, 1316, 1317, 1318, 1319, 1320, 1321, 1322,\n",
       "       1323, 1324, 1325, 1326, 1327, 1329, 1330, 1331, 1332, 1333, 1334,\n",
       "       1335, 1336, 1337, 1338, 1339, 1340, 1341, 1342, 1343, 1344, 1345,\n",
       "       1346, 1347, 1348, 1349, 1350, 1351, 1352, 1353, 1354, 1355, 1356,\n",
       "       1357, 1358, 1359, 1360, 1361, 1362, 1363, 1364, 1365, 1366, 1367,\n",
       "       1368, 1369, 1370, 1372, 1373, 1374, 1375, 1376, 1377, 1378, 1379,\n",
       "       1380, 1381, 1382, 1383, 1384, 1385, 1386, 1387, 1388, 1389, 1390,\n",
       "       1391, 1392, 1393, 1394, 1395, 1396, 1397, 1398, 1399, 1400, 1401,\n",
       "       1402, 1403, 1404, 1405, 1406, 1407, 1408, 1409, 1410, 1411, 1412,\n",
       "       1413, 1414, 1415, 1416, 1417, 1418, 1419, 1420, 1421, 1422, 1423,\n",
       "       1424, 1425, 1426, 1427, 1428, 1429, 1430, 1431, 1432, 1433, 1434,\n",
       "       1435, 1436, 1437, 1438, 1439, 1440, 1441, 1442, 1443, 1444, 1445,\n",
       "       1446, 1447, 1448, 1449, 1450, 1451, 1452, 1453, 1454, 1455, 1456,\n",
       "       1457, 1458, 1459, 1460, 1461, 1462, 1463, 1464, 1465, 1466, 1467,\n",
       "       1468, 1469, 1470, 1471, 1472, 1474, 1475, 1476, 1477, 1478, 1479,\n",
       "       1480, 1481, 1482, 1483, 1484, 1485, 1486, 1487, 1488, 1490, 1491,\n",
       "       1492, 1493, 1494, 1495, 1496, 1497, 1498, 1499])"
      ]
     },
     "execution_count": 7,
     "metadata": {},
     "output_type": "execute_result"
    }
   ],
   "source": [
    "calls['user_id'].unique()"
   ]
  },
  {
   "cell_type": "markdown",
   "id": "cbad379e",
   "metadata": {},
   "source": [
    "* Уникальные значения столбца user_id не имеют аномалий"
   ]
  },
  {
   "cell_type": "code",
   "execution_count": 8,
   "id": "2c66c0bf",
   "metadata": {},
   "outputs": [
    {
     "name": "stdout",
     "output_type": "stream",
     "text": [
      "[2018]\n",
      "[ 1  2  3  4  5  6  7  8  9 10 11 12]\n",
      "[ 1  2  3  4  5  6  7  8  9 10 11 12 13 14 15 16 17 18 19 20 21 22 23 24\n",
      " 25 26 27 28 29 30 31]\n"
     ]
    }
   ],
   "source": [
    "print(calls['call_date'].dt.year.sort_values(ascending = True).unique())\n",
    "print (calls['call_date'].dt.month.sort_values(ascending = True).unique())\n",
    "print (calls['call_date'].dt.day.sort_values(ascending = True).unique())"
   ]
  },
  {
   "cell_type": "markdown",
   "id": "4c9fff3b",
   "metadata": {},
   "source": [
    "* Уникальные значения столбца call_date не имеют аномалий."
   ]
  },
  {
   "cell_type": "markdown",
   "id": "a23f799f",
   "metadata": {},
   "source": [
    "#### Анализ таблицы internet:"
   ]
  },
  {
   "cell_type": "code",
   "execution_count": 9,
   "id": "48ad6cea",
   "metadata": {},
   "outputs": [
    {
     "name": "stdout",
     "output_type": "stream",
     "text": [
      "count    149396.000000\n",
      "mean        370.192426\n",
      "std         278.300951\n",
      "min           0.000000\n",
      "25%         138.187500\n",
      "50%         348.015000\n",
      "75%         559.552500\n",
      "max        1724.830000\n",
      "Name: mb_used, dtype: float64\n",
      "['1000_0' '1000_1' '1000_2' ... '1499_154' '1499_155' '1499_156']\n",
      "0\n"
     ]
    }
   ],
   "source": [
    "print(internet['mb_used'].describe())\n",
    "print (internet['id'].unique())\n",
    "print (internet.duplicated().sum())"
   ]
  },
  {
   "cell_type": "markdown",
   "id": "edc29b6b",
   "metadata": {},
   "source": [
    "* Данные по объему по продолжительности интернет сессий в мб не вызывают вопросов, минимальный объем траффика 0, максимальный - 1724 мб, среднее значение 370,2 мб.\n",
    "* Уникальные значения столбца id не имеют аномалий.\n",
    "* Явные дубликаты не выявлены."
   ]
  },
  {
   "cell_type": "code",
   "execution_count": 11,
   "id": "38ce1430",
   "metadata": {},
   "outputs": [
    {
     "data": {
      "image/png": "[encoded data removed]",
      "text/plain": [
       "<Figure size 432x288 with 1 Axes>"
      ]
     },
     "metadata": {
      "needs_background": "light"
     },
     "output_type": "display_data"
    }
   ],
   "source": [
    "sns.histplot(data=internet, x='mb_used')\n",
    "plt.title('Гистограмма количества использованных мб за сессию')\n",
    "plt.show()"
   ]
  },
  {
   "cell_type": "code",
   "execution_count": 12,
   "id": "3dc236ef",
   "metadata": {},
   "outputs": [
    {
     "data": {
      "image/png": "[encoded data removed]",
      "text/plain": [
       "<Figure size 432x288 with 1 Axes>"
      ]
     },
     "metadata": {
      "needs_background": "light"
     },
     "output_type": "display_data"
    }
   ],
   "source": [
    "sns.histplot(data=internet.query('mb_used <100'), x='mb_used')\n",
    "plt.title('Гистограмма количества использованных мб за сессию в диапазоне 0-100 мб')\n",
    "plt.show()"
   ]
  },
  {
   "cell_type": "markdown",
   "id": "b4120073",
   "metadata": {},
   "source": [
    "* Порядка 20000 сессий с 0 траффиком, при этом сама сессия зафиксирована по времени. \n",
    "* Наличие нулевых сессий может быть связано с плохим качеством интернета, т.о. попытка загрузки зафиксирована, но траффик не использован. \n",
    "* Для того чтобы на дальнейший анализ не влияли сессии с нулевым траффиком, можно их не учитывать."
   ]
  },
  {
   "cell_type": "code",
   "execution_count": 13,
   "id": "dd3660d5",
   "metadata": {},
   "outputs": [],
   "source": [
    "internet = internet.query('mb_used != 0')"
   ]
  },
  {
   "cell_type": "markdown",
   "id": "32fd7823",
   "metadata": {},
   "source": [
    "#### Анализ таблицы messages:"
   ]
  },
  {
   "cell_type": "code",
   "execution_count": 14,
   "id": "aafe0e6e",
   "metadata": {},
   "outputs": [
    {
     "name": "stdout",
     "output_type": "stream",
     "text": [
      "['1000_0' '1000_1' '1000_2' ... '1499_181' '1499_182' '1499_183']\n",
      "0\n"
     ]
    }
   ],
   "source": [
    "print(messages['id'].unique())\n",
    "print(messages.duplicated().sum())"
   ]
  },
  {
   "cell_type": "markdown",
   "id": "5bc53b90",
   "metadata": {},
   "source": [
    "* Уникальные значения столбца id не имеют аномалий.\n",
    "* Явные дубликаты не выявлены."
   ]
  },
  {
   "cell_type": "code",
   "execution_count": 15,
   "id": "f71cf9f7",
   "metadata": {},
   "outputs": [
    {
     "data": {
      "text/plain": [
       "array([1000, 1002, 1003, 1004, 1005, 1007, 1008, 1009, 1011, 1012, 1013,\n",
       "       1014, 1015, 1016, 1018, 1019, 1020, 1021, 1022, 1023, 1025, 1026,\n",
       "       1027, 1028, 1029, 1030, 1031, 1032, 1033, 1034, 1035, 1036, 1037,\n",
       "       1038, 1039, 1041, 1042, 1043, 1044, 1045, 1046, 1047, 1048, 1050,\n",
       "       1051, 1052, 1054, 1055, 1056, 1057, 1058, 1059, 1060, 1061, 1062,\n",
       "       1064, 1065, 1066, 1067, 1068, 1069, 1070, 1071, 1072, 1073, 1074,\n",
       "       1075, 1076, 1077, 1079, 1080, 1081, 1082, 1083, 1084, 1086, 1087,\n",
       "       1088, 1089, 1090, 1091, 1092, 1093, 1094, 1096, 1097, 1098, 1099,\n",
       "       1100, 1102, 1103, 1104, 1105, 1106, 1108, 1109, 1110, 1111, 1112,\n",
       "       1113, 1115, 1119, 1121, 1122, 1123, 1124, 1125, 1126, 1127, 1130,\n",
       "       1131, 1133, 1134, 1135, 1136, 1137, 1138, 1139, 1140, 1141, 1142,\n",
       "       1144, 1145, 1146, 1147, 1148, 1149, 1150, 1151, 1154, 1155, 1156,\n",
       "       1158, 1159, 1160, 1161, 1163, 1164, 1165, 1166, 1167, 1168, 1169,\n",
       "       1170, 1171, 1172, 1173, 1174, 1176, 1178, 1180, 1181, 1182, 1183,\n",
       "       1184, 1186, 1187, 1188, 1189, 1190, 1191, 1192, 1193, 1194, 1196,\n",
       "       1197, 1198, 1199, 1200, 1202, 1203, 1205, 1206, 1207, 1209, 1211,\n",
       "       1212, 1213, 1214, 1215, 1216, 1217, 1218, 1219, 1221, 1222, 1223,\n",
       "       1226, 1227, 1229, 1230, 1231, 1232, 1233, 1234, 1235, 1236, 1237,\n",
       "       1238, 1239, 1241, 1243, 1244, 1245, 1246, 1247, 1249, 1250, 1251,\n",
       "       1252, 1253, 1256, 1257, 1258, 1259, 1261, 1262, 1263, 1264, 1265,\n",
       "       1266, 1267, 1268, 1269, 1270, 1271, 1272, 1273, 1274, 1275, 1276,\n",
       "       1277, 1278, 1279, 1280, 1281, 1282, 1283, 1284, 1285, 1286, 1287,\n",
       "       1288, 1289, 1293, 1294, 1295, 1296, 1298, 1299, 1300, 1302, 1303,\n",
       "       1304, 1307, 1308, 1309, 1310, 1311, 1312, 1313, 1314, 1315, 1316,\n",
       "       1317, 1318, 1319, 1320, 1321, 1323, 1324, 1325, 1326, 1327, 1328,\n",
       "       1329, 1330, 1331, 1332, 1333, 1335, 1336, 1337, 1338, 1340, 1341,\n",
       "       1342, 1343, 1344, 1345, 1346, 1347, 1348, 1349, 1350, 1351, 1352,\n",
       "       1353, 1354, 1355, 1356, 1357, 1358, 1359, 1361, 1362, 1364, 1365,\n",
       "       1366, 1368, 1369, 1372, 1373, 1374, 1375, 1377, 1378, 1379, 1380,\n",
       "       1381, 1382, 1383, 1384, 1385, 1386, 1387, 1389, 1390, 1391, 1392,\n",
       "       1393, 1394, 1395, 1396, 1398, 1399, 1400, 1401, 1402, 1403, 1404,\n",
       "       1405, 1406, 1407, 1408, 1409, 1410, 1411, 1412, 1413, 1414, 1415,\n",
       "       1416, 1417, 1418, 1419, 1420, 1421, 1422, 1423, 1424, 1425, 1426,\n",
       "       1427, 1430, 1431, 1432, 1433, 1434, 1436, 1437, 1438, 1439, 1440,\n",
       "       1441, 1443, 1444, 1445, 1446, 1447, 1448, 1449, 1450, 1451, 1452,\n",
       "       1453, 1454, 1455, 1457, 1458, 1459, 1460, 1461, 1463, 1464, 1465,\n",
       "       1467, 1468, 1470, 1471, 1472, 1473, 1474, 1475, 1476, 1477, 1478,\n",
       "       1480, 1481, 1482, 1483, 1484, 1485, 1486, 1487, 1488, 1489, 1490,\n",
       "       1491, 1492, 1493, 1495, 1496, 1497, 1498, 1499])"
      ]
     },
     "execution_count": 15,
     "metadata": {},
     "output_type": "execute_result"
    }
   ],
   "source": [
    "messages['user_id'].unique()"
   ]
  },
  {
   "cell_type": "markdown",
   "id": "6480466b",
   "metadata": {},
   "source": [
    "* Уникальные значения столбца user_id не имеют аномалий"
   ]
  },
  {
   "cell_type": "code",
   "execution_count": 16,
   "id": "ed411165",
   "metadata": {},
   "outputs": [
    {
     "name": "stdout",
     "output_type": "stream",
     "text": [
      "[2018]\n",
      "[ 1  2  3  4  5  6  7  8  9 10 11 12]\n",
      "[ 1  2  3  4  5  6  7  8  9 10 11 12 13 14 15 16 17 18 19 20 21 22 23 24\n",
      " 25 26 27 28 29 30 31]\n"
     ]
    }
   ],
   "source": [
    "print(messages['message_date'].dt.year.unique())\n",
    "print(messages['message_date'].dt.month.sort_values(ascending = True).unique())\n",
    "print (messages['message_date'].dt.day.sort_values(ascending = True).unique())"
   ]
  },
  {
   "cell_type": "markdown",
   "id": "41544156",
   "metadata": {},
   "source": [
    "* Уникальные значения столбца message_date не имеют аномалий."
   ]
  },
  {
   "cell_type": "markdown",
   "id": "b804957c",
   "metadata": {},
   "source": [
    "#### Анализ таблицы users:"
   ]
  },
  {
   "cell_type": "code",
   "execution_count": 17,
   "id": "ad0ae07b",
   "metadata": {},
   "outputs": [
    {
     "data": {
      "text/plain": [
       "array([1000, 1001, 1002, 1003, 1004, 1005, 1006, 1007, 1008, 1009, 1010,\n",
       "       1011, 1012, 1013, 1014, 1015, 1016, 1017, 1018, 1019, 1020, 1021,\n",
       "       1022, 1023, 1024, 1025, 1026, 1027, 1028, 1029, 1030, 1031, 1032,\n",
       "       1033, 1034, 1035, 1036, 1037, 1038, 1039, 1040, 1041, 1042, 1043,\n",
       "       1044, 1045, 1046, 1047, 1048, 1049, 1050, 1051, 1052, 1053, 1054,\n",
       "       1055, 1056, 1057, 1058, 1059, 1060, 1061, 1062, 1063, 1064, 1065,\n",
       "       1066, 1067, 1068, 1069, 1070, 1071, 1072, 1073, 1074, 1075, 1076,\n",
       "       1077, 1078, 1079, 1080, 1081, 1082, 1083, 1084, 1085, 1086, 1087,\n",
       "       1088, 1089, 1090, 1091, 1092, 1093, 1094, 1095, 1096, 1097, 1098,\n",
       "       1099, 1100, 1101, 1102, 1103, 1104, 1105, 1106, 1107, 1108, 1109,\n",
       "       1110, 1111, 1112, 1113, 1114, 1115, 1116, 1117, 1118, 1119, 1120,\n",
       "       1121, 1122, 1123, 1124, 1125, 1126, 1127, 1128, 1129, 1130, 1131,\n",
       "       1132, 1133, 1134, 1135, 1136, 1137, 1138, 1139, 1140, 1141, 1142,\n",
       "       1143, 1144, 1145, 1146, 1147, 1148, 1149, 1150, 1151, 1152, 1153,\n",
       "       1154, 1155, 1156, 1157, 1158, 1159, 1160, 1161, 1162, 1163, 1164,\n",
       "       1165, 1166, 1167, 1168, 1169, 1170, 1171, 1172, 1173, 1174, 1175,\n",
       "       1176, 1177, 1178, 1179, 1180, 1181, 1182, 1183, 1184, 1185, 1186,\n",
       "       1187, 1188, 1189, 1190, 1191, 1192, 1193, 1194, 1195, 1196, 1197,\n",
       "       1198, 1199, 1200, 1201, 1202, 1203, 1204, 1205, 1206, 1207, 1208,\n",
       "       1209, 1210, 1211, 1212, 1213, 1214, 1215, 1216, 1217, 1218, 1219,\n",
       "       1220, 1221, 1222, 1223, 1224, 1225, 1226, 1227, 1228, 1229, 1230,\n",
       "       1231, 1232, 1233, 1234, 1235, 1236, 1237, 1238, 1239, 1240, 1241,\n",
       "       1242, 1243, 1244, 1245, 1246, 1247, 1248, 1249, 1250, 1251, 1252,\n",
       "       1253, 1254, 1255, 1256, 1257, 1258, 1259, 1260, 1261, 1262, 1263,\n",
       "       1264, 1265, 1266, 1267, 1268, 1269, 1270, 1271, 1272, 1273, 1274,\n",
       "       1275, 1276, 1277, 1278, 1279, 1280, 1281, 1282, 1283, 1284, 1285,\n",
       "       1286, 1287, 1288, 1289, 1290, 1291, 1292, 1293, 1294, 1295, 1296,\n",
       "       1297, 1298, 1299, 1300, 1301, 1302, 1303, 1304, 1305, 1306, 1307,\n",
       "       1308, 1309, 1310, 1311, 1312, 1313, 1314, 1315, 1316, 1317, 1318,\n",
       "       1319, 1320, 1321, 1322, 1323, 1324, 1325, 1326, 1327, 1328, 1329,\n",
       "       1330, 1331, 1332, 1333, 1334, 1335, 1336, 1337, 1338, 1339, 1340,\n",
       "       1341, 1342, 1343, 1344, 1345, 1346, 1347, 1348, 1349, 1350, 1351,\n",
       "       1352, 1353, 1354, 1355, 1356, 1357, 1358, 1359, 1360, 1361, 1362,\n",
       "       1363, 1364, 1365, 1366, 1367, 1368, 1369, 1370, 1371, 1372, 1373,\n",
       "       1374, 1375, 1376, 1377, 1378, 1379, 1380, 1381, 1382, 1383, 1384,\n",
       "       1385, 1386, 1387, 1388, 1389, 1390, 1391, 1392, 1393, 1394, 1395,\n",
       "       1396, 1397, 1398, 1399, 1400, 1401, 1402, 1403, 1404, 1405, 1406,\n",
       "       1407, 1408, 1409, 1410, 1411, 1412, 1413, 1414, 1415, 1416, 1417,\n",
       "       1418, 1419, 1420, 1421, 1422, 1423, 1424, 1425, 1426, 1427, 1428,\n",
       "       1429, 1430, 1431, 1432, 1433, 1434, 1435, 1436, 1437, 1438, 1439,\n",
       "       1440, 1441, 1442, 1443, 1444, 1445, 1446, 1447, 1448, 1449, 1450,\n",
       "       1451, 1452, 1453, 1454, 1455, 1456, 1457, 1458, 1459, 1460, 1461,\n",
       "       1462, 1463, 1464, 1465, 1466, 1467, 1468, 1469, 1470, 1471, 1472,\n",
       "       1473, 1474, 1475, 1476, 1477, 1478, 1479, 1480, 1481, 1482, 1483,\n",
       "       1484, 1485, 1486, 1487, 1488, 1489, 1490, 1491, 1492, 1493, 1494,\n",
       "       1495, 1496, 1497, 1498, 1499])"
      ]
     },
     "execution_count": 17,
     "metadata": {},
     "output_type": "execute_result"
    }
   ],
   "source": [
    "users['user_id'].unique()"
   ]
  },
  {
   "cell_type": "markdown",
   "id": "df2dcafe",
   "metadata": {},
   "source": [
    "* Уникальные значения столбца user_id не имеют аномалий."
   ]
  },
  {
   "cell_type": "code",
   "execution_count": 18,
   "id": "10f229ea",
   "metadata": {},
   "outputs": [
    {
     "data": {
      "text/plain": [
       "array(['Архангельск', 'Астрахань', 'Балашиха', 'Барнаул', 'Белгород',\n",
       "       'Брянск', 'Владивосток', 'Владикавказ', 'Владимир', 'Волгоград',\n",
       "       'Волжский', 'Вологда', 'Воронеж', 'Грозный', 'Екатеринбург',\n",
       "       'Иваново', 'Ижевск', 'Иркутск', 'Казань', 'Калининград', 'Калуга',\n",
       "       'Кемерово', 'Киров', 'Кострома', 'Краснодар', 'Красноярск',\n",
       "       'Курган', 'Курск', 'Липецк', 'Магнитогорск', 'Махачкала', 'Москва',\n",
       "       'Мурманск', 'Набережные Челны', 'Нижневартовск', 'Нижний Новгород',\n",
       "       'Нижний Тагил', 'Новокузнецк', 'Новороссийск', 'Новосибирск',\n",
       "       'Омск', 'Оренбург', 'Орёл', 'Пенза', 'Пермь', 'Петрозаводск',\n",
       "       'Подольск', 'Ростов-на-Дону', 'Рязань', 'Самара',\n",
       "       'Санкт-Петербург', 'Саранск', 'Саратов', 'Севастополь', 'Смоленск',\n",
       "       'Сочи', 'Ставрополь', 'Стерлитамак', 'Сургут', 'Тамбов', 'Тверь',\n",
       "       'Тольятти', 'Томск', 'Тула', 'Тюмень', 'Улан-Удэ', 'Ульяновск',\n",
       "       'Уфа', 'Хабаровск', 'Химки', 'Чебоксары', 'Челябинск', 'Череповец',\n",
       "       'Чита', 'Якутск', 'Ярославль'], dtype=object)"
      ]
     },
     "execution_count": 18,
     "metadata": {},
     "output_type": "execute_result"
    }
   ],
   "source": [
    "users['city'].sort_values(ascending = True).unique()"
   ]
  },
  {
   "cell_type": "markdown",
   "id": "6c6e789f",
   "metadata": {},
   "source": [
    "* Уникальные значения столбца city не имеют аномалий."
   ]
  },
  {
   "cell_type": "code",
   "execution_count": 19,
   "id": "494115ee",
   "metadata": {},
   "outputs": [
    {
     "data": {
      "text/plain": [
       "array(['Ёлчина', 'Ёркин', 'Ёркина', 'Ёрохов', 'Ёрохова', 'Абаимов',\n",
       "       'Абакумов', 'Абакшина', 'Абалакова', 'Абалдуева', 'Абалкин',\n",
       "       'Абашкин', 'Абашкина', 'Абдулина', 'Абоимов', 'Абрамович',\n",
       "       'Абрамцев', 'Абрамычева', 'Абрашина', 'Абрикосова', 'Авдеев',\n",
       "       'Авдеенко', 'Авдонюшкин', 'Авдушева', 'Авдышев', 'Авдюков',\n",
       "       'Авраамова', 'Авраменко', 'Авринский', 'Аврорин', 'Авроров',\n",
       "       'Авросимова', 'Авросинова', 'Авсейкина', 'Авчинникова', 'Агаев',\n",
       "       'Агаева', 'Агапеева', 'Агеева', 'Адаменко', 'Адамов', 'Азаров',\n",
       "       'Азерников', 'Азимова', 'Акимов', 'Акимчин', 'Акимычева',\n",
       "       'Акиндинов', 'Акинин', 'Акинфьев', 'Аксёнов', 'Акуленко',\n",
       "       'Александрова', 'Александрович', 'Александрюк', 'Алексеева',\n",
       "       'Алексеенко', 'Алексеичев', 'Аленникова', 'Алесин', 'Алехина',\n",
       "       'Алешин', 'Алешина', 'Алешкова', 'Алиев', 'Алфеева', 'Алфимов',\n",
       "       'Алфимова', 'Алымова', 'Алютин', 'Алюшина', 'Алёшко', 'Алёшкова',\n",
       "       'Амелин', 'Амелишко', 'Амельченко', 'Ананьева', 'Андреенко',\n",
       "       'Андрейкин', 'Андрейчук', 'Андрианов', 'Андропов', 'Андропова',\n",
       "       'Андрющенко', 'Аникина', 'Аничкина', 'Анищенко', 'Антипов',\n",
       "       'Антоненко', 'Антонова', 'Антропов', 'Антропова', 'Аракина',\n",
       "       'Аракчеев', 'Аркадьев', 'Арсенкова', 'Артемчук', 'Артемьев',\n",
       "       'Артёменко', 'Артёмов', 'Артёшин', 'Архипова', 'Асафьева',\n",
       "       'Астапенко', 'Астапов', 'Астафьева', 'Афанасенко', 'Афанасова',\n",
       "       'Афинин', 'Афонасьева', 'Афонин', 'Афонина', 'Ахмадулин',\n",
       "       'Ахматов', 'Ахматулин', 'Ахматулина', 'Ахмедов', 'Бабушкина',\n",
       "       'Барсуков', 'Басова', 'Безруков', 'Беликова', 'Белова',\n",
       "       'Белозёров', 'Белоусова', 'Беляев', 'Беляева', 'Белякова',\n",
       "       'Березина', 'Блинова', 'Блохин', 'Блохина', 'Боброва', 'Бобылёв',\n",
       "       'Богданов', 'Богданова', 'Болдырев', 'Болдырева', 'Бондарев',\n",
       "       'Борисова', 'Бородин', 'Бородина', 'Булгаков', 'Бычкова',\n",
       "       'Васильева', 'Верещагин', 'Верещагина', 'Веселов', 'Вешнякова',\n",
       "       'Вишневский', 'Вишняков', 'Воронин', 'Воронина', 'Гаврилова',\n",
       "       'Галкин', 'Глушков', 'Голованова', 'Гончаров', 'Горбачева',\n",
       "       'Горбунов', 'Горлов', 'Григорьев', 'Григорьева', 'Гришина',\n",
       "       'Громова', 'Давыдов', 'Демидов', 'Демьянов', 'Демьянова',\n",
       "       'Денисова', 'Добрынин', 'Добрынина', 'Дорофеева', 'Дроздов',\n",
       "       'Дубинина', 'Дьячкова', 'Евсеев', 'Ежов', 'Елизаров', 'Емельянова',\n",
       "       'Еремин', 'Ермилов', 'Ермолаев', 'Ерофеев', 'Ерофеева', 'Ефремов',\n",
       "       'Жарова', 'Жданов', 'Жукова', 'Завьялова', 'Зайцев', 'Зеленина',\n",
       "       'Зимина', 'Золотов', 'Золотова', 'Зубков', 'Зубкова', 'Зуев',\n",
       "       'Зыков', 'Иванов', 'Иванова', 'Игнатова', 'Игнатьев', 'Игнатьева',\n",
       "       'Измайлова', 'Ильин', 'Ильина', 'Кабанова', 'Казакова', 'Казанцев',\n",
       "       'Калинина', 'Капустин', 'Карасев', 'Карасева', 'Карташова',\n",
       "       'Касьянова', 'Киреева', 'Кириллов', 'Киселёв', 'Климова',\n",
       "       'Ковалева', 'Козлов', 'Козлова', 'Козырева', 'Колесова', 'Колобов',\n",
       "       'Кольцова', 'Кондратов', 'Коновалова', 'Кононов', 'Константинова',\n",
       "       'Корнеева', 'Корнилов', 'Корнилова', 'Корольков', 'Королькова',\n",
       "       'Короткова', 'Коршунов', 'Костин', 'Костина', 'Кочергина',\n",
       "       'Кочетков', 'Кочетов', 'Кошелева', 'Кравцов', 'Красильников',\n",
       "       'Круглов', 'Крылова', 'Крюков', 'Крюкова', 'Крючков', 'Кузнецов',\n",
       "       'Кукушкин', 'Кулагина', 'Кулешова', 'Куприянов', 'Курочкин',\n",
       "       'Лазарева', 'Лапина', 'Лаптева', 'Ларин', 'Ларина', 'Ларионова',\n",
       "       'Латышева', 'Лебедев', 'Левин', 'Леонтьев', 'Литвинов', 'Лобанова',\n",
       "       'Логинов', 'Лосева', 'Лукин', 'Любимов', 'Макаров', 'Макарова',\n",
       "       'Макеев', 'Малахов', 'Малинин', 'Малинина', 'Малышев', 'Мальцев',\n",
       "       'Мамонтова', 'Марков', 'Масленникова', 'Матвеев', 'Медведев',\n",
       "       'Мельникова', 'Меркулова', 'Минаев', 'Минаева', 'Мишин',\n",
       "       'Молчанова', 'Моргунов', 'Морозов', 'Муравьева', 'Муравьёв',\n",
       "       'Мясникова', 'Наумов', 'Некрасов', 'Нестеров', 'Нестерова',\n",
       "       'Нечаева', 'Никонов', 'Никулин', 'Новикова', 'Носкова',\n",
       "       'Овчинников', 'Одинцов', 'Одинцова', 'Озерова', 'Орлов',\n",
       "       'Павловский', 'Панов', 'Пантелеева', 'Панфилов', 'Панфилова',\n",
       "       'Парфенов', 'Петухова', 'Пирогова', 'Платонова', 'Покровский',\n",
       "       'Поликарпова', 'Поляков', 'Пономарев', 'Пономарева', 'Пономарёв',\n",
       "       'Попов', 'Прокофьева', 'Пугачева', 'Ракова', 'Родина', 'Родионов',\n",
       "       'Родионова', 'Розанова', 'Рудаков', 'Румянцева', 'Русанова',\n",
       "       'Рыбакова', 'Рябов', 'Савельева', 'Сазонов', 'Сазонова',\n",
       "       'Сальников', 'Сафонова', 'Сахарова', 'Свиридов', 'Севастьянова',\n",
       "       'Седова', 'Селезнев', 'Селезнева', 'Селиванова', 'Семенова',\n",
       "       'Семин', 'Семина', 'Семёнов', 'Сергеева', 'Серебрякова', 'Серов',\n",
       "       'Силин', 'Симонова', 'Синицын', 'Ситникова', 'Соколов', 'Соловьев',\n",
       "       'Соловьёв', 'Сомова', 'Сорокин', 'Софронов', 'Спиридонова',\n",
       "       'Субботина', 'Суслов', 'Суслова', 'Сухарев', 'Сухарева', 'Сухова',\n",
       "       'Сысоев', 'Тарасов', 'Тарасова', 'Терехова', 'Тетерина',\n",
       "       'Тимофеев', 'Тимофеева', 'Тихомирова', 'Тихонов', 'Толкачев',\n",
       "       'Третьякова', 'Троицкий', 'Трофимов', 'Трофимова', 'Трошин',\n",
       "       'Уваров', 'Устинов', 'Устинова', 'Фадеева', 'Федосеев', 'Фетисова',\n",
       "       'Филатов', 'Фокин', 'Фокина', 'Фомин', 'Фролов', 'Фёдоров',\n",
       "       'Худяков', 'Чернов', 'Черный', 'Чернышев', 'Черняев', 'Чеснокова',\n",
       "       'Чижова', 'Чистякова', 'Чумаков', 'Шарапов', 'Шарапова', 'Шарова',\n",
       "       'Швецов', 'Шевцов', 'Шевцова', 'Щербакова', 'Яшина'], dtype=object)"
      ]
     },
     "execution_count": 19,
     "metadata": {},
     "output_type": "execute_result"
    }
   ],
   "source": [
    "users['last_name'].sort_values(ascending = True).unique()"
   ]
  },
  {
   "cell_type": "markdown",
   "id": "477f42f8",
   "metadata": {},
   "source": [
    "* Уникальные значения столбца last_name не имеют аномалий."
   ]
  },
  {
   "cell_type": "code",
   "execution_count": 20,
   "id": "c30f5ce3",
   "metadata": {},
   "outputs": [
    {
     "name": "stdout",
     "output_type": "stream",
     "text": [
      "0\n"
     ]
    }
   ],
   "source": [
    "print (users.duplicated().sum())"
   ]
  },
  {
   "cell_type": "markdown",
   "id": "b9804bd6",
   "metadata": {},
   "source": [
    "* Явные дубликаты не выявлены."
   ]
  },
  {
   "cell_type": "markdown",
   "id": "06d209f5",
   "metadata": {},
   "source": [
    "### Формирование сводных таблиц, сгруппированных по пользователям и месяцам  <a class=\"anchor\" id=\"fifth-bullet\"></a>"
   ]
  },
  {
   "cell_type": "markdown",
   "id": "a0745949",
   "metadata": {},
   "source": [
    "#### Количество сделанных звонков и израсходованных минут разговора по месяцам для каждого пользователя"
   ]
  },
  {
   "cell_type": "code",
   "execution_count": 21,
   "id": "170b20c4",
   "metadata": {},
   "outputs": [],
   "source": [
    "calls['month'] = calls['call_date'].dt.month\n",
    "calls['duration'] = np.ceil(calls['duration'])\n",
    "calls_info = calls.pivot_table(index = ['user_id', 'month'], values = 'duration', aggfunc = ['count','sum'])\n",
    "calls_info.columns = ['count','sum']"
   ]
  },
  {
   "cell_type": "code",
   "execution_count": 22,
   "id": "1a4080f0",
   "metadata": {},
   "outputs": [
    {
     "data": {
      "text/html": [
       "<div>\n",
       "<style scoped>\n",
       "    .dataframe tbody tr th:only-of-type {\n",
       "        vertical-align: middle;\n",
       "    }\n",
       "\n",
       "    .dataframe tbody tr th {\n",
       "        vertical-align: top;\n",
       "    }\n",
       "\n",
       "    .dataframe thead th {\n",
       "        text-align: right;\n",
       "    }\n",
       "</style>\n",
       "<table border=\"1\" class=\"dataframe\">\n",
       "  <thead>\n",
       "    <tr style=\"text-align: right;\">\n",
       "      <th></th>\n",
       "      <th></th>\n",
       "      <th>count</th>\n",
       "      <th>sum</th>\n",
       "    </tr>\n",
       "    <tr>\n",
       "      <th>user_id</th>\n",
       "      <th>month</th>\n",
       "      <th></th>\n",
       "      <th></th>\n",
       "    </tr>\n",
       "  </thead>\n",
       "  <tbody>\n",
       "    <tr>\n",
       "      <th rowspan=\"8\" valign=\"top\">1000</th>\n",
       "      <th>5</th>\n",
       "      <td>22</td>\n",
       "      <td>159.0</td>\n",
       "    </tr>\n",
       "    <tr>\n",
       "      <th>6</th>\n",
       "      <td>43</td>\n",
       "      <td>172.0</td>\n",
       "    </tr>\n",
       "    <tr>\n",
       "      <th>7</th>\n",
       "      <td>47</td>\n",
       "      <td>340.0</td>\n",
       "    </tr>\n",
       "    <tr>\n",
       "      <th>8</th>\n",
       "      <td>52</td>\n",
       "      <td>408.0</td>\n",
       "    </tr>\n",
       "    <tr>\n",
       "      <th>9</th>\n",
       "      <td>58</td>\n",
       "      <td>466.0</td>\n",
       "    </tr>\n",
       "    <tr>\n",
       "      <th>10</th>\n",
       "      <td>57</td>\n",
       "      <td>350.0</td>\n",
       "    </tr>\n",
       "    <tr>\n",
       "      <th>11</th>\n",
       "      <td>43</td>\n",
       "      <td>338.0</td>\n",
       "    </tr>\n",
       "    <tr>\n",
       "      <th>12</th>\n",
       "      <td>46</td>\n",
       "      <td>333.0</td>\n",
       "    </tr>\n",
       "    <tr>\n",
       "      <th rowspan=\"2\" valign=\"top\">1001</th>\n",
       "      <th>11</th>\n",
       "      <td>59</td>\n",
       "      <td>430.0</td>\n",
       "    </tr>\n",
       "    <tr>\n",
       "      <th>12</th>\n",
       "      <td>63</td>\n",
       "      <td>414.0</td>\n",
       "    </tr>\n",
       "  </tbody>\n",
       "</table>\n",
       "</div>"
      ],
      "text/plain": [
       "               count    sum\n",
       "user_id month              \n",
       "1000    5         22  159.0\n",
       "        6         43  172.0\n",
       "        7         47  340.0\n",
       "        8         52  408.0\n",
       "        9         58  466.0\n",
       "        10        57  350.0\n",
       "        11        43  338.0\n",
       "        12        46  333.0\n",
       "1001    11        59  430.0\n",
       "        12        63  414.0"
      ]
     },
     "execution_count": 22,
     "metadata": {},
     "output_type": "execute_result"
    }
   ],
   "source": [
    "calls_info.head(10)"
   ]
  },
  {
   "cell_type": "markdown",
   "id": "09f1cfbb",
   "metadata": {},
   "source": [
    "#### Количество отправленных сообщений по месяцам для каждого пользователя"
   ]
  },
  {
   "cell_type": "code",
   "execution_count": 23,
   "id": "139ba882",
   "metadata": {},
   "outputs": [],
   "source": [
    "messages['month'] = messages['message_date'].dt.month\n",
    "messages_info = messages.pivot_table(index = ['user_id', 'month'], values = 'message_date', aggfunc = ['count'])\n",
    "messages_info.columns = ['count']\n"
   ]
  },
  {
   "cell_type": "code",
   "execution_count": 24,
   "id": "0e5df05c",
   "metadata": {},
   "outputs": [
    {
     "data": {
      "text/html": [
       "<div>\n",
       "<style scoped>\n",
       "    .dataframe tbody tr th:only-of-type {\n",
       "        vertical-align: middle;\n",
       "    }\n",
       "\n",
       "    .dataframe tbody tr th {\n",
       "        vertical-align: top;\n",
       "    }\n",
       "\n",
       "    .dataframe thead th {\n",
       "        text-align: right;\n",
       "    }\n",
       "</style>\n",
       "<table border=\"1\" class=\"dataframe\">\n",
       "  <thead>\n",
       "    <tr style=\"text-align: right;\">\n",
       "      <th></th>\n",
       "      <th></th>\n",
       "      <th>count</th>\n",
       "    </tr>\n",
       "    <tr>\n",
       "      <th>user_id</th>\n",
       "      <th>month</th>\n",
       "      <th></th>\n",
       "    </tr>\n",
       "  </thead>\n",
       "  <tbody>\n",
       "    <tr>\n",
       "      <th rowspan=\"5\" valign=\"top\">1000</th>\n",
       "      <th>5</th>\n",
       "      <td>22</td>\n",
       "    </tr>\n",
       "    <tr>\n",
       "      <th>6</th>\n",
       "      <td>60</td>\n",
       "    </tr>\n",
       "    <tr>\n",
       "      <th>7</th>\n",
       "      <td>75</td>\n",
       "    </tr>\n",
       "    <tr>\n",
       "      <th>8</th>\n",
       "      <td>81</td>\n",
       "    </tr>\n",
       "    <tr>\n",
       "      <th>9</th>\n",
       "      <td>57</td>\n",
       "    </tr>\n",
       "  </tbody>\n",
       "</table>\n",
       "</div>"
      ],
      "text/plain": [
       "               count\n",
       "user_id month       \n",
       "1000    5         22\n",
       "        6         60\n",
       "        7         75\n",
       "        8         81\n",
       "        9         57"
      ]
     },
     "execution_count": 24,
     "metadata": {},
     "output_type": "execute_result"
    }
   ],
   "source": [
    "messages_info.head()"
   ]
  },
  {
   "cell_type": "markdown",
   "id": "94212918",
   "metadata": {},
   "source": [
    "#### Объем израсходованного интернет-трафика по месяцам для каждого пользователя"
   ]
  },
  {
   "cell_type": "code",
   "execution_count": 25,
   "id": "e543a7d6",
   "metadata": {},
   "outputs": [
    {
     "name": "stderr",
     "output_type": "stream",
     "text": [
      "/tmp/ipykernel_543/2668770359.py:1: SettingWithCopyWarning: \n",
      "A value is trying to be set on a copy of a slice from a DataFrame.\n",
      "Try using .loc[row_indexer,col_indexer] = value instead\n",
      "\n",
      "See the caveats in the documentation: https://pandas.pydata.org/pandas-docs/stable/user_guide/indexing.html#returning-a-view-versus-a-copy\n",
      "  internet['month'] = internet['session_date'].dt.month\n"
     ]
    }
   ],
   "source": [
    "internet['month'] = internet['session_date'].dt.month\n",
    "internet_info = internet.pivot_table(index = ['user_id', 'month'], values = 'mb_used', aggfunc = ['count', 'sum'])\n",
    "internet_info.columns = ['count', 'sum']\n",
    "internet_info ['sum'] = np.ceil(internet_info ['sum']/1024)"
   ]
  },
  {
   "cell_type": "code",
   "execution_count": 26,
   "id": "d905c076",
   "metadata": {},
   "outputs": [
    {
     "data": {
      "text/html": [
       "<div>\n",
       "<style scoped>\n",
       "    .dataframe tbody tr th:only-of-type {\n",
       "        vertical-align: middle;\n",
       "    }\n",
       "\n",
       "    .dataframe tbody tr th {\n",
       "        vertical-align: top;\n",
       "    }\n",
       "\n",
       "    .dataframe thead th {\n",
       "        text-align: right;\n",
       "    }\n",
       "</style>\n",
       "<table border=\"1\" class=\"dataframe\">\n",
       "  <thead>\n",
       "    <tr style=\"text-align: right;\">\n",
       "      <th></th>\n",
       "      <th></th>\n",
       "      <th>count</th>\n",
       "      <th>sum</th>\n",
       "    </tr>\n",
       "    <tr>\n",
       "      <th>user_id</th>\n",
       "      <th>month</th>\n",
       "      <th></th>\n",
       "      <th></th>\n",
       "    </tr>\n",
       "  </thead>\n",
       "  <tbody>\n",
       "    <tr>\n",
       "      <th rowspan=\"8\" valign=\"top\">1000</th>\n",
       "      <th>5</th>\n",
       "      <td>4</td>\n",
       "      <td>3.0</td>\n",
       "    </tr>\n",
       "    <tr>\n",
       "      <th>6</th>\n",
       "      <td>44</td>\n",
       "      <td>23.0</td>\n",
       "    </tr>\n",
       "    <tr>\n",
       "      <th>7</th>\n",
       "      <td>28</td>\n",
       "      <td>14.0</td>\n",
       "    </tr>\n",
       "    <tr>\n",
       "      <th>8</th>\n",
       "      <td>27</td>\n",
       "      <td>14.0</td>\n",
       "    </tr>\n",
       "    <tr>\n",
       "      <th>9</th>\n",
       "      <td>25</td>\n",
       "      <td>15.0</td>\n",
       "    </tr>\n",
       "    <tr>\n",
       "      <th>10</th>\n",
       "      <td>27</td>\n",
       "      <td>15.0</td>\n",
       "    </tr>\n",
       "    <tr>\n",
       "      <th>11</th>\n",
       "      <td>23</td>\n",
       "      <td>15.0</td>\n",
       "    </tr>\n",
       "    <tr>\n",
       "      <th>12</th>\n",
       "      <td>19</td>\n",
       "      <td>10.0</td>\n",
       "    </tr>\n",
       "    <tr>\n",
       "      <th rowspan=\"2\" valign=\"top\">1001</th>\n",
       "      <th>11</th>\n",
       "      <td>47</td>\n",
       "      <td>18.0</td>\n",
       "    </tr>\n",
       "    <tr>\n",
       "      <th>12</th>\n",
       "      <td>35</td>\n",
       "      <td>14.0</td>\n",
       "    </tr>\n",
       "  </tbody>\n",
       "</table>\n",
       "</div>"
      ],
      "text/plain": [
       "               count   sum\n",
       "user_id month             \n",
       "1000    5          4   3.0\n",
       "        6         44  23.0\n",
       "        7         28  14.0\n",
       "        8         27  14.0\n",
       "        9         25  15.0\n",
       "        10        27  15.0\n",
       "        11        23  15.0\n",
       "        12        19  10.0\n",
       "1001    11        47  18.0\n",
       "        12        35  14.0"
      ]
     },
     "execution_count": 26,
     "metadata": {},
     "output_type": "execute_result"
    }
   ],
   "source": [
    "internet_info.head(10)"
   ]
  },
  {
   "cell_type": "markdown",
   "id": "b6b28f97",
   "metadata": {},
   "source": [
    "#### Сводная таблица информации о минутах разговора, количестве сообщений и объеме интернет-траффика для каждого пользователя по месяцам"
   ]
  },
  {
   "cell_type": "code",
   "execution_count": 27,
   "id": "cff225aa",
   "metadata": {},
   "outputs": [],
   "source": [
    "proceeds_data = calls_info.merge(messages_info, on= ['user_id', 'month'],  how ='outer')\n",
    "proceeds_data = proceeds_data.merge(internet_info, on= ['user_id', 'month'],  how ='outer')\n",
    "proceeds_data.columns = ['calls_count', 'calls_sum', 'messages_count', 'internet_count', 'internet_sum']\n",
    "proceeds_data = proceeds_data.reset_index()\n",
    "proceeds_data = proceeds_data.merge (users, on = 'user_id', how = 'outer')\n"
   ]
  },
  {
   "cell_type": "code",
   "execution_count": 28,
   "id": "9499e023",
   "metadata": {},
   "outputs": [
    {
     "data": {
      "text/html": [
       "<div>\n",
       "<style scoped>\n",
       "    .dataframe tbody tr th:only-of-type {\n",
       "        vertical-align: middle;\n",
       "    }\n",
       "\n",
       "    .dataframe tbody tr th {\n",
       "        vertical-align: top;\n",
       "    }\n",
       "\n",
       "    .dataframe thead th {\n",
       "        text-align: right;\n",
       "    }\n",
       "</style>\n",
       "<table border=\"1\" class=\"dataframe\">\n",
       "  <thead>\n",
       "    <tr style=\"text-align: right;\">\n",
       "      <th></th>\n",
       "      <th>user_id</th>\n",
       "      <th>month</th>\n",
       "      <th>calls_count</th>\n",
       "      <th>calls_sum</th>\n",
       "      <th>messages_count</th>\n",
       "      <th>internet_count</th>\n",
       "      <th>internet_sum</th>\n",
       "      <th>age</th>\n",
       "      <th>churn_date</th>\n",
       "      <th>city</th>\n",
       "      <th>first_name</th>\n",
       "      <th>last_name</th>\n",
       "      <th>reg_date</th>\n",
       "      <th>tariff</th>\n",
       "    </tr>\n",
       "  </thead>\n",
       "  <tbody>\n",
       "    <tr>\n",
       "      <th>0</th>\n",
       "      <td>1000</td>\n",
       "      <td>5.0</td>\n",
       "      <td>22.0</td>\n",
       "      <td>159.0</td>\n",
       "      <td>22.0</td>\n",
       "      <td>4.0</td>\n",
       "      <td>3.0</td>\n",
       "      <td>52</td>\n",
       "      <td>NaT</td>\n",
       "      <td>Краснодар</td>\n",
       "      <td>Рафаил</td>\n",
       "      <td>Верещагин</td>\n",
       "      <td>2018-05-25</td>\n",
       "      <td>ultra</td>\n",
       "    </tr>\n",
       "    <tr>\n",
       "      <th>1</th>\n",
       "      <td>1000</td>\n",
       "      <td>6.0</td>\n",
       "      <td>43.0</td>\n",
       "      <td>172.0</td>\n",
       "      <td>60.0</td>\n",
       "      <td>44.0</td>\n",
       "      <td>23.0</td>\n",
       "      <td>52</td>\n",
       "      <td>NaT</td>\n",
       "      <td>Краснодар</td>\n",
       "      <td>Рафаил</td>\n",
       "      <td>Верещагин</td>\n",
       "      <td>2018-05-25</td>\n",
       "      <td>ultra</td>\n",
       "    </tr>\n",
       "    <tr>\n",
       "      <th>2</th>\n",
       "      <td>1000</td>\n",
       "      <td>7.0</td>\n",
       "      <td>47.0</td>\n",
       "      <td>340.0</td>\n",
       "      <td>75.0</td>\n",
       "      <td>28.0</td>\n",
       "      <td>14.0</td>\n",
       "      <td>52</td>\n",
       "      <td>NaT</td>\n",
       "      <td>Краснодар</td>\n",
       "      <td>Рафаил</td>\n",
       "      <td>Верещагин</td>\n",
       "      <td>2018-05-25</td>\n",
       "      <td>ultra</td>\n",
       "    </tr>\n",
       "    <tr>\n",
       "      <th>3</th>\n",
       "      <td>1000</td>\n",
       "      <td>8.0</td>\n",
       "      <td>52.0</td>\n",
       "      <td>408.0</td>\n",
       "      <td>81.0</td>\n",
       "      <td>27.0</td>\n",
       "      <td>14.0</td>\n",
       "      <td>52</td>\n",
       "      <td>NaT</td>\n",
       "      <td>Краснодар</td>\n",
       "      <td>Рафаил</td>\n",
       "      <td>Верещагин</td>\n",
       "      <td>2018-05-25</td>\n",
       "      <td>ultra</td>\n",
       "    </tr>\n",
       "    <tr>\n",
       "      <th>4</th>\n",
       "      <td>1000</td>\n",
       "      <td>9.0</td>\n",
       "      <td>58.0</td>\n",
       "      <td>466.0</td>\n",
       "      <td>57.0</td>\n",
       "      <td>25.0</td>\n",
       "      <td>15.0</td>\n",
       "      <td>52</td>\n",
       "      <td>NaT</td>\n",
       "      <td>Краснодар</td>\n",
       "      <td>Рафаил</td>\n",
       "      <td>Верещагин</td>\n",
       "      <td>2018-05-25</td>\n",
       "      <td>ultra</td>\n",
       "    </tr>\n",
       "  </tbody>\n",
       "</table>\n",
       "</div>"
      ],
      "text/plain": [
       "   user_id  month  calls_count  calls_sum  messages_count  internet_count  \\\n",
       "0     1000    5.0         22.0      159.0            22.0             4.0   \n",
       "1     1000    6.0         43.0      172.0            60.0            44.0   \n",
       "2     1000    7.0         47.0      340.0            75.0            28.0   \n",
       "3     1000    8.0         52.0      408.0            81.0            27.0   \n",
       "4     1000    9.0         58.0      466.0            57.0            25.0   \n",
       "\n",
       "   internet_sum  age churn_date       city first_name  last_name   reg_date  \\\n",
       "0           3.0   52        NaT  Краснодар     Рафаил  Верещагин 2018-05-25   \n",
       "1          23.0   52        NaT  Краснодар     Рафаил  Верещагин 2018-05-25   \n",
       "2          14.0   52        NaT  Краснодар     Рафаил  Верещагин 2018-05-25   \n",
       "3          14.0   52        NaT  Краснодар     Рафаил  Верещагин 2018-05-25   \n",
       "4          15.0   52        NaT  Краснодар     Рафаил  Верещагин 2018-05-25   \n",
       "\n",
       "  tariff  \n",
       "0  ultra  \n",
       "1  ultra  \n",
       "2  ultra  \n",
       "3  ultra  \n",
       "4  ultra  "
      ]
     },
     "execution_count": 28,
     "metadata": {},
     "output_type": "execute_result"
    }
   ],
   "source": [
    "proceeds_data.head()"
   ]
  },
  {
   "cell_type": "code",
   "execution_count": 29,
   "id": "40de5acf",
   "metadata": {},
   "outputs": [
    {
     "data": {
      "text/html": [
       "<div>\n",
       "<style scoped>\n",
       "    .dataframe tbody tr th:only-of-type {\n",
       "        vertical-align: middle;\n",
       "    }\n",
       "\n",
       "    .dataframe tbody tr th {\n",
       "        vertical-align: top;\n",
       "    }\n",
       "\n",
       "    .dataframe thead th {\n",
       "        text-align: right;\n",
       "    }\n",
       "</style>\n",
       "<table border=\"1\" class=\"dataframe\">\n",
       "  <thead>\n",
       "    <tr style=\"text-align: right;\">\n",
       "      <th></th>\n",
       "      <th>user_id</th>\n",
       "      <th>month</th>\n",
       "      <th>calls_count</th>\n",
       "      <th>calls_sum</th>\n",
       "      <th>messages_count</th>\n",
       "      <th>internet_count</th>\n",
       "      <th>internet_sum</th>\n",
       "      <th>age</th>\n",
       "      <th>churn_date</th>\n",
       "      <th>city</th>\n",
       "      <th>first_name</th>\n",
       "      <th>last_name</th>\n",
       "      <th>reg_date</th>\n",
       "      <th>tariff</th>\n",
       "    </tr>\n",
       "  </thead>\n",
       "  <tbody>\n",
       "    <tr>\n",
       "      <th>3214</th>\n",
       "      <td>1128</td>\n",
       "      <td>NaN</td>\n",
       "      <td>NaN</td>\n",
       "      <td>NaN</td>\n",
       "      <td>NaN</td>\n",
       "      <td>NaN</td>\n",
       "      <td>NaN</td>\n",
       "      <td>51</td>\n",
       "      <td>2018-12-23</td>\n",
       "      <td>Волжский</td>\n",
       "      <td>Ксения</td>\n",
       "      <td>Агаева</td>\n",
       "      <td>2018-12-15</td>\n",
       "      <td>ultra</td>\n",
       "    </tr>\n",
       "    <tr>\n",
       "      <th>3215</th>\n",
       "      <td>1371</td>\n",
       "      <td>NaN</td>\n",
       "      <td>NaN</td>\n",
       "      <td>NaN</td>\n",
       "      <td>NaN</td>\n",
       "      <td>NaN</td>\n",
       "      <td>NaN</td>\n",
       "      <td>50</td>\n",
       "      <td>2018-12-30</td>\n",
       "      <td>Омск</td>\n",
       "      <td>Ириней</td>\n",
       "      <td>Трофимов</td>\n",
       "      <td>2018-12-25</td>\n",
       "      <td>smart</td>\n",
       "    </tr>\n",
       "  </tbody>\n",
       "</table>\n",
       "</div>"
      ],
      "text/plain": [
       "      user_id  month  calls_count  calls_sum  messages_count  internet_count  \\\n",
       "3214     1128    NaN          NaN        NaN             NaN             NaN   \n",
       "3215     1371    NaN          NaN        NaN             NaN             NaN   \n",
       "\n",
       "      internet_sum  age churn_date      city first_name last_name   reg_date  \\\n",
       "3214           NaN   51 2018-12-23  Волжский     Ксения    Агаева 2018-12-15   \n",
       "3215           NaN   50 2018-12-30      Омск     Ириней  Трофимов 2018-12-25   \n",
       "\n",
       "     tariff  \n",
       "3214  ultra  \n",
       "3215  smart  "
      ]
     },
     "execution_count": 29,
     "metadata": {},
     "output_type": "execute_result"
    }
   ],
   "source": [
    "temp = proceeds_data.copy()\n",
    "temp[(temp.user_id ==  1128) | (temp.user_id ==  1371)]"
   ]
  },
  {
   "cell_type": "markdown",
   "id": "9f14508d",
   "metadata": {},
   "source": [
    "* Пользователи 1128 и 1371 расторгли договор через неделю после его заключения, исключим их из дальнейшего анализа."
   ]
  },
  {
   "cell_type": "code",
   "execution_count": 30,
   "id": "e3d43e24",
   "metadata": {},
   "outputs": [],
   "source": [
    "proceeds_data = proceeds_data.drop(proceeds_data[(proceeds_data['user_id'] == 1128) | (proceeds_data['user_id'] == 1371)].index)"
   ]
  },
  {
   "cell_type": "code",
   "execution_count": 31,
   "id": "c3f751a5",
   "metadata": {},
   "outputs": [
    {
     "name": "stdout",
     "output_type": "stream",
     "text": [
      "<class 'pandas.core.frame.DataFrame'>\n",
      "Int64Index: 3214 entries, 0 to 3213\n",
      "Data columns (total 14 columns):\n",
      " #   Column          Non-Null Count  Dtype         \n",
      "---  ------          --------------  -----         \n",
      " 0   user_id         3214 non-null   int64         \n",
      " 1   month           3214 non-null   float64       \n",
      " 2   calls_count     3174 non-null   float64       \n",
      " 3   calls_sum       3174 non-null   float64       \n",
      " 4   messages_count  2717 non-null   float64       \n",
      " 5   internet_count  3201 non-null   float64       \n",
      " 6   internet_sum    3201 non-null   float64       \n",
      " 7   age             3214 non-null   int64         \n",
      " 8   churn_date      187 non-null    datetime64[ns]\n",
      " 9   city            3214 non-null   object        \n",
      " 10  first_name      3214 non-null   object        \n",
      " 11  last_name       3214 non-null   object        \n",
      " 12  reg_date        3214 non-null   datetime64[ns]\n",
      " 13  tariff          3214 non-null   object        \n",
      "dtypes: datetime64[ns](2), float64(6), int64(2), object(4)\n",
      "memory usage: 376.6+ KB\n"
     ]
    }
   ],
   "source": [
    "proceeds_data.info()"
   ]
  },
  {
   "cell_type": "markdown",
   "id": "82ac0b8d",
   "metadata": {},
   "source": [
    "Пропуски данных присуствуют в столбцах: \n",
    "* количество звонков, длительность звонков (отсутствуют для 40 пользователей из 3214)\n",
    "* количество сообщений (отсутствуют для 497 пользователей)\n",
    "* суммарный интернет-трафик и количество сессий (отсутствуют для 13 пользователей)\n",
    "\n",
    "Пропущенные данные заменим на 0, в дальнейшем рассмотрим срез данных без пропусков в столбце суммарного интернет-траффика., т.к. пропусков именно в этих данных меньше всего в сводной таблице.\n"
   ]
  },
  {
   "cell_type": "code",
   "execution_count": 32,
   "id": "2864bea7",
   "metadata": {},
   "outputs": [],
   "source": [
    "proceeds_data['internet_sum'] = proceeds_data['internet_sum'].fillna(0)\n",
    "proceeds_data['calls_sum'] = proceeds_data['calls_sum'].fillna(0)\n",
    "proceeds_data['calls_count'] = proceeds_data['calls_count'].fillna(0)\n",
    "proceeds_data['messages_count'] = proceeds_data['messages_count'].fillna(0)\n",
    "proceeds_data = proceeds_data.query('internet_sum!=0')"
   ]
  },
  {
   "cell_type": "code",
   "execution_count": 33,
   "id": "36c4c9ea",
   "metadata": {},
   "outputs": [
    {
     "name": "stdout",
     "output_type": "stream",
     "text": [
      "<class 'pandas.core.frame.DataFrame'>\n",
      "Int64Index: 3201 entries, 0 to 3213\n",
      "Data columns (total 14 columns):\n",
      " #   Column          Non-Null Count  Dtype         \n",
      "---  ------          --------------  -----         \n",
      " 0   user_id         3201 non-null   int64         \n",
      " 1   month           3201 non-null   float64       \n",
      " 2   calls_count     3201 non-null   float64       \n",
      " 3   calls_sum       3201 non-null   float64       \n",
      " 4   messages_count  3201 non-null   float64       \n",
      " 5   internet_count  3201 non-null   float64       \n",
      " 6   internet_sum    3201 non-null   float64       \n",
      " 7   age             3201 non-null   int64         \n",
      " 8   churn_date      186 non-null    datetime64[ns]\n",
      " 9   city            3201 non-null   object        \n",
      " 10  first_name      3201 non-null   object        \n",
      " 11  last_name       3201 non-null   object        \n",
      " 12  reg_date        3201 non-null   datetime64[ns]\n",
      " 13  tariff          3201 non-null   object        \n",
      "dtypes: datetime64[ns](2), float64(6), int64(2), object(4)\n",
      "memory usage: 375.1+ KB\n"
     ]
    }
   ],
   "source": [
    "proceeds_data.info()"
   ]
  },
  {
   "cell_type": "markdown",
   "id": "c4bb46c7",
   "metadata": {},
   "source": [
    "#### Информация по тарифу Smart: количество минут, сообщений, объем траффика в Гб, стоимость дополнительных услуг"
   ]
  },
  {
   "cell_type": "code",
   "execution_count": 34,
   "id": "27749b6f",
   "metadata": {},
   "outputs": [
    {
     "name": "stdout",
     "output_type": "stream",
     "text": [
      "Количество минут в месяц [500]\n",
      "Количество сообщений в месяц [50]\n",
      "Количество интернет-траффика в месяц в Гб [15.]\n",
      "Стоимость дополнительного Гб [200]\n",
      "Стоимость дополнительной минуты [3]\n",
      "Стоимость дополнительного сообщения [3]\n"
     ]
    }
   ],
   "source": [
    "smart_minutes = tariffs.loc[tariffs['tariff_name'] == 'smart', 'minutes_included'].to_numpy()\n",
    "smart_messages = tariffs.loc[tariffs['tariff_name'] == 'smart', 'messages_included'].to_numpy()\n",
    "smart_internet = tariffs.loc[tariffs['tariff_name'] == 'smart', 'mb_per_month_included'].to_numpy() /1024\n",
    "smart_fee = tariffs.loc[tariffs['tariff_name'] == 'smart', 'rub_monthly_fee'].to_numpy()\n",
    "smart_fee_gb = tariffs.loc[tariffs['tariff_name'] == 'smart', 'rub_per_gb'].to_numpy()\n",
    "smart_fee_message = tariffs.loc[tariffs['tariff_name'] == 'smart', 'rub_per_message'].to_numpy()\n",
    "smart_fee_minute = tariffs.loc[tariffs['tariff_name'] == 'smart', 'rub_per_minute'].to_numpy()\n",
    "\n",
    "print ('Количество минут в месяц', smart_minutes)\n",
    "print ('Количество сообщений в месяц', smart_messages)\n",
    "print ('Количество интернет-траффика в месяц в Гб', smart_internet)\n",
    "print ('Стоимость дополнительного Гб', smart_fee_gb)\n",
    "print ('Стоимость дополнительной минуты', smart_fee_minute)\n",
    "print ('Стоимость дополнительного сообщения', smart_fee_message)\n",
    "\n"
   ]
  },
  {
   "cell_type": "markdown",
   "id": "12752d3a",
   "metadata": {},
   "source": [
    "#### Информация по тарифу Ultra: количество минут, сообщений, объем траффика в Гб, стоимость дополнительных услуг"
   ]
  },
  {
   "cell_type": "code",
   "execution_count": 35,
   "id": "ee839d58",
   "metadata": {},
   "outputs": [
    {
     "name": "stdout",
     "output_type": "stream",
     "text": [
      "Количество минут в месяц [3000]\n",
      "Количество сообщений в месяц [1000]\n",
      "Количество интернет-траффика в месяц в Гб [30.]\n",
      "Стоимость дополнительного Гб [150]\n",
      "Стоимость дополнительной минуты [1]\n",
      "Стоимость дополнительного сообщения [1]\n"
     ]
    }
   ],
   "source": [
    "ultra_minutes = tariffs.loc[tariffs['tariff_name'] == 'ultra', 'minutes_included'].to_numpy()\n",
    "ultra_messages = tariffs.loc[tariffs['tariff_name'] == 'ultra', 'messages_included'].to_numpy()\n",
    "ultra_internet = tariffs.loc[tariffs['tariff_name'] == 'ultra', 'mb_per_month_included'].to_numpy() /1024\n",
    "ultra_fee = tariffs.loc[tariffs['tariff_name'] == 'ultra', 'rub_monthly_fee'].to_numpy()\n",
    "ultra_fee_gb = tariffs.loc[tariffs['tariff_name'] == 'ultra', 'rub_per_gb'].to_numpy()\n",
    "ultra_fee_message = tariffs.loc[tariffs['tariff_name'] == 'ultra', 'rub_per_message'].to_numpy()\n",
    "ultra_fee_minute = tariffs.loc[tariffs['tariff_name'] == 'ultra', 'rub_per_minute'].to_numpy()\n",
    "\n",
    "print ('Количество минут в месяц', ultra_minutes)\n",
    "print ('Количество сообщений в месяц', ultra_messages)\n",
    "print ('Количество интернет-траффика в месяц в Гб', ultra_internet)\n",
    "print ('Стоимость дополнительного Гб', ultra_fee_gb)\n",
    "print ('Стоимость дополнительной минуты', ultra_fee_minute)\n",
    "print ('Стоимость дополнительного сообщения', ultra_fee_message)"
   ]
  },
  {
   "cell_type": "code",
   "execution_count": 36,
   "id": "b3c7f54a",
   "metadata": {
    "scrolled": true
   },
   "outputs": [],
   "source": [
    "# Функция по оценке дополнительных расходов по тарифу\n",
    "\n",
    "def tariff_proceeds (raw):\n",
    "    tariff =raw['tariff']\n",
    "    call =raw['calls_sum']\n",
    "    message = raw['messages_count'] \n",
    "    gbyte =raw['internet_sum']\n",
    " \n",
    "    if tariff =='ultra':\n",
    "        if call > ultra_minutes: \n",
    "            call = (call - ultra_minutes)*ultra_fee_minute\n",
    "        else:\n",
    "            call = 0\n",
    "        if message > ultra_messages:\n",
    "            message = (message - ultra_messages)*ultra_fee_message \n",
    "        else:\n",
    "            message = 0\n",
    " \n",
    "        if gbyte > ultra_internet:\n",
    "            gbyte = (gbyte - ultra_internet)*ultra_fee_gb\n",
    "        else:\n",
    "            gbyte =0\n",
    " \n",
    "    if tariff == 'smart':\n",
    "        if call > smart_minutes: \n",
    "            call =(call - smart_minutes)*smart_fee_minute\n",
    "        else:\n",
    "            call = 0\n",
    " \n",
    "        if message > smart_messages:\n",
    "            message =(message - smart_messages)*smart_fee_message\n",
    "        else:\n",
    "            message = 0\n",
    " \n",
    "        if gbyte > smart_internet:\n",
    "                gbyte =(gbyte -smart_internet) *smart_fee_gb\n",
    "        else:\n",
    "            gbyte = 0\n",
    "    return call + message + gbyte\n",
    " \n"
   ]
  },
  {
   "cell_type": "markdown",
   "id": "1d1d7d98",
   "metadata": {},
   "source": [
    "#### Сводная таблица с информацией о дополнительных расходах по тарифам"
   ]
  },
  {
   "cell_type": "code",
   "execution_count": 37,
   "id": "0f19c54e",
   "metadata": {},
   "outputs": [
    {
     "data": {
      "text/html": [
       "<div>\n",
       "<style scoped>\n",
       "    .dataframe tbody tr th:only-of-type {\n",
       "        vertical-align: middle;\n",
       "    }\n",
       "\n",
       "    .dataframe tbody tr th {\n",
       "        vertical-align: top;\n",
       "    }\n",
       "\n",
       "    .dataframe thead th {\n",
       "        text-align: right;\n",
       "    }\n",
       "</style>\n",
       "<table border=\"1\" class=\"dataframe\">\n",
       "  <thead>\n",
       "    <tr style=\"text-align: right;\">\n",
       "      <th></th>\n",
       "      <th>user_id</th>\n",
       "      <th>month</th>\n",
       "      <th>calls_count</th>\n",
       "      <th>calls_sum</th>\n",
       "      <th>messages_count</th>\n",
       "      <th>internet_count</th>\n",
       "      <th>internet_sum</th>\n",
       "      <th>age</th>\n",
       "      <th>churn_date</th>\n",
       "      <th>city</th>\n",
       "      <th>first_name</th>\n",
       "      <th>last_name</th>\n",
       "      <th>reg_date</th>\n",
       "      <th>tariff</th>\n",
       "      <th>tariff_expenses</th>\n",
       "    </tr>\n",
       "  </thead>\n",
       "  <tbody>\n",
       "    <tr>\n",
       "      <th>0</th>\n",
       "      <td>1000</td>\n",
       "      <td>5.0</td>\n",
       "      <td>22.0</td>\n",
       "      <td>159.0</td>\n",
       "      <td>22.0</td>\n",
       "      <td>4.0</td>\n",
       "      <td>3.0</td>\n",
       "      <td>52</td>\n",
       "      <td>NaT</td>\n",
       "      <td>Краснодар</td>\n",
       "      <td>Рафаил</td>\n",
       "      <td>Верещагин</td>\n",
       "      <td>2018-05-25</td>\n",
       "      <td>ultra</td>\n",
       "      <td>0</td>\n",
       "    </tr>\n",
       "    <tr>\n",
       "      <th>1</th>\n",
       "      <td>1000</td>\n",
       "      <td>6.0</td>\n",
       "      <td>43.0</td>\n",
       "      <td>172.0</td>\n",
       "      <td>60.0</td>\n",
       "      <td>44.0</td>\n",
       "      <td>23.0</td>\n",
       "      <td>52</td>\n",
       "      <td>NaT</td>\n",
       "      <td>Краснодар</td>\n",
       "      <td>Рафаил</td>\n",
       "      <td>Верещагин</td>\n",
       "      <td>2018-05-25</td>\n",
       "      <td>ultra</td>\n",
       "      <td>0</td>\n",
       "    </tr>\n",
       "    <tr>\n",
       "      <th>2</th>\n",
       "      <td>1000</td>\n",
       "      <td>7.0</td>\n",
       "      <td>47.0</td>\n",
       "      <td>340.0</td>\n",
       "      <td>75.0</td>\n",
       "      <td>28.0</td>\n",
       "      <td>14.0</td>\n",
       "      <td>52</td>\n",
       "      <td>NaT</td>\n",
       "      <td>Краснодар</td>\n",
       "      <td>Рафаил</td>\n",
       "      <td>Верещагин</td>\n",
       "      <td>2018-05-25</td>\n",
       "      <td>ultra</td>\n",
       "      <td>0</td>\n",
       "    </tr>\n",
       "    <tr>\n",
       "      <th>3</th>\n",
       "      <td>1000</td>\n",
       "      <td>8.0</td>\n",
       "      <td>52.0</td>\n",
       "      <td>408.0</td>\n",
       "      <td>81.0</td>\n",
       "      <td>27.0</td>\n",
       "      <td>14.0</td>\n",
       "      <td>52</td>\n",
       "      <td>NaT</td>\n",
       "      <td>Краснодар</td>\n",
       "      <td>Рафаил</td>\n",
       "      <td>Верещагин</td>\n",
       "      <td>2018-05-25</td>\n",
       "      <td>ultra</td>\n",
       "      <td>0</td>\n",
       "    </tr>\n",
       "    <tr>\n",
       "      <th>4</th>\n",
       "      <td>1000</td>\n",
       "      <td>9.0</td>\n",
       "      <td>58.0</td>\n",
       "      <td>466.0</td>\n",
       "      <td>57.0</td>\n",
       "      <td>25.0</td>\n",
       "      <td>15.0</td>\n",
       "      <td>52</td>\n",
       "      <td>NaT</td>\n",
       "      <td>Краснодар</td>\n",
       "      <td>Рафаил</td>\n",
       "      <td>Верещагин</td>\n",
       "      <td>2018-05-25</td>\n",
       "      <td>ultra</td>\n",
       "      <td>0</td>\n",
       "    </tr>\n",
       "    <tr>\n",
       "      <th>5</th>\n",
       "      <td>1000</td>\n",
       "      <td>10.0</td>\n",
       "      <td>57.0</td>\n",
       "      <td>350.0</td>\n",
       "      <td>73.0</td>\n",
       "      <td>27.0</td>\n",
       "      <td>15.0</td>\n",
       "      <td>52</td>\n",
       "      <td>NaT</td>\n",
       "      <td>Краснодар</td>\n",
       "      <td>Рафаил</td>\n",
       "      <td>Верещагин</td>\n",
       "      <td>2018-05-25</td>\n",
       "      <td>ultra</td>\n",
       "      <td>0</td>\n",
       "    </tr>\n",
       "    <tr>\n",
       "      <th>6</th>\n",
       "      <td>1000</td>\n",
       "      <td>11.0</td>\n",
       "      <td>43.0</td>\n",
       "      <td>338.0</td>\n",
       "      <td>58.0</td>\n",
       "      <td>23.0</td>\n",
       "      <td>15.0</td>\n",
       "      <td>52</td>\n",
       "      <td>NaT</td>\n",
       "      <td>Краснодар</td>\n",
       "      <td>Рафаил</td>\n",
       "      <td>Верещагин</td>\n",
       "      <td>2018-05-25</td>\n",
       "      <td>ultra</td>\n",
       "      <td>0</td>\n",
       "    </tr>\n",
       "    <tr>\n",
       "      <th>7</th>\n",
       "      <td>1000</td>\n",
       "      <td>12.0</td>\n",
       "      <td>46.0</td>\n",
       "      <td>333.0</td>\n",
       "      <td>70.0</td>\n",
       "      <td>19.0</td>\n",
       "      <td>10.0</td>\n",
       "      <td>52</td>\n",
       "      <td>NaT</td>\n",
       "      <td>Краснодар</td>\n",
       "      <td>Рафаил</td>\n",
       "      <td>Верещагин</td>\n",
       "      <td>2018-05-25</td>\n",
       "      <td>ultra</td>\n",
       "      <td>0</td>\n",
       "    </tr>\n",
       "    <tr>\n",
       "      <th>8</th>\n",
       "      <td>1001</td>\n",
       "      <td>11.0</td>\n",
       "      <td>59.0</td>\n",
       "      <td>430.0</td>\n",
       "      <td>0.0</td>\n",
       "      <td>47.0</td>\n",
       "      <td>18.0</td>\n",
       "      <td>41</td>\n",
       "      <td>NaT</td>\n",
       "      <td>Москва</td>\n",
       "      <td>Иван</td>\n",
       "      <td>Ежов</td>\n",
       "      <td>2018-11-01</td>\n",
       "      <td>smart</td>\n",
       "      <td>600</td>\n",
       "    </tr>\n",
       "    <tr>\n",
       "      <th>9</th>\n",
       "      <td>1001</td>\n",
       "      <td>12.0</td>\n",
       "      <td>63.0</td>\n",
       "      <td>414.0</td>\n",
       "      <td>0.0</td>\n",
       "      <td>35.0</td>\n",
       "      <td>14.0</td>\n",
       "      <td>41</td>\n",
       "      <td>NaT</td>\n",
       "      <td>Москва</td>\n",
       "      <td>Иван</td>\n",
       "      <td>Ежов</td>\n",
       "      <td>2018-11-01</td>\n",
       "      <td>smart</td>\n",
       "      <td>0</td>\n",
       "    </tr>\n",
       "    <tr>\n",
       "      <th>10</th>\n",
       "      <td>1002</td>\n",
       "      <td>6.0</td>\n",
       "      <td>15.0</td>\n",
       "      <td>117.0</td>\n",
       "      <td>4.0</td>\n",
       "      <td>27.0</td>\n",
       "      <td>11.0</td>\n",
       "      <td>59</td>\n",
       "      <td>NaT</td>\n",
       "      <td>Стерлитамак</td>\n",
       "      <td>Евгений</td>\n",
       "      <td>Абрамович</td>\n",
       "      <td>2018-06-17</td>\n",
       "      <td>smart</td>\n",
       "      <td>0</td>\n",
       "    </tr>\n",
       "    <tr>\n",
       "      <th>11</th>\n",
       "      <td>1002</td>\n",
       "      <td>7.0</td>\n",
       "      <td>26.0</td>\n",
       "      <td>214.0</td>\n",
       "      <td>11.0</td>\n",
       "      <td>44.0</td>\n",
       "      <td>18.0</td>\n",
       "      <td>59</td>\n",
       "      <td>NaT</td>\n",
       "      <td>Стерлитамак</td>\n",
       "      <td>Евгений</td>\n",
       "      <td>Абрамович</td>\n",
       "      <td>2018-06-17</td>\n",
       "      <td>smart</td>\n",
       "      <td>600</td>\n",
       "    </tr>\n",
       "    <tr>\n",
       "      <th>12</th>\n",
       "      <td>1002</td>\n",
       "      <td>8.0</td>\n",
       "      <td>42.0</td>\n",
       "      <td>289.0</td>\n",
       "      <td>13.0</td>\n",
       "      <td>50.0</td>\n",
       "      <td>20.0</td>\n",
       "      <td>59</td>\n",
       "      <td>NaT</td>\n",
       "      <td>Стерлитамак</td>\n",
       "      <td>Евгений</td>\n",
       "      <td>Абрамович</td>\n",
       "      <td>2018-06-17</td>\n",
       "      <td>smart</td>\n",
       "      <td>1000</td>\n",
       "    </tr>\n",
       "    <tr>\n",
       "      <th>13</th>\n",
       "      <td>1002</td>\n",
       "      <td>9.0</td>\n",
       "      <td>36.0</td>\n",
       "      <td>206.0</td>\n",
       "      <td>4.0</td>\n",
       "      <td>44.0</td>\n",
       "      <td>17.0</td>\n",
       "      <td>59</td>\n",
       "      <td>NaT</td>\n",
       "      <td>Стерлитамак</td>\n",
       "      <td>Евгений</td>\n",
       "      <td>Абрамович</td>\n",
       "      <td>2018-06-17</td>\n",
       "      <td>smart</td>\n",
       "      <td>400</td>\n",
       "    </tr>\n",
       "    <tr>\n",
       "      <th>14</th>\n",
       "      <td>1002</td>\n",
       "      <td>10.0</td>\n",
       "      <td>33.0</td>\n",
       "      <td>212.0</td>\n",
       "      <td>10.0</td>\n",
       "      <td>36.0</td>\n",
       "      <td>14.0</td>\n",
       "      <td>59</td>\n",
       "      <td>NaT</td>\n",
       "      <td>Стерлитамак</td>\n",
       "      <td>Евгений</td>\n",
       "      <td>Абрамович</td>\n",
       "      <td>2018-06-17</td>\n",
       "      <td>smart</td>\n",
       "      <td>0</td>\n",
       "    </tr>\n",
       "    <tr>\n",
       "      <th>15</th>\n",
       "      <td>1002</td>\n",
       "      <td>11.0</td>\n",
       "      <td>32.0</td>\n",
       "      <td>243.0</td>\n",
       "      <td>16.0</td>\n",
       "      <td>44.0</td>\n",
       "      <td>19.0</td>\n",
       "      <td>59</td>\n",
       "      <td>NaT</td>\n",
       "      <td>Стерлитамак</td>\n",
       "      <td>Евгений</td>\n",
       "      <td>Абрамович</td>\n",
       "      <td>2018-06-17</td>\n",
       "      <td>smart</td>\n",
       "      <td>800</td>\n",
       "    </tr>\n",
       "    <tr>\n",
       "      <th>16</th>\n",
       "      <td>1002</td>\n",
       "      <td>12.0</td>\n",
       "      <td>33.0</td>\n",
       "      <td>236.0</td>\n",
       "      <td>12.0</td>\n",
       "      <td>52.0</td>\n",
       "      <td>18.0</td>\n",
       "      <td>59</td>\n",
       "      <td>NaT</td>\n",
       "      <td>Стерлитамак</td>\n",
       "      <td>Евгений</td>\n",
       "      <td>Абрамович</td>\n",
       "      <td>2018-06-17</td>\n",
       "      <td>smart</td>\n",
       "      <td>600</td>\n",
       "    </tr>\n",
       "    <tr>\n",
       "      <th>17</th>\n",
       "      <td>1003</td>\n",
       "      <td>8.0</td>\n",
       "      <td>55.0</td>\n",
       "      <td>380.0</td>\n",
       "      <td>37.0</td>\n",
       "      <td>14.0</td>\n",
       "      <td>9.0</td>\n",
       "      <td>23</td>\n",
       "      <td>NaT</td>\n",
       "      <td>Москва</td>\n",
       "      <td>Белла</td>\n",
       "      <td>Белякова</td>\n",
       "      <td>2018-08-17</td>\n",
       "      <td>ultra</td>\n",
       "      <td>0</td>\n",
       "    </tr>\n",
       "    <tr>\n",
       "      <th>18</th>\n",
       "      <td>1003</td>\n",
       "      <td>9.0</td>\n",
       "      <td>134.0</td>\n",
       "      <td>961.0</td>\n",
       "      <td>91.0</td>\n",
       "      <td>22.0</td>\n",
       "      <td>13.0</td>\n",
       "      <td>23</td>\n",
       "      <td>NaT</td>\n",
       "      <td>Москва</td>\n",
       "      <td>Белла</td>\n",
       "      <td>Белякова</td>\n",
       "      <td>2018-08-17</td>\n",
       "      <td>ultra</td>\n",
       "      <td>0</td>\n",
       "    </tr>\n",
       "    <tr>\n",
       "      <th>19</th>\n",
       "      <td>1003</td>\n",
       "      <td>10.0</td>\n",
       "      <td>108.0</td>\n",
       "      <td>855.0</td>\n",
       "      <td>83.0</td>\n",
       "      <td>25.0</td>\n",
       "      <td>15.0</td>\n",
       "      <td>23</td>\n",
       "      <td>NaT</td>\n",
       "      <td>Москва</td>\n",
       "      <td>Белла</td>\n",
       "      <td>Белякова</td>\n",
       "      <td>2018-08-17</td>\n",
       "      <td>ultra</td>\n",
       "      <td>0</td>\n",
       "    </tr>\n",
       "    <tr>\n",
       "      <th>20</th>\n",
       "      <td>1003</td>\n",
       "      <td>11.0</td>\n",
       "      <td>115.0</td>\n",
       "      <td>824.0</td>\n",
       "      <td>94.0</td>\n",
       "      <td>20.0</td>\n",
       "      <td>12.0</td>\n",
       "      <td>23</td>\n",
       "      <td>NaT</td>\n",
       "      <td>Москва</td>\n",
       "      <td>Белла</td>\n",
       "      <td>Белякова</td>\n",
       "      <td>2018-08-17</td>\n",
       "      <td>ultra</td>\n",
       "      <td>0</td>\n",
       "    </tr>\n",
       "    <tr>\n",
       "      <th>21</th>\n",
       "      <td>1003</td>\n",
       "      <td>12.0</td>\n",
       "      <td>108.0</td>\n",
       "      <td>802.0</td>\n",
       "      <td>75.0</td>\n",
       "      <td>21.0</td>\n",
       "      <td>10.0</td>\n",
       "      <td>23</td>\n",
       "      <td>NaT</td>\n",
       "      <td>Москва</td>\n",
       "      <td>Белла</td>\n",
       "      <td>Белякова</td>\n",
       "      <td>2018-08-17</td>\n",
       "      <td>ultra</td>\n",
       "      <td>0</td>\n",
       "    </tr>\n",
       "    <tr>\n",
       "      <th>22</th>\n",
       "      <td>1004</td>\n",
       "      <td>5.0</td>\n",
       "      <td>9.0</td>\n",
       "      <td>35.0</td>\n",
       "      <td>95.0</td>\n",
       "      <td>24.0</td>\n",
       "      <td>14.0</td>\n",
       "      <td>68</td>\n",
       "      <td>NaT</td>\n",
       "      <td>Новокузнецк</td>\n",
       "      <td>Татьяна</td>\n",
       "      <td>Авдеенко</td>\n",
       "      <td>2018-05-14</td>\n",
       "      <td>ultra</td>\n",
       "      <td>0</td>\n",
       "    </tr>\n",
       "    <tr>\n",
       "      <th>23</th>\n",
       "      <td>1004</td>\n",
       "      <td>6.0</td>\n",
       "      <td>31.0</td>\n",
       "      <td>171.0</td>\n",
       "      <td>134.0</td>\n",
       "      <td>33.0</td>\n",
       "      <td>18.0</td>\n",
       "      <td>68</td>\n",
       "      <td>NaT</td>\n",
       "      <td>Новокузнецк</td>\n",
       "      <td>Татьяна</td>\n",
       "      <td>Авдеенко</td>\n",
       "      <td>2018-05-14</td>\n",
       "      <td>ultra</td>\n",
       "      <td>0</td>\n",
       "    </tr>\n",
       "    <tr>\n",
       "      <th>24</th>\n",
       "      <td>1004</td>\n",
       "      <td>7.0</td>\n",
       "      <td>22.0</td>\n",
       "      <td>135.0</td>\n",
       "      <td>181.0</td>\n",
       "      <td>32.0</td>\n",
       "      <td>22.0</td>\n",
       "      <td>68</td>\n",
       "      <td>NaT</td>\n",
       "      <td>Новокузнецк</td>\n",
       "      <td>Татьяна</td>\n",
       "      <td>Авдеенко</td>\n",
       "      <td>2018-05-14</td>\n",
       "      <td>ultra</td>\n",
       "      <td>0</td>\n",
       "    </tr>\n",
       "    <tr>\n",
       "      <th>25</th>\n",
       "      <td>1004</td>\n",
       "      <td>8.0</td>\n",
       "      <td>19.0</td>\n",
       "      <td>137.0</td>\n",
       "      <td>151.0</td>\n",
       "      <td>50.0</td>\n",
       "      <td>28.0</td>\n",
       "      <td>68</td>\n",
       "      <td>NaT</td>\n",
       "      <td>Новокузнецк</td>\n",
       "      <td>Татьяна</td>\n",
       "      <td>Авдеенко</td>\n",
       "      <td>2018-05-14</td>\n",
       "      <td>ultra</td>\n",
       "      <td>0</td>\n",
       "    </tr>\n",
       "    <tr>\n",
       "      <th>26</th>\n",
       "      <td>1004</td>\n",
       "      <td>9.0</td>\n",
       "      <td>26.0</td>\n",
       "      <td>117.0</td>\n",
       "      <td>146.0</td>\n",
       "      <td>32.0</td>\n",
       "      <td>15.0</td>\n",
       "      <td>68</td>\n",
       "      <td>NaT</td>\n",
       "      <td>Новокузнецк</td>\n",
       "      <td>Татьяна</td>\n",
       "      <td>Авдеенко</td>\n",
       "      <td>2018-05-14</td>\n",
       "      <td>ultra</td>\n",
       "      <td>0</td>\n",
       "    </tr>\n",
       "    <tr>\n",
       "      <th>27</th>\n",
       "      <td>1004</td>\n",
       "      <td>10.0</td>\n",
       "      <td>29.0</td>\n",
       "      <td>145.0</td>\n",
       "      <td>165.0</td>\n",
       "      <td>37.0</td>\n",
       "      <td>19.0</td>\n",
       "      <td>68</td>\n",
       "      <td>NaT</td>\n",
       "      <td>Новокузнецк</td>\n",
       "      <td>Татьяна</td>\n",
       "      <td>Авдеенко</td>\n",
       "      <td>2018-05-14</td>\n",
       "      <td>ultra</td>\n",
       "      <td>0</td>\n",
       "    </tr>\n",
       "    <tr>\n",
       "      <th>28</th>\n",
       "      <td>1004</td>\n",
       "      <td>11.0</td>\n",
       "      <td>19.0</td>\n",
       "      <td>117.0</td>\n",
       "      <td>158.0</td>\n",
       "      <td>33.0</td>\n",
       "      <td>16.0</td>\n",
       "      <td>68</td>\n",
       "      <td>NaT</td>\n",
       "      <td>Новокузнецк</td>\n",
       "      <td>Татьяна</td>\n",
       "      <td>Авдеенко</td>\n",
       "      <td>2018-05-14</td>\n",
       "      <td>ultra</td>\n",
       "      <td>0</td>\n",
       "    </tr>\n",
       "    <tr>\n",
       "      <th>29</th>\n",
       "      <td>1004</td>\n",
       "      <td>12.0</td>\n",
       "      <td>21.0</td>\n",
       "      <td>130.0</td>\n",
       "      <td>162.0</td>\n",
       "      <td>37.0</td>\n",
       "      <td>18.0</td>\n",
       "      <td>68</td>\n",
       "      <td>NaT</td>\n",
       "      <td>Новокузнецк</td>\n",
       "      <td>Татьяна</td>\n",
       "      <td>Авдеенко</td>\n",
       "      <td>2018-05-14</td>\n",
       "      <td>ultra</td>\n",
       "      <td>0</td>\n",
       "    </tr>\n",
       "    <tr>\n",
       "      <th>30</th>\n",
       "      <td>1005</td>\n",
       "      <td>1.0</td>\n",
       "      <td>15.0</td>\n",
       "      <td>95.0</td>\n",
       "      <td>7.0</td>\n",
       "      <td>6.0</td>\n",
       "      <td>3.0</td>\n",
       "      <td>67</td>\n",
       "      <td>NaT</td>\n",
       "      <td>Набережные Челны</td>\n",
       "      <td>Афанасий</td>\n",
       "      <td>Горлов</td>\n",
       "      <td>2018-01-25</td>\n",
       "      <td>smart</td>\n",
       "      <td>0</td>\n",
       "    </tr>\n",
       "    <tr>\n",
       "      <th>31</th>\n",
       "      <td>1005</td>\n",
       "      <td>2.0</td>\n",
       "      <td>69.0</td>\n",
       "      <td>456.0</td>\n",
       "      <td>38.0</td>\n",
       "      <td>22.0</td>\n",
       "      <td>8.0</td>\n",
       "      <td>67</td>\n",
       "      <td>NaT</td>\n",
       "      <td>Набережные Челны</td>\n",
       "      <td>Афанасий</td>\n",
       "      <td>Горлов</td>\n",
       "      <td>2018-01-25</td>\n",
       "      <td>smart</td>\n",
       "      <td>0</td>\n",
       "    </tr>\n",
       "    <tr>\n",
       "      <th>32</th>\n",
       "      <td>1005</td>\n",
       "      <td>3.0</td>\n",
       "      <td>77.0</td>\n",
       "      <td>606.0</td>\n",
       "      <td>56.0</td>\n",
       "      <td>25.0</td>\n",
       "      <td>11.0</td>\n",
       "      <td>67</td>\n",
       "      <td>NaT</td>\n",
       "      <td>Набережные Челны</td>\n",
       "      <td>Афанасий</td>\n",
       "      <td>Горлов</td>\n",
       "      <td>2018-01-25</td>\n",
       "      <td>smart</td>\n",
       "      <td>336</td>\n",
       "    </tr>\n",
       "    <tr>\n",
       "      <th>33</th>\n",
       "      <td>1005</td>\n",
       "      <td>4.0</td>\n",
       "      <td>101.0</td>\n",
       "      <td>712.0</td>\n",
       "      <td>41.0</td>\n",
       "      <td>24.0</td>\n",
       "      <td>10.0</td>\n",
       "      <td>67</td>\n",
       "      <td>NaT</td>\n",
       "      <td>Набережные Челны</td>\n",
       "      <td>Афанасий</td>\n",
       "      <td>Горлов</td>\n",
       "      <td>2018-01-25</td>\n",
       "      <td>smart</td>\n",
       "      <td>636</td>\n",
       "    </tr>\n",
       "    <tr>\n",
       "      <th>34</th>\n",
       "      <td>1005</td>\n",
       "      <td>5.0</td>\n",
       "      <td>73.0</td>\n",
       "      <td>595.0</td>\n",
       "      <td>42.0</td>\n",
       "      <td>20.0</td>\n",
       "      <td>8.0</td>\n",
       "      <td>67</td>\n",
       "      <td>NaT</td>\n",
       "      <td>Набережные Челны</td>\n",
       "      <td>Афанасий</td>\n",
       "      <td>Горлов</td>\n",
       "      <td>2018-01-25</td>\n",
       "      <td>smart</td>\n",
       "      <td>285</td>\n",
       "    </tr>\n",
       "    <tr>\n",
       "      <th>35</th>\n",
       "      <td>1005</td>\n",
       "      <td>6.0</td>\n",
       "      <td>80.0</td>\n",
       "      <td>612.0</td>\n",
       "      <td>47.0</td>\n",
       "      <td>24.0</td>\n",
       "      <td>10.0</td>\n",
       "      <td>67</td>\n",
       "      <td>NaT</td>\n",
       "      <td>Набережные Челны</td>\n",
       "      <td>Афанасий</td>\n",
       "      <td>Горлов</td>\n",
       "      <td>2018-01-25</td>\n",
       "      <td>smart</td>\n",
       "      <td>336</td>\n",
       "    </tr>\n",
       "    <tr>\n",
       "      <th>36</th>\n",
       "      <td>1005</td>\n",
       "      <td>7.0</td>\n",
       "      <td>77.0</td>\n",
       "      <td>569.0</td>\n",
       "      <td>56.0</td>\n",
       "      <td>19.0</td>\n",
       "      <td>8.0</td>\n",
       "      <td>67</td>\n",
       "      <td>NaT</td>\n",
       "      <td>Набережные Челны</td>\n",
       "      <td>Афанасий</td>\n",
       "      <td>Горлов</td>\n",
       "      <td>2018-01-25</td>\n",
       "      <td>smart</td>\n",
       "      <td>225</td>\n",
       "    </tr>\n",
       "    <tr>\n",
       "      <th>37</th>\n",
       "      <td>1005</td>\n",
       "      <td>8.0</td>\n",
       "      <td>71.0</td>\n",
       "      <td>619.0</td>\n",
       "      <td>64.0</td>\n",
       "      <td>19.0</td>\n",
       "      <td>8.0</td>\n",
       "      <td>67</td>\n",
       "      <td>NaT</td>\n",
       "      <td>Набережные Челны</td>\n",
       "      <td>Афанасий</td>\n",
       "      <td>Горлов</td>\n",
       "      <td>2018-01-25</td>\n",
       "      <td>smart</td>\n",
       "      <td>399</td>\n",
       "    </tr>\n",
       "    <tr>\n",
       "      <th>38</th>\n",
       "      <td>1005</td>\n",
       "      <td>9.0</td>\n",
       "      <td>66.0</td>\n",
       "      <td>479.0</td>\n",
       "      <td>52.0</td>\n",
       "      <td>21.0</td>\n",
       "      <td>7.0</td>\n",
       "      <td>67</td>\n",
       "      <td>NaT</td>\n",
       "      <td>Набережные Челны</td>\n",
       "      <td>Афанасий</td>\n",
       "      <td>Горлов</td>\n",
       "      <td>2018-01-25</td>\n",
       "      <td>smart</td>\n",
       "      <td>6</td>\n",
       "    </tr>\n",
       "    <tr>\n",
       "      <th>39</th>\n",
       "      <td>1005</td>\n",
       "      <td>10.0</td>\n",
       "      <td>100.0</td>\n",
       "      <td>723.0</td>\n",
       "      <td>44.0</td>\n",
       "      <td>19.0</td>\n",
       "      <td>8.0</td>\n",
       "      <td>67</td>\n",
       "      <td>NaT</td>\n",
       "      <td>Набережные Челны</td>\n",
       "      <td>Афанасий</td>\n",
       "      <td>Горлов</td>\n",
       "      <td>2018-01-25</td>\n",
       "      <td>smart</td>\n",
       "      <td>669</td>\n",
       "    </tr>\n",
       "    <tr>\n",
       "      <th>40</th>\n",
       "      <td>1005</td>\n",
       "      <td>11.0</td>\n",
       "      <td>75.0</td>\n",
       "      <td>547.0</td>\n",
       "      <td>51.0</td>\n",
       "      <td>28.0</td>\n",
       "      <td>13.0</td>\n",
       "      <td>67</td>\n",
       "      <td>NaT</td>\n",
       "      <td>Набережные Челны</td>\n",
       "      <td>Афанасий</td>\n",
       "      <td>Горлов</td>\n",
       "      <td>2018-01-25</td>\n",
       "      <td>smart</td>\n",
       "      <td>144</td>\n",
       "    </tr>\n",
       "    <tr>\n",
       "      <th>41</th>\n",
       "      <td>1005</td>\n",
       "      <td>12.0</td>\n",
       "      <td>84.0</td>\n",
       "      <td>592.0</td>\n",
       "      <td>54.0</td>\n",
       "      <td>24.0</td>\n",
       "      <td>9.0</td>\n",
       "      <td>67</td>\n",
       "      <td>NaT</td>\n",
       "      <td>Набережные Челны</td>\n",
       "      <td>Афанасий</td>\n",
       "      <td>Горлов</td>\n",
       "      <td>2018-01-25</td>\n",
       "      <td>smart</td>\n",
       "      <td>288</td>\n",
       "    </tr>\n",
       "    <tr>\n",
       "      <th>42</th>\n",
       "      <td>1006</td>\n",
       "      <td>2.0</td>\n",
       "      <td>3.0</td>\n",
       "      <td>42.0</td>\n",
       "      <td>0.0</td>\n",
       "      <td>4.0</td>\n",
       "      <td>2.0</td>\n",
       "      <td>21</td>\n",
       "      <td>NaT</td>\n",
       "      <td>Ульяновск</td>\n",
       "      <td>Леонид</td>\n",
       "      <td>Ермолаев</td>\n",
       "      <td>2018-02-26</td>\n",
       "      <td>smart</td>\n",
       "      <td>0</td>\n",
       "    </tr>\n",
       "    <tr>\n",
       "      <th>43</th>\n",
       "      <td>1006</td>\n",
       "      <td>3.0</td>\n",
       "      <td>46.0</td>\n",
       "      <td>286.0</td>\n",
       "      <td>0.0</td>\n",
       "      <td>43.0</td>\n",
       "      <td>17.0</td>\n",
       "      <td>21</td>\n",
       "      <td>NaT</td>\n",
       "      <td>Ульяновск</td>\n",
       "      <td>Леонид</td>\n",
       "      <td>Ермолаев</td>\n",
       "      <td>2018-02-26</td>\n",
       "      <td>smart</td>\n",
       "      <td>400</td>\n",
       "    </tr>\n",
       "    <tr>\n",
       "      <th>44</th>\n",
       "      <td>1006</td>\n",
       "      <td>4.0</td>\n",
       "      <td>47.0</td>\n",
       "      <td>356.0</td>\n",
       "      <td>0.0</td>\n",
       "      <td>33.0</td>\n",
       "      <td>14.0</td>\n",
       "      <td>21</td>\n",
       "      <td>NaT</td>\n",
       "      <td>Ульяновск</td>\n",
       "      <td>Леонид</td>\n",
       "      <td>Ермолаев</td>\n",
       "      <td>2018-02-26</td>\n",
       "      <td>smart</td>\n",
       "      <td>0</td>\n",
       "    </tr>\n",
       "    <tr>\n",
       "      <th>45</th>\n",
       "      <td>1006</td>\n",
       "      <td>5.0</td>\n",
       "      <td>56.0</td>\n",
       "      <td>370.0</td>\n",
       "      <td>0.0</td>\n",
       "      <td>38.0</td>\n",
       "      <td>13.0</td>\n",
       "      <td>21</td>\n",
       "      <td>NaT</td>\n",
       "      <td>Ульяновск</td>\n",
       "      <td>Леонид</td>\n",
       "      <td>Ермолаев</td>\n",
       "      <td>2018-02-26</td>\n",
       "      <td>smart</td>\n",
       "      <td>0</td>\n",
       "    </tr>\n",
       "    <tr>\n",
       "      <th>46</th>\n",
       "      <td>1006</td>\n",
       "      <td>6.0</td>\n",
       "      <td>53.0</td>\n",
       "      <td>478.0</td>\n",
       "      <td>0.0</td>\n",
       "      <td>34.0</td>\n",
       "      <td>13.0</td>\n",
       "      <td>21</td>\n",
       "      <td>NaT</td>\n",
       "      <td>Ульяновск</td>\n",
       "      <td>Леонид</td>\n",
       "      <td>Ермолаев</td>\n",
       "      <td>2018-02-26</td>\n",
       "      <td>smart</td>\n",
       "      <td>0</td>\n",
       "    </tr>\n",
       "    <tr>\n",
       "      <th>47</th>\n",
       "      <td>1006</td>\n",
       "      <td>7.0</td>\n",
       "      <td>49.0</td>\n",
       "      <td>316.0</td>\n",
       "      <td>0.0</td>\n",
       "      <td>50.0</td>\n",
       "      <td>20.0</td>\n",
       "      <td>21</td>\n",
       "      <td>NaT</td>\n",
       "      <td>Ульяновск</td>\n",
       "      <td>Леонид</td>\n",
       "      <td>Ермолаев</td>\n",
       "      <td>2018-02-26</td>\n",
       "      <td>smart</td>\n",
       "      <td>1000</td>\n",
       "    </tr>\n",
       "    <tr>\n",
       "      <th>48</th>\n",
       "      <td>1006</td>\n",
       "      <td>8.0</td>\n",
       "      <td>42.0</td>\n",
       "      <td>275.0</td>\n",
       "      <td>0.0</td>\n",
       "      <td>45.0</td>\n",
       "      <td>19.0</td>\n",
       "      <td>21</td>\n",
       "      <td>NaT</td>\n",
       "      <td>Ульяновск</td>\n",
       "      <td>Леонид</td>\n",
       "      <td>Ермолаев</td>\n",
       "      <td>2018-02-26</td>\n",
       "      <td>smart</td>\n",
       "      <td>800</td>\n",
       "    </tr>\n",
       "    <tr>\n",
       "      <th>49</th>\n",
       "      <td>1006</td>\n",
       "      <td>9.0</td>\n",
       "      <td>54.0</td>\n",
       "      <td>360.0</td>\n",
       "      <td>0.0</td>\n",
       "      <td>39.0</td>\n",
       "      <td>16.0</td>\n",
       "      <td>21</td>\n",
       "      <td>NaT</td>\n",
       "      <td>Ульяновск</td>\n",
       "      <td>Леонид</td>\n",
       "      <td>Ермолаев</td>\n",
       "      <td>2018-02-26</td>\n",
       "      <td>smart</td>\n",
       "      <td>200</td>\n",
       "    </tr>\n",
       "  </tbody>\n",
       "</table>\n",
       "</div>"
      ],
      "text/plain": [
       "    user_id  month  calls_count  calls_sum  messages_count  internet_count  \\\n",
       "0      1000    5.0         22.0      159.0            22.0             4.0   \n",
       "1      1000    6.0         43.0      172.0            60.0            44.0   \n",
       "2      1000    7.0         47.0      340.0            75.0            28.0   \n",
       "3      1000    8.0         52.0      408.0            81.0            27.0   \n",
       "4      1000    9.0         58.0      466.0            57.0            25.0   \n",
       "5      1000   10.0         57.0      350.0            73.0            27.0   \n",
       "6      1000   11.0         43.0      338.0            58.0            23.0   \n",
       "7      1000   12.0         46.0      333.0            70.0            19.0   \n",
       "8      1001   11.0         59.0      430.0             0.0            47.0   \n",
       "9      1001   12.0         63.0      414.0             0.0            35.0   \n",
       "10     1002    6.0         15.0      117.0             4.0            27.0   \n",
       "11     1002    7.0         26.0      214.0            11.0            44.0   \n",
       "12     1002    8.0         42.0      289.0            13.0            50.0   \n",
       "13     1002    9.0         36.0      206.0             4.0            44.0   \n",
       "14     1002   10.0         33.0      212.0            10.0            36.0   \n",
       "15     1002   11.0         32.0      243.0            16.0            44.0   \n",
       "16     1002   12.0         33.0      236.0            12.0            52.0   \n",
       "17     1003    8.0         55.0      380.0            37.0            14.0   \n",
       "18     1003    9.0        134.0      961.0            91.0            22.0   \n",
       "19     1003   10.0        108.0      855.0            83.0            25.0   \n",
       "20     1003   11.0        115.0      824.0            94.0            20.0   \n",
       "21     1003   12.0        108.0      802.0            75.0            21.0   \n",
       "22     1004    5.0          9.0       35.0            95.0            24.0   \n",
       "23     1004    6.0         31.0      171.0           134.0            33.0   \n",
       "24     1004    7.0         22.0      135.0           181.0            32.0   \n",
       "25     1004    8.0         19.0      137.0           151.0            50.0   \n",
       "26     1004    9.0         26.0      117.0           146.0            32.0   \n",
       "27     1004   10.0         29.0      145.0           165.0            37.0   \n",
       "28     1004   11.0         19.0      117.0           158.0            33.0   \n",
       "29     1004   12.0         21.0      130.0           162.0            37.0   \n",
       "30     1005    1.0         15.0       95.0             7.0             6.0   \n",
       "31     1005    2.0         69.0      456.0            38.0            22.0   \n",
       "32     1005    3.0         77.0      606.0            56.0            25.0   \n",
       "33     1005    4.0        101.0      712.0            41.0            24.0   \n",
       "34     1005    5.0         73.0      595.0            42.0            20.0   \n",
       "35     1005    6.0         80.0      612.0            47.0            24.0   \n",
       "36     1005    7.0         77.0      569.0            56.0            19.0   \n",
       "37     1005    8.0         71.0      619.0            64.0            19.0   \n",
       "38     1005    9.0         66.0      479.0            52.0            21.0   \n",
       "39     1005   10.0        100.0      723.0            44.0            19.0   \n",
       "40     1005   11.0         75.0      547.0            51.0            28.0   \n",
       "41     1005   12.0         84.0      592.0            54.0            24.0   \n",
       "42     1006    2.0          3.0       42.0             0.0             4.0   \n",
       "43     1006    3.0         46.0      286.0             0.0            43.0   \n",
       "44     1006    4.0         47.0      356.0             0.0            33.0   \n",
       "45     1006    5.0         56.0      370.0             0.0            38.0   \n",
       "46     1006    6.0         53.0      478.0             0.0            34.0   \n",
       "47     1006    7.0         49.0      316.0             0.0            50.0   \n",
       "48     1006    8.0         42.0      275.0             0.0            45.0   \n",
       "49     1006    9.0         54.0      360.0             0.0            39.0   \n",
       "\n",
       "    internet_sum  age churn_date              city first_name  last_name  \\\n",
       "0            3.0   52        NaT         Краснодар     Рафаил  Верещагин   \n",
       "1           23.0   52        NaT         Краснодар     Рафаил  Верещагин   \n",
       "2           14.0   52        NaT         Краснодар     Рафаил  Верещагин   \n",
       "3           14.0   52        NaT         Краснодар     Рафаил  Верещагин   \n",
       "4           15.0   52        NaT         Краснодар     Рафаил  Верещагин   \n",
       "5           15.0   52        NaT         Краснодар     Рафаил  Верещагин   \n",
       "6           15.0   52        NaT         Краснодар     Рафаил  Верещагин   \n",
       "7           10.0   52        NaT         Краснодар     Рафаил  Верещагин   \n",
       "8           18.0   41        NaT            Москва       Иван       Ежов   \n",
       "9           14.0   41        NaT            Москва       Иван       Ежов   \n",
       "10          11.0   59        NaT       Стерлитамак    Евгений  Абрамович   \n",
       "11          18.0   59        NaT       Стерлитамак    Евгений  Абрамович   \n",
       "12          20.0   59        NaT       Стерлитамак    Евгений  Абрамович   \n",
       "13          17.0   59        NaT       Стерлитамак    Евгений  Абрамович   \n",
       "14          14.0   59        NaT       Стерлитамак    Евгений  Абрамович   \n",
       "15          19.0   59        NaT       Стерлитамак    Евгений  Абрамович   \n",
       "16          18.0   59        NaT       Стерлитамак    Евгений  Абрамович   \n",
       "17           9.0   23        NaT            Москва      Белла   Белякова   \n",
       "18          13.0   23        NaT            Москва      Белла   Белякова   \n",
       "19          15.0   23        NaT            Москва      Белла   Белякова   \n",
       "20          12.0   23        NaT            Москва      Белла   Белякова   \n",
       "21          10.0   23        NaT            Москва      Белла   Белякова   \n",
       "22          14.0   68        NaT       Новокузнецк    Татьяна   Авдеенко   \n",
       "23          18.0   68        NaT       Новокузнецк    Татьяна   Авдеенко   \n",
       "24          22.0   68        NaT       Новокузнецк    Татьяна   Авдеенко   \n",
       "25          28.0   68        NaT       Новокузнецк    Татьяна   Авдеенко   \n",
       "26          15.0   68        NaT       Новокузнецк    Татьяна   Авдеенко   \n",
       "27          19.0   68        NaT       Новокузнецк    Татьяна   Авдеенко   \n",
       "28          16.0   68        NaT       Новокузнецк    Татьяна   Авдеенко   \n",
       "29          18.0   68        NaT       Новокузнецк    Татьяна   Авдеенко   \n",
       "30           3.0   67        NaT  Набережные Челны   Афанасий     Горлов   \n",
       "31           8.0   67        NaT  Набережные Челны   Афанасий     Горлов   \n",
       "32          11.0   67        NaT  Набережные Челны   Афанасий     Горлов   \n",
       "33          10.0   67        NaT  Набережные Челны   Афанасий     Горлов   \n",
       "34           8.0   67        NaT  Набережные Челны   Афанасий     Горлов   \n",
       "35          10.0   67        NaT  Набережные Челны   Афанасий     Горлов   \n",
       "36           8.0   67        NaT  Набережные Челны   Афанасий     Горлов   \n",
       "37           8.0   67        NaT  Набережные Челны   Афанасий     Горлов   \n",
       "38           7.0   67        NaT  Набережные Челны   Афанасий     Горлов   \n",
       "39           8.0   67        NaT  Набережные Челны   Афанасий     Горлов   \n",
       "40          13.0   67        NaT  Набережные Челны   Афанасий     Горлов   \n",
       "41           9.0   67        NaT  Набережные Челны   Афанасий     Горлов   \n",
       "42           2.0   21        NaT         Ульяновск     Леонид   Ермолаев   \n",
       "43          17.0   21        NaT         Ульяновск     Леонид   Ермолаев   \n",
       "44          14.0   21        NaT         Ульяновск     Леонид   Ермолаев   \n",
       "45          13.0   21        NaT         Ульяновск     Леонид   Ермолаев   \n",
       "46          13.0   21        NaT         Ульяновск     Леонид   Ермолаев   \n",
       "47          20.0   21        NaT         Ульяновск     Леонид   Ермолаев   \n",
       "48          19.0   21        NaT         Ульяновск     Леонид   Ермолаев   \n",
       "49          16.0   21        NaT         Ульяновск     Леонид   Ермолаев   \n",
       "\n",
       "     reg_date tariff  tariff_expenses  \n",
       "0  2018-05-25  ultra                0  \n",
       "1  2018-05-25  ultra                0  \n",
       "2  2018-05-25  ultra                0  \n",
       "3  2018-05-25  ultra                0  \n",
       "4  2018-05-25  ultra                0  \n",
       "5  2018-05-25  ultra                0  \n",
       "6  2018-05-25  ultra                0  \n",
       "7  2018-05-25  ultra                0  \n",
       "8  2018-11-01  smart              600  \n",
       "9  2018-11-01  smart                0  \n",
       "10 2018-06-17  smart                0  \n",
       "11 2018-06-17  smart              600  \n",
       "12 2018-06-17  smart             1000  \n",
       "13 2018-06-17  smart              400  \n",
       "14 2018-06-17  smart                0  \n",
       "15 2018-06-17  smart              800  \n",
       "16 2018-06-17  smart              600  \n",
       "17 2018-08-17  ultra                0  \n",
       "18 2018-08-17  ultra                0  \n",
       "19 2018-08-17  ultra                0  \n",
       "20 2018-08-17  ultra                0  \n",
       "21 2018-08-17  ultra                0  \n",
       "22 2018-05-14  ultra                0  \n",
       "23 2018-05-14  ultra                0  \n",
       "24 2018-05-14  ultra                0  \n",
       "25 2018-05-14  ultra                0  \n",
       "26 2018-05-14  ultra                0  \n",
       "27 2018-05-14  ultra                0  \n",
       "28 2018-05-14  ultra                0  \n",
       "29 2018-05-14  ultra                0  \n",
       "30 2018-01-25  smart                0  \n",
       "31 2018-01-25  smart                0  \n",
       "32 2018-01-25  smart              336  \n",
       "33 2018-01-25  smart              636  \n",
       "34 2018-01-25  smart              285  \n",
       "35 2018-01-25  smart              336  \n",
       "36 2018-01-25  smart              225  \n",
       "37 2018-01-25  smart              399  \n",
       "38 2018-01-25  smart                6  \n",
       "39 2018-01-25  smart              669  \n",
       "40 2018-01-25  smart              144  \n",
       "41 2018-01-25  smart              288  \n",
       "42 2018-02-26  smart                0  \n",
       "43 2018-02-26  smart              400  \n",
       "44 2018-02-26  smart                0  \n",
       "45 2018-02-26  smart                0  \n",
       "46 2018-02-26  smart                0  \n",
       "47 2018-02-26  smart             1000  \n",
       "48 2018-02-26  smart              800  \n",
       "49 2018-02-26  smart              200  "
      ]
     },
     "execution_count": 37,
     "metadata": {},
     "output_type": "execute_result"
    }
   ],
   "source": [
    "proceeds_data['tariff_expenses'] = proceeds_data.apply(tariff_proceeds, axis =1)\n",
    "proceeds_data['tariff_expenses'] = proceeds_data['tariff_expenses'].astype(int)\n",
    "proceeds_data.head(50)"
   ]
  },
  {
   "cell_type": "code",
   "execution_count": 38,
   "id": "85dad8ea",
   "metadata": {},
   "outputs": [],
   "source": [
    "# Функция по оценке суммарных расходов по тарифу\n",
    "\n",
    "def pay_info (raw):\n",
    "    tariff =raw['tariff']\n",
    "    proceeds = raw['tariff_expenses']\n",
    " \n",
    "    if tariff =='ultra':\n",
    "        if proceeds != 0: \n",
    "            pay = ultra_fee + proceeds\n",
    "        else:\n",
    "            pay = ultra_fee\n",
    "    if tariff == 'smart':\n",
    "        if proceeds != 0: \n",
    "            pay = smart_fee + proceeds\n",
    "        else:\n",
    "            pay = smart_fee\n",
    "    return pay\n",
    " \n"
   ]
  },
  {
   "cell_type": "markdown",
   "id": "380fadc4",
   "metadata": {},
   "source": [
    "#### Сводная таблица с информацией о суммарных расходах по тарифам"
   ]
  },
  {
   "cell_type": "code",
   "execution_count": 39,
   "id": "969984bc",
   "metadata": {},
   "outputs": [
    {
     "data": {
      "text/html": [
       "<div>\n",
       "<style scoped>\n",
       "    .dataframe tbody tr th:only-of-type {\n",
       "        vertical-align: middle;\n",
       "    }\n",
       "\n",
       "    .dataframe tbody tr th {\n",
       "        vertical-align: top;\n",
       "    }\n",
       "\n",
       "    .dataframe thead th {\n",
       "        text-align: right;\n",
       "    }\n",
       "</style>\n",
       "<table border=\"1\" class=\"dataframe\">\n",
       "  <thead>\n",
       "    <tr style=\"text-align: right;\">\n",
       "      <th></th>\n",
       "      <th>user_id</th>\n",
       "      <th>month</th>\n",
       "      <th>calls_count</th>\n",
       "      <th>calls_sum</th>\n",
       "      <th>messages_count</th>\n",
       "      <th>internet_count</th>\n",
       "      <th>internet_sum</th>\n",
       "      <th>age</th>\n",
       "      <th>churn_date</th>\n",
       "      <th>city</th>\n",
       "      <th>first_name</th>\n",
       "      <th>last_name</th>\n",
       "      <th>reg_date</th>\n",
       "      <th>tariff</th>\n",
       "      <th>tariff_expenses</th>\n",
       "      <th>pay_info</th>\n",
       "    </tr>\n",
       "  </thead>\n",
       "  <tbody>\n",
       "    <tr>\n",
       "      <th>0</th>\n",
       "      <td>1000</td>\n",
       "      <td>5.0</td>\n",
       "      <td>22.0</td>\n",
       "      <td>159.0</td>\n",
       "      <td>22.0</td>\n",
       "      <td>4.0</td>\n",
       "      <td>3.0</td>\n",
       "      <td>52</td>\n",
       "      <td>NaT</td>\n",
       "      <td>Краснодар</td>\n",
       "      <td>Рафаил</td>\n",
       "      <td>Верещагин</td>\n",
       "      <td>2018-05-25</td>\n",
       "      <td>ultra</td>\n",
       "      <td>0</td>\n",
       "      <td>1950</td>\n",
       "    </tr>\n",
       "    <tr>\n",
       "      <th>1</th>\n",
       "      <td>1000</td>\n",
       "      <td>6.0</td>\n",
       "      <td>43.0</td>\n",
       "      <td>172.0</td>\n",
       "      <td>60.0</td>\n",
       "      <td>44.0</td>\n",
       "      <td>23.0</td>\n",
       "      <td>52</td>\n",
       "      <td>NaT</td>\n",
       "      <td>Краснодар</td>\n",
       "      <td>Рафаил</td>\n",
       "      <td>Верещагин</td>\n",
       "      <td>2018-05-25</td>\n",
       "      <td>ultra</td>\n",
       "      <td>0</td>\n",
       "      <td>1950</td>\n",
       "    </tr>\n",
       "    <tr>\n",
       "      <th>2</th>\n",
       "      <td>1000</td>\n",
       "      <td>7.0</td>\n",
       "      <td>47.0</td>\n",
       "      <td>340.0</td>\n",
       "      <td>75.0</td>\n",
       "      <td>28.0</td>\n",
       "      <td>14.0</td>\n",
       "      <td>52</td>\n",
       "      <td>NaT</td>\n",
       "      <td>Краснодар</td>\n",
       "      <td>Рафаил</td>\n",
       "      <td>Верещагин</td>\n",
       "      <td>2018-05-25</td>\n",
       "      <td>ultra</td>\n",
       "      <td>0</td>\n",
       "      <td>1950</td>\n",
       "    </tr>\n",
       "    <tr>\n",
       "      <th>3</th>\n",
       "      <td>1000</td>\n",
       "      <td>8.0</td>\n",
       "      <td>52.0</td>\n",
       "      <td>408.0</td>\n",
       "      <td>81.0</td>\n",
       "      <td>27.0</td>\n",
       "      <td>14.0</td>\n",
       "      <td>52</td>\n",
       "      <td>NaT</td>\n",
       "      <td>Краснодар</td>\n",
       "      <td>Рафаил</td>\n",
       "      <td>Верещагин</td>\n",
       "      <td>2018-05-25</td>\n",
       "      <td>ultra</td>\n",
       "      <td>0</td>\n",
       "      <td>1950</td>\n",
       "    </tr>\n",
       "    <tr>\n",
       "      <th>4</th>\n",
       "      <td>1000</td>\n",
       "      <td>9.0</td>\n",
       "      <td>58.0</td>\n",
       "      <td>466.0</td>\n",
       "      <td>57.0</td>\n",
       "      <td>25.0</td>\n",
       "      <td>15.0</td>\n",
       "      <td>52</td>\n",
       "      <td>NaT</td>\n",
       "      <td>Краснодар</td>\n",
       "      <td>Рафаил</td>\n",
       "      <td>Верещагин</td>\n",
       "      <td>2018-05-25</td>\n",
       "      <td>ultra</td>\n",
       "      <td>0</td>\n",
       "      <td>1950</td>\n",
       "    </tr>\n",
       "    <tr>\n",
       "      <th>5</th>\n",
       "      <td>1000</td>\n",
       "      <td>10.0</td>\n",
       "      <td>57.0</td>\n",
       "      <td>350.0</td>\n",
       "      <td>73.0</td>\n",
       "      <td>27.0</td>\n",
       "      <td>15.0</td>\n",
       "      <td>52</td>\n",
       "      <td>NaT</td>\n",
       "      <td>Краснодар</td>\n",
       "      <td>Рафаил</td>\n",
       "      <td>Верещагин</td>\n",
       "      <td>2018-05-25</td>\n",
       "      <td>ultra</td>\n",
       "      <td>0</td>\n",
       "      <td>1950</td>\n",
       "    </tr>\n",
       "    <tr>\n",
       "      <th>6</th>\n",
       "      <td>1000</td>\n",
       "      <td>11.0</td>\n",
       "      <td>43.0</td>\n",
       "      <td>338.0</td>\n",
       "      <td>58.0</td>\n",
       "      <td>23.0</td>\n",
       "      <td>15.0</td>\n",
       "      <td>52</td>\n",
       "      <td>NaT</td>\n",
       "      <td>Краснодар</td>\n",
       "      <td>Рафаил</td>\n",
       "      <td>Верещагин</td>\n",
       "      <td>2018-05-25</td>\n",
       "      <td>ultra</td>\n",
       "      <td>0</td>\n",
       "      <td>1950</td>\n",
       "    </tr>\n",
       "    <tr>\n",
       "      <th>7</th>\n",
       "      <td>1000</td>\n",
       "      <td>12.0</td>\n",
       "      <td>46.0</td>\n",
       "      <td>333.0</td>\n",
       "      <td>70.0</td>\n",
       "      <td>19.0</td>\n",
       "      <td>10.0</td>\n",
       "      <td>52</td>\n",
       "      <td>NaT</td>\n",
       "      <td>Краснодар</td>\n",
       "      <td>Рафаил</td>\n",
       "      <td>Верещагин</td>\n",
       "      <td>2018-05-25</td>\n",
       "      <td>ultra</td>\n",
       "      <td>0</td>\n",
       "      <td>1950</td>\n",
       "    </tr>\n",
       "    <tr>\n",
       "      <th>8</th>\n",
       "      <td>1001</td>\n",
       "      <td>11.0</td>\n",
       "      <td>59.0</td>\n",
       "      <td>430.0</td>\n",
       "      <td>0.0</td>\n",
       "      <td>47.0</td>\n",
       "      <td>18.0</td>\n",
       "      <td>41</td>\n",
       "      <td>NaT</td>\n",
       "      <td>Москва</td>\n",
       "      <td>Иван</td>\n",
       "      <td>Ежов</td>\n",
       "      <td>2018-11-01</td>\n",
       "      <td>smart</td>\n",
       "      <td>600</td>\n",
       "      <td>1150</td>\n",
       "    </tr>\n",
       "    <tr>\n",
       "      <th>9</th>\n",
       "      <td>1001</td>\n",
       "      <td>12.0</td>\n",
       "      <td>63.0</td>\n",
       "      <td>414.0</td>\n",
       "      <td>0.0</td>\n",
       "      <td>35.0</td>\n",
       "      <td>14.0</td>\n",
       "      <td>41</td>\n",
       "      <td>NaT</td>\n",
       "      <td>Москва</td>\n",
       "      <td>Иван</td>\n",
       "      <td>Ежов</td>\n",
       "      <td>2018-11-01</td>\n",
       "      <td>smart</td>\n",
       "      <td>0</td>\n",
       "      <td>550</td>\n",
       "    </tr>\n",
       "    <tr>\n",
       "      <th>10</th>\n",
       "      <td>1002</td>\n",
       "      <td>6.0</td>\n",
       "      <td>15.0</td>\n",
       "      <td>117.0</td>\n",
       "      <td>4.0</td>\n",
       "      <td>27.0</td>\n",
       "      <td>11.0</td>\n",
       "      <td>59</td>\n",
       "      <td>NaT</td>\n",
       "      <td>Стерлитамак</td>\n",
       "      <td>Евгений</td>\n",
       "      <td>Абрамович</td>\n",
       "      <td>2018-06-17</td>\n",
       "      <td>smart</td>\n",
       "      <td>0</td>\n",
       "      <td>550</td>\n",
       "    </tr>\n",
       "    <tr>\n",
       "      <th>11</th>\n",
       "      <td>1002</td>\n",
       "      <td>7.0</td>\n",
       "      <td>26.0</td>\n",
       "      <td>214.0</td>\n",
       "      <td>11.0</td>\n",
       "      <td>44.0</td>\n",
       "      <td>18.0</td>\n",
       "      <td>59</td>\n",
       "      <td>NaT</td>\n",
       "      <td>Стерлитамак</td>\n",
       "      <td>Евгений</td>\n",
       "      <td>Абрамович</td>\n",
       "      <td>2018-06-17</td>\n",
       "      <td>smart</td>\n",
       "      <td>600</td>\n",
       "      <td>1150</td>\n",
       "    </tr>\n",
       "    <tr>\n",
       "      <th>12</th>\n",
       "      <td>1002</td>\n",
       "      <td>8.0</td>\n",
       "      <td>42.0</td>\n",
       "      <td>289.0</td>\n",
       "      <td>13.0</td>\n",
       "      <td>50.0</td>\n",
       "      <td>20.0</td>\n",
       "      <td>59</td>\n",
       "      <td>NaT</td>\n",
       "      <td>Стерлитамак</td>\n",
       "      <td>Евгений</td>\n",
       "      <td>Абрамович</td>\n",
       "      <td>2018-06-17</td>\n",
       "      <td>smart</td>\n",
       "      <td>1000</td>\n",
       "      <td>1550</td>\n",
       "    </tr>\n",
       "    <tr>\n",
       "      <th>13</th>\n",
       "      <td>1002</td>\n",
       "      <td>9.0</td>\n",
       "      <td>36.0</td>\n",
       "      <td>206.0</td>\n",
       "      <td>4.0</td>\n",
       "      <td>44.0</td>\n",
       "      <td>17.0</td>\n",
       "      <td>59</td>\n",
       "      <td>NaT</td>\n",
       "      <td>Стерлитамак</td>\n",
       "      <td>Евгений</td>\n",
       "      <td>Абрамович</td>\n",
       "      <td>2018-06-17</td>\n",
       "      <td>smart</td>\n",
       "      <td>400</td>\n",
       "      <td>950</td>\n",
       "    </tr>\n",
       "    <tr>\n",
       "      <th>14</th>\n",
       "      <td>1002</td>\n",
       "      <td>10.0</td>\n",
       "      <td>33.0</td>\n",
       "      <td>212.0</td>\n",
       "      <td>10.0</td>\n",
       "      <td>36.0</td>\n",
       "      <td>14.0</td>\n",
       "      <td>59</td>\n",
       "      <td>NaT</td>\n",
       "      <td>Стерлитамак</td>\n",
       "      <td>Евгений</td>\n",
       "      <td>Абрамович</td>\n",
       "      <td>2018-06-17</td>\n",
       "      <td>smart</td>\n",
       "      <td>0</td>\n",
       "      <td>550</td>\n",
       "    </tr>\n",
       "    <tr>\n",
       "      <th>15</th>\n",
       "      <td>1002</td>\n",
       "      <td>11.0</td>\n",
       "      <td>32.0</td>\n",
       "      <td>243.0</td>\n",
       "      <td>16.0</td>\n",
       "      <td>44.0</td>\n",
       "      <td>19.0</td>\n",
       "      <td>59</td>\n",
       "      <td>NaT</td>\n",
       "      <td>Стерлитамак</td>\n",
       "      <td>Евгений</td>\n",
       "      <td>Абрамович</td>\n",
       "      <td>2018-06-17</td>\n",
       "      <td>smart</td>\n",
       "      <td>800</td>\n",
       "      <td>1350</td>\n",
       "    </tr>\n",
       "    <tr>\n",
       "      <th>16</th>\n",
       "      <td>1002</td>\n",
       "      <td>12.0</td>\n",
       "      <td>33.0</td>\n",
       "      <td>236.0</td>\n",
       "      <td>12.0</td>\n",
       "      <td>52.0</td>\n",
       "      <td>18.0</td>\n",
       "      <td>59</td>\n",
       "      <td>NaT</td>\n",
       "      <td>Стерлитамак</td>\n",
       "      <td>Евгений</td>\n",
       "      <td>Абрамович</td>\n",
       "      <td>2018-06-17</td>\n",
       "      <td>smart</td>\n",
       "      <td>600</td>\n",
       "      <td>1150</td>\n",
       "    </tr>\n",
       "    <tr>\n",
       "      <th>17</th>\n",
       "      <td>1003</td>\n",
       "      <td>8.0</td>\n",
       "      <td>55.0</td>\n",
       "      <td>380.0</td>\n",
       "      <td>37.0</td>\n",
       "      <td>14.0</td>\n",
       "      <td>9.0</td>\n",
       "      <td>23</td>\n",
       "      <td>NaT</td>\n",
       "      <td>Москва</td>\n",
       "      <td>Белла</td>\n",
       "      <td>Белякова</td>\n",
       "      <td>2018-08-17</td>\n",
       "      <td>ultra</td>\n",
       "      <td>0</td>\n",
       "      <td>1950</td>\n",
       "    </tr>\n",
       "    <tr>\n",
       "      <th>18</th>\n",
       "      <td>1003</td>\n",
       "      <td>9.0</td>\n",
       "      <td>134.0</td>\n",
       "      <td>961.0</td>\n",
       "      <td>91.0</td>\n",
       "      <td>22.0</td>\n",
       "      <td>13.0</td>\n",
       "      <td>23</td>\n",
       "      <td>NaT</td>\n",
       "      <td>Москва</td>\n",
       "      <td>Белла</td>\n",
       "      <td>Белякова</td>\n",
       "      <td>2018-08-17</td>\n",
       "      <td>ultra</td>\n",
       "      <td>0</td>\n",
       "      <td>1950</td>\n",
       "    </tr>\n",
       "    <tr>\n",
       "      <th>19</th>\n",
       "      <td>1003</td>\n",
       "      <td>10.0</td>\n",
       "      <td>108.0</td>\n",
       "      <td>855.0</td>\n",
       "      <td>83.0</td>\n",
       "      <td>25.0</td>\n",
       "      <td>15.0</td>\n",
       "      <td>23</td>\n",
       "      <td>NaT</td>\n",
       "      <td>Москва</td>\n",
       "      <td>Белла</td>\n",
       "      <td>Белякова</td>\n",
       "      <td>2018-08-17</td>\n",
       "      <td>ultra</td>\n",
       "      <td>0</td>\n",
       "      <td>1950</td>\n",
       "    </tr>\n",
       "    <tr>\n",
       "      <th>20</th>\n",
       "      <td>1003</td>\n",
       "      <td>11.0</td>\n",
       "      <td>115.0</td>\n",
       "      <td>824.0</td>\n",
       "      <td>94.0</td>\n",
       "      <td>20.0</td>\n",
       "      <td>12.0</td>\n",
       "      <td>23</td>\n",
       "      <td>NaT</td>\n",
       "      <td>Москва</td>\n",
       "      <td>Белла</td>\n",
       "      <td>Белякова</td>\n",
       "      <td>2018-08-17</td>\n",
       "      <td>ultra</td>\n",
       "      <td>0</td>\n",
       "      <td>1950</td>\n",
       "    </tr>\n",
       "    <tr>\n",
       "      <th>21</th>\n",
       "      <td>1003</td>\n",
       "      <td>12.0</td>\n",
       "      <td>108.0</td>\n",
       "      <td>802.0</td>\n",
       "      <td>75.0</td>\n",
       "      <td>21.0</td>\n",
       "      <td>10.0</td>\n",
       "      <td>23</td>\n",
       "      <td>NaT</td>\n",
       "      <td>Москва</td>\n",
       "      <td>Белла</td>\n",
       "      <td>Белякова</td>\n",
       "      <td>2018-08-17</td>\n",
       "      <td>ultra</td>\n",
       "      <td>0</td>\n",
       "      <td>1950</td>\n",
       "    </tr>\n",
       "    <tr>\n",
       "      <th>22</th>\n",
       "      <td>1004</td>\n",
       "      <td>5.0</td>\n",
       "      <td>9.0</td>\n",
       "      <td>35.0</td>\n",
       "      <td>95.0</td>\n",
       "      <td>24.0</td>\n",
       "      <td>14.0</td>\n",
       "      <td>68</td>\n",
       "      <td>NaT</td>\n",
       "      <td>Новокузнецк</td>\n",
       "      <td>Татьяна</td>\n",
       "      <td>Авдеенко</td>\n",
       "      <td>2018-05-14</td>\n",
       "      <td>ultra</td>\n",
       "      <td>0</td>\n",
       "      <td>1950</td>\n",
       "    </tr>\n",
       "    <tr>\n",
       "      <th>23</th>\n",
       "      <td>1004</td>\n",
       "      <td>6.0</td>\n",
       "      <td>31.0</td>\n",
       "      <td>171.0</td>\n",
       "      <td>134.0</td>\n",
       "      <td>33.0</td>\n",
       "      <td>18.0</td>\n",
       "      <td>68</td>\n",
       "      <td>NaT</td>\n",
       "      <td>Новокузнецк</td>\n",
       "      <td>Татьяна</td>\n",
       "      <td>Авдеенко</td>\n",
       "      <td>2018-05-14</td>\n",
       "      <td>ultra</td>\n",
       "      <td>0</td>\n",
       "      <td>1950</td>\n",
       "    </tr>\n",
       "    <tr>\n",
       "      <th>24</th>\n",
       "      <td>1004</td>\n",
       "      <td>7.0</td>\n",
       "      <td>22.0</td>\n",
       "      <td>135.0</td>\n",
       "      <td>181.0</td>\n",
       "      <td>32.0</td>\n",
       "      <td>22.0</td>\n",
       "      <td>68</td>\n",
       "      <td>NaT</td>\n",
       "      <td>Новокузнецк</td>\n",
       "      <td>Татьяна</td>\n",
       "      <td>Авдеенко</td>\n",
       "      <td>2018-05-14</td>\n",
       "      <td>ultra</td>\n",
       "      <td>0</td>\n",
       "      <td>1950</td>\n",
       "    </tr>\n",
       "    <tr>\n",
       "      <th>25</th>\n",
       "      <td>1004</td>\n",
       "      <td>8.0</td>\n",
       "      <td>19.0</td>\n",
       "      <td>137.0</td>\n",
       "      <td>151.0</td>\n",
       "      <td>50.0</td>\n",
       "      <td>28.0</td>\n",
       "      <td>68</td>\n",
       "      <td>NaT</td>\n",
       "      <td>Новокузнецк</td>\n",
       "      <td>Татьяна</td>\n",
       "      <td>Авдеенко</td>\n",
       "      <td>2018-05-14</td>\n",
       "      <td>ultra</td>\n",
       "      <td>0</td>\n",
       "      <td>1950</td>\n",
       "    </tr>\n",
       "    <tr>\n",
       "      <th>26</th>\n",
       "      <td>1004</td>\n",
       "      <td>9.0</td>\n",
       "      <td>26.0</td>\n",
       "      <td>117.0</td>\n",
       "      <td>146.0</td>\n",
       "      <td>32.0</td>\n",
       "      <td>15.0</td>\n",
       "      <td>68</td>\n",
       "      <td>NaT</td>\n",
       "      <td>Новокузнецк</td>\n",
       "      <td>Татьяна</td>\n",
       "      <td>Авдеенко</td>\n",
       "      <td>2018-05-14</td>\n",
       "      <td>ultra</td>\n",
       "      <td>0</td>\n",
       "      <td>1950</td>\n",
       "    </tr>\n",
       "    <tr>\n",
       "      <th>27</th>\n",
       "      <td>1004</td>\n",
       "      <td>10.0</td>\n",
       "      <td>29.0</td>\n",
       "      <td>145.0</td>\n",
       "      <td>165.0</td>\n",
       "      <td>37.0</td>\n",
       "      <td>19.0</td>\n",
       "      <td>68</td>\n",
       "      <td>NaT</td>\n",
       "      <td>Новокузнецк</td>\n",
       "      <td>Татьяна</td>\n",
       "      <td>Авдеенко</td>\n",
       "      <td>2018-05-14</td>\n",
       "      <td>ultra</td>\n",
       "      <td>0</td>\n",
       "      <td>1950</td>\n",
       "    </tr>\n",
       "    <tr>\n",
       "      <th>28</th>\n",
       "      <td>1004</td>\n",
       "      <td>11.0</td>\n",
       "      <td>19.0</td>\n",
       "      <td>117.0</td>\n",
       "      <td>158.0</td>\n",
       "      <td>33.0</td>\n",
       "      <td>16.0</td>\n",
       "      <td>68</td>\n",
       "      <td>NaT</td>\n",
       "      <td>Новокузнецк</td>\n",
       "      <td>Татьяна</td>\n",
       "      <td>Авдеенко</td>\n",
       "      <td>2018-05-14</td>\n",
       "      <td>ultra</td>\n",
       "      <td>0</td>\n",
       "      <td>1950</td>\n",
       "    </tr>\n",
       "    <tr>\n",
       "      <th>29</th>\n",
       "      <td>1004</td>\n",
       "      <td>12.0</td>\n",
       "      <td>21.0</td>\n",
       "      <td>130.0</td>\n",
       "      <td>162.0</td>\n",
       "      <td>37.0</td>\n",
       "      <td>18.0</td>\n",
       "      <td>68</td>\n",
       "      <td>NaT</td>\n",
       "      <td>Новокузнецк</td>\n",
       "      <td>Татьяна</td>\n",
       "      <td>Авдеенко</td>\n",
       "      <td>2018-05-14</td>\n",
       "      <td>ultra</td>\n",
       "      <td>0</td>\n",
       "      <td>1950</td>\n",
       "    </tr>\n",
       "    <tr>\n",
       "      <th>30</th>\n",
       "      <td>1005</td>\n",
       "      <td>1.0</td>\n",
       "      <td>15.0</td>\n",
       "      <td>95.0</td>\n",
       "      <td>7.0</td>\n",
       "      <td>6.0</td>\n",
       "      <td>3.0</td>\n",
       "      <td>67</td>\n",
       "      <td>NaT</td>\n",
       "      <td>Набережные Челны</td>\n",
       "      <td>Афанасий</td>\n",
       "      <td>Горлов</td>\n",
       "      <td>2018-01-25</td>\n",
       "      <td>smart</td>\n",
       "      <td>0</td>\n",
       "      <td>550</td>\n",
       "    </tr>\n",
       "    <tr>\n",
       "      <th>31</th>\n",
       "      <td>1005</td>\n",
       "      <td>2.0</td>\n",
       "      <td>69.0</td>\n",
       "      <td>456.0</td>\n",
       "      <td>38.0</td>\n",
       "      <td>22.0</td>\n",
       "      <td>8.0</td>\n",
       "      <td>67</td>\n",
       "      <td>NaT</td>\n",
       "      <td>Набережные Челны</td>\n",
       "      <td>Афанасий</td>\n",
       "      <td>Горлов</td>\n",
       "      <td>2018-01-25</td>\n",
       "      <td>smart</td>\n",
       "      <td>0</td>\n",
       "      <td>550</td>\n",
       "    </tr>\n",
       "    <tr>\n",
       "      <th>32</th>\n",
       "      <td>1005</td>\n",
       "      <td>3.0</td>\n",
       "      <td>77.0</td>\n",
       "      <td>606.0</td>\n",
       "      <td>56.0</td>\n",
       "      <td>25.0</td>\n",
       "      <td>11.0</td>\n",
       "      <td>67</td>\n",
       "      <td>NaT</td>\n",
       "      <td>Набережные Челны</td>\n",
       "      <td>Афанасий</td>\n",
       "      <td>Горлов</td>\n",
       "      <td>2018-01-25</td>\n",
       "      <td>smart</td>\n",
       "      <td>336</td>\n",
       "      <td>886</td>\n",
       "    </tr>\n",
       "    <tr>\n",
       "      <th>33</th>\n",
       "      <td>1005</td>\n",
       "      <td>4.0</td>\n",
       "      <td>101.0</td>\n",
       "      <td>712.0</td>\n",
       "      <td>41.0</td>\n",
       "      <td>24.0</td>\n",
       "      <td>10.0</td>\n",
       "      <td>67</td>\n",
       "      <td>NaT</td>\n",
       "      <td>Набережные Челны</td>\n",
       "      <td>Афанасий</td>\n",
       "      <td>Горлов</td>\n",
       "      <td>2018-01-25</td>\n",
       "      <td>smart</td>\n",
       "      <td>636</td>\n",
       "      <td>1186</td>\n",
       "    </tr>\n",
       "    <tr>\n",
       "      <th>34</th>\n",
       "      <td>1005</td>\n",
       "      <td>5.0</td>\n",
       "      <td>73.0</td>\n",
       "      <td>595.0</td>\n",
       "      <td>42.0</td>\n",
       "      <td>20.0</td>\n",
       "      <td>8.0</td>\n",
       "      <td>67</td>\n",
       "      <td>NaT</td>\n",
       "      <td>Набережные Челны</td>\n",
       "      <td>Афанасий</td>\n",
       "      <td>Горлов</td>\n",
       "      <td>2018-01-25</td>\n",
       "      <td>smart</td>\n",
       "      <td>285</td>\n",
       "      <td>835</td>\n",
       "    </tr>\n",
       "    <tr>\n",
       "      <th>35</th>\n",
       "      <td>1005</td>\n",
       "      <td>6.0</td>\n",
       "      <td>80.0</td>\n",
       "      <td>612.0</td>\n",
       "      <td>47.0</td>\n",
       "      <td>24.0</td>\n",
       "      <td>10.0</td>\n",
       "      <td>67</td>\n",
       "      <td>NaT</td>\n",
       "      <td>Набережные Челны</td>\n",
       "      <td>Афанасий</td>\n",
       "      <td>Горлов</td>\n",
       "      <td>2018-01-25</td>\n",
       "      <td>smart</td>\n",
       "      <td>336</td>\n",
       "      <td>886</td>\n",
       "    </tr>\n",
       "    <tr>\n",
       "      <th>36</th>\n",
       "      <td>1005</td>\n",
       "      <td>7.0</td>\n",
       "      <td>77.0</td>\n",
       "      <td>569.0</td>\n",
       "      <td>56.0</td>\n",
       "      <td>19.0</td>\n",
       "      <td>8.0</td>\n",
       "      <td>67</td>\n",
       "      <td>NaT</td>\n",
       "      <td>Набережные Челны</td>\n",
       "      <td>Афанасий</td>\n",
       "      <td>Горлов</td>\n",
       "      <td>2018-01-25</td>\n",
       "      <td>smart</td>\n",
       "      <td>225</td>\n",
       "      <td>775</td>\n",
       "    </tr>\n",
       "    <tr>\n",
       "      <th>37</th>\n",
       "      <td>1005</td>\n",
       "      <td>8.0</td>\n",
       "      <td>71.0</td>\n",
       "      <td>619.0</td>\n",
       "      <td>64.0</td>\n",
       "      <td>19.0</td>\n",
       "      <td>8.0</td>\n",
       "      <td>67</td>\n",
       "      <td>NaT</td>\n",
       "      <td>Набережные Челны</td>\n",
       "      <td>Афанасий</td>\n",
       "      <td>Горлов</td>\n",
       "      <td>2018-01-25</td>\n",
       "      <td>smart</td>\n",
       "      <td>399</td>\n",
       "      <td>949</td>\n",
       "    </tr>\n",
       "    <tr>\n",
       "      <th>38</th>\n",
       "      <td>1005</td>\n",
       "      <td>9.0</td>\n",
       "      <td>66.0</td>\n",
       "      <td>479.0</td>\n",
       "      <td>52.0</td>\n",
       "      <td>21.0</td>\n",
       "      <td>7.0</td>\n",
       "      <td>67</td>\n",
       "      <td>NaT</td>\n",
       "      <td>Набережные Челны</td>\n",
       "      <td>Афанасий</td>\n",
       "      <td>Горлов</td>\n",
       "      <td>2018-01-25</td>\n",
       "      <td>smart</td>\n",
       "      <td>6</td>\n",
       "      <td>556</td>\n",
       "    </tr>\n",
       "    <tr>\n",
       "      <th>39</th>\n",
       "      <td>1005</td>\n",
       "      <td>10.0</td>\n",
       "      <td>100.0</td>\n",
       "      <td>723.0</td>\n",
       "      <td>44.0</td>\n",
       "      <td>19.0</td>\n",
       "      <td>8.0</td>\n",
       "      <td>67</td>\n",
       "      <td>NaT</td>\n",
       "      <td>Набережные Челны</td>\n",
       "      <td>Афанасий</td>\n",
       "      <td>Горлов</td>\n",
       "      <td>2018-01-25</td>\n",
       "      <td>smart</td>\n",
       "      <td>669</td>\n",
       "      <td>1219</td>\n",
       "    </tr>\n",
       "    <tr>\n",
       "      <th>40</th>\n",
       "      <td>1005</td>\n",
       "      <td>11.0</td>\n",
       "      <td>75.0</td>\n",
       "      <td>547.0</td>\n",
       "      <td>51.0</td>\n",
       "      <td>28.0</td>\n",
       "      <td>13.0</td>\n",
       "      <td>67</td>\n",
       "      <td>NaT</td>\n",
       "      <td>Набережные Челны</td>\n",
       "      <td>Афанасий</td>\n",
       "      <td>Горлов</td>\n",
       "      <td>2018-01-25</td>\n",
       "      <td>smart</td>\n",
       "      <td>144</td>\n",
       "      <td>694</td>\n",
       "    </tr>\n",
       "    <tr>\n",
       "      <th>41</th>\n",
       "      <td>1005</td>\n",
       "      <td>12.0</td>\n",
       "      <td>84.0</td>\n",
       "      <td>592.0</td>\n",
       "      <td>54.0</td>\n",
       "      <td>24.0</td>\n",
       "      <td>9.0</td>\n",
       "      <td>67</td>\n",
       "      <td>NaT</td>\n",
       "      <td>Набережные Челны</td>\n",
       "      <td>Афанасий</td>\n",
       "      <td>Горлов</td>\n",
       "      <td>2018-01-25</td>\n",
       "      <td>smart</td>\n",
       "      <td>288</td>\n",
       "      <td>838</td>\n",
       "    </tr>\n",
       "    <tr>\n",
       "      <th>42</th>\n",
       "      <td>1006</td>\n",
       "      <td>2.0</td>\n",
       "      <td>3.0</td>\n",
       "      <td>42.0</td>\n",
       "      <td>0.0</td>\n",
       "      <td>4.0</td>\n",
       "      <td>2.0</td>\n",
       "      <td>21</td>\n",
       "      <td>NaT</td>\n",
       "      <td>Ульяновск</td>\n",
       "      <td>Леонид</td>\n",
       "      <td>Ермолаев</td>\n",
       "      <td>2018-02-26</td>\n",
       "      <td>smart</td>\n",
       "      <td>0</td>\n",
       "      <td>550</td>\n",
       "    </tr>\n",
       "    <tr>\n",
       "      <th>43</th>\n",
       "      <td>1006</td>\n",
       "      <td>3.0</td>\n",
       "      <td>46.0</td>\n",
       "      <td>286.0</td>\n",
       "      <td>0.0</td>\n",
       "      <td>43.0</td>\n",
       "      <td>17.0</td>\n",
       "      <td>21</td>\n",
       "      <td>NaT</td>\n",
       "      <td>Ульяновск</td>\n",
       "      <td>Леонид</td>\n",
       "      <td>Ермолаев</td>\n",
       "      <td>2018-02-26</td>\n",
       "      <td>smart</td>\n",
       "      <td>400</td>\n",
       "      <td>950</td>\n",
       "    </tr>\n",
       "    <tr>\n",
       "      <th>44</th>\n",
       "      <td>1006</td>\n",
       "      <td>4.0</td>\n",
       "      <td>47.0</td>\n",
       "      <td>356.0</td>\n",
       "      <td>0.0</td>\n",
       "      <td>33.0</td>\n",
       "      <td>14.0</td>\n",
       "      <td>21</td>\n",
       "      <td>NaT</td>\n",
       "      <td>Ульяновск</td>\n",
       "      <td>Леонид</td>\n",
       "      <td>Ермолаев</td>\n",
       "      <td>2018-02-26</td>\n",
       "      <td>smart</td>\n",
       "      <td>0</td>\n",
       "      <td>550</td>\n",
       "    </tr>\n",
       "    <tr>\n",
       "      <th>45</th>\n",
       "      <td>1006</td>\n",
       "      <td>5.0</td>\n",
       "      <td>56.0</td>\n",
       "      <td>370.0</td>\n",
       "      <td>0.0</td>\n",
       "      <td>38.0</td>\n",
       "      <td>13.0</td>\n",
       "      <td>21</td>\n",
       "      <td>NaT</td>\n",
       "      <td>Ульяновск</td>\n",
       "      <td>Леонид</td>\n",
       "      <td>Ермолаев</td>\n",
       "      <td>2018-02-26</td>\n",
       "      <td>smart</td>\n",
       "      <td>0</td>\n",
       "      <td>550</td>\n",
       "    </tr>\n",
       "    <tr>\n",
       "      <th>46</th>\n",
       "      <td>1006</td>\n",
       "      <td>6.0</td>\n",
       "      <td>53.0</td>\n",
       "      <td>478.0</td>\n",
       "      <td>0.0</td>\n",
       "      <td>34.0</td>\n",
       "      <td>13.0</td>\n",
       "      <td>21</td>\n",
       "      <td>NaT</td>\n",
       "      <td>Ульяновск</td>\n",
       "      <td>Леонид</td>\n",
       "      <td>Ермолаев</td>\n",
       "      <td>2018-02-26</td>\n",
       "      <td>smart</td>\n",
       "      <td>0</td>\n",
       "      <td>550</td>\n",
       "    </tr>\n",
       "    <tr>\n",
       "      <th>47</th>\n",
       "      <td>1006</td>\n",
       "      <td>7.0</td>\n",
       "      <td>49.0</td>\n",
       "      <td>316.0</td>\n",
       "      <td>0.0</td>\n",
       "      <td>50.0</td>\n",
       "      <td>20.0</td>\n",
       "      <td>21</td>\n",
       "      <td>NaT</td>\n",
       "      <td>Ульяновск</td>\n",
       "      <td>Леонид</td>\n",
       "      <td>Ермолаев</td>\n",
       "      <td>2018-02-26</td>\n",
       "      <td>smart</td>\n",
       "      <td>1000</td>\n",
       "      <td>1550</td>\n",
       "    </tr>\n",
       "    <tr>\n",
       "      <th>48</th>\n",
       "      <td>1006</td>\n",
       "      <td>8.0</td>\n",
       "      <td>42.0</td>\n",
       "      <td>275.0</td>\n",
       "      <td>0.0</td>\n",
       "      <td>45.0</td>\n",
       "      <td>19.0</td>\n",
       "      <td>21</td>\n",
       "      <td>NaT</td>\n",
       "      <td>Ульяновск</td>\n",
       "      <td>Леонид</td>\n",
       "      <td>Ермолаев</td>\n",
       "      <td>2018-02-26</td>\n",
       "      <td>smart</td>\n",
       "      <td>800</td>\n",
       "      <td>1350</td>\n",
       "    </tr>\n",
       "    <tr>\n",
       "      <th>49</th>\n",
       "      <td>1006</td>\n",
       "      <td>9.0</td>\n",
       "      <td>54.0</td>\n",
       "      <td>360.0</td>\n",
       "      <td>0.0</td>\n",
       "      <td>39.0</td>\n",
       "      <td>16.0</td>\n",
       "      <td>21</td>\n",
       "      <td>NaT</td>\n",
       "      <td>Ульяновск</td>\n",
       "      <td>Леонид</td>\n",
       "      <td>Ермолаев</td>\n",
       "      <td>2018-02-26</td>\n",
       "      <td>smart</td>\n",
       "      <td>200</td>\n",
       "      <td>750</td>\n",
       "    </tr>\n",
       "  </tbody>\n",
       "</table>\n",
       "</div>"
      ],
      "text/plain": [
       "    user_id  month  calls_count  calls_sum  messages_count  internet_count  \\\n",
       "0      1000    5.0         22.0      159.0            22.0             4.0   \n",
       "1      1000    6.0         43.0      172.0            60.0            44.0   \n",
       "2      1000    7.0         47.0      340.0            75.0            28.0   \n",
       "3      1000    8.0         52.0      408.0            81.0            27.0   \n",
       "4      1000    9.0         58.0      466.0            57.0            25.0   \n",
       "5      1000   10.0         57.0      350.0            73.0            27.0   \n",
       "6      1000   11.0         43.0      338.0            58.0            23.0   \n",
       "7      1000   12.0         46.0      333.0            70.0            19.0   \n",
       "8      1001   11.0         59.0      430.0             0.0            47.0   \n",
       "9      1001   12.0         63.0      414.0             0.0            35.0   \n",
       "10     1002    6.0         15.0      117.0             4.0            27.0   \n",
       "11     1002    7.0         26.0      214.0            11.0            44.0   \n",
       "12     1002    8.0         42.0      289.0            13.0            50.0   \n",
       "13     1002    9.0         36.0      206.0             4.0            44.0   \n",
       "14     1002   10.0         33.0      212.0            10.0            36.0   \n",
       "15     1002   11.0         32.0      243.0            16.0            44.0   \n",
       "16     1002   12.0         33.0      236.0            12.0            52.0   \n",
       "17     1003    8.0         55.0      380.0            37.0            14.0   \n",
       "18     1003    9.0        134.0      961.0            91.0            22.0   \n",
       "19     1003   10.0        108.0      855.0            83.0            25.0   \n",
       "20     1003   11.0        115.0      824.0            94.0            20.0   \n",
       "21     1003   12.0        108.0      802.0            75.0            21.0   \n",
       "22     1004    5.0          9.0       35.0            95.0            24.0   \n",
       "23     1004    6.0         31.0      171.0           134.0            33.0   \n",
       "24     1004    7.0         22.0      135.0           181.0            32.0   \n",
       "25     1004    8.0         19.0      137.0           151.0            50.0   \n",
       "26     1004    9.0         26.0      117.0           146.0            32.0   \n",
       "27     1004   10.0         29.0      145.0           165.0            37.0   \n",
       "28     1004   11.0         19.0      117.0           158.0            33.0   \n",
       "29     1004   12.0         21.0      130.0           162.0            37.0   \n",
       "30     1005    1.0         15.0       95.0             7.0             6.0   \n",
       "31     1005    2.0         69.0      456.0            38.0            22.0   \n",
       "32     1005    3.0         77.0      606.0            56.0            25.0   \n",
       "33     1005    4.0        101.0      712.0            41.0            24.0   \n",
       "34     1005    5.0         73.0      595.0            42.0            20.0   \n",
       "35     1005    6.0         80.0      612.0            47.0            24.0   \n",
       "36     1005    7.0         77.0      569.0            56.0            19.0   \n",
       "37     1005    8.0         71.0      619.0            64.0            19.0   \n",
       "38     1005    9.0         66.0      479.0            52.0            21.0   \n",
       "39     1005   10.0        100.0      723.0            44.0            19.0   \n",
       "40     1005   11.0         75.0      547.0            51.0            28.0   \n",
       "41     1005   12.0         84.0      592.0            54.0            24.0   \n",
       "42     1006    2.0          3.0       42.0             0.0             4.0   \n",
       "43     1006    3.0         46.0      286.0             0.0            43.0   \n",
       "44     1006    4.0         47.0      356.0             0.0            33.0   \n",
       "45     1006    5.0         56.0      370.0             0.0            38.0   \n",
       "46     1006    6.0         53.0      478.0             0.0            34.0   \n",
       "47     1006    7.0         49.0      316.0             0.0            50.0   \n",
       "48     1006    8.0         42.0      275.0             0.0            45.0   \n",
       "49     1006    9.0         54.0      360.0             0.0            39.0   \n",
       "\n",
       "    internet_sum  age churn_date              city first_name  last_name  \\\n",
       "0            3.0   52        NaT         Краснодар     Рафаил  Верещагин   \n",
       "1           23.0   52        NaT         Краснодар     Рафаил  Верещагин   \n",
       "2           14.0   52        NaT         Краснодар     Рафаил  Верещагин   \n",
       "3           14.0   52        NaT         Краснодар     Рафаил  Верещагин   \n",
       "4           15.0   52        NaT         Краснодар     Рафаил  Верещагин   \n",
       "5           15.0   52        NaT         Краснодар     Рафаил  Верещагин   \n",
       "6           15.0   52        NaT         Краснодар     Рафаил  Верещагин   \n",
       "7           10.0   52        NaT         Краснодар     Рафаил  Верещагин   \n",
       "8           18.0   41        NaT            Москва       Иван       Ежов   \n",
       "9           14.0   41        NaT            Москва       Иван       Ежов   \n",
       "10          11.0   59        NaT       Стерлитамак    Евгений  Абрамович   \n",
       "11          18.0   59        NaT       Стерлитамак    Евгений  Абрамович   \n",
       "12          20.0   59        NaT       Стерлитамак    Евгений  Абрамович   \n",
       "13          17.0   59        NaT       Стерлитамак    Евгений  Абрамович   \n",
       "14          14.0   59        NaT       Стерлитамак    Евгений  Абрамович   \n",
       "15          19.0   59        NaT       Стерлитамак    Евгений  Абрамович   \n",
       "16          18.0   59        NaT       Стерлитамак    Евгений  Абрамович   \n",
       "17           9.0   23        NaT            Москва      Белла   Белякова   \n",
       "18          13.0   23        NaT            Москва      Белла   Белякова   \n",
       "19          15.0   23        NaT            Москва      Белла   Белякова   \n",
       "20          12.0   23        NaT            Москва      Белла   Белякова   \n",
       "21          10.0   23        NaT            Москва      Белла   Белякова   \n",
       "22          14.0   68        NaT       Новокузнецк    Татьяна   Авдеенко   \n",
       "23          18.0   68        NaT       Новокузнецк    Татьяна   Авдеенко   \n",
       "24          22.0   68        NaT       Новокузнецк    Татьяна   Авдеенко   \n",
       "25          28.0   68        NaT       Новокузнецк    Татьяна   Авдеенко   \n",
       "26          15.0   68        NaT       Новокузнецк    Татьяна   Авдеенко   \n",
       "27          19.0   68        NaT       Новокузнецк    Татьяна   Авдеенко   \n",
       "28          16.0   68        NaT       Новокузнецк    Татьяна   Авдеенко   \n",
       "29          18.0   68        NaT       Новокузнецк    Татьяна   Авдеенко   \n",
       "30           3.0   67        NaT  Набережные Челны   Афанасий     Горлов   \n",
       "31           8.0   67        NaT  Набережные Челны   Афанасий     Горлов   \n",
       "32          11.0   67        NaT  Набережные Челны   Афанасий     Горлов   \n",
       "33          10.0   67        NaT  Набережные Челны   Афанасий     Горлов   \n",
       "34           8.0   67        NaT  Набережные Челны   Афанасий     Горлов   \n",
       "35          10.0   67        NaT  Набережные Челны   Афанасий     Горлов   \n",
       "36           8.0   67        NaT  Набережные Челны   Афанасий     Горлов   \n",
       "37           8.0   67        NaT  Набережные Челны   Афанасий     Горлов   \n",
       "38           7.0   67        NaT  Набережные Челны   Афанасий     Горлов   \n",
       "39           8.0   67        NaT  Набережные Челны   Афанасий     Горлов   \n",
       "40          13.0   67        NaT  Набережные Челны   Афанасий     Горлов   \n",
       "41           9.0   67        NaT  Набережные Челны   Афанасий     Горлов   \n",
       "42           2.0   21        NaT         Ульяновск     Леонид   Ермолаев   \n",
       "43          17.0   21        NaT         Ульяновск     Леонид   Ермолаев   \n",
       "44          14.0   21        NaT         Ульяновск     Леонид   Ермолаев   \n",
       "45          13.0   21        NaT         Ульяновск     Леонид   Ермолаев   \n",
       "46          13.0   21        NaT         Ульяновск     Леонид   Ермолаев   \n",
       "47          20.0   21        NaT         Ульяновск     Леонид   Ермолаев   \n",
       "48          19.0   21        NaT         Ульяновск     Леонид   Ермолаев   \n",
       "49          16.0   21        NaT         Ульяновск     Леонид   Ермолаев   \n",
       "\n",
       "     reg_date tariff  tariff_expenses  pay_info  \n",
       "0  2018-05-25  ultra                0      1950  \n",
       "1  2018-05-25  ultra                0      1950  \n",
       "2  2018-05-25  ultra                0      1950  \n",
       "3  2018-05-25  ultra                0      1950  \n",
       "4  2018-05-25  ultra                0      1950  \n",
       "5  2018-05-25  ultra                0      1950  \n",
       "6  2018-05-25  ultra                0      1950  \n",
       "7  2018-05-25  ultra                0      1950  \n",
       "8  2018-11-01  smart              600      1150  \n",
       "9  2018-11-01  smart                0       550  \n",
       "10 2018-06-17  smart                0       550  \n",
       "11 2018-06-17  smart              600      1150  \n",
       "12 2018-06-17  smart             1000      1550  \n",
       "13 2018-06-17  smart              400       950  \n",
       "14 2018-06-17  smart                0       550  \n",
       "15 2018-06-17  smart              800      1350  \n",
       "16 2018-06-17  smart              600      1150  \n",
       "17 2018-08-17  ultra                0      1950  \n",
       "18 2018-08-17  ultra                0      1950  \n",
       "19 2018-08-17  ultra                0      1950  \n",
       "20 2018-08-17  ultra                0      1950  \n",
       "21 2018-08-17  ultra                0      1950  \n",
       "22 2018-05-14  ultra                0      1950  \n",
       "23 2018-05-14  ultra                0      1950  \n",
       "24 2018-05-14  ultra                0      1950  \n",
       "25 2018-05-14  ultra                0      1950  \n",
       "26 2018-05-14  ultra                0      1950  \n",
       "27 2018-05-14  ultra                0      1950  \n",
       "28 2018-05-14  ultra                0      1950  \n",
       "29 2018-05-14  ultra                0      1950  \n",
       "30 2018-01-25  smart                0       550  \n",
       "31 2018-01-25  smart                0       550  \n",
       "32 2018-01-25  smart              336       886  \n",
       "33 2018-01-25  smart              636      1186  \n",
       "34 2018-01-25  smart              285       835  \n",
       "35 2018-01-25  smart              336       886  \n",
       "36 2018-01-25  smart              225       775  \n",
       "37 2018-01-25  smart              399       949  \n",
       "38 2018-01-25  smart                6       556  \n",
       "39 2018-01-25  smart              669      1219  \n",
       "40 2018-01-25  smart              144       694  \n",
       "41 2018-01-25  smart              288       838  \n",
       "42 2018-02-26  smart                0       550  \n",
       "43 2018-02-26  smart              400       950  \n",
       "44 2018-02-26  smart                0       550  \n",
       "45 2018-02-26  smart                0       550  \n",
       "46 2018-02-26  smart                0       550  \n",
       "47 2018-02-26  smart             1000      1550  \n",
       "48 2018-02-26  smart              800      1350  \n",
       "49 2018-02-26  smart              200       750  "
      ]
     },
     "execution_count": 39,
     "metadata": {},
     "output_type": "execute_result"
    }
   ],
   "source": [
    "proceeds_data['pay_info'] =proceeds_data.apply(pay_info, axis =1)\n",
    "proceeds_data['pay_info'] = proceeds_data['pay_info'].astype(int)\n",
    "proceeds_data.head(50)"
   ]
  },
  {
   "cell_type": "markdown",
   "id": "2c21c013",
   "metadata": {},
   "source": [
    "<font color='DarkBlue'><b>Комментарий ревьюера 2</b></font><br>\n",
    "<font color='DarkGreen'>👌 Хорошо! Прописали расчет выручки. Только можно было все в одну колонку собрать.</font>"
   ]
  },
  {
   "cell_type": "markdown",
   "id": "3990d5cd",
   "metadata": {},
   "source": [
    "### Визуализация данных свобной таблицы <a class=\"anchor\" id=\"sixth-bullet\"></a>"
   ]
  },
  {
   "cell_type": "code",
   "execution_count": 40,
   "id": "681416eb",
   "metadata": {},
   "outputs": [
    {
     "data": {
      "image/png": "[encoded data removed]",
      "text/plain": [
       "<Figure size 432x288 with 1 Axes>"
      ]
     },
     "metadata": {
      "needs_background": "light"
     },
     "output_type": "display_data"
    }
   ],
   "source": [
    "sns.boxplot (x = 'tariff', y = 'calls_sum', \n",
    "             data = proceeds_data, \n",
    "             width = 0.8, \n",
    "             palette=\"Set3\")\n",
    "\n",
    "plt.title('Диаграмма размаха для продолжительности звонков')\n",
    "plt.show()"
   ]
  },
  {
   "cell_type": "markdown",
   "id": "fda91c5c",
   "metadata": {},
   "source": [
    "* Медианное значение продолжительности звонков для пользователей тарифа \"Ultra\" составляет 550 минут, для пользователей тарифа \"Smart\" - 400 минут.\n",
    "* Большинство звонков укладываются по продолжительности в допустимое количество минут, особенно для пользователей тарифа \"Ultra\", небольшая доля пользователей тарифа \"Smart\" превышает допустимое количество минут в месяц."
   ]
  },
  {
   "cell_type": "code",
   "execution_count": 41,
   "id": "28624fe5",
   "metadata": {},
   "outputs": [
    {
     "data": {
      "image/png": "[encoded data removed]",
      "text/plain": [
       "<Figure size 432x288 with 1 Axes>"
      ]
     },
     "metadata": {
      "needs_background": "light"
     },
     "output_type": "display_data"
    }
   ],
   "source": [
    "sns.boxplot (x = 'month', y = 'calls_sum', hue = 'tariff', \n",
    "             data = proceeds_data, \n",
    "             width = 0.8, \n",
    "             palette=\"Set3\")\n",
    "\n",
    "\n",
    "\n",
    "plt.show()"
   ]
  },
  {
   "cell_type": "markdown",
   "id": "3daf7971",
   "metadata": {},
   "source": [
    "* Диаграммы размаха по месяцам позволяют сделать вывод что пользователи тарифа \"Ultra\" преимущественно укладываются в допустимое количество минут в месяц.\n",
    "* Большинство звонков пользователей тарифа \"Ultra\" не превышает по продолжительности 750 минут в месяц из допустимых 1000.\n",
    "* Пользователи тарифа \"Smart\" в основном стараются не превышать допустимое значений 500 минут в месяц, при этом, расходование минут в месяц получается стремящимся к максимально допустимому значению.\n",
    "* Для пользователей тарифа \"Smart\" есть заметно более активные месяцы, в которые для части пользователей превышение происходит, например, в декабре 2018 года. При этом, в январе, наоборот, заметно снижена была разговорная активность пользователей тарифа.     "
   ]
  },
  {
   "cell_type": "code",
   "execution_count": 42,
   "id": "1d9417df",
   "metadata": {},
   "outputs": [
    {
     "data": {
      "image/png": "[encoded data removed]",
      "text/plain": [
       "<Figure size 432x288 with 1 Axes>"
      ]
     },
     "metadata": {
      "needs_background": "light"
     },
     "output_type": "display_data"
    }
   ],
   "source": [
    "sns.boxplot (x = 'tariff', y = 'messages_count', \n",
    "             data = proceeds_data, \n",
    "             width = 0.8, \n",
    "             palette=\"Set2\")\n",
    "\n",
    "plt.title('Диаграмма размаха для количества сообщений')\n",
    "plt.show()"
   ]
  },
  {
   "cell_type": "markdown",
   "id": "97aa871d",
   "metadata": {},
   "source": [
    "Медианное значение количества сообщений для пользователей тарифа \"Ultra\" составляет 50, для пользователей тарифа \"Smart\" - 30.\n",
    "Большинство сообщений укладываются по количеству в допустимое, особенно для пользователей тарифа \"Ultra\", небольшая доля пользователей тарифа \"Smart\" превышает допустимое количество сообщений в месяц."
   ]
  },
  {
   "cell_type": "code",
   "execution_count": 43,
   "id": "128f7b68",
   "metadata": {},
   "outputs": [
    {
     "data": {
      "image/png": "[encoded data removed]",
      "text/plain": [
       "<Figure size 432x288 with 1 Axes>"
      ]
     },
     "metadata": {
      "needs_background": "light"
     },
     "output_type": "display_data"
    }
   ],
   "source": [
    "sns.boxplot (x = 'month', y = 'messages_count', hue = 'tariff', \n",
    "             data = proceeds_data, \n",
    "             width = 0.8, \n",
    "             palette=\"Set2\")\n",
    "\n",
    "plt.title('Диаграмма размаха для количества сообщений по месяцам')\n",
    "plt.show()"
   ]
  },
  {
   "cell_type": "markdown",
   "id": "c641a9b2",
   "metadata": {},
   "source": [
    "* Диаграммы размаха по месяцам позволяют сделать вывод что пользователи тарифа \"Ultra\" преимущественно укладываются в допустимое количество сообщений в месяц.\n",
    "* Пользователь тарифа \"Smart\" также преимущественно не превышают допустимое количество сообщений в месяц.\n",
    "* Медианные значения для тарифа \"Smart\" составляют для большинства месяцев 25 при допустимых 50, для тарифа \"Ultra\"- 50 при допустимых 100."
   ]
  },
  {
   "cell_type": "code",
   "execution_count": 44,
   "id": "284e9574",
   "metadata": {},
   "outputs": [
    {
     "data": {
      "image/png": "[encoded data removed]",
      "text/plain": [
       "<Figure size 432x288 with 1 Axes>"
      ]
     },
     "metadata": {
      "needs_background": "light"
     },
     "output_type": "display_data"
    }
   ],
   "source": [
    "sns.boxplot (x = 'tariff', y = 'internet_sum', \n",
    "             data = proceeds_data, \n",
    "             width = 0.8, \n",
    "             palette=\"Set1\")\n",
    "\n",
    "plt.title('Диаграмма размаха значений интернет-траффика')\n",
    "plt.show()"
   ]
  },
  {
   "cell_type": "markdown",
   "id": "9eee1d67",
   "metadata": {},
   "source": [
    "* Медианное значение интернет-траффика для пользователей тарифа \"Ultra\" составляет 18 Гб, для пользователей тарифа \"Smart\" - 15 Гб.\n",
    "* Большинство сессий укладываются по объему траффика в допустимое количество для пользователей тарифа \"Ultra\".\n",
    "* Пользователи тарифа \"Smart\" преимущественно расходуют большее количество трафика, чем допустимо по тарифу в месяц. \n",
    "* Наибольшее влияние на добавочную стоимость по тарифу \"Smart\" оказывает превышение расхода интернет-трафика сверх установленного лимита 15 Гб."
   ]
  },
  {
   "cell_type": "code",
   "execution_count": 45,
   "id": "06a6824a",
   "metadata": {},
   "outputs": [
    {
     "data": {
      "image/png": "[encoded data removed]",
      "text/plain": [
       "<Figure size 432x288 with 1 Axes>"
      ]
     },
     "metadata": {
      "needs_background": "light"
     },
     "output_type": "display_data"
    }
   ],
   "source": [
    "sns.boxplot (x = 'month', y = 'internet_sum', hue = 'tariff', \n",
    "             data = proceeds_data, \n",
    "             width = 0.8, \n",
    "             palette=\"Set1\")\n",
    "\n",
    "plt.title('Диаграмма размаха значений интернет-траффика по месяцам')\n",
    "plt.show()"
   ]
  },
  {
   "cell_type": "markdown",
   "id": "c39293a8",
   "metadata": {},
   "source": [
    "* Диаграммы размаха по месяцам позволяют сделать вывод что пользователи тарифа \"Ultra\" преимущественно укладываются в допустимое количество Гб в месяц.\n",
    "* Медианные значения для тарифа \"Smart\" составляют для большинства месяцев 15  Гб при допустимых 15, для тарифа \"Ultra\"- 18 Гб при допустимых 30."
   ]
  },
  {
   "cell_type": "code",
   "execution_count": 46,
   "id": "1e0db52a",
   "metadata": {},
   "outputs": [
    {
     "data": {
      "image/png": "[encoded data removed]",
      "text/plain": [
       "<Figure size 432x288 with 1 Axes>"
      ]
     },
     "metadata": {
      "needs_background": "light"
     },
     "output_type": "display_data"
    }
   ],
   "source": [
    "sns.boxplot (x = 'month', y = 'tariff_expenses', \n",
    "             data = proceeds_data.query('tariff == \"ultra\"'), \n",
    "             width = 0.8)\n",
    "\n",
    "plt.title('Среднее значение дополнительных расходов по тарифу Ультра по месяцам')\n",
    "plt.show()"
   ]
  },
  {
   "cell_type": "markdown",
   "id": "517bf7e4",
   "metadata": {},
   "source": [
    "* Для тарифа Ultra характерен невысокий процент пользователей с дополнительными платежами. \n",
    "* Причины дополнительных расходов связаны и с превышением количества допустимых минут, и с превышением количества отправляемых сообщений и с расходовванием интернет-трафика.\n",
    "* При этом, для большинства пользователей лимиты, заявленные в тарифе Ultra являются достаточными и остаются неизрасходованные запасы как минут, так и сообщений и интернет-траффика."
   ]
  },
  {
   "cell_type": "code",
   "execution_count": 47,
   "id": "baa7e057",
   "metadata": {},
   "outputs": [
    {
     "data": {
      "image/png": "[encoded data removed]",
      "text/plain": [
       "<Figure size 432x288 with 1 Axes>"
      ]
     },
     "metadata": {
      "needs_background": "light"
     },
     "output_type": "display_data"
    }
   ],
   "source": [
    "sns.boxplot (x = 'month', y = 'tariff_expenses', \n",
    "             data = proceeds_data.query('tariff == \"smart\"'), \n",
    "             width = 0.8)\n",
    "\n",
    "'Среднее значение дополнительных расходов по тарифу Смарт по месяцам'\n",
    "plt.show()"
   ]
  },
  {
   "cell_type": "markdown",
   "id": "a3983209",
   "metadata": {},
   "source": [
    "* Для тарифа Smart характерно наличие дополнительных расходов в месяц для большинства пользователей.\n",
    "* Медианное значение дополнительных расходов - 500 рублей сверх стоимости тарифа (550 рублей). \n",
    "* Наибольшее влияние на высокие дополнительные расходы оказывает недостаток интернет-траффика.\n",
    "* При этом, суммарные затраты в месяц с учетом стоимости тарифа не превышают ежемесячной оплаты за тариф Ultra.\n",
    "* Оптимальным мог бы стать тариф с большим количеством Гб (примерно 20 Гб вместо 15 Гб), при этом количество минут и сообщений может быть таким же как в тарифе Smart."
   ]
  },
  {
   "cell_type": "markdown",
   "id": "94e26ae1",
   "metadata": {},
   "source": [
    "### Общие выводы о поведение клиентов оператора:<a class=\"anchor\" id=\"seventh-bullet\"></a>"
   ]
  },
  {
   "cell_type": "markdown",
   "id": "394d0b26",
   "metadata": {},
   "source": [
    "* Медианное значение продолжительности звонков для пользователей тарифа \"Ultra\" составляет 550 минут, для пользователей тарифа \"Smart\" - 400 минут.\n",
    "* Большинство звонков укладываются по продолжительности в допустимое количество минут, особенно для пользователей тарифа \"Ultra\", небольшая доля пользователей тарифа \"Smart\" превышает допустимое количество минут в месяц.\n",
    "* Пользователи тарифа \"Ultra\" преимущественно укладываются в допустимое количество сообщений в месяц.\n",
    "* Пользователь тарифа \"Smart\" также преимущественно не превышают допустимое количество сообщений в месяц.\n",
    "* Медианные значения количества сообщений для тарифа \"Smart\" составляют для большинства месяцев 25 при допустимых 50, для тарифа \"Ultra\"- 50 при допустимых 100.\n",
    "* Меедианное значение интернет-траффика для пользователей тарифа \"Ultra\" составляет 18 Гб, для пользователей тарифа \"Smart\" - 15 Гб.\n",
    "* Большинство сессий укладываются по объему траффика в допустимое количество для пользователей тарифа \"Ultra\".\n",
    "* Пользователи тарифа \"Smart\" преимущественно расходуют большее количество трафика, чем допустимо по тарифу в месяц.\n",
    "* Наибольшее влияние на добавочную стоимость по тарифу \"Smart\" оказывает превышение расхода интернет-трафика сверх установленного лимита 15 Гб.\n",
    "* Для тарифа Ultra характерен невысокий процент пользователей с дополнительными платежами.\n",
    "* Причины дополнительных расходов связаны и с превышением количества допустимых минут, и с превышением количества отправляемых сообщений и с расходовванием интернет-трафика.\n",
    "* Для большинства пользователей лимиты, заявленные в тарифе Ultra являются достаточными и остаются неизрасходованные запасы как минут, так и сообщений и интернет-траффика.\n",
    "* Для тарифа Smart характерно наличие дополнительных расходов в месяц для большинства пользователей.\n",
    "* Медианное значение дополнительных расходов - 500 рублей сверх стоимости тарифа (550 рублей).\n",
    "* Наибольшее влияние на высокие дополнительные расходы оказывает недостаток интернет-траффика.\n",
    "* При этом, суммарные затраты в месяц с учетом стоимости тарифа не превышают ежемесячной оплаты за тариф Ultra.\n",
    "* Оптимальным мог бы стать тариф с большим количеством Гб (примерно 20 Гб вместо 15 Гб), при этом количество минут и сообщений может быть таким же как в тарифе Smart.\n"
   ]
  },
  {
   "cell_type": "code",
   "execution_count": 48,
   "id": "82811a89",
   "metadata": {},
   "outputs": [],
   "source": [
    "# формирование выборки из 500 элементов по звонкам тарифа Smart\n",
    "smart_calls = proceeds_data.query('tariff == \"smart\"')['calls_sum'].tolist()\n",
    "smart_calls = random.choices(smart_calls, k=500)\n",
    "\n",
    "# формирование выборки из 500 элементов по сообщениям тарифа Smart\n",
    "smart_messages = proceeds_data.query('(tariff == \"smart\") | (messages_count > 0)')['messages_count'].tolist()\n",
    "smart_messages = random.choices(smart_messages, k=500)\n",
    "\n",
    "# формирование выборки из 500 элементов по интернет-траффику тарифа Smart\n",
    "smart_internet = proceeds_data.query('tariff == \"smart\"')['internet_sum'].tolist()\n",
    "smart_internet = random.choices(smart_internet, k=500)\n",
    "\n",
    "calls_mean = proceeds_data.query('tariff == \"smart\"')['calls_sum'].mean()  #оценка среднего по выборке по звонкам тарифа Smart\n",
    "disp_calls = np.var(smart_calls, ddof=1) #оценка дисперсии по выборке по звонкам тарифа Smart\n",
    "standart_smart = np.std(smart_calls, ddof=1) #оценка стандартного отклонения по выборке по звонкам тарифа Smart\n",
    "\n",
    "messages_mean = proceeds_data.query('tariff == \"smart\"')['messages_count'].mean() \n",
    "# оценка среднего по выборке по сообщениям тарифа Smart\n",
    "disp_messages = np.var(smart_messages, ddof=1)\n",
    "# оценка дисперсии по выборке по сообщениям тарифа Smart\n",
    "standart_messages = np.std(smart_messages, ddof=1)\n",
    "# оценка стандартного отклонения по выборке по сообщениям тарифа Smart\n",
    "\n",
    "internet_mean = proceeds_data.query('tariff == \"smart\"')['internet_sum'].mean()\n",
    "# оценка среднего по выборке по интернет-траффику тарифа Smart\n",
    "disp_internet = np.var(smart_internet, ddof=1)\n",
    "# оценка дисперсии по выборке по интернет-траффику тарифа Smart\n",
    "standart_internet = np.std(smart_internet, ddof=1)\n",
    "# оценка стандартного отклонения по выборке по интернет-траффику тарифа Smart\n",
    "\n",
    "# формирование выборки из 500 элементов по звонкам тарифа Ultra\n",
    "ultra_calls = proceeds_data.query('tariff == \"ultra\"')['calls_sum'].tolist()\n",
    "ultra_calls = random.choices(ultra_calls, k=500)\n",
    "\n",
    "# формирование выборки из 500 элементов по сообщениям тарифа Ultra\n",
    "ultra_messages = proceeds_data.query('(tariff == \"ultra\") | (messages_count > 0)')['messages_count'].tolist()\n",
    "ultra_messages = random.choices(ultra_messages, k=500)\n",
    "\n",
    "# формирование выборки из 500 элементов по интернет-траффику тарифа Ultra\n",
    "ultra_internet = proceeds_data.query('tariff == \"ultra\"')['internet_sum'].tolist()\n",
    "ultra_internet = random.choices(ultra_internet, k=500)\n",
    "\n",
    "calls_mean_ultra = proceeds_data.query('tariff == \"ultra\"')['calls_sum'].mean() \n",
    "#оценка среднего по выборке по звонкам тарифа Ultra\n",
    "disp_calls_ultra = np.var(ultra_calls, ddof=1)\n",
    "#оценка дисперсии по выборке по звонкам тарифа Ultra\n",
    "standart_ultra = np.std(ultra_calls, ddof=1)\n",
    "#оценка стандартного отклонения по выборке по звонкам тарифа Ultra\n",
    "\n",
    "messages_mean_ultra = proceeds_data.query('tariff == \"ultra\"')['messages_count'].mean()\n",
    "# оценка среднего по выборке по сообщениям тарифа Ultra\n",
    "disp_messages_ultra = np.var(ultra_messages, ddof=1)\n",
    "# оценка дисперсии по выборке по сообщениям тарифа Ultra\n",
    "standart_messages_ultra = np.std(ultra_messages, ddof=1)\n",
    "# оценка стандартного отклонения по выборке по сообщениям тарифа Ultra\n",
    "\n",
    "internet_mean_ultra = proceeds_data.query('tariff == \"ultra\"')['internet_sum'].mean()\n",
    "# оценка среднего по выборке по интернет-траффику тарифа Ultra\n",
    "disp_internet_ultra = np.var(ultra_internet, ddof=1)\n",
    "# оценка дисперсии по выборке по интернет-траффику тарифа Ultra\n",
    "standart_internet_ultra = np.std(ultra_internet, ddof=1)\n",
    "# оценка стандартного отклонения по выборке по интернет-траффику тарифа Ultra"
   ]
  },
  {
   "cell_type": "code",
   "execution_count": 49,
   "id": "dca23e93",
   "metadata": {},
   "outputs": [],
   "source": [
    "smart_data = {'выборка': ['звонки', 'сообщения', 'интернет'], 'среднее значение': [calls_mean, messages_mean, internet_mean], \n",
    "              'дисперсия': [disp_calls, disp_messages, disp_internet], 'cтандартное отклонение': [standart_smart, standart_messages, standart_internet]}\n",
    "smart_sample = pd.DataFrame(data=smart_data)\n",
    "smart_sample = np.round_(smart_sample , decimals=2)\n",
    "\n",
    "ultra_data = {'выборка': ['звонки', 'сообщения', 'интернет'], 'среднее значение': [calls_mean_ultra, messages_mean_ultra, internet_mean_ultra], \n",
    "              'дисперсия': [disp_calls_ultra, disp_messages_ultra, disp_internet_ultra], 'cтандартное отклонение': [standart_ultra, standart_messages_ultra, standart_internet_ultra]}\n",
    "ultra_sample = pd.DataFrame(data=ultra_data)\n",
    "ultra_sample = np.round_(ultra_sample , decimals=2)"
   ]
  },
  {
   "cell_type": "code",
   "execution_count": 50,
   "id": "376a2822",
   "metadata": {},
   "outputs": [
    {
     "data": {
      "text/html": [
       "<div>\n",
       "<style scoped>\n",
       "    .dataframe tbody tr th:only-of-type {\n",
       "        vertical-align: middle;\n",
       "    }\n",
       "\n",
       "    .dataframe tbody tr th {\n",
       "        vertical-align: top;\n",
       "    }\n",
       "\n",
       "    .dataframe thead th {\n",
       "        text-align: right;\n",
       "    }\n",
       "</style>\n",
       "<table border=\"1\" class=\"dataframe\">\n",
       "  <thead>\n",
       "    <tr style=\"text-align: right;\">\n",
       "      <th></th>\n",
       "      <th>выборка</th>\n",
       "      <th>среднее значение</th>\n",
       "      <th>дисперсия</th>\n",
       "      <th>cтандартное отклонение</th>\n",
       "    </tr>\n",
       "  </thead>\n",
       "  <tbody>\n",
       "    <tr>\n",
       "      <th>0</th>\n",
       "      <td>звонки</td>\n",
       "      <td>418.27</td>\n",
       "      <td>37794.67</td>\n",
       "      <td>194.41</td>\n",
       "    </tr>\n",
       "    <tr>\n",
       "      <th>1</th>\n",
       "      <td>сообщения</td>\n",
       "      <td>33.41</td>\n",
       "      <td>1191.45</td>\n",
       "      <td>34.52</td>\n",
       "    </tr>\n",
       "    <tr>\n",
       "      <th>2</th>\n",
       "      <td>интернет</td>\n",
       "      <td>16.34</td>\n",
       "      <td>33.76</td>\n",
       "      <td>5.81</td>\n",
       "    </tr>\n",
       "  </tbody>\n",
       "</table>\n",
       "</div>"
      ],
      "text/plain": [
       "     выборка  среднее значение  дисперсия  cтандартное отклонение\n",
       "0     звонки            418.27   37794.67                  194.41\n",
       "1  сообщения             33.41    1191.45                   34.52\n",
       "2   интернет             16.34      33.76                    5.81"
      ]
     },
     "execution_count": 50,
     "metadata": {},
     "output_type": "execute_result"
    }
   ],
   "source": [
    "smart_sample"
   ]
  },
  {
   "cell_type": "code",
   "execution_count": 51,
   "id": "d673a379",
   "metadata": {},
   "outputs": [
    {
     "data": {
      "text/html": [
       "<div>\n",
       "<style scoped>\n",
       "    .dataframe tbody tr th:only-of-type {\n",
       "        vertical-align: middle;\n",
       "    }\n",
       "\n",
       "    .dataframe tbody tr th {\n",
       "        vertical-align: top;\n",
       "    }\n",
       "\n",
       "    .dataframe thead th {\n",
       "        text-align: right;\n",
       "    }\n",
       "</style>\n",
       "<table border=\"1\" class=\"dataframe\">\n",
       "  <thead>\n",
       "    <tr style=\"text-align: right;\">\n",
       "      <th></th>\n",
       "      <th>выборка</th>\n",
       "      <th>среднее значение</th>\n",
       "      <th>дисперсия</th>\n",
       "      <th>cтандартное отклонение</th>\n",
       "    </tr>\n",
       "  </thead>\n",
       "  <tbody>\n",
       "    <tr>\n",
       "      <th>0</th>\n",
       "      <td>звонки</td>\n",
       "      <td>530.18</td>\n",
       "      <td>86363.75</td>\n",
       "      <td>293.88</td>\n",
       "    </tr>\n",
       "    <tr>\n",
       "      <th>1</th>\n",
       "      <td>сообщения</td>\n",
       "      <td>49.63</td>\n",
       "      <td>1405.52</td>\n",
       "      <td>37.49</td>\n",
       "    </tr>\n",
       "    <tr>\n",
       "      <th>2</th>\n",
       "      <td>интернет</td>\n",
       "      <td>19.71</td>\n",
       "      <td>98.95</td>\n",
       "      <td>9.95</td>\n",
       "    </tr>\n",
       "  </tbody>\n",
       "</table>\n",
       "</div>"
      ],
      "text/plain": [
       "     выборка  среднее значение  дисперсия  cтандартное отклонение\n",
       "0     звонки            530.18   86363.75                  293.88\n",
       "1  сообщения             49.63    1405.52                   37.49\n",
       "2   интернет             19.71      98.95                    9.95"
      ]
     },
     "execution_count": 51,
     "metadata": {},
     "output_type": "execute_result"
    }
   ],
   "source": [
    "ultra_sample"
   ]
  },
  {
   "cell_type": "code",
   "execution_count": 52,
   "id": "79ba97df",
   "metadata": {},
   "outputs": [
    {
     "data": {
      "image/png": "[encoded data removed]",
      "text/plain": [
       "<Figure size 432x288 with 1 Axes>"
      ]
     },
     "metadata": {
      "needs_background": "light"
     },
     "output_type": "display_data"
    }
   ],
   "source": [
    "sns.histplot(data=smart_calls, bins = 50, kde=True)\n",
    "sns.histplot(data=ultra_calls, bins = 50, color = 'g', alpha=0.3, kde=True)\n",
    "plt.title('Диаграмма размаха значений продолжительности звонков по выборке')\n",
    "plt.show()"
   ]
  },
  {
   "cell_type": "markdown",
   "id": "722cfd92",
   "metadata": {},
   "source": [
    "* Среднее значение продолжительности звонков для пользователей тарифа \"Smart\" составляет 418 минут, стандартное отклонение составляет 185 минут\n",
    "* Для пользователей тарифа \"Ultra\" среднее значение продолжительности звонков  - 430 минут, стандартное отклонение 301 минута.\n",
    "* Большинство звонков укладываются по продолжительности в допустимое количество минут, особенно для пользователей тарифа \"Ultra\", небольшая доля пользователей тарифа \"Smart\" превышает допустимое количество минут в месяц."
   ]
  },
  {
   "cell_type": "code",
   "execution_count": 53,
   "id": "647ff3e7",
   "metadata": {},
   "outputs": [
    {
     "data": {
      "image/png": "[encoded data removed]",
      "text/plain": [
       "<Figure size 432x288 with 1 Axes>"
      ]
     },
     "metadata": {
      "needs_background": "light"
     },
     "output_type": "display_data"
    }
   ],
   "source": [
    "sns.histplot(data=smart_messages, bins = 50, kde=True)\n",
    "sns.histplot(data=ultra_messages, bins = 50, color = 'r', alpha=0.3, kde=True)\n",
    "plt.title('Диаграмма размаха значений количества сообщений по выборке')\n",
    "plt.show()"
   ]
  },
  {
   "cell_type": "markdown",
   "id": "0598216a",
   "metadata": {},
   "source": [
    "* Среднее значение количества сообщений для пользователей тарифа \"Smart\" составляет 33, стандартное отклонение составляет 31\n",
    "* Для пользователей тарифа \"Ultra\" среднее значение количества сообщений 50, стандартное отклонение 37. \n"
   ]
  },
  {
   "cell_type": "code",
   "execution_count": 54,
   "id": "9ef6c043",
   "metadata": {},
   "outputs": [
    {
     "data": {
      "image/png": "[encoded data removed]",
      "text/plain": [
       "<Figure size 432x288 with 1 Axes>"
      ]
     },
     "metadata": {
      "needs_background": "light"
     },
     "output_type": "display_data"
    }
   ],
   "source": [
    "sns.histplot(smart_internet, bins = 50, kde=True)\n",
    "sns.histplot(data=ultra_internet, bins = 50, color = 'y', alpha=0.3, kde=True)\n",
    "plt.title('Диаграмма размаха значений интернет-траффика по выборке')\n",
    "plt.show()"
   ]
  },
  {
   "cell_type": "markdown",
   "id": "2b673900",
   "metadata": {},
   "source": [
    "* Среднее значение количества интернет-траффика для пользователей тарифа \"Smart\" составляет 16,3 Гб, стандартное отклонение составляет 5,56 Гб.\n",
    "* Для пользователей тарифа \"Ultra\" среднее значение количества интернет-траффика 19,7 Гб, стандартное отклонение 10 Гб."
   ]
  },
  {
   "cell_type": "markdown",
   "id": "ff126916",
   "metadata": {},
   "source": [
    "### Общие выводы о поведение клиентов оператора:<a class=\"anchor\" id=\"seventh-bullet\"></a>"
   ]
  },
  {
   "cell_type": "markdown",
   "id": "7865c4b4",
   "metadata": {},
   "source": [
    "* Среднее значение продолжительности звонков для пользователей тарифа \"Smart\" составляет 418 минут, стандартное отклонение составляет 185 минут\n",
    "* Для пользователей тарифа \"Ultra\" среднее значение продолжительности звонков - 430 минут, стандартное отклонение 301 минута.\n",
    "* Большинство звонков укладываются по продолжительности в допустимое количество минут, особенно для пользователей тарифа \"Ultra\", небольшая доля пользователей тарифа \"Smart\" превышает допустимое количество минут в месяц.\n",
    "* Пользователи тарифа \"Ultra\" преимущественно укладываются в допустимое количество сообщений в месяц.\n",
    "* Пользователь тарифа \"Smart\" также преимущественно не превышают допустимое количество сообщений в месяц.\n",
    "* Среднее значение количества сообщений для пользователей тарифа \"Smart\" составляет 33, стандартное отклонение составляет 31\n",
    "* Для пользователей тарифа \"Ultra\" среднее значение количества сообщений 50, стандартное отклонение 37.\n",
    "* Среднее значение количества интернет-траффика для пользователей тарифа \"Smart\" составляет 16,3 Гб, стандартное отклонение составляет 5,56 Гб.\n",
    "Для пользователей тарифа \"Ultra\" среднее значение количества интернет-траффика 19,7 Гб, стандартное отклонение 10 Гб.\n",
    "* Большинство сессий укладываются по объему траффика в допустимое количество для пользователей тарифа \"Ultra\".\n",
    "* Пользователи тарифа \"Smart\" преимущественно расходуют большее количество трафика, чем допустимо по тарифу в месяц.\n",
    "* Наибольшее влияние на добавочную стоимость по тарифу \"Smart\" оказывает превышение расхода интернет-трафика сверх установленного лимита 15 Гб.\n",
    "* Для тарифа Ultra характерен невысокий процент пользователей с дополнительными платежами.\n",
    "* Причины дополнительных расходов связаны и с превышением количества допустимых минут, и с превышением количества отправляемых сообщений и с расходовванием интернет-трафика.\n",
    "* Для большинства пользователей лимиты, заявленные в тарифе Ultra являются достаточными и остаются неизрасходованные запасы как минут, так и сообщений и интернет-траффика.\n",
    "* Для тарифа Smart характерно наличие дополнительных расходов в месяц для большинства пользователей.\n",
    "* Наибольшее влияние на высокие дополнительные расходы оказывает недостаток интернет-траффика.\n"
   ]
  },
  {
   "cell_type": "markdown",
   "id": "8114a059",
   "metadata": {},
   "source": [
    "### Проверка гипотез <a class=\"anchor\" id=\"eight-bullet\"></a>"
   ]
  },
  {
   "cell_type": "markdown",
   "id": "c5df922c",
   "metadata": {},
   "source": [
    "* средняя выручка пользователей тарифов «Ультра» и «Смарт» различаются;\n",
    "* средняя выручка пользователей из Москвы отличается от выручки пользователей из других регионов."
   ]
  },
  {
   "cell_type": "markdown",
   "id": "31c8a983",
   "metadata": {},
   "source": [
    "Для проверки гипотез необходисо использовать случайную выборку. \n",
    "\n",
    "В этом случае среднее и дисперсия, рассчитанные по выборочным данным, называются выборочным средним и выборочной дисперсией.\n",
    "\n",
    "Если выборка взята случайным образом и в ней больше 30 элементов (читайте — чисел), то выборочные среднее и дисперсия близки к реальным среднему и дисперсии генеральной совокупности.\n",
    "\n",
    "Сформулируем нулевую и альтернативную гипотезу и далее на основе данных сделаем выбор: отклонить нулевую гипотезу в пользу альтернативной или нет. Для этого нужно посчитать вероятность получить наблюдаемое на выборке значение (чаще всего, среднее) при условии, что нулевая гипотеза верна. "
   ]
  },
  {
   "cell_type": "markdown",
   "id": "7d735554",
   "metadata": {},
   "source": [
    "#### Нулевая гипотеза: Гипотеза о равенстве средних двух генеральных совокупностей средней выручки пользователей тарифов «Ультра» и «Смарт».\n",
    "#### Альтернативная гипотеза: средняя выручка пользователей тарифов «Ультра» и «Смарт» различаются   \n",
    "    "
   ]
  },
  {
   "cell_type": "markdown",
   "id": "0a4eccb4",
   "metadata": {},
   "source": [
    "* Применим t-тест т.к. генеральные совокупности не зависят друг от друга. \n",
    "* Выборочные средние нормально распределены. \n",
    "* Установим параметр equal_var как False, и тест посчитает дисперсии выборок по отдельности."
   ]
  },
  {
   "cell_type": "code",
   "execution_count": 55,
   "id": "3fe09d2b",
   "metadata": {},
   "outputs": [],
   "source": [
    "smart_random = proceeds_data.query('tariff == \"smart\"')\n",
    "smart_random = smart_random['pay_info'].tolist()"
   ]
  },
  {
   "cell_type": "code",
   "execution_count": 56,
   "id": "633574ef",
   "metadata": {},
   "outputs": [],
   "source": [
    "ultra_random = proceeds_data.query('tariff == \"ultra\"')\n",
    "ultra_random = ultra_random['pay_info'].tolist()"
   ]
  },
  {
   "cell_type": "code",
   "execution_count": 57,
   "id": "2460a093",
   "metadata": {},
   "outputs": [],
   "source": [
    "disp_smart = np.var(smart_random, ddof=1)\n",
    "standart_smart = np.std(smart_random, ddof=1)"
   ]
  },
  {
   "cell_type": "code",
   "execution_count": 58,
   "id": "b2e4b844",
   "metadata": {},
   "outputs": [
    {
     "name": "stdout",
     "output_type": "stream",
     "text": [
      "Дисперсия по средней выручке тарифа Smart 669895.08\n",
      "Стандартное отклонение по средней выручке тарифа Smart 818.47\n"
     ]
    }
   ],
   "source": [
    "print ('Дисперсия по средней выручке тарифа Smart', disp_smart.round(2))\n",
    "print ('Стандартное отклонение по средней выручке тарифа Smart', standart_smart.round(2))"
   ]
  },
  {
   "cell_type": "code",
   "execution_count": 59,
   "id": "84ef1fa7",
   "metadata": {},
   "outputs": [],
   "source": [
    "disp_ultra = np.var(ultra_random, ddof=1)\n",
    "standart_ultra = np.std(ultra_random, ddof=1)"
   ]
  },
  {
   "cell_type": "code",
   "execution_count": 60,
   "id": "124c2e8d",
   "metadata": {},
   "outputs": [
    {
     "name": "stdout",
     "output_type": "stream",
     "text": [
      "Дисперсия по средней выручке тарифа Ultra 142951.57\n",
      "Стандартное отклонение по средней выручке тарифа Ultra 378.09\n"
     ]
    }
   ],
   "source": [
    "print ('Дисперсия по средней выручке тарифа Ultra', disp_ultra.round(2))\n",
    "print ('Стандартное отклонение по средней выручке тарифа Ultra', standart_ultra.round(2))"
   ]
  },
  {
   "cell_type": "markdown",
   "id": "caea472a",
   "metadata": {},
   "source": [
    "#### Проверка нулевой гипотезы о равенстве средней выручки пользователей тарифов «Ультра» и «Смарт»."
   ]
  },
  {
   "cell_type": "code",
   "execution_count": 61,
   "id": "b42bbc7a",
   "metadata": {},
   "outputs": [
    {
     "name": "stdout",
     "output_type": "stream",
     "text": [
      "p-значение: 1.156822758433927e-248\n",
      "Отвергаем нулевую гипотезу\n"
     ]
    }
   ],
   "source": [
    "alpha = .05 # критический уровень статистической значимости\n",
    "            # можно указать .05 или 0.05 \n",
    "results = st.ttest_ind(smart_random, ultra_random, equal_var = False)\n",
    "\n",
    "print('p-значение:', results.pvalue)\n",
    "\n",
    "if results.pvalue < alpha:\n",
    "    print(\"Отвергаем нулевую гипотезу\")\n",
    "else:\n",
    "    print(\"Не получилось отвергнуть нулевую гипотезу\") "
   ]
  },
  {
   "cell_type": "markdown",
   "id": "b162dbd1",
   "metadata": {},
   "source": [
    "* Верна альтернативная гипотеза: средняя выручка пользователей тарифов «Ультра» и «Смарт» различаются\n",
    "* В случае равенства выручки пользователей тарифов «Ультра» и «Смарт» последним имело бы смысл рекомендовать переход на тариф Ультра с учетом проанализированного поведения пользователей."
   ]
  },
  {
   "cell_type": "markdown",
   "id": "71e93fcf",
   "metadata": {},
   "source": [
    "#### Нулевая гипотеза: Гипотеза о равенстве средних двух генеральных совокупностей средней выручки пользователей из Москвы и пользователей вне Москвы\n",
    "#### Альтернативная гипотеза: средняя выручка пользователей из Москвы и пользователей вне Москвы отличаются"
   ]
  },
  {
   "cell_type": "code",
   "execution_count": 62,
   "id": "1c8dcb79",
   "metadata": {},
   "outputs": [],
   "source": [
    "moscow_random = proceeds_data.query('city == \"Москва\"')\n",
    "moscow_random = moscow_random['pay_info'].tolist()\n",
    "# moscow_random = random.choices(moscow_random, k=200)"
   ]
  },
  {
   "cell_type": "code",
   "execution_count": 63,
   "id": "76a865c0",
   "metadata": {},
   "outputs": [],
   "source": [
    "moscow_out_random = proceeds_data.query('city != \"Москва\"')\n",
    "moscow_out_random = moscow_out_random['pay_info'].tolist()\n",
    "# moscow_out_random = random.choices(moscow_out_random, k=200)"
   ]
  },
  {
   "cell_type": "markdown",
   "id": "32a3fd41",
   "metadata": {},
   "source": [
    "#### Проверка нулевой гипотезы о равенстве средней выручки пользователей из Москвы и вне Москвы"
   ]
  },
  {
   "cell_type": "code",
   "execution_count": 64,
   "id": "decdc3f9",
   "metadata": {},
   "outputs": [
    {
     "name": "stdout",
     "output_type": "stream",
     "text": [
      "p-значение: 0.5062840838357682\n",
      "Не получилось отвергнуть нулевую гипотезу\n"
     ]
    }
   ],
   "source": [
    "alpha = .05 # критический уровень статистической значимости\n",
    "            # можно указать .05 или 0.05\n",
    "results = st.ttest_ind(\n",
    "    moscow_random, \n",
    "    moscow_out_random, equal_var = False)\n",
    "\n",
    "print('p-значение:', results.pvalue)\n",
    "\n",
    "if results.pvalue < alpha:\n",
    "    print(\"Отвергаем нулевую гипотезу\")\n",
    "else:\n",
    "    print(\"Не получилось отвергнуть нулевую гипотезу\")"
   ]
  },
  {
   "cell_type": "markdown",
   "id": "def45746",
   "metadata": {},
   "source": [
    "* С заданным уровнем критической значимости не получилось отвергнуть нулевую гипотезу\n",
    "* Средние выручки пользователей в Москве и вне Москвы сопоставимы\n",
    "* Можно сделать вывод что пользовательские предпочтения абонентов не зависят явным образом от месторасположения города."
   ]
  },
  {
   "cell_type": "markdown",
   "id": "63074e5b",
   "metadata": {},
   "source": [
    "### Общие выводы <a class=\"anchor\" id=\"ninth-bullet\"></a>\n",
    "* В ходе работы проведен первичный анализ данных, выявлено отсутствие пропусков в данных, проанализированы все датасеты на аномальные значения столбцов. Существенные аномалии не выявлены, данных достаточно хорошего качества, их достаточно для решения поставленных задач.\n",
    "\n",
    "* Сформированы сводные таблицы, сгруппированных по пользователям и месяцам, которые позвляют проанализировать пльзовательские предпочтения в зависимости от тарифа: среднюю прдлжительность разговоров, среднее количество собщений, объем расхдуемого интернет-траффика.\n",
    "\n",
    "* Анализ пльзвательской активности в зависимости от тарифа позволяет сделать вывод что абоненты тарифа Ультра не превышают заявленные в тарифе лимиты, которые являются высокими и часто остаются с запасом.\n",
    "* Абоненты тарифа Смарт часто выходят за установленные лимиты, особенно по интернет-траффику. Также есть превышения по минутам разговоров, при этом, добавочная стоимость минут высокая.\n",
    "* Проверены гипотезы: средняя выручка пользователей тарифов «Ультра» и «Смарт» различаются\n",
    "  средняя выручка пользователей из Москвы отличается от выручки пользователей из других регионов.\n",
    "* Первая гипотеза получила подтверждение: средняя выручка пользователей тарифов «Ультра» и «Смарт» различаются\n",
    "* В случае равенства выручки пользователей тарифов «Ультра» и «Смарт» последним имело бы смысл рекомендовать переход на тариф Ультра с учетом проанализированного поведения пользователей.\n",
    "* Т.к. выручка отличается можно сделать следующий вывод: оптимальным мог бы стать тариф с большим количеством Гб (примерно 20 Гб вместо 15 Гб), при этом количество минут и сообщений может быть таким же как в тарифе Smart. Т.к. многие пользователи выходят за пределы предложенного в тарифе Смарт пакета, но при этом общая стоимость затрат ниже чем при подключении тарифа Ультра.\n",
    "* Вторая гипотеза не подтвердилась: средняя выручка пользователей из Москвы не отличается от выручки пользователей из других регионов.\n",
    "* пользовательские предпочтения абонентов не зависят явным образом от месторасположения города."
   ]
  }
 ],
 "metadata": {
  "ExecuteTimeLog": [
   {
    "duration": 1033,
    "start_time": "2022-06-01T01:11:20.681Z"
   },
   {
    "duration": 838,
    "start_time": "2022-06-01T01:11:21.716Z"
   },
   {
    "duration": 0,
    "start_time": "2022-06-01T01:11:22.558Z"
   },
   {
    "duration": 0,
    "start_time": "2022-06-01T01:11:22.559Z"
   },
   {
    "duration": 0,
    "start_time": "2022-06-01T01:11:22.560Z"
   },
   {
    "duration": 0,
    "start_time": "2022-06-01T01:11:22.562Z"
   },
   {
    "duration": 0,
    "start_time": "2022-06-01T01:11:22.564Z"
   },
   {
    "duration": 0,
    "start_time": "2022-06-01T01:11:22.565Z"
   },
   {
    "duration": 0,
    "start_time": "2022-06-01T01:11:22.566Z"
   },
   {
    "duration": 0,
    "start_time": "2022-06-01T01:11:22.567Z"
   },
   {
    "duration": 0,
    "start_time": "2022-06-01T01:11:22.569Z"
   },
   {
    "duration": 0,
    "start_time": "2022-06-01T01:11:22.571Z"
   },
   {
    "duration": 0,
    "start_time": "2022-06-01T01:11:22.572Z"
   },
   {
    "duration": 0,
    "start_time": "2022-06-01T01:11:22.573Z"
   },
   {
    "duration": 0,
    "start_time": "2022-06-01T01:11:22.574Z"
   },
   {
    "duration": 0,
    "start_time": "2022-06-01T01:11:22.576Z"
   },
   {
    "duration": 0,
    "start_time": "2022-06-01T01:11:22.577Z"
   },
   {
    "duration": 0,
    "start_time": "2022-06-01T01:11:22.578Z"
   },
   {
    "duration": 0,
    "start_time": "2022-06-01T01:11:22.579Z"
   },
   {
    "duration": 0,
    "start_time": "2022-06-01T01:11:22.580Z"
   },
   {
    "duration": 0,
    "start_time": "2022-06-01T01:11:22.582Z"
   },
   {
    "duration": 0,
    "start_time": "2022-06-01T01:11:22.583Z"
   },
   {
    "duration": 0,
    "start_time": "2022-06-01T01:11:22.584Z"
   },
   {
    "duration": 0,
    "start_time": "2022-06-01T01:11:22.585Z"
   },
   {
    "duration": 0,
    "start_time": "2022-06-01T01:11:22.626Z"
   },
   {
    "duration": 0,
    "start_time": "2022-06-01T01:11:22.628Z"
   },
   {
    "duration": 0,
    "start_time": "2022-06-01T01:11:22.629Z"
   },
   {
    "duration": 0,
    "start_time": "2022-06-01T01:11:22.630Z"
   },
   {
    "duration": 0,
    "start_time": "2022-06-01T01:11:22.631Z"
   },
   {
    "duration": 0,
    "start_time": "2022-06-01T01:11:22.632Z"
   },
   {
    "duration": 0,
    "start_time": "2022-06-01T01:11:22.633Z"
   },
   {
    "duration": 0,
    "start_time": "2022-06-01T01:11:22.634Z"
   },
   {
    "duration": 0,
    "start_time": "2022-06-01T01:11:22.635Z"
   },
   {
    "duration": 0,
    "start_time": "2022-06-01T01:11:22.636Z"
   },
   {
    "duration": 0,
    "start_time": "2022-06-01T01:11:22.637Z"
   },
   {
    "duration": 0,
    "start_time": "2022-06-01T01:11:22.638Z"
   },
   {
    "duration": 0,
    "start_time": "2022-06-01T01:11:22.639Z"
   },
   {
    "duration": 0,
    "start_time": "2022-06-01T01:11:22.640Z"
   },
   {
    "duration": 0,
    "start_time": "2022-06-01T01:11:22.641Z"
   },
   {
    "duration": 0,
    "start_time": "2022-06-01T01:11:22.642Z"
   },
   {
    "duration": 0,
    "start_time": "2022-06-01T01:11:22.643Z"
   },
   {
    "duration": 0,
    "start_time": "2022-06-01T01:11:22.644Z"
   },
   {
    "duration": 0,
    "start_time": "2022-06-01T01:11:22.645Z"
   },
   {
    "duration": 0,
    "start_time": "2022-06-01T01:11:22.646Z"
   },
   {
    "duration": 0,
    "start_time": "2022-06-01T01:11:22.647Z"
   },
   {
    "duration": 0,
    "start_time": "2022-06-01T01:11:22.648Z"
   },
   {
    "duration": 0,
    "start_time": "2022-06-01T01:11:22.648Z"
   },
   {
    "duration": 0,
    "start_time": "2022-06-01T01:11:22.649Z"
   },
   {
    "duration": 0,
    "start_time": "2022-06-01T01:11:22.650Z"
   },
   {
    "duration": 1106,
    "start_time": "2022-06-01T20:26:07.565Z"
   },
   {
    "duration": 949,
    "start_time": "2022-06-01T20:26:08.673Z"
   },
   {
    "duration": 3,
    "start_time": "2022-06-01T20:26:09.624Z"
   },
   {
    "duration": 138,
    "start_time": "2022-06-01T20:26:09.629Z"
   },
   {
    "duration": 73,
    "start_time": "2022-06-01T20:26:09.769Z"
   },
   {
    "duration": 196,
    "start_time": "2022-06-01T20:26:09.844Z"
   },
   {
    "duration": 27,
    "start_time": "2022-06-01T20:26:10.042Z"
   },
   {
    "duration": 116,
    "start_time": "2022-06-01T20:26:10.071Z"
   },
   {
    "duration": 106,
    "start_time": "2022-06-01T20:26:10.189Z"
   },
   {
    "duration": 8,
    "start_time": "2022-06-01T20:26:10.297Z"
   },
   {
    "duration": 93,
    "start_time": "2022-06-01T20:26:10.306Z"
   },
   {
    "duration": 6,
    "start_time": "2022-06-01T20:26:10.401Z"
   },
   {
    "duration": 71,
    "start_time": "2022-06-01T20:26:10.409Z"
   },
   {
    "duration": 7,
    "start_time": "2022-06-01T20:26:10.484Z"
   },
   {
    "duration": 15,
    "start_time": "2022-06-01T20:26:10.493Z"
   },
   {
    "duration": 14,
    "start_time": "2022-06-01T20:26:10.510Z"
   },
   {
    "duration": 18,
    "start_time": "2022-06-01T20:26:10.526Z"
   },
   {
    "duration": 82,
    "start_time": "2022-06-01T20:26:10.545Z"
   },
   {
    "duration": 9,
    "start_time": "2022-06-01T20:26:10.629Z"
   },
   {
    "duration": 42,
    "start_time": "2022-06-01T20:26:10.652Z"
   },
   {
    "duration": 9,
    "start_time": "2022-06-01T20:26:10.696Z"
   },
   {
    "duration": 76,
    "start_time": "2022-06-01T20:26:10.707Z"
   },
   {
    "duration": 8,
    "start_time": "2022-06-01T20:26:10.785Z"
   },
   {
    "duration": 39,
    "start_time": "2022-06-01T20:26:10.795Z"
   },
   {
    "duration": 22,
    "start_time": "2022-06-01T20:26:10.836Z"
   },
   {
    "duration": 15,
    "start_time": "2022-06-01T20:26:10.860Z"
   },
   {
    "duration": 23,
    "start_time": "2022-06-01T20:26:10.877Z"
   },
   {
    "duration": 22,
    "start_time": "2022-06-01T20:26:10.902Z"
   },
   {
    "duration": 162,
    "start_time": "2022-06-01T20:26:10.926Z"
   },
   {
    "duration": 4,
    "start_time": "2022-06-01T20:26:11.090Z"
   },
   {
    "duration": 93,
    "start_time": "2022-06-01T20:26:11.096Z"
   },
   {
    "duration": 209,
    "start_time": "2022-06-01T20:26:11.191Z"
   },
   {
    "duration": 723,
    "start_time": "2022-06-01T20:26:11.402Z"
   },
   {
    "duration": 133,
    "start_time": "2022-06-01T20:26:12.127Z"
   },
   {
    "duration": 510,
    "start_time": "2022-06-01T20:26:12.262Z"
   },
   {
    "duration": 113,
    "start_time": "2022-06-01T20:26:12.773Z"
   },
   {
    "duration": 505,
    "start_time": "2022-06-01T20:26:12.887Z"
   },
   {
    "duration": 238,
    "start_time": "2022-06-01T20:26:13.393Z"
   },
   {
    "duration": 255,
    "start_time": "2022-06-01T20:26:13.633Z"
   },
   {
    "duration": 6,
    "start_time": "2022-06-01T20:26:13.890Z"
   },
   {
    "duration": 9,
    "start_time": "2022-06-01T20:26:13.900Z"
   },
   {
    "duration": 7,
    "start_time": "2022-06-01T20:26:13.911Z"
   },
   {
    "duration": 7,
    "start_time": "2022-06-01T20:26:13.919Z"
   },
   {
    "duration": 6,
    "start_time": "2022-06-01T20:26:13.927Z"
   },
   {
    "duration": 20,
    "start_time": "2022-06-01T20:26:13.935Z"
   },
   {
    "duration": 109,
    "start_time": "2022-06-01T20:26:13.957Z"
   },
   {
    "duration": 0,
    "start_time": "2022-06-01T20:26:14.067Z"
   },
   {
    "duration": 0,
    "start_time": "2022-06-01T20:26:14.069Z"
   },
   {
    "duration": 0,
    "start_time": "2022-06-01T20:26:14.070Z"
   },
   {
    "duration": 6,
    "start_time": "2022-06-01T20:49:35.177Z"
   },
   {
    "duration": 12,
    "start_time": "2022-06-01T20:50:07.877Z"
   },
   {
    "duration": 15,
    "start_time": "2022-06-01T20:51:57.941Z"
   },
   {
    "duration": 1128,
    "start_time": "2022-06-04T16:27:32.128Z"
   },
   {
    "duration": 1060,
    "start_time": "2022-06-04T16:27:33.258Z"
   },
   {
    "duration": 4,
    "start_time": "2022-06-04T16:27:34.319Z"
   },
   {
    "duration": 172,
    "start_time": "2022-06-04T16:27:34.325Z"
   },
   {
    "duration": 116,
    "start_time": "2022-06-04T16:27:34.499Z"
   },
   {
    "duration": 182,
    "start_time": "2022-06-04T16:27:34.616Z"
   },
   {
    "duration": 10,
    "start_time": "2022-06-04T16:27:34.800Z"
   },
   {
    "duration": 104,
    "start_time": "2022-06-04T16:27:34.814Z"
   },
   {
    "duration": 138,
    "start_time": "2022-06-04T16:27:34.927Z"
   },
   {
    "duration": 8,
    "start_time": "2022-06-04T16:27:35.068Z"
   },
   {
    "duration": 386,
    "start_time": "2022-06-04T16:27:35.078Z"
   },
   {
    "duration": 200,
    "start_time": "2022-06-04T16:27:35.466Z"
   },
   {
    "duration": 15,
    "start_time": "2022-06-04T16:27:35.668Z"
   },
   {
    "duration": 94,
    "start_time": "2022-06-04T16:27:35.686Z"
   },
   {
    "duration": 7,
    "start_time": "2022-06-04T16:27:35.782Z"
   },
   {
    "duration": 81,
    "start_time": "2022-06-04T16:27:35.791Z"
   },
   {
    "duration": 6,
    "start_time": "2022-06-04T16:27:35.874Z"
   },
   {
    "duration": 11,
    "start_time": "2022-06-04T16:27:35.882Z"
   },
   {
    "duration": 12,
    "start_time": "2022-06-04T16:27:35.895Z"
   },
   {
    "duration": 25,
    "start_time": "2022-06-04T16:27:35.909Z"
   },
   {
    "duration": 70,
    "start_time": "2022-06-04T16:27:35.936Z"
   },
   {
    "duration": 23,
    "start_time": "2022-06-04T16:27:36.009Z"
   },
   {
    "duration": 43,
    "start_time": "2022-06-04T16:27:36.034Z"
   },
   {
    "duration": 9,
    "start_time": "2022-06-04T16:27:36.079Z"
   },
   {
    "duration": 82,
    "start_time": "2022-06-04T16:27:36.090Z"
   },
   {
    "duration": 21,
    "start_time": "2022-06-04T16:27:36.174Z"
   },
   {
    "duration": 40,
    "start_time": "2022-06-04T16:27:36.197Z"
   },
   {
    "duration": 26,
    "start_time": "2022-06-04T16:27:36.239Z"
   },
   {
    "duration": 22,
    "start_time": "2022-06-04T16:27:36.267Z"
   },
   {
    "duration": 9,
    "start_time": "2022-06-04T16:27:36.292Z"
   },
   {
    "duration": 29,
    "start_time": "2022-06-04T16:27:36.304Z"
   },
   {
    "duration": 20,
    "start_time": "2022-06-04T16:27:36.335Z"
   },
   {
    "duration": 35,
    "start_time": "2022-06-04T16:27:36.359Z"
   },
   {
    "duration": 31,
    "start_time": "2022-06-04T16:27:36.396Z"
   },
   {
    "duration": 35,
    "start_time": "2022-06-04T16:27:36.429Z"
   },
   {
    "duration": 35,
    "start_time": "2022-06-04T16:27:36.466Z"
   },
   {
    "duration": 179,
    "start_time": "2022-06-04T16:27:36.503Z"
   },
   {
    "duration": 6,
    "start_time": "2022-06-04T16:27:36.684Z"
   },
   {
    "duration": 124,
    "start_time": "2022-06-04T16:27:36.692Z"
   },
   {
    "duration": 142,
    "start_time": "2022-06-04T16:27:36.817Z"
   },
   {
    "duration": 660,
    "start_time": "2022-06-04T16:27:36.963Z"
   },
   {
    "duration": 180,
    "start_time": "2022-06-04T16:27:37.627Z"
   },
   {
    "duration": 582,
    "start_time": "2022-06-04T16:27:37.809Z"
   },
   {
    "duration": 221,
    "start_time": "2022-06-04T16:27:38.393Z"
   },
   {
    "duration": 448,
    "start_time": "2022-06-04T16:27:38.616Z"
   },
   {
    "duration": 258,
    "start_time": "2022-06-04T16:27:39.066Z"
   },
   {
    "duration": 241,
    "start_time": "2022-06-04T16:27:39.327Z"
   },
   {
    "duration": 57,
    "start_time": "2022-06-04T16:27:39.571Z"
   },
   {
    "duration": 16,
    "start_time": "2022-06-04T16:27:39.631Z"
   },
   {
    "duration": 15,
    "start_time": "2022-06-04T16:27:39.649Z"
   },
   {
    "duration": 18,
    "start_time": "2022-06-04T16:27:39.666Z"
   },
   {
    "duration": 286,
    "start_time": "2022-06-04T16:27:39.687Z"
   },
   {
    "duration": 402,
    "start_time": "2022-06-04T16:27:39.974Z"
   },
   {
    "duration": 368,
    "start_time": "2022-06-04T16:27:40.378Z"
   },
   {
    "duration": 6,
    "start_time": "2022-06-04T16:27:40.748Z"
   },
   {
    "duration": 11,
    "start_time": "2022-06-04T16:27:40.755Z"
   },
   {
    "duration": 7,
    "start_time": "2022-06-04T16:27:40.767Z"
   },
   {
    "duration": 8,
    "start_time": "2022-06-04T16:27:40.776Z"
   },
   {
    "duration": 7,
    "start_time": "2022-06-04T16:27:40.785Z"
   },
   {
    "duration": 7,
    "start_time": "2022-06-04T16:27:40.794Z"
   },
   {
    "duration": 31,
    "start_time": "2022-06-04T16:27:40.803Z"
   },
   {
    "duration": 10,
    "start_time": "2022-06-04T16:27:40.836Z"
   },
   {
    "duration": 8,
    "start_time": "2022-06-04T16:27:40.847Z"
   },
   {
    "duration": 9,
    "start_time": "2022-06-04T16:27:40.856Z"
   }
  ],
  "kernelspec": {
   "display_name": "Python 3 (ipykernel)",
   "language": "python",
   "name": "python3"
  },
  "language_info": {
   "codemirror_mode": {
    "name": "ipython",
    "version": 3
   },
   "file_extension": ".py",
   "mimetype": "text/x-python",
   "name": "python",
   "nbconvert_exporter": "python",
   "pygments_lexer": "ipython3",
   "version": "3.9.13"
  },
  "toc": {
   "base_numbering": 1,
   "nav_menu": {},
   "number_sections": true,
   "sideBar": true,
   "skip_h1_title": true,
   "title_cell": "Table of Contents",
   "title_sidebar": "Contents",
   "toc_cell": false,
   "toc_position": {
    "height": "calc(100% - 180px)",
    "left": "10px",
    "top": "150px",
    "width": "231.398px"
   },
   "toc_section_display": true,
   "toc_window_display": true
  }
 },
 "nbformat": 4,
 "nbformat_minor": 5
}
