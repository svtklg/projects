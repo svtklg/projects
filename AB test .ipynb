{
 "cells": [
  {
   "cell_type": "markdown",
   "id": "1309e21d",
   "metadata": {},
   "source": [
    "## A/B тест крупного интернет-магазина"
   ]
  },
  {
   "cell_type": "markdown",
   "id": "01f344f4",
   "metadata": {},
   "source": [
    "Аналитика крупного интернет-магазина. Вместе с отделом маркетинга подготовлен список гипотез для увеличения выручки.\n",
    "Требуется приоритизировать гипотезы, запустить A/B-тест и проанализировать результаты."
   ]
  },
  {
   "cell_type": "markdown",
   "id": "dfc1cb09",
   "metadata": {},
   "source": [
    "### Содержание:\n",
    "* [Часть 1. Приоритизация гипотез](#first-bullet)\n",
    "* [Применение фреймворка ICE для приоритизации гипотез](#second-bullet)\n",
    "* [Применение фреймворка RICE для приоритизации гипотез](#third-bullet)\n",
    "* [Часть 2. Анализ A/B-теста](#fourth-bullet)\n",
    "* [График стоимости заказов по пользователям](#fifth-bullet)\n",
    "* [График количества заказов по пользователям](#sixth-bullet)    \n",
    "* [График кумулятивной конверсии по группам](#seventh-bullet)\n",
    "* [График относительного изменения кумулятивной конверсии группы B к группе A](#eight-bullet)\n",
    "* [График кумулятивной выручки по группам](#ninth-bullet)\n",
    "* [График кумулятивного среднего чека по группам](#tenth-bullet)\n",
    "* [График относительного изменения кумулятивного среднего чека группы B к группе A](#eleventh-bullet)\n",
    "* [Подсчет статистической значимости различий в конверсии между группами по «сырым» данным](#twelveth-bullet)\n",
    "* [Оценка статистической значимости различия средних чеков между группами](#therteen-bullet)\n",
    "* [Очищение данных от аномалий](#fourteen-bullet)\n",
    "* [Подсчёт статистической значимости различий в конверсии между группами по «очищенным» данным](#fifteen-bullet)\n",
    "* [Подсчет статистической значимости различия средних чеков после удаления аномальных пользователей](#sixteen-bullet)\n",
    "* [Выводы А/В теста](#seventeen-bullet)\n",
    "* [Общие выводы](#eighteen-bullet)"
   ]
  },
  {
   "cell_type": "markdown",
   "id": "a619afc6",
   "metadata": {},
   "source": [
    "### Часть 1. Приоритизация гипотез <a class=\"anchor\" id=\"first-bullet\">"
   ]
  },
  {
   "cell_type": "markdown",
   "id": "5beb9bf1",
   "metadata": {},
   "source": [
    "#### Задача\n",
    "* Примените фреймворк ICE для приоритизации гипотез. Отсортируйте их по убыванию приоритета.\n",
    "* Примените фреймворк RICE для приоритизации гипотез. Отсортируйте их по убыванию приоритета.\n",
    "* Укажите, как изменилась приоритизация гипотез при применении RICE вместо ICE. Объясните, почему так произошло."
   ]
  },
  {
   "cell_type": "code",
   "execution_count": 1,
   "id": "630689b8",
   "metadata": {},
   "outputs": [],
   "source": [
    "import pandas as pd\n",
    "import numpy as np\n",
    "import datetime as dt\n",
    "from matplotlib import pyplot as plt\n",
    "import scipy.stats as stats\n",
    "import seaborn as sns "
   ]
  },
  {
   "cell_type": "code",
   "execution_count": 2,
   "id": "4e5c29e4",
   "metadata": {},
   "outputs": [
    {
     "data": {
      "text/html": [
       "<div>\n",
       "<style scoped>\n",
       "    .dataframe tbody tr th:only-of-type {\n",
       "        vertical-align: middle;\n",
       "    }\n",
       "\n",
       "    .dataframe tbody tr th {\n",
       "        vertical-align: top;\n",
       "    }\n",
       "\n",
       "    .dataframe thead th {\n",
       "        text-align: right;\n",
       "    }\n",
       "</style>\n",
       "<table border=\"1\" class=\"dataframe\">\n",
       "  <thead>\n",
       "    <tr style=\"text-align: right;\">\n",
       "      <th></th>\n",
       "      <th>Hypothesis</th>\n",
       "      <th>Reach</th>\n",
       "      <th>Impact</th>\n",
       "      <th>Confidence</th>\n",
       "      <th>Efforts</th>\n",
       "    </tr>\n",
       "  </thead>\n",
       "  <tbody>\n",
       "    <tr>\n",
       "      <th>0</th>\n",
       "      <td>Добавить два новых канала привлечения трафика,...</td>\n",
       "      <td>3</td>\n",
       "      <td>10</td>\n",
       "      <td>8</td>\n",
       "      <td>6</td>\n",
       "    </tr>\n",
       "    <tr>\n",
       "      <th>1</th>\n",
       "      <td>Запустить собственную службу доставки, что сок...</td>\n",
       "      <td>2</td>\n",
       "      <td>5</td>\n",
       "      <td>4</td>\n",
       "      <td>10</td>\n",
       "    </tr>\n",
       "    <tr>\n",
       "      <th>2</th>\n",
       "      <td>Добавить блоки рекомендаций товаров на сайт ин...</td>\n",
       "      <td>8</td>\n",
       "      <td>3</td>\n",
       "      <td>7</td>\n",
       "      <td>3</td>\n",
       "    </tr>\n",
       "    <tr>\n",
       "      <th>3</th>\n",
       "      <td>Изменить структура категорий, что увеличит кон...</td>\n",
       "      <td>8</td>\n",
       "      <td>3</td>\n",
       "      <td>3</td>\n",
       "      <td>8</td>\n",
       "    </tr>\n",
       "    <tr>\n",
       "      <th>4</th>\n",
       "      <td>Изменить цвет фона главной страницы, чтобы уве...</td>\n",
       "      <td>3</td>\n",
       "      <td>1</td>\n",
       "      <td>1</td>\n",
       "      <td>1</td>\n",
       "    </tr>\n",
       "    <tr>\n",
       "      <th>5</th>\n",
       "      <td>Добавить страницу отзывов клиентов о магазине,...</td>\n",
       "      <td>3</td>\n",
       "      <td>2</td>\n",
       "      <td>2</td>\n",
       "      <td>3</td>\n",
       "    </tr>\n",
       "    <tr>\n",
       "      <th>6</th>\n",
       "      <td>Показать на главной странице баннеры с актуаль...</td>\n",
       "      <td>5</td>\n",
       "      <td>3</td>\n",
       "      <td>8</td>\n",
       "      <td>3</td>\n",
       "    </tr>\n",
       "    <tr>\n",
       "      <th>7</th>\n",
       "      <td>Добавить форму подписки на все основные страни...</td>\n",
       "      <td>10</td>\n",
       "      <td>7</td>\n",
       "      <td>8</td>\n",
       "      <td>5</td>\n",
       "    </tr>\n",
       "    <tr>\n",
       "      <th>8</th>\n",
       "      <td>Запустить акцию, дающую скидку на товар в день...</td>\n",
       "      <td>1</td>\n",
       "      <td>9</td>\n",
       "      <td>9</td>\n",
       "      <td>5</td>\n",
       "    </tr>\n",
       "  </tbody>\n",
       "</table>\n",
       "</div>"
      ],
      "text/plain": [
       "                                          Hypothesis  Reach  Impact  \\\n",
       "0  Добавить два новых канала привлечения трафика,...      3      10   \n",
       "1  Запустить собственную службу доставки, что сок...      2       5   \n",
       "2  Добавить блоки рекомендаций товаров на сайт ин...      8       3   \n",
       "3  Изменить структура категорий, что увеличит кон...      8       3   \n",
       "4  Изменить цвет фона главной страницы, чтобы уве...      3       1   \n",
       "5  Добавить страницу отзывов клиентов о магазине,...      3       2   \n",
       "6  Показать на главной странице баннеры с актуаль...      5       3   \n",
       "7  Добавить форму подписки на все основные страни...     10       7   \n",
       "8  Запустить акцию, дающую скидку на товар в день...      1       9   \n",
       "\n",
       "   Confidence  Efforts  \n",
       "0           8        6  \n",
       "1           4       10  \n",
       "2           7        3  \n",
       "3           3        8  \n",
       "4           1        1  \n",
       "5           2        3  \n",
       "6           8        3  \n",
       "7           8        5  \n",
       "8           9        5  "
      ]
     },
     "metadata": {},
     "output_type": "display_data"
    },
    {
     "data": {
      "text/html": [
       "<div>\n",
       "<style scoped>\n",
       "    .dataframe tbody tr th:only-of-type {\n",
       "        vertical-align: middle;\n",
       "    }\n",
       "\n",
       "    .dataframe tbody tr th {\n",
       "        vertical-align: top;\n",
       "    }\n",
       "\n",
       "    .dataframe thead th {\n",
       "        text-align: right;\n",
       "    }\n",
       "</style>\n",
       "<table border=\"1\" class=\"dataframe\">\n",
       "  <thead>\n",
       "    <tr style=\"text-align: right;\">\n",
       "      <th></th>\n",
       "      <th>transactionId</th>\n",
       "      <th>visitorId</th>\n",
       "      <th>date</th>\n",
       "      <th>revenue</th>\n",
       "      <th>group</th>\n",
       "    </tr>\n",
       "  </thead>\n",
       "  <tbody>\n",
       "    <tr>\n",
       "      <th>0</th>\n",
       "      <td>3667963787</td>\n",
       "      <td>3312258926</td>\n",
       "      <td>2019-08-15</td>\n",
       "      <td>1650</td>\n",
       "      <td>B</td>\n",
       "    </tr>\n",
       "    <tr>\n",
       "      <th>1</th>\n",
       "      <td>2804400009</td>\n",
       "      <td>3642806036</td>\n",
       "      <td>2019-08-15</td>\n",
       "      <td>730</td>\n",
       "      <td>B</td>\n",
       "    </tr>\n",
       "    <tr>\n",
       "      <th>2</th>\n",
       "      <td>2961555356</td>\n",
       "      <td>4069496402</td>\n",
       "      <td>2019-08-15</td>\n",
       "      <td>400</td>\n",
       "      <td>A</td>\n",
       "    </tr>\n",
       "    <tr>\n",
       "      <th>3</th>\n",
       "      <td>3797467345</td>\n",
       "      <td>1196621759</td>\n",
       "      <td>2019-08-15</td>\n",
       "      <td>9759</td>\n",
       "      <td>B</td>\n",
       "    </tr>\n",
       "    <tr>\n",
       "      <th>4</th>\n",
       "      <td>2282983706</td>\n",
       "      <td>2322279887</td>\n",
       "      <td>2019-08-15</td>\n",
       "      <td>2308</td>\n",
       "      <td>B</td>\n",
       "    </tr>\n",
       "  </tbody>\n",
       "</table>\n",
       "</div>"
      ],
      "text/plain": [
       "   transactionId   visitorId        date  revenue group\n",
       "0     3667963787  3312258926  2019-08-15     1650     B\n",
       "1     2804400009  3642806036  2019-08-15      730     B\n",
       "2     2961555356  4069496402  2019-08-15      400     A\n",
       "3     3797467345  1196621759  2019-08-15     9759     B\n",
       "4     2282983706  2322279887  2019-08-15     2308     B"
      ]
     },
     "metadata": {},
     "output_type": "display_data"
    },
    {
     "data": {
      "text/html": [
       "<div>\n",
       "<style scoped>\n",
       "    .dataframe tbody tr th:only-of-type {\n",
       "        vertical-align: middle;\n",
       "    }\n",
       "\n",
       "    .dataframe tbody tr th {\n",
       "        vertical-align: top;\n",
       "    }\n",
       "\n",
       "    .dataframe thead th {\n",
       "        text-align: right;\n",
       "    }\n",
       "</style>\n",
       "<table border=\"1\" class=\"dataframe\">\n",
       "  <thead>\n",
       "    <tr style=\"text-align: right;\">\n",
       "      <th></th>\n",
       "      <th>date</th>\n",
       "      <th>group</th>\n",
       "      <th>visitors</th>\n",
       "    </tr>\n",
       "  </thead>\n",
       "  <tbody>\n",
       "    <tr>\n",
       "      <th>0</th>\n",
       "      <td>2019-08-01</td>\n",
       "      <td>A</td>\n",
       "      <td>719</td>\n",
       "    </tr>\n",
       "    <tr>\n",
       "      <th>1</th>\n",
       "      <td>2019-08-02</td>\n",
       "      <td>A</td>\n",
       "      <td>619</td>\n",
       "    </tr>\n",
       "    <tr>\n",
       "      <th>2</th>\n",
       "      <td>2019-08-03</td>\n",
       "      <td>A</td>\n",
       "      <td>507</td>\n",
       "    </tr>\n",
       "    <tr>\n",
       "      <th>3</th>\n",
       "      <td>2019-08-04</td>\n",
       "      <td>A</td>\n",
       "      <td>717</td>\n",
       "    </tr>\n",
       "    <tr>\n",
       "      <th>4</th>\n",
       "      <td>2019-08-05</td>\n",
       "      <td>A</td>\n",
       "      <td>756</td>\n",
       "    </tr>\n",
       "  </tbody>\n",
       "</table>\n",
       "</div>"
      ],
      "text/plain": [
       "         date group  visitors\n",
       "0  2019-08-01     A       719\n",
       "1  2019-08-02     A       619\n",
       "2  2019-08-03     A       507\n",
       "3  2019-08-04     A       717\n",
       "4  2019-08-05     A       756"
      ]
     },
     "metadata": {},
     "output_type": "display_data"
    }
   ],
   "source": [
    "#импорт данных\n",
    "try:\n",
    "    hypothesis = pd.read_csv('C:/Users/Sveta/Downloads/hypothesis.csv')\n",
    "    orders = pd.read_csv('C:/Users/Sveta/Downloads/orders.csv')\n",
    "    visitors = pd.read_csv('C:/Users/Sveta/Downloads/visitors.csv')\n",
    "\n",
    "except FileNotFoundError:\n",
    "    hypothesis = pd.read_csv('/datasets/hypothesis.csv')\n",
    "    orders = pd.read_csv('/datasets/orders.csv')\n",
    "    visitors = pd.read_csv('/datasets/visitors.csv')  \n",
    "display(hypothesis)\n",
    "display(orders.head())\n",
    "display(visitors.head())"
   ]
  },
  {
   "cell_type": "code",
   "execution_count": 3,
   "id": "14d701a5",
   "metadata": {},
   "outputs": [
    {
     "name": "stdout",
     "output_type": "stream",
     "text": [
      "<class 'pandas.core.frame.DataFrame'>\n",
      "RangeIndex: 9 entries, 0 to 8\n",
      "Data columns (total 5 columns):\n",
      " #   Column      Non-Null Count  Dtype \n",
      "---  ------      --------------  ----- \n",
      " 0   Hypothesis  9 non-null      object\n",
      " 1   Reach       9 non-null      int64 \n",
      " 2   Impact      9 non-null      int64 \n",
      " 3   Confidence  9 non-null      int64 \n",
      " 4   Efforts     9 non-null      int64 \n",
      "dtypes: int64(4), object(1)\n",
      "memory usage: 488.0+ bytes\n",
      "<class 'pandas.core.frame.DataFrame'>\n",
      "RangeIndex: 1197 entries, 0 to 1196\n",
      "Data columns (total 5 columns):\n",
      " #   Column         Non-Null Count  Dtype \n",
      "---  ------         --------------  ----- \n",
      " 0   transactionId  1197 non-null   int64 \n",
      " 1   visitorId      1197 non-null   int64 \n",
      " 2   date           1197 non-null   object\n",
      " 3   revenue        1197 non-null   int64 \n",
      " 4   group          1197 non-null   object\n",
      "dtypes: int64(3), object(2)\n",
      "memory usage: 46.9+ KB\n",
      "<class 'pandas.core.frame.DataFrame'>\n",
      "RangeIndex: 62 entries, 0 to 61\n",
      "Data columns (total 3 columns):\n",
      " #   Column    Non-Null Count  Dtype \n",
      "---  ------    --------------  ----- \n",
      " 0   date      62 non-null     object\n",
      " 1   group     62 non-null     object\n",
      " 2   visitors  62 non-null     int64 \n",
      "dtypes: int64(1), object(2)\n",
      "memory usage: 1.6+ KB\n"
     ]
    }
   ],
   "source": [
    "# информация о таблицах \n",
    "hypothesis.info()\n",
    "orders.info()\n",
    "visitors.info()"
   ]
  },
  {
   "cell_type": "markdown",
   "id": "b000f888",
   "metadata": {},
   "source": [
    "* Пропусков данных не обнаружено\n",
    "* Требуется перевести названия столбцов таблицы hypothesis к нижнему регистру\n",
    "* В таблицах visitors и orders необходимо преобразовать тип данных столбцов с датами"
   ]
  },
  {
   "cell_type": "code",
   "execution_count": 4,
   "id": "38e22e25",
   "metadata": {},
   "outputs": [],
   "source": [
    "hypothesis.columns = hypothesis.columns.str.lower()\n",
    "visitors['date'] = pd.to_datetime(visitors['date'])\n",
    "orders['date'] = pd.to_datetime(orders['date'])"
   ]
  },
  {
   "cell_type": "code",
   "execution_count": 5,
   "id": "64ef5bf1",
   "metadata": {},
   "outputs": [
    {
     "name": "stdout",
     "output_type": "stream",
     "text": [
      "0\n",
      "0\n",
      "0\n"
     ]
    }
   ],
   "source": [
    "# поиск дубликатов\n",
    "print(hypothesis.duplicated().sum())\n",
    "print(orders.duplicated().sum())\n",
    "print(visitors.duplicated().sum())"
   ]
  },
  {
   "cell_type": "markdown",
   "id": "7c113f9b",
   "metadata": {},
   "source": [
    "Дубликаты данных в таблицах не обнаружены"
   ]
  },
  {
   "cell_type": "markdown",
   "id": "5663d756",
   "metadata": {},
   "source": [
    "Проверка пользователей, которые попали в 2 теста одновременно:"
   ]
  },
  {
   "cell_type": "code",
   "execution_count": 6,
   "id": "1ca06dc5",
   "metadata": {},
   "outputs": [
    {
     "data": {
      "text/plain": [
       "58"
      ]
     },
     "execution_count": 6,
     "metadata": {},
     "output_type": "execute_result"
    }
   ],
   "source": [
    "users_AB = orders.groupby('visitorId').agg({'group':'nunique'})\n",
    "users_AB = users_AB.query('group != 1')\n",
    "users_AB['group'].count()"
   ]
  },
  {
   "cell_type": "markdown",
   "id": "b513d262",
   "metadata": {},
   "source": [
    "В двух группах А/B теста одновременно находится 58 покупателей"
   ]
  },
  {
   "cell_type": "markdown",
   "id": "896320ac",
   "metadata": {},
   "source": [
    "#### Применение фреймворка ICE для приоритизации гипотез <a class=\"anchor\" id=\"second-bullet\">"
   ]
  },
  {
   "cell_type": "markdown",
   "id": "cd681a1e",
   "metadata": {},
   "source": [
    "ICE (от англ. impact, confidence, effort / ease «влияние, уверенность, усилия / простота») — один из самых популярных способов приоритизации задач"
   ]
  },
  {
   "cell_type": "code",
   "execution_count": 7,
   "id": "3a054b7f",
   "metadata": {
    "scrolled": true
   },
   "outputs": [
    {
     "data": {
      "text/html": [
       "<div>\n",
       "<style scoped>\n",
       "    .dataframe tbody tr th:only-of-type {\n",
       "        vertical-align: middle;\n",
       "    }\n",
       "\n",
       "    .dataframe tbody tr th {\n",
       "        vertical-align: top;\n",
       "    }\n",
       "\n",
       "    .dataframe thead th {\n",
       "        text-align: right;\n",
       "    }\n",
       "</style>\n",
       "<table border=\"1\" class=\"dataframe\">\n",
       "  <thead>\n",
       "    <tr style=\"text-align: right;\">\n",
       "      <th></th>\n",
       "      <th>hypothesis</th>\n",
       "      <th>ICE</th>\n",
       "    </tr>\n",
       "  </thead>\n",
       "  <tbody>\n",
       "    <tr>\n",
       "      <th>8</th>\n",
       "      <td>Запустить акцию, дающую скидку на товар в день рождения</td>\n",
       "      <td>16.0</td>\n",
       "    </tr>\n",
       "    <tr>\n",
       "      <th>0</th>\n",
       "      <td>Добавить два новых канала привлечения трафика, что позволит привлекать на 30% больше пользователей</td>\n",
       "      <td>13.0</td>\n",
       "    </tr>\n",
       "    <tr>\n",
       "      <th>7</th>\n",
       "      <td>Добавить форму подписки на все основные страницы, чтобы собрать базу клиентов для email-рассылок</td>\n",
       "      <td>11.0</td>\n",
       "    </tr>\n",
       "    <tr>\n",
       "      <th>6</th>\n",
       "      <td>Показать на главной странице баннеры с актуальными акциями и распродажами, чтобы увеличить конверсию</td>\n",
       "      <td>8.0</td>\n",
       "    </tr>\n",
       "    <tr>\n",
       "      <th>2</th>\n",
       "      <td>Добавить блоки рекомендаций товаров на сайт интернет магазина, чтобы повысить конверсию и средний чек заказа</td>\n",
       "      <td>7.0</td>\n",
       "    </tr>\n",
       "    <tr>\n",
       "      <th>1</th>\n",
       "      <td>Запустить собственную службу доставки, что сократит срок доставки заказов</td>\n",
       "      <td>2.0</td>\n",
       "    </tr>\n",
       "    <tr>\n",
       "      <th>5</th>\n",
       "      <td>Добавить страницу отзывов клиентов о магазине, что позволит увеличить количество заказов</td>\n",
       "      <td>1.0</td>\n",
       "    </tr>\n",
       "    <tr>\n",
       "      <th>3</th>\n",
       "      <td>Изменить структура категорий, что увеличит конверсию, т.к. пользователи быстрее найдут нужный товар</td>\n",
       "      <td>1.0</td>\n",
       "    </tr>\n",
       "    <tr>\n",
       "      <th>4</th>\n",
       "      <td>Изменить цвет фона главной страницы, чтобы увеличить вовлеченность пользователей</td>\n",
       "      <td>1.0</td>\n",
       "    </tr>\n",
       "  </tbody>\n",
       "</table>\n",
       "</div>"
      ],
      "text/plain": [
       "                                                                                                     hypothesis  \\\n",
       "8                                                       Запустить акцию, дающую скидку на товар в день рождения   \n",
       "0            Добавить два новых канала привлечения трафика, что позволит привлекать на 30% больше пользователей   \n",
       "7              Добавить форму подписки на все основные страницы, чтобы собрать базу клиентов для email-рассылок   \n",
       "6          Показать на главной странице баннеры с актуальными акциями и распродажами, чтобы увеличить конверсию   \n",
       "2  Добавить блоки рекомендаций товаров на сайт интернет магазина, чтобы повысить конверсию и средний чек заказа   \n",
       "1                                     Запустить собственную службу доставки, что сократит срок доставки заказов   \n",
       "5                      Добавить страницу отзывов клиентов о магазине, что позволит увеличить количество заказов   \n",
       "3           Изменить структура категорий, что увеличит конверсию, т.к. пользователи быстрее найдут нужный товар   \n",
       "4                              Изменить цвет фона главной страницы, чтобы увеличить вовлеченность пользователей   \n",
       "\n",
       "    ICE  \n",
       "8  16.0  \n",
       "0  13.0  \n",
       "7  11.0  \n",
       "6   8.0  \n",
       "2   7.0  \n",
       "1   2.0  \n",
       "5   1.0  \n",
       "3   1.0  \n",
       "4   1.0  "
      ]
     },
     "metadata": {},
     "output_type": "display_data"
    }
   ],
   "source": [
    "pd.set_option('display.max_columns', None)\n",
    "pd.options.display.max_colwidth = 150\n",
    "hypothesis['ICE']= (hypothesis['impact']*hypothesis['confidence'])/hypothesis['efforts']\n",
    "hypothesis_ice = hypothesis[['hypothesis','ICE']].sort_values(by='ICE', ascending=False).round(0)\n",
    "display(hypothesis_ice)"
   ]
  },
  {
   "cell_type": "markdown",
   "id": "7b807cb0",
   "metadata": {},
   "source": [
    "#### Применение фреймворка RICE для приоритизации гипотез <a class=\"anchor\" id=\"third-bullet\">"
   ]
  },
  {
   "cell_type": "markdown",
   "id": "ffee273d",
   "metadata": {},
   "source": [
    "Фреймворк RICE состоит из четырёх компонент:\n",
    "* Reach — скольких пользователей затронет изменение, которое вы хотите внести;\n",
    "* Impact — насколько сильно изменение повлияет на пользователей, их опыт и удовлетворение от продукта;\n",
    "* Confidence — насколько вы уверены, что это изменение повлияет на пользователей именно так;\n",
    "* Efforts — сколько стоит протестировать эту гипотезу."
   ]
  },
  {
   "cell_type": "code",
   "execution_count": 8,
   "id": "a1cd886c",
   "metadata": {},
   "outputs": [
    {
     "data": {
      "text/html": [
       "<div>\n",
       "<style scoped>\n",
       "    .dataframe tbody tr th:only-of-type {\n",
       "        vertical-align: middle;\n",
       "    }\n",
       "\n",
       "    .dataframe tbody tr th {\n",
       "        vertical-align: top;\n",
       "    }\n",
       "\n",
       "    .dataframe thead th {\n",
       "        text-align: right;\n",
       "    }\n",
       "</style>\n",
       "<table border=\"1\" class=\"dataframe\">\n",
       "  <thead>\n",
       "    <tr style=\"text-align: right;\">\n",
       "      <th></th>\n",
       "      <th>hypothesis</th>\n",
       "      <th>RICE</th>\n",
       "    </tr>\n",
       "  </thead>\n",
       "  <tbody>\n",
       "    <tr>\n",
       "      <th>7</th>\n",
       "      <td>Добавить форму подписки на все основные страницы, чтобы собрать базу клиентов для email-рассылок</td>\n",
       "      <td>112.0</td>\n",
       "    </tr>\n",
       "    <tr>\n",
       "      <th>2</th>\n",
       "      <td>Добавить блоки рекомендаций товаров на сайт интернет магазина, чтобы повысить конверсию и средний чек заказа</td>\n",
       "      <td>56.0</td>\n",
       "    </tr>\n",
       "    <tr>\n",
       "      <th>0</th>\n",
       "      <td>Добавить два новых канала привлечения трафика, что позволит привлекать на 30% больше пользователей</td>\n",
       "      <td>40.0</td>\n",
       "    </tr>\n",
       "    <tr>\n",
       "      <th>6</th>\n",
       "      <td>Показать на главной странице баннеры с актуальными акциями и распродажами, чтобы увеличить конверсию</td>\n",
       "      <td>40.0</td>\n",
       "    </tr>\n",
       "    <tr>\n",
       "      <th>8</th>\n",
       "      <td>Запустить акцию, дающую скидку на товар в день рождения</td>\n",
       "      <td>16.0</td>\n",
       "    </tr>\n",
       "    <tr>\n",
       "      <th>3</th>\n",
       "      <td>Изменить структура категорий, что увеличит конверсию, т.к. пользователи быстрее найдут нужный товар</td>\n",
       "      <td>9.0</td>\n",
       "    </tr>\n",
       "    <tr>\n",
       "      <th>1</th>\n",
       "      <td>Запустить собственную службу доставки, что сократит срок доставки заказов</td>\n",
       "      <td>4.0</td>\n",
       "    </tr>\n",
       "    <tr>\n",
       "      <th>5</th>\n",
       "      <td>Добавить страницу отзывов клиентов о магазине, что позволит увеличить количество заказов</td>\n",
       "      <td>4.0</td>\n",
       "    </tr>\n",
       "    <tr>\n",
       "      <th>4</th>\n",
       "      <td>Изменить цвет фона главной страницы, чтобы увеличить вовлеченность пользователей</td>\n",
       "      <td>3.0</td>\n",
       "    </tr>\n",
       "  </tbody>\n",
       "</table>\n",
       "</div>"
      ],
      "text/plain": [
       "                                                                                                     hypothesis  \\\n",
       "7              Добавить форму подписки на все основные страницы, чтобы собрать базу клиентов для email-рассылок   \n",
       "2  Добавить блоки рекомендаций товаров на сайт интернет магазина, чтобы повысить конверсию и средний чек заказа   \n",
       "0            Добавить два новых канала привлечения трафика, что позволит привлекать на 30% больше пользователей   \n",
       "6          Показать на главной странице баннеры с актуальными акциями и распродажами, чтобы увеличить конверсию   \n",
       "8                                                       Запустить акцию, дающую скидку на товар в день рождения   \n",
       "3           Изменить структура категорий, что увеличит конверсию, т.к. пользователи быстрее найдут нужный товар   \n",
       "1                                     Запустить собственную службу доставки, что сократит срок доставки заказов   \n",
       "5                      Добавить страницу отзывов клиентов о магазине, что позволит увеличить количество заказов   \n",
       "4                              Изменить цвет фона главной страницы, чтобы увеличить вовлеченность пользователей   \n",
       "\n",
       "    RICE  \n",
       "7  112.0  \n",
       "2   56.0  \n",
       "0   40.0  \n",
       "6   40.0  \n",
       "8   16.0  \n",
       "3    9.0  \n",
       "1    4.0  \n",
       "5    4.0  \n",
       "4    3.0  "
      ]
     },
     "metadata": {},
     "output_type": "display_data"
    }
   ],
   "source": [
    "hypothesis['RICE'] = (hypothesis['reach'] * hypothesis['impact'] * hypothesis['confidence']) / hypothesis['efforts']\n",
    "hypothesis_rice = hypothesis[['hypothesis','RICE']].sort_values(by='RICE', ascending=False).round(0)\n",
    "display(hypothesis_rice)"
   ]
  },
  {
   "cell_type": "code",
   "execution_count": 9,
   "id": "bd3c6108",
   "metadata": {},
   "outputs": [
    {
     "data": {
      "text/html": [
       "<style  type=\"text/css\" >\n",
       "#T_604ba_row0_col1,#T_604ba_row2_col2{\n",
       "            background-color:  #0000ff;\n",
       "            color:  #f1f1f1;\n",
       "        }#T_604ba_row0_col2{\n",
       "            background-color:  #d4d4f4;\n",
       "            color:  #000000;\n",
       "        }#T_604ba_row1_col1{\n",
       "            background-color:  #3030fd;\n",
       "            color:  #f1f1f1;\n",
       "        }#T_604ba_row1_col2,#T_604ba_row3_col2{\n",
       "            background-color:  #9f9ff7;\n",
       "            color:  #000000;\n",
       "        }#T_604ba_row2_col1{\n",
       "            background-color:  #5050fb;\n",
       "            color:  #f1f1f1;\n",
       "        }#T_604ba_row3_col1{\n",
       "            background-color:  #8080f8;\n",
       "            color:  #000000;\n",
       "        }#T_604ba_row4_col1{\n",
       "            background-color:  #9090f8;\n",
       "            color:  #000000;\n",
       "        }#T_604ba_row4_col2{\n",
       "            background-color:  #7c7cf9;\n",
       "            color:  #000000;\n",
       "        }#T_604ba_row5_col1{\n",
       "            background-color:  #e0e0f4;\n",
       "            color:  #000000;\n",
       "        }#T_604ba_row5_col2,#T_604ba_row6_col2{\n",
       "            background-color:  #efeff3;\n",
       "            color:  #000000;\n",
       "        }#T_604ba_row6_col1,#T_604ba_row7_col1,#T_604ba_row8_col1,#T_604ba_row8_col2{\n",
       "            background-color:  #f0f0f3;\n",
       "            color:  #000000;\n",
       "        }#T_604ba_row7_col2{\n",
       "            background-color:  #e3e3f3;\n",
       "            color:  #000000;\n",
       "        }</style><table id=\"T_604ba_\" ><thead>    <tr>        <th class=\"blank level0\" ></th>        <th class=\"col_heading level0 col0\" >hypothesis</th>        <th class=\"col_heading level0 col1\" >ICE</th>        <th class=\"col_heading level0 col2\" >RICE</th>    </tr></thead><tbody>\n",
       "                <tr>\n",
       "                        <th id=\"T_604ba_level0_row0\" class=\"row_heading level0 row0\" >0</th>\n",
       "                        <td id=\"T_604ba_row0_col0\" class=\"data row0 col0\" >Запустить акцию, дающую скидку на товар в день рождения</td>\n",
       "                        <td id=\"T_604ba_row0_col1\" class=\"data row0 col1\" >16</td>\n",
       "                        <td id=\"T_604ba_row0_col2\" class=\"data row0 col2\" >16</td>\n",
       "            </tr>\n",
       "            <tr>\n",
       "                        <th id=\"T_604ba_level0_row1\" class=\"row_heading level0 row1\" >1</th>\n",
       "                        <td id=\"T_604ba_row1_col0\" class=\"data row1 col0\" >Добавить два новых канала привлечения трафика, что позволит привлекать на 30% больше пользователей</td>\n",
       "                        <td id=\"T_604ba_row1_col1\" class=\"data row1 col1\" >13</td>\n",
       "                        <td id=\"T_604ba_row1_col2\" class=\"data row1 col2\" >40</td>\n",
       "            </tr>\n",
       "            <tr>\n",
       "                        <th id=\"T_604ba_level0_row2\" class=\"row_heading level0 row2\" >2</th>\n",
       "                        <td id=\"T_604ba_row2_col0\" class=\"data row2 col0\" >Добавить форму подписки на все основные страницы, чтобы собрать базу клиентов для email-рассылок</td>\n",
       "                        <td id=\"T_604ba_row2_col1\" class=\"data row2 col1\" >11</td>\n",
       "                        <td id=\"T_604ba_row2_col2\" class=\"data row2 col2\" >112</td>\n",
       "            </tr>\n",
       "            <tr>\n",
       "                        <th id=\"T_604ba_level0_row3\" class=\"row_heading level0 row3\" >3</th>\n",
       "                        <td id=\"T_604ba_row3_col0\" class=\"data row3 col0\" >Показать на главной странице баннеры с актуальными акциями и распродажами, чтобы увеличить конверсию</td>\n",
       "                        <td id=\"T_604ba_row3_col1\" class=\"data row3 col1\" >8</td>\n",
       "                        <td id=\"T_604ba_row3_col2\" class=\"data row3 col2\" >40</td>\n",
       "            </tr>\n",
       "            <tr>\n",
       "                        <th id=\"T_604ba_level0_row4\" class=\"row_heading level0 row4\" >4</th>\n",
       "                        <td id=\"T_604ba_row4_col0\" class=\"data row4 col0\" >Добавить блоки рекомендаций товаров на сайт интернет магазина, чтобы повысить конверсию и средний чек заказа</td>\n",
       "                        <td id=\"T_604ba_row4_col1\" class=\"data row4 col1\" >7</td>\n",
       "                        <td id=\"T_604ba_row4_col2\" class=\"data row4 col2\" >56</td>\n",
       "            </tr>\n",
       "            <tr>\n",
       "                        <th id=\"T_604ba_level0_row5\" class=\"row_heading level0 row5\" >5</th>\n",
       "                        <td id=\"T_604ba_row5_col0\" class=\"data row5 col0\" >Запустить собственную службу доставки, что сократит срок доставки заказов</td>\n",
       "                        <td id=\"T_604ba_row5_col1\" class=\"data row5 col1\" >2</td>\n",
       "                        <td id=\"T_604ba_row5_col2\" class=\"data row5 col2\" >4</td>\n",
       "            </tr>\n",
       "            <tr>\n",
       "                        <th id=\"T_604ba_level0_row6\" class=\"row_heading level0 row6\" >6</th>\n",
       "                        <td id=\"T_604ba_row6_col0\" class=\"data row6 col0\" >Добавить страницу отзывов клиентов о магазине, что позволит увеличить количество заказов</td>\n",
       "                        <td id=\"T_604ba_row6_col1\" class=\"data row6 col1\" >1</td>\n",
       "                        <td id=\"T_604ba_row6_col2\" class=\"data row6 col2\" >4</td>\n",
       "            </tr>\n",
       "            <tr>\n",
       "                        <th id=\"T_604ba_level0_row7\" class=\"row_heading level0 row7\" >7</th>\n",
       "                        <td id=\"T_604ba_row7_col0\" class=\"data row7 col0\" >Изменить структура категорий, что увеличит конверсию, т.к. пользователи быстрее найдут нужный товар</td>\n",
       "                        <td id=\"T_604ba_row7_col1\" class=\"data row7 col1\" >1</td>\n",
       "                        <td id=\"T_604ba_row7_col2\" class=\"data row7 col2\" >9</td>\n",
       "            </tr>\n",
       "            <tr>\n",
       "                        <th id=\"T_604ba_level0_row8\" class=\"row_heading level0 row8\" >8</th>\n",
       "                        <td id=\"T_604ba_row8_col0\" class=\"data row8 col0\" >Изменить цвет фона главной страницы, чтобы увеличить вовлеченность пользователей</td>\n",
       "                        <td id=\"T_604ba_row8_col1\" class=\"data row8 col1\" >1</td>\n",
       "                        <td id=\"T_604ba_row8_col2\" class=\"data row8 col2\" >3</td>\n",
       "            </tr>\n",
       "    </tbody></table>"
      ],
      "text/plain": [
       "<pandas.io.formats.style.Styler at 0x7f16b90a38b0>"
      ]
     },
     "execution_count": 9,
     "metadata": {},
     "output_type": "execute_result"
    }
   ],
   "source": [
    "# объединение двух таблиц\n",
    "hypothesis_merged = hypothesis_ice.merge(hypothesis_rice, on = 'hypothesis')\n",
    "hypothesis_merged['ICE'] = hypothesis_merged['ICE'].astype('int')\n",
    "hypothesis_merged['RICE'] = hypothesis_merged['RICE'].astype('int')\n",
    "pallete = sns.light_palette(\"blue\", as_cmap=True)\n",
    "hypothesis_merged.style.background_gradient(cmap=pallete)\n"
   ]
  },
  {
   "cell_type": "markdown",
   "id": "c59d9f46",
   "metadata": {},
   "source": [
    "* Приоритезация гипотез при применении фреймворка RICE не совпадает с приоритезацией при применении фреймворка ICE в связи с тем, что фреймворк RICE включает в числе компонент Reach, который отвечает за оценку количества пользователей, которых затронет вносимое изненение\n",
    "* Параметры impact (влияние), confidence (уверенность), effort (усилия) применимы как для фреймворка ICE, так и для фреймворка RICE \n",
    "* Таким, образом, без учета охвата самая приоритетная гипотеза 8 (запустить акцию на день рождения), а с учетом охвата самая приоритетная - 7 (добавить форму подписки на основные страницы)"
   ]
  },
  {
   "cell_type": "markdown",
   "id": "231ca9c5",
   "metadata": {},
   "source": [
    "### Часть 2. Анализ A/B-теста <a class=\"anchor\" id=\"fourth-bullet\">"
   ]
  },
  {
   "cell_type": "markdown",
   "id": "008dbb92",
   "metadata": {},
   "source": [
    "Задача\n",
    "Проанализируйте A/B-тест:\n",
    "* Постройте график кумулятивной выручки по группам. Сделайте выводы и предположения.\n",
    "* Постройте график кумулятивного среднего чека по группам. Сделайте выводы и предположения.\n",
    "* Постройте график относительного изменения кумулятивного среднего чека группы B к группе A. Сделайте выводы и предположения.\n",
    "* Постройте график кумулятивной конверсии по группам. Сделайте выводы и предположения.\n",
    "* Постройте график относительного изменения кумулятивной конверсии группы B к группе A. Сделайте выводы и предположения.\n",
    "* Постройте точечный график количества заказов по пользователям. Сделайте выводы и предположения.\n",
    "* Посчитайте 95-й и 99-й перцентили количества заказов на пользователя. Выберите границу для определения аномальных пользователей.\n",
    "* Постройте точечный график стоимостей заказов. Сделайте выводы и предположения.\n",
    "* Посчитайте 95-й и 99-й перцентили стоимости заказов. Выберите границу для определения аномальных заказов.\n",
    "* Посчитайте статистическую значимость различий в конверсии между группами по «сырым» данным. Сделайте выводы и предположения.\n",
    "* Посчитайте статистическую значимость различий в среднем чеке заказа между группами по «сырым» данным. Сделайте выводы и предположения.\n",
    "* Посчитайте статистическую значимость различий в конверсии между группами по «очищенным» данным. Сделайте выводы и предположения.\n",
    "* Посчитайте статистическую значимость различий в среднем чеке заказа между группами по «очищенным» данным. Сделайте выводы и предположения.\n",
    "* Примите решение по результатам теста и объясните его. Варианты решений: 1. Остановить тест, зафиксировать победу одной из групп. 2. Остановить тест, зафиксировать отсутствие различий между группами. 3. Продолжить тест."
   ]
  },
  {
   "cell_type": "markdown",
   "id": "021c3e14",
   "metadata": {},
   "source": [
    "#### График стоимости заказов по пользователям <a class=\"anchor\" id=\"fifth-bullet\">"
   ]
  },
  {
   "cell_type": "code",
   "execution_count": 10,
   "id": "e37fdefa",
   "metadata": {},
   "outputs": [
    {
     "data": {
      "image/png": "[encoded data removed]",
      "text/plain": [
       "<Figure size 1080x720 with 1 Axes>"
      ]
     },
     "metadata": {
      "needs_background": "light"
     },
     "output_type": "display_data"
    }
   ],
   "source": [
    "plt.figure(figsize=(15, 10))\n",
    "plt.hist(orders['revenue'])\n",
    "plt.grid()\n",
    "plt.title('Гистограмма стоимости заказов в зависимости от количества пользователей')\n",
    "plt.xlabel(\"Стоимость заказов\")\n",
    "plt.ylabel(\"Количество пользователей\")\n",
    "plt.show()"
   ]
  },
  {
   "cell_type": "markdown",
   "id": "df0401c3",
   "metadata": {},
   "source": [
    "* Гистограмма зависимости стоимости заказов показывает, что большинство заказов не превышают по стоимости 100000 рублей"
   ]
  },
  {
   "cell_type": "code",
   "execution_count": 11,
   "id": "a0f96dcb",
   "metadata": {},
   "outputs": [
    {
     "data": {
      "image/png": "[encoded data removed]",
      "text/plain": [
       "<Figure size 1080x720 with 1 Axes>"
      ]
     },
     "metadata": {
      "needs_background": "light"
     },
     "output_type": "display_data"
    }
   ],
   "source": [
    "plt.figure(figsize=(15, 10))\n",
    "x_values = pd.Series(range(0,len(orders['revenue'])))\n",
    "plt.scatter(x_values, orders['revenue']) \n",
    "plt.grid()\n",
    "plt.title('График рассеяния стоимости заказов в зависимости от количества пользователей')\n",
    "plt.xlabel(\"Стоимость заказов\")\n",
    "plt.ylabel(\"Количество пользователей\")\n",
    "plt.show()"
   ]
  },
  {
   "cell_type": "markdown",
   "id": "f8635c8c",
   "metadata": {},
   "source": [
    "* По данным диаграммы рассеяния стоимость большинства заказов менее 25000 рублей"
   ]
  },
  {
   "cell_type": "code",
   "execution_count": 12,
   "id": "0bfd97a5",
   "metadata": {},
   "outputs": [
    {
     "name": "stdout",
     "output_type": "stream",
     "text": [
      "[28000.  58233.2]\n"
     ]
    }
   ],
   "source": [
    "print(np.percentile(orders['revenue'], [95, 99])) "
   ]
  },
  {
   "cell_type": "markdown",
   "id": "fc7360f0",
   "metadata": {},
   "source": [
    "* Стоимость не более чем 5% заказов более 28000 рублей\n",
    "* Стоимость не больше чем 1% - более 58233 рублей\n",
    "* Пользователей со стоимостью заказов более 28000 рублей можно считать аномальными"
   ]
  },
  {
   "cell_type": "markdown",
   "id": "f3dea863",
   "metadata": {},
   "source": [
    "#### График количества заказов по пользователям <a class=\"anchor\" id=\"sixth-bullet\">"
   ]
  },
  {
   "cell_type": "code",
   "execution_count": 13,
   "id": "6071628d",
   "metadata": {},
   "outputs": [
    {
     "name": "stdout",
     "output_type": "stream",
     "text": [
      "       visitorId  transaction\n",
      "1023  4256040402           11\n",
      "591   2458001652           11\n",
      "569   2378935119            9\n",
      "487   2038680547            8\n",
      "44     199603092            5\n",
      "744   3062433592            5\n",
      "55     237748145            5\n",
      "917   3803269165            5\n",
      "299   1230306981            5\n",
      "897   3717692402            5\n"
     ]
    }
   ],
   "source": [
    "ordersByUsers = (\n",
    "    orders.groupby('visitorId', as_index=False)\n",
    "    .agg({'transactionId': 'nunique'})\n",
    ")\n",
    "\n",
    "ordersByUsers.columns = ['visitorId', 'transaction']\n",
    "\n",
    "print(ordersByUsers.sort_values(by='transaction', ascending=False).head(10))"
   ]
  },
  {
   "cell_type": "code",
   "execution_count": 14,
   "id": "a7bc1284",
   "metadata": {
    "scrolled": false
   },
   "outputs": [
    {
     "data": {
      "image/png": "[encoded data removed]",
      "text/plain": [
       "<Figure size 1080x720 with 1 Axes>"
      ]
     },
     "metadata": {
      "needs_background": "light"
     },
     "output_type": "display_data"
    }
   ],
   "source": [
    "plt.figure(figsize=(15, 10))\n",
    "plt.hist(ordersByUsers['transaction']) \n",
    "plt.grid()\n",
    "plt.show()"
   ]
  },
  {
   "cell_type": "markdown",
   "id": "23710150",
   "metadata": {},
   "source": [
    "* Гистограмма распределения показывает, что большинство пользователей сделало 1 заказ, тем не менее, есть некоторое количество пользователей, совершивших 2-6 заказов, а также более 8 заказов (похоже на аномальное значение, которое, возможно, придется исключить из анализа)"
   ]
  },
  {
   "cell_type": "code",
   "execution_count": 15,
   "id": "a7b5e656",
   "metadata": {},
   "outputs": [
    {
     "data": {
      "image/png": "[encoded data removed]",
      "text/plain": [
       "<Figure size 1080x720 with 1 Axes>"
      ]
     },
     "metadata": {
      "needs_background": "light"
     },
     "output_type": "display_data"
    }
   ],
   "source": [
    "plt.figure(figsize=(15, 10))\n",
    "x_values = pd.Series(range(0,len(ordersByUsers)))\n",
    "plt.scatter(x_values, ordersByUsers['transaction']) \n",
    "plt.grid()\n",
    "plt.show()"
   ]
  },
  {
   "cell_type": "markdown",
   "id": "b7f5a5ef",
   "metadata": {},
   "source": [
    "* Анализ гистограммы и диаграммы рассеяния позволяет сделать вывод что наиболее распространенное количество заказов от 1 до 2х\n",
    "* Процент пользователей, сделавших более 2 заказов заметно снижается"
   ]
  },
  {
   "cell_type": "code",
   "execution_count": 16,
   "id": "1a509ee2",
   "metadata": {},
   "outputs": [
    {
     "name": "stdout",
     "output_type": "stream",
     "text": [
      "[2. 4.]\n"
     ]
    }
   ],
   "source": [
    "print(np.percentile(ordersByUsers['transaction'], [95, 99])) "
   ]
  },
  {
   "cell_type": "markdown",
   "id": "16468252",
   "metadata": {},
   "source": [
    "* Не более 5% пользователей совершали более 2 заказов\n",
    "* Не более 1% пользователей совершали более 4 заказов\n",
    "* Т.о. пользователей, сделавших более 2х заказов можно рассматривать как аномалию"
   ]
  },
  {
   "cell_type": "markdown",
   "id": "60f4ab7e",
   "metadata": {},
   "source": [
    "#### График кумулятивной конверсии по группам <a class=\"anchor\" id=\"seventh-bullet\">"
   ]
  },
  {
   "cell_type": "code",
   "execution_count": 17,
   "id": "d21a2b2a",
   "metadata": {},
   "outputs": [],
   "source": [
    "# создаем массив уникальных пар значений дат и групп теста\n",
    "datesGroups = orders[['date','group']].drop_duplicates()"
   ]
  },
  {
   "cell_type": "code",
   "execution_count": 18,
   "id": "fb1d1985",
   "metadata": {},
   "outputs": [],
   "source": [
    "ordersAggregated = datesGroups.apply(lambda x: orders[np.logical_and(orders['date'] <= x['date'], orders['group'] == x['group'])]\\\n",
    ".agg({'date' : 'max', 'group' : 'max', 'transactionId' : 'nunique', 'visitorId' : 'nunique', 'revenue' : 'sum'}), axis=1).sort_values(by=['date','group'])"
   ]
  },
  {
   "cell_type": "code",
   "execution_count": 19,
   "id": "861dba14",
   "metadata": {},
   "outputs": [],
   "source": [
    "visitorsAggregated = datesGroups.apply(lambda x: visitors[np.logical_and(visitors['date'] <= x['date'], visitors['group'] == x['group'])].agg({'date' : 'max', 'group' : 'max', 'visitors' : 'sum'}), axis=1).sort_values(by=['date','group'])"
   ]
  },
  {
   "cell_type": "code",
   "execution_count": 20,
   "id": "9ae5ea63",
   "metadata": {},
   "outputs": [
    {
     "name": "stdout",
     "output_type": "stream",
     "text": [
      "        date group  orders  buyers  revenue  visitors\n",
      "0 2019-08-01     A      24      20   148579       719\n",
      "1 2019-08-01     B      21      20   101217       713\n",
      "2 2019-08-02     A      44      38   242401      1338\n",
      "3 2019-08-02     B      45      43   266748      1294\n",
      "4 2019-08-03     A      68      62   354874      1845\n"
     ]
    }
   ],
   "source": [
    "cumulativeData = ordersAggregated.merge(visitorsAggregated, left_on=['date', 'group'], right_on=['date', 'group'])\n",
    "cumulativeData.columns = ['date', 'group', 'orders', 'buyers', 'revenue', 'visitors']\n",
    "\n",
    "print(cumulativeData.head(5)) \n"
   ]
  },
  {
   "cell_type": "code",
   "execution_count": 21,
   "id": "929465eb",
   "metadata": {},
   "outputs": [
    {
     "data": {
      "image/png": "[encoded data removed]",
      "text/plain": [
       "<Figure size 1080x720 with 1 Axes>"
      ]
     },
     "metadata": {
      "needs_background": "light"
     },
     "output_type": "display_data"
    }
   ],
   "source": [
    "# считаем кумулятивную конверсию\n",
    "cumulativeData['conversion'] = cumulativeData['orders']/cumulativeData['visitors']\n",
    "\n",
    "# отделяем данные по группе A\n",
    "cumulativeDataA = cumulativeData[cumulativeData['group']=='A']\n",
    "\n",
    "# отделяем данные по группе B\n",
    "cumulativeDataB = cumulativeData[cumulativeData['group']=='B']\n",
    "\n",
    "# строим графики\n",
    "plt.figure(figsize=(15, 10))\n",
    "plt.plot(cumulativeDataA['date'], cumulativeDataA['conversion'], label='A')\n",
    "plt.plot(cumulativeDataB['date'], cumulativeDataB['conversion'], label='B')\n",
    "plt.title('График кумулятивной конверсии по группам')\n",
    "plt.xlabel(\"Дата\")\n",
    "plt.ylabel(\"Кумулятивная конверсия по группам\")\n",
    "plt.legend()\n",
    "plt.grid()\n",
    "plt.show()"
   ]
  },
  {
   "cell_type": "markdown",
   "id": "804cdb12",
   "metadata": {},
   "source": [
    "* После 5.08 наблюдается снижение конверсии длягруппы А в 1,2 раза\n",
    "* Для группы В наблюдается спад в это же период, после которого происходит рост и конверсия держится на уровне 0,034 без резких скачков "
   ]
  },
  {
   "cell_type": "markdown",
   "id": "c4f684d9",
   "metadata": {},
   "source": [
    "#### График относительного изменения кумулятивной конверсии группы B к группе A <a class=\"anchor\" id=\"eight-bullet\">"
   ]
  },
  {
   "cell_type": "code",
   "execution_count": 22,
   "id": "23d3cfc4",
   "metadata": {},
   "outputs": [
    {
     "data": {
      "image/png": "[encoded data removed]",
      "text/plain": [
       "<Figure size 1080x720 with 1 Axes>"
      ]
     },
     "metadata": {
      "needs_background": "light"
     },
     "output_type": "display_data"
    }
   ],
   "source": [
    "mergedCumulativeConversions = cumulativeDataA[['date','conversion']].merge(cumulativeDataB[['date','conversion']], left_on='date', right_on='date', how='left', suffixes=['A', 'B'])\n",
    "plt.figure(figsize=(15, 10))\n",
    "plt.plot(mergedCumulativeConversions['date'], mergedCumulativeConversions['conversionB']/mergedCumulativeConversions['conversionA']-1, label=\"Относительный прирост конверсии группы B относительно группы A\")\n",
    "\n",
    "\n",
    "plt.axhline(y=0, color='black', linestyle='--')\n",
    "plt.axhline(y=0.2, color='grey', linestyle='--')\n",
    "plt.title('График относительного изменения кумулятивной конверсии')\n",
    "plt.xlabel(\"Дата\")\n",
    "plt.ylabel(\"Кумулятивная конверсия по группам\")\n",
    "plt.grid()\n",
    "plt.show()"
   ]
  },
  {
   "cell_type": "markdown",
   "id": "e4b994ed",
   "metadata": {},
   "source": [
    "* Группа В лидирует по конверсии практически все время, за исключением периода 2.08 - 5.08\n",
    "* Относительный прирост конверсии группы В достигает значения 0.2 17.08, далее происходит снижение"
   ]
  },
  {
   "cell_type": "markdown",
   "id": "52cb618a",
   "metadata": {},
   "source": [
    "#### График кумулятивной выручки по группам <a class=\"anchor\" id=\"ninth-bullet\">"
   ]
  },
  {
   "cell_type": "code",
   "execution_count": 23,
   "id": "87b9756f",
   "metadata": {},
   "outputs": [
    {
     "data": {
      "image/png": "[encoded data removed]",
      "text/plain": [
       "<Figure size 1080x720 with 1 Axes>"
      ]
     },
     "metadata": {
      "needs_background": "light"
     },
     "output_type": "display_data"
    }
   ],
   "source": [
    "# датафрейм с кумулятивным количеством заказов и кумулятивной выручкой по дням в группе А\n",
    "cumulativeRevenueA = cumulativeData[cumulativeData['group']=='A'][['date','revenue', 'orders']]\n",
    "\n",
    "# датафрейм с кумулятивным количеством заказов и кумулятивной выручкой по дням в группе B\n",
    "cumulativeRevenueB = cumulativeData[cumulativeData['group']=='B'][['date','revenue', 'orders']]\n",
    "plt.figure(figsize=(15, 10))\n",
    "# Строим график выручки группы А\n",
    "plt.plot(cumulativeRevenueA['date'], cumulativeRevenueA['revenue'], label='A')\n",
    "\n",
    "# Строим график выручки группы B\n",
    "plt.plot(cumulativeRevenueB['date'], cumulativeRevenueB['revenue'], label='B')\n",
    "plt.title('График кумулятивной выручки по группам')\n",
    "plt.xlabel(\"Дата\")\n",
    "plt.ylabel(\"Кумулятивная выручка по группам\")\n",
    "plt.annotate('скачок', xy=(dt.datetime(2019, 8, 17), 2800000), xytext=(dt.datetime(2019, 8, 10), 3500000),\n",
    "            arrowprops=dict(facecolor='g'))\n",
    "plt.annotate('отрыв', xy=(dt.datetime(2019, 8, 5), 800000), xytext=(dt.datetime(2019, 8, 5), 2000000),\n",
    "            arrowprops=dict(facecolor='g'))\n",
    "plt.legend()\n",
    "plt.grid()\n",
    "plt.show()"
   ]
  },
  {
   "cell_type": "markdown",
   "id": "8ddff588",
   "metadata": {},
   "source": [
    "* График кумулятивной выручки по группам показывает что до 5.08 выручка растет и ее увеличение одинаково для групп А и B\n",
    "* Далее в период 5.08 - 18.08 характер распределение одинаков, при этом, для группы В наблюдается увеличение значений по сравнению с группой А\n",
    "* После 18.08 кумулятивная выручка группы В скачкообразно растет и с этого момента доконца месяца в 1,5 раза превышает выручку группы А"
   ]
  },
  {
   "cell_type": "markdown",
   "id": "f7505934",
   "metadata": {},
   "source": [
    "#### График кумулятивного среднего чека по группам<a class=\"anchor\" id=\"tenth-bullet\">"
   ]
  },
  {
   "cell_type": "code",
   "execution_count": 24,
   "id": "210fa2e5",
   "metadata": {},
   "outputs": [
    {
     "data": {
      "image/png": "[encoded data removed]",
      "text/plain": [
       "<Figure size 1080x720 with 1 Axes>"
      ]
     },
     "metadata": {
      "needs_background": "light"
     },
     "output_type": "display_data"
    }
   ],
   "source": [
    "plt.figure(figsize=(15,10))\n",
    "plt.plot(cumulativeRevenueA['date'], cumulativeRevenueA['revenue']/cumulativeRevenueA['orders'], label='A')\n",
    "plt.plot(cumulativeRevenueB['date'], cumulativeRevenueB['revenue']/cumulativeRevenueB['orders'], label='B')\n",
    "\n",
    "plt.legend()\n",
    "plt.title('График кумулятивного среднего чека по группам')\n",
    "plt.xlabel(\"Дата\")\n",
    "plt.ylabel(\"Кумулятивный средний чек\")\n",
    "plt.legend()\n",
    "plt.grid()\n",
    "plt.show()"
   ]
  },
  {
   "cell_type": "markdown",
   "id": "fc3cb0ae",
   "metadata": {},
   "source": [
    "* Наблюдается скачок значений среднего чека для группы В после 17.08 в 1,44 раз"
   ]
  },
  {
   "cell_type": "markdown",
   "id": "9782af9b",
   "metadata": {},
   "source": [
    "#### График относительного изменения кумулятивного среднего чека группы B к группе A <a class=\"anchor\" id=\"eleventh-bullet\">"
   ]
  },
  {
   "cell_type": "code",
   "execution_count": 25,
   "id": "5aaf7b3d",
   "metadata": {},
   "outputs": [
    {
     "data": {
      "image/png": "[encoded data removed]",
      "text/plain": [
       "<Figure size 1080x720 with 1 Axes>"
      ]
     },
     "metadata": {
      "needs_background": "light"
     },
     "output_type": "display_data"
    }
   ],
   "source": [
    "# собираем данные в одном датафрейме\n",
    "mergedCumulativeRevenue = cumulativeRevenueA.merge(cumulativeRevenueB, left_on='date', right_on='date', how='left', suffixes=['A', 'B'])\n",
    "\n",
    "# cтроим отношение средних чеков\n",
    "plt.figure(figsize=(15,10))\n",
    "plt.plot(mergedCumulativeRevenue['date'], (mergedCumulativeRevenue['revenueB']/mergedCumulativeRevenue['ordersB'])/(mergedCumulativeRevenue['revenueA']/mergedCumulativeRevenue['ordersA'])-1)\n",
    "\n",
    "# добавляем ось X\n",
    "plt.axhline(y=0, color='red', linestyle='--') \n",
    "plt.title('График относительного изменения кумулятивного среднего чека группы B к группе A')\n",
    "plt.xlabel(\"Дата\")\n",
    "plt.ylabel(\"Относительное изменение кумулятивного среднего чека по группам\")\n",
    "plt.grid()\n",
    "plt.show()"
   ]
  },
  {
   "cell_type": "markdown",
   "id": "1b05516b",
   "metadata": {},
   "source": [
    "График относительного изменения кумулятивного среднего чека группы B к группе A скачкообразный, с резкими перевадами в данных, что может указывать на наличие аномалий."
   ]
  },
  {
   "cell_type": "markdown",
   "id": "f9e51785",
   "metadata": {},
   "source": [
    "#### Подсчет статистической значимости различий в конверсии между группами по «сырым» данным <a class=\"anchor\" id=\"twelveth-bullet\">"
   ]
  },
  {
   "cell_type": "markdown",
   "id": "561f030a",
   "metadata": {},
   "source": [
    "Сформулируем нулевую и альтернативную гипотезы:\n",
    "    \n",
    "* H₀ - Вероятность того, что наблюдение из популяции B превышает наблюдение из популяции A равна 50%\n",
    "* H₁ - Вероятность того, что наблюдение из популяции B превышает наблюдение из популяции A не равна 50%\n",
    "\n",
    "Оценим статистическую значимость различий в конверсии между группами по «сырым» данным — т.е. без удаления аномальных пользователей."
   ]
  },
  {
   "cell_type": "code",
   "execution_count": 26,
   "id": "c842ce8c",
   "metadata": {},
   "outputs": [],
   "source": [
    "visitorsADaily = visitors[visitors['group'] == 'A'][['date', 'visitors']]\n",
    "visitorsADaily.columns = ['date', 'visitorsPerDateA']"
   ]
  },
  {
   "cell_type": "code",
   "execution_count": 27,
   "id": "44f936d6",
   "metadata": {},
   "outputs": [],
   "source": [
    "visitorsACummulative = visitorsADaily.apply(\n",
    "    lambda x: visitorsADaily[visitorsADaily['date'] <= x['date']].agg(\n",
    "        {'date': 'max', 'visitorsPerDateA': 'sum'}\n",
    "    ),\n",
    "    axis=1,\n",
    ")\n",
    "visitorsACummulative.columns = ['date', 'visitorsCummulativeA']\n",
    "\n",
    "visitorsBDaily = visitors[visitors['group'] == 'B'][['date', 'visitors']]\n",
    "visitorsBDaily.columns = ['date', 'visitorsPerDateB']\n",
    "\n",
    "visitorsBCummulative = visitorsBDaily.apply(\n",
    "    lambda x: visitorsBDaily[visitorsBDaily['date'] <= x['date']].agg(\n",
    "        {'date': 'max', 'visitorsPerDateB': 'sum'}\n",
    "    ),\n",
    "    axis=1,\n",
    ")\n",
    "visitorsBCummulative.columns = ['date', 'visitorsCummulativeB']"
   ]
  },
  {
   "cell_type": "code",
   "execution_count": 28,
   "id": "17701e6e",
   "metadata": {},
   "outputs": [],
   "source": [
    "ordersADaily = (\n",
    "    orders[orders['group'] == 'A'][['date', 'transactionId', 'visitorId', 'revenue']]\n",
    "    .groupby('date', as_index=False)\n",
    "    .agg({'transactionId': pd.Series.nunique, 'revenue': 'sum'})\n",
    ")\n",
    "ordersADaily.columns = ['date', 'ordersPerDateA', 'revenuePerDateA']\n",
    "\n",
    "ordersACummulative = ordersADaily.apply(\n",
    "    lambda x: ordersADaily[ordersADaily['date'] <= x['date']].agg(\n",
    "        {'date': 'max', 'ordersPerDateA': 'sum', 'revenuePerDateA': 'sum'}\n",
    "    ),\n",
    "    axis=1,\n",
    ").sort_values(by=['date'])\n",
    "ordersACummulative.columns = [\n",
    "    'date',\n",
    "    'ordersCummulativeA',\n",
    "    'revenueCummulativeA',\n",
    "]\n",
    "\n",
    "ordersBDaily = (\n",
    "    orders[orders['group'] == 'B'][['date', 'transactionId', 'visitorId', 'revenue']]\n",
    "    .groupby('date', as_index=False)\n",
    "    .agg({'transactionId': pd.Series.nunique, 'revenue': 'sum'})\n",
    ")\n",
    "ordersBDaily.columns = ['date', 'ordersPerDateB', 'revenuePerDateB']\n",
    "\n",
    "ordersBCummulative = ordersBDaily.apply(\n",
    "    lambda x: ordersBDaily[ordersBDaily['date'] <= x['date']].agg(\n",
    "        {'date': 'max', 'ordersPerDateB': 'sum', 'revenuePerDateB': 'sum'}\n",
    "    ),\n",
    "    axis=1,\n",
    ").sort_values(by=['date'])\n",
    "ordersBCummulative.columns = [\n",
    "    'date',\n",
    "    'ordersCummulativeB',\n",
    "    'revenueCummulativeB',\n",
    "]"
   ]
  },
  {
   "cell_type": "code",
   "execution_count": 29,
   "id": "9be4c453",
   "metadata": {},
   "outputs": [
    {
     "data": {
      "text/html": [
       "<div>\n",
       "<style scoped>\n",
       "    .dataframe tbody tr th:only-of-type {\n",
       "        vertical-align: middle;\n",
       "    }\n",
       "\n",
       "    .dataframe tbody tr th {\n",
       "        vertical-align: top;\n",
       "    }\n",
       "\n",
       "    .dataframe thead th {\n",
       "        text-align: right;\n",
       "    }\n",
       "</style>\n",
       "<table border=\"1\" class=\"dataframe\">\n",
       "  <thead>\n",
       "    <tr style=\"text-align: right;\">\n",
       "      <th></th>\n",
       "      <th>date</th>\n",
       "      <th>ordersPerDateA</th>\n",
       "      <th>revenuePerDateA</th>\n",
       "      <th>ordersPerDateB</th>\n",
       "      <th>revenuePerDateB</th>\n",
       "      <th>ordersCummulativeA</th>\n",
       "      <th>revenueCummulativeA</th>\n",
       "      <th>ordersCummulativeB</th>\n",
       "      <th>revenueCummulativeB</th>\n",
       "      <th>visitorsPerDateA</th>\n",
       "      <th>visitorsPerDateB</th>\n",
       "      <th>visitorsCummulativeA</th>\n",
       "      <th>visitorsCummulativeB</th>\n",
       "    </tr>\n",
       "  </thead>\n",
       "  <tbody>\n",
       "    <tr>\n",
       "      <th>0</th>\n",
       "      <td>2019-08-01</td>\n",
       "      <td>24</td>\n",
       "      <td>148579</td>\n",
       "      <td>21</td>\n",
       "      <td>101217</td>\n",
       "      <td>24</td>\n",
       "      <td>148579</td>\n",
       "      <td>21</td>\n",
       "      <td>101217</td>\n",
       "      <td>719</td>\n",
       "      <td>713</td>\n",
       "      <td>719</td>\n",
       "      <td>713</td>\n",
       "    </tr>\n",
       "    <tr>\n",
       "      <th>1</th>\n",
       "      <td>2019-08-02</td>\n",
       "      <td>20</td>\n",
       "      <td>93822</td>\n",
       "      <td>24</td>\n",
       "      <td>165531</td>\n",
       "      <td>44</td>\n",
       "      <td>242401</td>\n",
       "      <td>45</td>\n",
       "      <td>266748</td>\n",
       "      <td>619</td>\n",
       "      <td>581</td>\n",
       "      <td>1338</td>\n",
       "      <td>1294</td>\n",
       "    </tr>\n",
       "    <tr>\n",
       "      <th>2</th>\n",
       "      <td>2019-08-03</td>\n",
       "      <td>24</td>\n",
       "      <td>112473</td>\n",
       "      <td>16</td>\n",
       "      <td>114248</td>\n",
       "      <td>68</td>\n",
       "      <td>354874</td>\n",
       "      <td>61</td>\n",
       "      <td>380996</td>\n",
       "      <td>507</td>\n",
       "      <td>509</td>\n",
       "      <td>1845</td>\n",
       "      <td>1803</td>\n",
       "    </tr>\n",
       "    <tr>\n",
       "      <th>3</th>\n",
       "      <td>2019-08-04</td>\n",
       "      <td>16</td>\n",
       "      <td>70825</td>\n",
       "      <td>17</td>\n",
       "      <td>108571</td>\n",
       "      <td>84</td>\n",
       "      <td>425699</td>\n",
       "      <td>78</td>\n",
       "      <td>489567</td>\n",
       "      <td>717</td>\n",
       "      <td>770</td>\n",
       "      <td>2562</td>\n",
       "      <td>2573</td>\n",
       "    </tr>\n",
       "    <tr>\n",
       "      <th>4</th>\n",
       "      <td>2019-08-05</td>\n",
       "      <td>25</td>\n",
       "      <td>124218</td>\n",
       "      <td>23</td>\n",
       "      <td>92428</td>\n",
       "      <td>109</td>\n",
       "      <td>549917</td>\n",
       "      <td>101</td>\n",
       "      <td>581995</td>\n",
       "      <td>756</td>\n",
       "      <td>707</td>\n",
       "      <td>3318</td>\n",
       "      <td>3280</td>\n",
       "    </tr>\n",
       "  </tbody>\n",
       "</table>\n",
       "</div>"
      ],
      "text/plain": [
       "        date  ordersPerDateA  revenuePerDateA  ordersPerDateB  \\\n",
       "0 2019-08-01              24           148579              21   \n",
       "1 2019-08-02              20            93822              24   \n",
       "2 2019-08-03              24           112473              16   \n",
       "3 2019-08-04              16            70825              17   \n",
       "4 2019-08-05              25           124218              23   \n",
       "\n",
       "   revenuePerDateB  ordersCummulativeA  revenueCummulativeA  \\\n",
       "0           101217                  24               148579   \n",
       "1           165531                  44               242401   \n",
       "2           114248                  68               354874   \n",
       "3           108571                  84               425699   \n",
       "4            92428                 109               549917   \n",
       "\n",
       "   ordersCummulativeB  revenueCummulativeB  visitorsPerDateA  \\\n",
       "0                  21               101217               719   \n",
       "1                  45               266748               619   \n",
       "2                  61               380996               507   \n",
       "3                  78               489567               717   \n",
       "4                 101               581995               756   \n",
       "\n",
       "   visitorsPerDateB  visitorsCummulativeA  visitorsCummulativeB  \n",
       "0               713                   719                   713  \n",
       "1               581                  1338                  1294  \n",
       "2               509                  1845                  1803  \n",
       "3               770                  2562                  2573  \n",
       "4               707                  3318                  3280  "
      ]
     },
     "metadata": {},
     "output_type": "display_data"
    }
   ],
   "source": [
    "data = (\n",
    "    ordersADaily.merge(\n",
    "        ordersBDaily, left_on='date', right_on='date', how='left'\n",
    "    )\n",
    "    .merge(ordersACummulative, left_on='date', right_on='date', how='left')\n",
    "    .merge(ordersBCummulative, left_on='date', right_on='date', how='left')\n",
    "    .merge(visitorsADaily, left_on='date', right_on='date', how='left')\n",
    "    .merge(visitorsBDaily, left_on='date', right_on='date', how='left')\n",
    "    .merge(visitorsACummulative, left_on='date', right_on='date', how='left')\n",
    "    .merge(visitorsBCummulative, left_on='date', right_on='date', how='left')\n",
    ")\n",
    "\n",
    "display(data.head(5))"
   ]
  },
  {
   "cell_type": "code",
   "execution_count": 30,
   "id": "d2d84ead",
   "metadata": {},
   "outputs": [],
   "source": [
    "ordersByUsersA = (\n",
    "    orders[orders['group'] == 'A']\n",
    "    .groupby('visitorId', as_index=False)\n",
    "    .agg({'transactionId': pd.Series.nunique})\n",
    ")\n",
    "ordersByUsersA.columns = ['userId', 'orders']\n",
    "\n",
    "ordersByUsersB = (\n",
    "    orders[orders['group'] == 'B']\n",
    "    .groupby('visitorId', as_index=False)\n",
    "    .agg({'transactionId': pd.Series.nunique})\n",
    ")\n",
    "ordersByUsersB.columns = ['userId', 'orders'] \n"
   ]
  },
  {
   "cell_type": "code",
   "execution_count": 31,
   "id": "d502b2f3",
   "metadata": {},
   "outputs": [
    {
     "data": {
      "text/plain": [
       "0        0\n",
       "1        0\n",
       "2        0\n",
       "3        0\n",
       "4        0\n",
       "        ..\n",
       "18228    0\n",
       "18229    0\n",
       "18230    0\n",
       "18231    0\n",
       "18232    0\n",
       "Name: orders, Length: 18233, dtype: int64"
      ]
     },
     "execution_count": 31,
     "metadata": {},
     "output_type": "execute_result"
    }
   ],
   "source": [
    "pd.Series(0, index=np.arange(data['visitorsPerDateA'].sum() - len(ordersByUsersA['orders'])), name='orders')"
   ]
  },
  {
   "cell_type": "code",
   "execution_count": 32,
   "id": "ea68a15a",
   "metadata": {},
   "outputs": [],
   "source": [
    "sampleA = pd.concat([ordersByUsersA['orders'],pd.Series(0, index=np.arange(data['visitorsPerDateA'].sum() - len(ordersByUsersA['orders'])), name='orders')],axis=0)\n",
    "\n",
    "sampleB = pd.concat([ordersByUsersB['orders'],pd.Series(0, index=np.arange(data['visitorsPerDateB'].sum() - len(ordersByUsersB['orders'])), name='orders')],axis=0)"
   ]
  },
  {
   "cell_type": "code",
   "execution_count": 33,
   "id": "97eca443",
   "metadata": {},
   "outputs": [],
   "source": [
    "ordersByUsersA = (\n",
    "    orders[orders['group'] == 'A']\n",
    "    .groupby('visitorId', as_index=False)\n",
    "    .agg({'transactionId': pd.Series.nunique})\n",
    ")\n",
    "ordersByUsersA.columns = ['userId', 'orders']\n",
    "\n",
    "ordersByUsersB = (\n",
    "    orders[orders['group'] == 'B']\n",
    "    .groupby('visitorId', as_index=False)\n",
    "    .agg({'transactionId': pd.Series.nunique})\n",
    ")\n",
    "ordersByUsersB.columns = ['userId', 'orders']\n"
   ]
  },
  {
   "cell_type": "code",
   "execution_count": 34,
   "id": "46932bea",
   "metadata": {},
   "outputs": [
    {
     "name": "stdout",
     "output_type": "stream",
     "text": [
      "0.017\n",
      "0.138\n"
     ]
    }
   ],
   "source": [
    "sampleA = pd.concat(\n",
    "    [\n",
    "        ordersByUsersA['orders'],\n",
    "        pd.Series(\n",
    "            0,\n",
    "            index=np.arange(\n",
    "                data['visitorsPerDateA'].sum() - len(ordersByUsersA['orders'])\n",
    "            ),\n",
    "            name='orders',\n",
    "        ),\n",
    "    ],\n",
    "    axis=0,\n",
    ")\n",
    "\n",
    "sampleB = pd.concat(\n",
    "    [\n",
    "        ordersByUsersB['orders'],\n",
    "        pd.Series(\n",
    "            0,\n",
    "            index=np.arange(\n",
    "                data['visitorsPerDateB'].sum() - len(ordersByUsersB['orders'])\n",
    "            ),\n",
    "            name='orders',\n",
    "        ),\n",
    "    ],\n",
    "    axis=0,\n",
    ")\n",
    "\n",
    "print(\"{0:.3f}\".format(stats.mannwhitneyu(sampleA, sampleB)[1]))\n",
    "\n",
    "print(\"{0:.3f}\".format(sampleB.mean() / sampleA.mean() - 1))\n",
    "          "
   ]
  },
  {
   "cell_type": "markdown",
   "id": "ca523c05",
   "metadata": {},
   "source": [
    "P-value меньше 0.05, т.о нулевую гипотезу можно отвергнуть. Анализ \"сырых\" данных показывает наличие татистически значимых различий в конверсии между группами."
   ]
  },
  {
   "cell_type": "markdown",
   "id": "acfe6576",
   "metadata": {},
   "source": [
    "#### Оценка статистической значимости различия средних чеков между группами <a class=\"anchor\" id=\"therteen-bullet\">"
   ]
  },
  {
   "cell_type": "markdown",
   "id": "3fcac3b4",
   "metadata": {},
   "source": [
    "Сформулируем нулевую и альтернативную гипотезы: \n",
    "* H₀ - Средний чек группы A равен среднему чеку группы B\n",
    "* H₁ - Средний чек группы A не равен среднему чеку группы B"
   ]
  },
  {
   "cell_type": "code",
   "execution_count": 35,
   "id": "ac1eb3ee",
   "metadata": {},
   "outputs": [
    {
     "name": "stdout",
     "output_type": "stream",
     "text": [
      "0.729\n",
      "0.259\n"
     ]
    }
   ],
   "source": [
    "print('{0:.3f}'.format(stats.mannwhitneyu(orders[orders['group']=='A']['revenue'], orders[orders['group']=='B']['revenue'])[1]))\n",
    "print('{0:.3f}'.format(orders[orders['group']=='B']['revenue'].mean()/orders[orders['group']=='A']['revenue'].mean()-1)) "
   ]
  },
  {
   "cell_type": "markdown",
   "id": "25f186ad",
   "metadata": {},
   "source": [
    "P-value больше 0.05 - статистически значимых отличий в среднем чеке между группами нету, можно принять нулевую гипотезу."
   ]
  },
  {
   "cell_type": "markdown",
   "id": "c4a04467",
   "metadata": {},
   "source": [
    "#### Очищение данных от аномалий <a class=\"anchor\" id=\"fourteen-bullet\">"
   ]
  },
  {
   "cell_type": "markdown",
   "id": "e55332c3",
   "metadata": {},
   "source": [
    "Приступаем к подготовке очищенных от аномалий данных.\n",
    "Напомним, что 95-й и 99-й перцентили средних чеков равны 28000 и 58233 рублям. А 95-й и 99-й перцентили числа заказов на одного пользователя равны 2 и 4 заказам на пользователя.\n",
    "Примем за аномальных пользователей тех, кто совершил 3 заказа и более, или совершил заказ на сумму свыше 28 000 рублей."
   ]
  },
  {
   "cell_type": "code",
   "execution_count": 36,
   "id": "16920588",
   "metadata": {},
   "outputs": [
    {
     "name": "stdout",
     "output_type": "stream",
     "text": [
      "1099    148427295\n",
      "18      199603092\n",
      "928     204675465\n",
      "23      237748145\n",
      "37      249864742\n",
      "dtype: int64\n"
     ]
    },
    {
     "data": {
      "text/plain": [
       "(74,)"
      ]
     },
     "execution_count": 36,
     "metadata": {},
     "output_type": "execute_result"
    }
   ],
   "source": [
    "usersWithManyOrders = pd.concat(\n",
    "    [\n",
    "        ordersByUsersA[ordersByUsersA['orders'] > 2]['userId'],\n",
    "        ordersByUsersB[ordersByUsersB['orders'] > 2]['userId'],\n",
    "    ],\n",
    "    axis=0,\n",
    ")\n",
    "usersWithExpensiveOrders = orders[orders['revenue'] > 28000]['visitorId']\n",
    "abnormalUsers = (\n",
    "    pd.concat([usersWithManyOrders, usersWithExpensiveOrders], axis=0)\n",
    "    .drop_duplicates()\n",
    "    .sort_values()\n",
    ")\n",
    "print(abnormalUsers.head(5))\n",
    "abnormalUsers.shape"
   ]
  },
  {
   "cell_type": "markdown",
   "id": "4a3b1e73",
   "metadata": {},
   "source": [
    "#### Подсчёт статистической значимости различий в конверсии между группами по «очищенным» данным <a class=\"anchor\" id=\"fifteen-bullet\">"
   ]
  },
  {
   "cell_type": "markdown",
   "id": "8bbf6ae1",
   "metadata": {},
   "source": [
    "Посчитаем статистическую значимость различия среднего количества заказов после удаления аномальных пользователей.\n",
    "Создадим переменные sampleAFiltered и sampleBFiltered, в которых сохраним очищенные данные о заказах — не включая аномальных пользователей."
   ]
  },
  {
   "cell_type": "markdown",
   "id": "281eb755",
   "metadata": {},
   "source": [
    "* H₀ - Вероятность того, что наблюдение из популяции B превышает наблюдение из популяции A равна 50%\n",
    "* H₁ - Вероятность того, что наблюдение из популяции B превышает наблюдение из популяции A не равна 50%"
   ]
  },
  {
   "cell_type": "code",
   "execution_count": 37,
   "id": "d87b7de4",
   "metadata": {},
   "outputs": [
    {
     "name": "stdout",
     "output_type": "stream",
     "text": [
      "0.01304\n",
      "0.173\n"
     ]
    }
   ],
   "source": [
    "sampleAFiltered = pd.concat(\n",
    "    [\n",
    "        ordersByUsersA[\n",
    "            np.logical_not(ordersByUsersA['userId'].isin(abnormalUsers))\n",
    "        ]['orders'],\n",
    "        pd.Series(\n",
    "            0,\n",
    "            index=np.arange(\n",
    "                data['visitorsPerDateA'].sum() - len(ordersByUsersA['orders'])\n",
    "            ),\n",
    "            name='orders',\n",
    "        ),\n",
    "    ],\n",
    "    axis=0,\n",
    ")\n",
    "\n",
    "sampleBFiltered = pd.concat(\n",
    "    [\n",
    "        ordersByUsersB[\n",
    "            np.logical_not(ordersByUsersB['userId'].isin(abnormalUsers))\n",
    "        ]['orders'],\n",
    "        pd.Series(\n",
    "            0,\n",
    "            index=np.arange(\n",
    "                data['visitorsPerDateB'].sum() - len(ordersByUsersB['orders'])\n",
    "            ),\n",
    "            name='orders',\n",
    "        ),\n",
    "    ],\n",
    "    axis=0,\n",
    ") \n",
    "\n",
    "print('{0:.5f}'.format(stats.mannwhitneyu(sampleAFiltered, sampleBFiltered)[1]))\n",
    "print('{0:.3f}'.format(sampleBFiltered.mean()/sampleAFiltered.mean()-1)) \n",
    "\n"
   ]
  },
  {
   "cell_type": "markdown",
   "id": "2f1cc689",
   "metadata": {},
   "source": [
    "Как и в случае с сырыми данными, статистическая значимость достигнута. Сегмент В значительно лучше сегмента А. Отвергаем H₀"
   ]
  },
  {
   "cell_type": "markdown",
   "id": "daaf79a4",
   "metadata": {},
   "source": [
    "#### Подсчет статистической значимости различия средних чеков после удаления аномальных пользователей <a class=\"anchor\" id=\"sixteen-bullet\">"
   ]
  },
  {
   "cell_type": "markdown",
   "id": "3c93a719",
   "metadata": {},
   "source": [
    "Посчитаем статистическую значимость различия средних чеков после удаления аномальных пользователей.\n",
    "Выведем p-value для сравнения средних чеков между очищенными группами. Округлим p-value до трёх знаков после запятой. Выведем относительный прирост среднего чека очищенной группы B, округлив до трёх знаков после запятой."
   ]
  },
  {
   "cell_type": "markdown",
   "id": "5e0f2e50",
   "metadata": {},
   "source": [
    "* H₀ - Средний чек A равен среднему чеку группы B\n",
    "* H₁ - Средний чек A не равен среднему чеку группы B"
   ]
  },
  {
   "cell_type": "code",
   "execution_count": 38,
   "id": "d7d3733a",
   "metadata": {},
   "outputs": [
    {
     "name": "stdout",
     "output_type": "stream",
     "text": [
      "0.738\n",
      "-0.020\n"
     ]
    }
   ],
   "source": [
    "print(\n",
    "    '{0:.3f}'.format(\n",
    "        stats.mannwhitneyu(\n",
    "            orders[\n",
    "                np.logical_and(\n",
    "                    orders['group'] == 'A',\n",
    "                    np.logical_not(orders['visitorId'].isin(abnormalUsers)),\n",
    "                )\n",
    "            ]['revenue'],\n",
    "            orders[\n",
    "                np.logical_and(\n",
    "                    orders['group'] == 'B',\n",
    "                    np.logical_not(orders['visitorId'].isin(abnormalUsers)),\n",
    "                )\n",
    "            ]['revenue'],\n",
    "        )[1]\n",
    "    )\n",
    ")\n",
    "\n",
    "print(\n",
    "    \"{0:.3f}\".format(\n",
    "        orders[\n",
    "            np.logical_and(\n",
    "                orders['group'] == 'B',\n",
    "                np.logical_not(orders['visitorId'].isin(abnormalUsers)),\n",
    "            )\n",
    "        ]['revenue'].mean()\n",
    "        / orders[\n",
    "            np.logical_and(\n",
    "                orders['group'] == 'A',\n",
    "                np.logical_not(orders['visitorId'].isin(abnormalUsers)),\n",
    "            )\n",
    "        ]['revenue'].mean()\n",
    "        - 1\n",
    "    )\n",
    ") "
   ]
  },
  {
   "cell_type": "markdown",
   "id": "637c456d",
   "metadata": {},
   "source": [
    "После очистки данных от аномалий p-value по среднему чеку не изменился т.е. статистически значимых отличий между группами нет, отвергаем нулевую гипотезу"
   ]
  },
  {
   "cell_type": "markdown",
   "id": "849e2b05",
   "metadata": {},
   "source": [
    "### Выводы А/В теста <a class=\"anchor\" id=\"seventeen-bullet\">"
   ]
  },
  {
   "cell_type": "markdown",
   "id": "b8ef5a2c",
   "metadata": {},
   "source": [
    "* Наблюдается статистически значимое различие по конверсии между группами как по сырым данным, так и после фильтрации аномалий.\n",
    "* Как по сырым, так и по отфильтрованным данным нет статистически значимого различия по среднему чеку между группами\n",
    "* График различия конверсии между группами сообщает, что результаты группы B лучше группы A: имеют тенденцию к росту"
   ]
  },
  {
   "cell_type": "markdown",
   "id": "a4389b45",
   "metadata": {},
   "source": [
    "###  Общие выводы <a class=\"anchor\" id=\"eighteen-bullet\">"
   ]
  },
  {
   "cell_type": "markdown",
   "id": "6a6083f3",
   "metadata": {},
   "source": [
    "* Были загружены данные, предварительно проанализированы: пропуски и дубликаты в данных не выявлены.\n",
    "* Произведена предобработка данных: исправлены заголовки столбцов, изменен тип данных в столбцах с датами\n",
    "* Проведена приоритизацию гипотез: с применением фреймворков ICE и RICE, проанализировано извенение приоритезации гипотез\n",
    "* Без учета охвата самая приоритетная гипотеза 8 (запустить акцию на день рождения), а с учетом охвата самая приоритетная - 7 (добавить форму подписки на основные страницы) \n",
    "* Проведен А/В тест:\n",
    "    * Построены графики кумулятивной выручки по группам\n",
    "    * Построены графики кумулятивного среднего чека по группам\n",
    "    * Построены графики относительного изменения кумулятивного среднего чека группы B к группе A\n",
    "    * Построены графики кумулятивной конверсии по группам\n",
    "    * Построены графики относительного изменения кумулятивной конверсии группы B к группе A, точечный график количества заказов по пользователям\n",
    "    * Посчитаны перцентили количества заказов на пользователя \n",
    "    * Построены точечные графики стоимостей заказов, посчитаны перцентили стоимости заказов\n",
    "    * Посчитана статистическая значимость различий в конверсии между группами по «сырым» данным\n",
    "    * Посчитана статистическая значимость различий в среднем чеке заказа между группами по «сырым» данным\n",
    "    * Произведена осчистку данных от аномалий\n",
    "    * Посчитана статистическая значимость различий в конверсии между группами по «очищенным» данным\n",
    "    * Посчитана статистическая значимость различий в среднем чеке заказа между группами по «очищенным» данным"
   ]
  },
  {
   "cell_type": "markdown",
   "id": "a99adf26",
   "metadata": {},
   "source": [
    "* Стоимость не более чем 5% заказов более 28000 рублей, количество не более чем 5% заказов больше 2. Пользователи со стоимостью заказов более 28000 рублей и с количеством заказов более 2 можно считать аномальными\n",
    "* Есть статистически значимое различие по конверсии между группами как по сырым данным, так и без учета аномалий\n",
    "* Как по сырым, так и по отфильтрованным данным - нет статистически значимого различия по среднему чеку между группами \n",
    "* Результаты группы B имеют тенденцию к росту\n",
    "* Исходя из обнаруженных фактов, тест следует остановить (Значения комулятивных метрик стабилизировались) и признать его успешным. \n",
    "* Средний чек остался без изменений, при этом, конверсия выросла. \n",
    "* Конверсия группы В больше чем группы А, т.к., при этом, средний чек одинаков, т.о. группа В приносит больше денежных средств бизнесу."
   ]
  }
 ],
 "metadata": {
  "ExecuteTimeLog": [
   {
    "duration": 993,
    "start_time": "2022-07-10T21:02:43.845Z"
   },
   {
    "duration": 117,
    "start_time": "2022-07-10T21:02:44.840Z"
   },
   {
    "duration": 22,
    "start_time": "2022-07-10T21:02:44.959Z"
   },
   {
    "duration": 9,
    "start_time": "2022-07-10T21:02:44.983Z"
   },
   {
    "duration": 9,
    "start_time": "2022-07-10T21:02:44.994Z"
   },
   {
    "duration": 22,
    "start_time": "2022-07-10T21:02:45.005Z"
   },
   {
    "duration": 17,
    "start_time": "2022-07-10T21:02:45.029Z"
   },
   {
    "duration": 203,
    "start_time": "2022-07-10T21:02:45.047Z"
   },
   {
    "duration": 213,
    "start_time": "2022-07-10T21:02:45.251Z"
   },
   {
    "duration": 5,
    "start_time": "2022-07-10T21:02:45.468Z"
   },
   {
    "duration": 12,
    "start_time": "2022-07-10T21:02:45.475Z"
   },
   {
    "duration": 141,
    "start_time": "2022-07-10T21:02:45.500Z"
   },
   {
    "duration": 157,
    "start_time": "2022-07-10T21:02:45.643Z"
   },
   {
    "duration": 4,
    "start_time": "2022-07-10T21:02:45.802Z"
   },
   {
    "duration": 8,
    "start_time": "2022-07-10T21:02:45.808Z"
   },
   {
    "duration": 172,
    "start_time": "2022-07-10T21:02:45.817Z"
   },
   {
    "duration": 114,
    "start_time": "2022-07-10T21:02:45.991Z"
   },
   {
    "duration": 8,
    "start_time": "2022-07-10T21:02:46.106Z"
   },
   {
    "duration": 312,
    "start_time": "2022-07-10T21:02:46.116Z"
   },
   {
    "duration": 336,
    "start_time": "2022-07-10T21:02:46.430Z"
   },
   {
    "duration": 234,
    "start_time": "2022-07-10T21:02:46.767Z"
   },
   {
    "duration": 244,
    "start_time": "2022-07-10T21:02:47.002Z"
   },
   {
    "duration": 319,
    "start_time": "2022-07-10T21:02:47.247Z"
   },
   {
    "duration": 4,
    "start_time": "2022-07-10T21:02:47.568Z"
   },
   {
    "duration": 163,
    "start_time": "2022-07-10T21:02:47.573Z"
   },
   {
    "duration": 118,
    "start_time": "2022-07-10T21:02:47.738Z"
   },
   {
    "duration": 27,
    "start_time": "2022-07-10T21:02:47.858Z"
   },
   {
    "duration": 130,
    "start_time": "2022-07-10T21:02:47.902Z"
   },
   {
    "duration": 7,
    "start_time": "2022-07-10T21:02:48.033Z"
   },
   {
    "duration": 8,
    "start_time": "2022-07-10T21:02:48.041Z"
   },
   {
    "duration": 142,
    "start_time": "2022-07-10T21:02:48.050Z"
   },
   {
    "duration": 27,
    "start_time": "2022-07-10T21:02:48.193Z"
   },
   {
    "duration": 10,
    "start_time": "2022-07-10T21:02:48.222Z"
   },
   {
    "duration": 10,
    "start_time": "2022-07-10T21:02:48.233Z"
   },
   {
    "duration": 23,
    "start_time": "2022-07-10T21:02:48.245Z"
   },
   {
    "duration": 40,
    "start_time": "2022-07-10T21:02:48.270Z"
   },
   {
    "duration": 46,
    "start_time": "2022-07-11T12:33:30.772Z"
   },
   {
    "duration": 1051,
    "start_time": "2022-07-11T12:33:37.480Z"
   },
   {
    "duration": 147,
    "start_time": "2022-07-11T12:33:38.533Z"
   },
   {
    "duration": 24,
    "start_time": "2022-07-11T12:33:38.700Z"
   },
   {
    "duration": 7,
    "start_time": "2022-07-11T12:33:39.901Z"
   },
   {
    "duration": 8,
    "start_time": "2022-07-11T12:33:40.501Z"
   },
   {
    "duration": 13,
    "start_time": "2022-07-11T12:33:47.710Z"
   },
   {
    "duration": 15,
    "start_time": "2022-07-11T12:33:50.187Z"
   },
   {
    "duration": 14,
    "start_time": "2022-07-11T12:33:53.249Z"
   },
   {
    "duration": 57,
    "start_time": "2022-07-11T12:33:55.020Z"
   },
   {
    "duration": 207,
    "start_time": "2022-07-11T12:34:01.901Z"
   },
   {
    "duration": 209,
    "start_time": "2022-07-11T12:34:02.890Z"
   },
   {
    "duration": 5,
    "start_time": "2022-07-11T12:34:03.946Z"
   },
   {
    "duration": 10,
    "start_time": "2022-07-11T12:34:05.445Z"
   },
   {
    "duration": 183,
    "start_time": "2022-07-11T12:34:05.945Z"
   },
   {
    "duration": 155,
    "start_time": "2022-07-11T12:34:06.960Z"
   },
   {
    "duration": 4,
    "start_time": "2022-07-11T12:34:07.960Z"
   },
   {
    "duration": 5,
    "start_time": "2022-07-11T12:34:09.939Z"
   },
   {
    "duration": 166,
    "start_time": "2022-07-11T12:34:10.490Z"
   },
   {
    "duration": 110,
    "start_time": "2022-07-11T12:34:11.013Z"
   },
   {
    "duration": 10,
    "start_time": "2022-07-11T12:34:11.511Z"
   },
   {
    "duration": 363,
    "start_time": "2022-07-11T12:34:12.040Z"
   },
   {
    "duration": 315,
    "start_time": "2022-07-11T12:34:13.810Z"
   },
   {
    "duration": 300,
    "start_time": "2022-07-11T12:34:16.548Z"
   },
   {
    "duration": 304,
    "start_time": "2022-07-11T12:34:19.308Z"
   },
   {
    "duration": 348,
    "start_time": "2022-07-11T12:34:20.741Z"
   },
   {
    "duration": 4,
    "start_time": "2022-07-11T12:34:22.738Z"
   },
   {
    "duration": 92,
    "start_time": "2022-07-11T12:34:23.220Z"
   },
   {
    "duration": 124,
    "start_time": "2022-07-11T12:34:23.722Z"
   },
   {
    "duration": 29,
    "start_time": "2022-07-11T12:34:24.238Z"
   },
   {
    "duration": 134,
    "start_time": "2022-07-11T12:34:24.741Z"
   },
   {
    "duration": 7,
    "start_time": "2022-07-11T12:34:25.300Z"
   },
   {
    "duration": 5,
    "start_time": "2022-07-11T12:34:25.800Z"
   },
   {
    "duration": 132,
    "start_time": "2022-07-11T12:34:26.300Z"
   },
   {
    "duration": 23,
    "start_time": "2022-07-11T12:34:26.911Z"
   },
   {
    "duration": 9,
    "start_time": "2022-07-11T12:34:28.970Z"
   },
   {
    "duration": 10,
    "start_time": "2022-07-11T12:34:31.060Z"
   },
   {
    "duration": 24,
    "start_time": "2022-07-11T12:34:33.121Z"
   },
   {
    "duration": 13,
    "start_time": "2022-07-11T12:34:35.671Z"
   },
   {
    "duration": 1185,
    "start_time": "2022-07-11T18:07:32.927Z"
   },
   {
    "duration": 386,
    "start_time": "2022-07-11T18:07:34.113Z"
   },
   {
    "duration": 20,
    "start_time": "2022-07-11T18:07:34.500Z"
   },
   {
    "duration": 5,
    "start_time": "2022-07-11T18:07:34.521Z"
   },
   {
    "duration": 10,
    "start_time": "2022-07-11T18:07:34.527Z"
   },
   {
    "duration": 8,
    "start_time": "2022-07-11T18:07:34.538Z"
   },
   {
    "duration": 18,
    "start_time": "2022-07-11T18:07:34.547Z"
   },
   {
    "duration": 10,
    "start_time": "2022-07-11T18:07:34.567Z"
   },
   {
    "duration": 54,
    "start_time": "2022-07-11T18:07:34.579Z"
   },
   {
    "duration": 194,
    "start_time": "2022-07-11T18:07:34.635Z"
   },
   {
    "duration": 189,
    "start_time": "2022-07-11T18:07:34.831Z"
   },
   {
    "duration": 5,
    "start_time": "2022-07-11T18:07:35.022Z"
   },
   {
    "duration": 23,
    "start_time": "2022-07-11T18:07:35.029Z"
   },
   {
    "duration": 147,
    "start_time": "2022-07-11T18:07:35.054Z"
   },
   {
    "duration": 139,
    "start_time": "2022-07-11T18:07:35.203Z"
   },
   {
    "duration": 4,
    "start_time": "2022-07-11T18:07:35.344Z"
   },
   {
    "duration": 20,
    "start_time": "2022-07-11T18:07:35.352Z"
   },
   {
    "duration": 148,
    "start_time": "2022-07-11T18:07:35.373Z"
   },
   {
    "duration": 114,
    "start_time": "2022-07-11T18:07:35.522Z"
   },
   {
    "duration": 7,
    "start_time": "2022-07-11T18:07:35.638Z"
   },
   {
    "duration": 322,
    "start_time": "2022-07-11T18:07:35.646Z"
   },
   {
    "duration": 368,
    "start_time": "2022-07-11T18:07:35.970Z"
   },
   {
    "duration": 340,
    "start_time": "2022-07-11T18:07:36.339Z"
   },
   {
    "duration": 216,
    "start_time": "2022-07-11T18:07:36.681Z"
   },
   {
    "duration": 315,
    "start_time": "2022-07-11T18:07:36.899Z"
   },
   {
    "duration": 3,
    "start_time": "2022-07-11T18:07:37.216Z"
   },
   {
    "duration": 90,
    "start_time": "2022-07-11T18:07:37.220Z"
   },
   {
    "duration": 104,
    "start_time": "2022-07-11T18:07:37.313Z"
   },
   {
    "duration": 46,
    "start_time": "2022-07-11T18:07:37.419Z"
   },
   {
    "duration": 144,
    "start_time": "2022-07-11T18:07:37.467Z"
   },
   {
    "duration": 6,
    "start_time": "2022-07-11T18:07:37.612Z"
   },
   {
    "duration": 15,
    "start_time": "2022-07-11T18:07:37.619Z"
   },
   {
    "duration": 120,
    "start_time": "2022-07-11T18:07:37.635Z"
   },
   {
    "duration": 25,
    "start_time": "2022-07-11T18:07:37.757Z"
   },
   {
    "duration": 8,
    "start_time": "2022-07-11T18:07:37.783Z"
   },
   {
    "duration": 9,
    "start_time": "2022-07-11T18:07:37.792Z"
   },
   {
    "duration": 21,
    "start_time": "2022-07-11T18:07:37.802Z"
   },
   {
    "duration": 42,
    "start_time": "2022-07-11T18:07:37.824Z"
   }
  ],
  "kernelspec": {
   "display_name": "Python 3 (ipykernel)",
   "language": "python",
   "name": "python3"
  },
  "language_info": {
   "codemirror_mode": {
    "name": "ipython",
    "version": 3
   },
   "file_extension": ".py",
   "mimetype": "text/x-python",
   "name": "python",
   "nbconvert_exporter": "python",
   "pygments_lexer": "ipython3",
   "version": "3.9.13"
  },
  "toc": {
   "base_numbering": 1,
   "nav_menu": {},
   "number_sections": true,
   "sideBar": true,
   "skip_h1_title": true,
   "title_cell": "Table of Contents",
   "title_sidebar": "Contents",
   "toc_cell": false,
   "toc_position": {},
   "toc_section_display": true,
   "toc_window_display": false
  }
 },
 "nbformat": 4,
 "nbformat_minor": 5
}
