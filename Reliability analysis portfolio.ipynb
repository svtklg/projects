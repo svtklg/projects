{
 "cells": [
  {
   "cell_type": "markdown",
   "id": "ed1eab94",
   "metadata": {},
   "source": [
    "## Исследование надёжности заёмщиков"
   ]
  },
  {
   "cell_type": "markdown",
   "id": "1ed938ab",
   "metadata": {},
   "source": [
    "<h3>Описание данных:"
   ]
  },
  {
   "cell_type": "markdown",
   "id": "017a382e",
   "metadata": {},
   "source": [
    "* __children__ — количество детей в семье\n",
    "*__days_employed__ — общий трудовой стаж в днях\n",
    "*__dob_years__ — возраст клиента в годах\n",
    "*__education__ — уровень образования клиента\n",
    "*__education_id__ — идентификатор уровня образования\n",
    "*__family_status__ — семейное положение\n",
    "*__family_status_id__ — идентификатор семейного положения\n",
    "*__gender__ — пол клиента\n",
    "*__income_type__ — тип занятости\n",
    "*__debt__ — имел ли задолженность по возврату кредитов\n",
    "*__total_income__ — ежемесячный доход\n",
    "*__purpose__ — цель получения кредита"
   ]
  },
  {
   "cell_type": "markdown",
   "id": "eb30fc44",
   "metadata": {},
   "source": [
    "### Импорт данных и первичный анализ:"
   ]
  },
  {
   "cell_type": "code",
   "execution_count": 1,
   "id": "a4293a2e",
   "metadata": {},
   "outputs": [
    {
     "data": {
      "text/html": [
       "<div>\n",
       "<style scoped>\n",
       "    .dataframe tbody tr th:only-of-type {\n",
       "        vertical-align: middle;\n",
       "    }\n",
       "\n",
       "    .dataframe tbody tr th {\n",
       "        vertical-align: top;\n",
       "    }\n",
       "\n",
       "    .dataframe thead th {\n",
       "        text-align: right;\n",
       "    }\n",
       "</style>\n",
       "<table border=\"1\" class=\"dataframe\">\n",
       "  <thead>\n",
       "    <tr style=\"text-align: right;\">\n",
       "      <th></th>\n",
       "      <th>children</th>\n",
       "      <th>days_employed</th>\n",
       "      <th>dob_years</th>\n",
       "      <th>education</th>\n",
       "      <th>education_id</th>\n",
       "      <th>family_status</th>\n",
       "      <th>family_status_id</th>\n",
       "      <th>gender</th>\n",
       "      <th>income_type</th>\n",
       "      <th>debt</th>\n",
       "      <th>total_income</th>\n",
       "      <th>purpose</th>\n",
       "    </tr>\n",
       "  </thead>\n",
       "  <tbody>\n",
       "    <tr>\n",
       "      <th>0</th>\n",
       "      <td>1</td>\n",
       "      <td>-8437.673028</td>\n",
       "      <td>42</td>\n",
       "      <td>высшее</td>\n",
       "      <td>0</td>\n",
       "      <td>женат / замужем</td>\n",
       "      <td>0</td>\n",
       "      <td>F</td>\n",
       "      <td>сотрудник</td>\n",
       "      <td>0</td>\n",
       "      <td>253875.639453</td>\n",
       "      <td>покупка жилья</td>\n",
       "    </tr>\n",
       "    <tr>\n",
       "      <th>1</th>\n",
       "      <td>1</td>\n",
       "      <td>-4024.803754</td>\n",
       "      <td>36</td>\n",
       "      <td>среднее</td>\n",
       "      <td>1</td>\n",
       "      <td>женат / замужем</td>\n",
       "      <td>0</td>\n",
       "      <td>F</td>\n",
       "      <td>сотрудник</td>\n",
       "      <td>0</td>\n",
       "      <td>112080.014102</td>\n",
       "      <td>приобретение автомобиля</td>\n",
       "    </tr>\n",
       "    <tr>\n",
       "      <th>2</th>\n",
       "      <td>0</td>\n",
       "      <td>-5623.422610</td>\n",
       "      <td>33</td>\n",
       "      <td>Среднее</td>\n",
       "      <td>1</td>\n",
       "      <td>женат / замужем</td>\n",
       "      <td>0</td>\n",
       "      <td>M</td>\n",
       "      <td>сотрудник</td>\n",
       "      <td>0</td>\n",
       "      <td>145885.952297</td>\n",
       "      <td>покупка жилья</td>\n",
       "    </tr>\n",
       "    <tr>\n",
       "      <th>3</th>\n",
       "      <td>3</td>\n",
       "      <td>-4124.747207</td>\n",
       "      <td>32</td>\n",
       "      <td>среднее</td>\n",
       "      <td>1</td>\n",
       "      <td>женат / замужем</td>\n",
       "      <td>0</td>\n",
       "      <td>M</td>\n",
       "      <td>сотрудник</td>\n",
       "      <td>0</td>\n",
       "      <td>267628.550329</td>\n",
       "      <td>дополнительное образование</td>\n",
       "    </tr>\n",
       "    <tr>\n",
       "      <th>4</th>\n",
       "      <td>0</td>\n",
       "      <td>340266.072047</td>\n",
       "      <td>53</td>\n",
       "      <td>среднее</td>\n",
       "      <td>1</td>\n",
       "      <td>гражданский брак</td>\n",
       "      <td>1</td>\n",
       "      <td>F</td>\n",
       "      <td>пенсионер</td>\n",
       "      <td>0</td>\n",
       "      <td>158616.077870</td>\n",
       "      <td>сыграть свадьбу</td>\n",
       "    </tr>\n",
       "    <tr>\n",
       "      <th>5</th>\n",
       "      <td>0</td>\n",
       "      <td>-926.185831</td>\n",
       "      <td>27</td>\n",
       "      <td>высшее</td>\n",
       "      <td>0</td>\n",
       "      <td>гражданский брак</td>\n",
       "      <td>1</td>\n",
       "      <td>M</td>\n",
       "      <td>компаньон</td>\n",
       "      <td>0</td>\n",
       "      <td>255763.565419</td>\n",
       "      <td>покупка жилья</td>\n",
       "    </tr>\n",
       "    <tr>\n",
       "      <th>6</th>\n",
       "      <td>0</td>\n",
       "      <td>-2879.202052</td>\n",
       "      <td>43</td>\n",
       "      <td>высшее</td>\n",
       "      <td>0</td>\n",
       "      <td>женат / замужем</td>\n",
       "      <td>0</td>\n",
       "      <td>F</td>\n",
       "      <td>компаньон</td>\n",
       "      <td>0</td>\n",
       "      <td>240525.971920</td>\n",
       "      <td>операции с жильем</td>\n",
       "    </tr>\n",
       "    <tr>\n",
       "      <th>7</th>\n",
       "      <td>0</td>\n",
       "      <td>-152.779569</td>\n",
       "      <td>50</td>\n",
       "      <td>СРЕДНЕЕ</td>\n",
       "      <td>1</td>\n",
       "      <td>женат / замужем</td>\n",
       "      <td>0</td>\n",
       "      <td>M</td>\n",
       "      <td>сотрудник</td>\n",
       "      <td>0</td>\n",
       "      <td>135823.934197</td>\n",
       "      <td>образование</td>\n",
       "    </tr>\n",
       "    <tr>\n",
       "      <th>8</th>\n",
       "      <td>2</td>\n",
       "      <td>-6929.865299</td>\n",
       "      <td>35</td>\n",
       "      <td>ВЫСШЕЕ</td>\n",
       "      <td>0</td>\n",
       "      <td>гражданский брак</td>\n",
       "      <td>1</td>\n",
       "      <td>F</td>\n",
       "      <td>сотрудник</td>\n",
       "      <td>0</td>\n",
       "      <td>95856.832424</td>\n",
       "      <td>на проведение свадьбы</td>\n",
       "    </tr>\n",
       "    <tr>\n",
       "      <th>9</th>\n",
       "      <td>0</td>\n",
       "      <td>-2188.756445</td>\n",
       "      <td>41</td>\n",
       "      <td>среднее</td>\n",
       "      <td>1</td>\n",
       "      <td>женат / замужем</td>\n",
       "      <td>0</td>\n",
       "      <td>M</td>\n",
       "      <td>сотрудник</td>\n",
       "      <td>0</td>\n",
       "      <td>144425.938277</td>\n",
       "      <td>покупка жилья для семьи</td>\n",
       "    </tr>\n",
       "    <tr>\n",
       "      <th>10</th>\n",
       "      <td>2</td>\n",
       "      <td>-4171.483647</td>\n",
       "      <td>36</td>\n",
       "      <td>высшее</td>\n",
       "      <td>0</td>\n",
       "      <td>женат / замужем</td>\n",
       "      <td>0</td>\n",
       "      <td>M</td>\n",
       "      <td>компаньон</td>\n",
       "      <td>0</td>\n",
       "      <td>113943.491460</td>\n",
       "      <td>покупка недвижимости</td>\n",
       "    </tr>\n",
       "    <tr>\n",
       "      <th>11</th>\n",
       "      <td>0</td>\n",
       "      <td>-792.701887</td>\n",
       "      <td>40</td>\n",
       "      <td>среднее</td>\n",
       "      <td>1</td>\n",
       "      <td>женат / замужем</td>\n",
       "      <td>0</td>\n",
       "      <td>F</td>\n",
       "      <td>сотрудник</td>\n",
       "      <td>0</td>\n",
       "      <td>77069.234271</td>\n",
       "      <td>покупка коммерческой недвижимости</td>\n",
       "    </tr>\n",
       "    <tr>\n",
       "      <th>12</th>\n",
       "      <td>0</td>\n",
       "      <td>NaN</td>\n",
       "      <td>65</td>\n",
       "      <td>среднее</td>\n",
       "      <td>1</td>\n",
       "      <td>гражданский брак</td>\n",
       "      <td>1</td>\n",
       "      <td>M</td>\n",
       "      <td>пенсионер</td>\n",
       "      <td>0</td>\n",
       "      <td>NaN</td>\n",
       "      <td>сыграть свадьбу</td>\n",
       "    </tr>\n",
       "    <tr>\n",
       "      <th>13</th>\n",
       "      <td>0</td>\n",
       "      <td>-1846.641941</td>\n",
       "      <td>54</td>\n",
       "      <td>неоконченное высшее</td>\n",
       "      <td>2</td>\n",
       "      <td>женат / замужем</td>\n",
       "      <td>0</td>\n",
       "      <td>F</td>\n",
       "      <td>сотрудник</td>\n",
       "      <td>0</td>\n",
       "      <td>130458.228857</td>\n",
       "      <td>приобретение автомобиля</td>\n",
       "    </tr>\n",
       "    <tr>\n",
       "      <th>14</th>\n",
       "      <td>0</td>\n",
       "      <td>-1844.956182</td>\n",
       "      <td>56</td>\n",
       "      <td>высшее</td>\n",
       "      <td>0</td>\n",
       "      <td>гражданский брак</td>\n",
       "      <td>1</td>\n",
       "      <td>F</td>\n",
       "      <td>компаньон</td>\n",
       "      <td>1</td>\n",
       "      <td>165127.911772</td>\n",
       "      <td>покупка жилой недвижимости</td>\n",
       "    </tr>\n",
       "  </tbody>\n",
       "</table>\n",
       "</div>"
      ],
      "text/plain": [
       "    children  days_employed  dob_years            education  education_id  \\\n",
       "0          1   -8437.673028         42               высшее             0   \n",
       "1          1   -4024.803754         36              среднее             1   \n",
       "2          0   -5623.422610         33              Среднее             1   \n",
       "3          3   -4124.747207         32              среднее             1   \n",
       "4          0  340266.072047         53              среднее             1   \n",
       "5          0    -926.185831         27               высшее             0   \n",
       "6          0   -2879.202052         43               высшее             0   \n",
       "7          0    -152.779569         50              СРЕДНЕЕ             1   \n",
       "8          2   -6929.865299         35               ВЫСШЕЕ             0   \n",
       "9          0   -2188.756445         41              среднее             1   \n",
       "10         2   -4171.483647         36               высшее             0   \n",
       "11         0    -792.701887         40              среднее             1   \n",
       "12         0            NaN         65              среднее             1   \n",
       "13         0   -1846.641941         54  неоконченное высшее             2   \n",
       "14         0   -1844.956182         56               высшее             0   \n",
       "\n",
       "       family_status  family_status_id gender income_type  debt  \\\n",
       "0    женат / замужем                 0      F   сотрудник     0   \n",
       "1    женат / замужем                 0      F   сотрудник     0   \n",
       "2    женат / замужем                 0      M   сотрудник     0   \n",
       "3    женат / замужем                 0      M   сотрудник     0   \n",
       "4   гражданский брак                 1      F   пенсионер     0   \n",
       "5   гражданский брак                 1      M   компаньон     0   \n",
       "6    женат / замужем                 0      F   компаньон     0   \n",
       "7    женат / замужем                 0      M   сотрудник     0   \n",
       "8   гражданский брак                 1      F   сотрудник     0   \n",
       "9    женат / замужем                 0      M   сотрудник     0   \n",
       "10   женат / замужем                 0      M   компаньон     0   \n",
       "11   женат / замужем                 0      F   сотрудник     0   \n",
       "12  гражданский брак                 1      M   пенсионер     0   \n",
       "13   женат / замужем                 0      F   сотрудник     0   \n",
       "14  гражданский брак                 1      F   компаньон     1   \n",
       "\n",
       "     total_income                            purpose  \n",
       "0   253875.639453                      покупка жилья  \n",
       "1   112080.014102            приобретение автомобиля  \n",
       "2   145885.952297                      покупка жилья  \n",
       "3   267628.550329         дополнительное образование  \n",
       "4   158616.077870                    сыграть свадьбу  \n",
       "5   255763.565419                      покупка жилья  \n",
       "6   240525.971920                  операции с жильем  \n",
       "7   135823.934197                        образование  \n",
       "8    95856.832424              на проведение свадьбы  \n",
       "9   144425.938277            покупка жилья для семьи  \n",
       "10  113943.491460               покупка недвижимости  \n",
       "11   77069.234271  покупка коммерческой недвижимости  \n",
       "12            NaN                    сыграть свадьбу  \n",
       "13  130458.228857            приобретение автомобиля  \n",
       "14  165127.911772         покупка жилой недвижимости  "
      ]
     },
     "execution_count": 1,
     "metadata": {},
     "output_type": "execute_result"
    }
   ],
   "source": [
    "import pandas as pd\n",
    "\n",
    "try:\n",
    "    statistics = pd.read_csv('C:/Users/Downloads/data.csv')\n",
    "\n",
    "except FileNotFoundError:\n",
    "    statistics = pd.read_csv('/datasets/data.csv')\n",
    "statistics.head(15)\n",
    "# Импорт данных и вывод на экран первых 15 строк таблицы"
   ]
  },
  {
   "cell_type": "code",
   "execution_count": 2,
   "id": "0c89a07c",
   "metadata": {},
   "outputs": [
    {
     "name": "stdout",
     "output_type": "stream",
     "text": [
      "<class 'pandas.core.frame.DataFrame'>\n",
      "RangeIndex: 21525 entries, 0 to 21524\n",
      "Data columns (total 12 columns):\n",
      " #   Column            Non-Null Count  Dtype  \n",
      "---  ------            --------------  -----  \n",
      " 0   children          21525 non-null  int64  \n",
      " 1   days_employed     19351 non-null  float64\n",
      " 2   dob_years         21525 non-null  int64  \n",
      " 3   education         21525 non-null  object \n",
      " 4   education_id      21525 non-null  int64  \n",
      " 5   family_status     21525 non-null  object \n",
      " 6   family_status_id  21525 non-null  int64  \n",
      " 7   gender            21525 non-null  object \n",
      " 8   income_type       21525 non-null  object \n",
      " 9   debt              21525 non-null  int64  \n",
      " 10  total_income      19351 non-null  float64\n",
      " 11  purpose           21525 non-null  object \n",
      "dtypes: float64(2), int64(5), object(5)\n",
      "memory usage: 2.0+ MB\n"
     ]
    }
   ],
   "source": [
    "statistics.info() \n",
    "# Вывод на экран информации о данных, содержащихся в таблице, включая количество строк и тип данных для каждого столбца"
   ]
  },
  {
   "cell_type": "markdown",
   "id": "740a6f06",
   "metadata": {},
   "source": [
    "### Пропуски данных:"
   ]
  },
  {
   "cell_type": "markdown",
   "id": "1b23e3af",
   "metadata": {},
   "source": [
    "Пропуски данных присутствуют в двух столбцах - days_employed (общий трудовой стаж в днях) и total_income (ежемесячный доход).\n"
   ]
  },
  {
   "cell_type": "markdown",
   "id": "aa654d4e",
   "metadata": {},
   "source": [
    "* Пропущенные значения Nan соответствуют типу float, отвечают за отсутствующее в ячейке число. \n",
    "*  Пропущенные значения можно отнести к случайным пропускам данных, вероятность пропуска зависит от других значений в\n",
    "наборе данных, но не от значений собственного столбца.  \n"
   ]
  },
  {
   "cell_type": "code",
   "execution_count": 3,
   "id": "7a351611",
   "metadata": {},
   "outputs": [
    {
     "data": {
      "text/plain": [
       "count     19351.000000\n",
       "mean      63046.497661\n",
       "std      140827.311974\n",
       "min      -18388.949901\n",
       "25%       -2747.423625\n",
       "50%       -1203.369529\n",
       "75%        -291.095954\n",
       "max      401755.400475\n",
       "Name: days_employed, dtype: float64"
      ]
     },
     "execution_count": 3,
     "metadata": {},
     "output_type": "execute_result"
    }
   ],
   "source": [
    "statistics['days_employed'].describe() \n",
    "#statistics['days_employed'].value_counts() \n",
    "# возвращает уникальные значения и количество их упоминаний (оцениваем что типа None нет)"
   ]
  },
  {
   "cell_type": "code",
   "execution_count": 4,
   "id": "b83ce016",
   "metadata": {},
   "outputs": [
    {
     "data": {
      "text/plain": [
       "count    1.935100e+04\n",
       "mean     1.674223e+05\n",
       "std      1.029716e+05\n",
       "min      2.066726e+04\n",
       "25%      1.030532e+05\n",
       "50%      1.450179e+05\n",
       "75%      2.034351e+05\n",
       "max      2.265604e+06\n",
       "Name: total_income, dtype: float64"
      ]
     },
     "execution_count": 4,
     "metadata": {},
     "output_type": "execute_result"
    }
   ],
   "source": [
    "statistics['total_income'].describe() \n",
    "#statistics['total_income'].value_counts() \n",
    "# возвращает уникальные значения и количество их упоминаний (оцениваем что типа None нет)"
   ]
  },
  {
   "cell_type": "markdown",
   "id": "bf87f2ce",
   "metadata": {},
   "source": [
    "* Пропущенных значений None в столбцах не обнаружено\n",
    "* Для оценки доли пропущенных значений в каждом из столбцов с пропусками сравним длину столбцов с длинами столбцов без пропусков;\n"
   ]
  },
  {
   "cell_type": "code",
   "execution_count": 5,
   "id": "d1c7ae9d",
   "metadata": {},
   "outputs": [
    {
     "name": "stdout",
     "output_type": "stream",
     "text": [
      "Доля пропущенных данных от общего количества в столбцах days_employed и total_income 10 %.\n"
     ]
    }
   ],
   "source": [
    "days_employed_missing_data = statistics['dob_years'].count() - statistics['days_employed'].count() \n",
    "#разность количества непустых строк столбца без пропусков ('dob_years') и столбца с пропусками\n",
    "\n",
    "fraction = days_employed_missing_data/statistics['dob_years'].count() \n",
    "# отнощение разности к количеству непустых строк (строк без пропусков)\n",
    "\n",
    "print('Доля пропущенных данных от общего количества в столбцах days_employed и total_income {:.0f} %.'.format(100*fraction))\n",
    "# количество пропусков данных столбцов days_employed и total_income одинаково"
   ]
  },
  {
   "cell_type": "markdown",
   "id": "6244e1fc",
   "metadata": {},
   "source": [
    "* Доля незаполненных значений в каждом из столбцов days_employed и одинакова и составляет 10%, что является существенным - таким образом необходимо заполнить пропуски. \n",
    "* Пропуски в количественных переменных заполняют характерными значениями - это значения, характеризующие состояние выборки, набора данных, выбранных для проведения исследования. \n",
    "* Чтобы примерно оценить типичные значения выборки в указанных стобцах можно оценить значение медианы - число в выборке, что ровно половина элементов больше него, а другая половина — меньше. \n",
    "* Анализ столбца days_employed позволяет выявить наличие аномалий в данных, к которым относятся отрицательные значения и аномально большие значения\n",
    "* Перед заполнением пропусков данных необходимо отработать аномальные значения\n"
   ]
  },
  {
   "cell_type": "markdown",
   "id": "8e391377",
   "metadata": {},
   "source": [
    "### Аномальные значения:"
   ]
  },
  {
   "cell_type": "code",
   "execution_count": 6,
   "id": "c185cc88",
   "metadata": {},
   "outputs": [],
   "source": [
    "statistics['days_employed'] = abs(statistics['days_employed']) \n",
    "# замена отрицательных значений стобца days_employed на положительные по модулю\n"
   ]
  },
  {
   "cell_type": "code",
   "execution_count": 7,
   "id": "eab41836",
   "metadata": {},
   "outputs": [
    {
     "data": {
      "text/plain": [
       "array(['безработный', 'в декрете', 'госслужащий', 'компаньон',\n",
       "       'пенсионер', 'предприниматель', 'сотрудник', 'студент'],\n",
       "      dtype=object)"
      ]
     },
     "execution_count": 7,
     "metadata": {},
     "output_type": "execute_result"
    }
   ],
   "source": [
    "statistics['income_type'].sort_values(ascending = True).unique() \n",
    "#анализ уникальных значений столбца income_type (тип занятости)"
   ]
  },
  {
   "cell_type": "code",
   "execution_count": 8,
   "id": "6f1d9044",
   "metadata": {},
   "outputs": [],
   "source": [
    "days = statistics.pivot_table(index=['income_type'], \n",
    "                              values = ['days_employed'], \n",
    "                              aggfunc=['min', 'max','median'])\n",
    "\n",
    "# сводная таблица минимальных, максимальных и медианных значений столбца days_employed в зависимости от типа занятости"
   ]
  },
  {
   "cell_type": "code",
   "execution_count": 9,
   "id": "b62e1f13",
   "metadata": {},
   "outputs": [
    {
     "data": {
      "text/html": [
       "<div>\n",
       "<style scoped>\n",
       "    .dataframe tbody tr th:only-of-type {\n",
       "        vertical-align: middle;\n",
       "    }\n",
       "\n",
       "    .dataframe tbody tr th {\n",
       "        vertical-align: top;\n",
       "    }\n",
       "\n",
       "    .dataframe thead tr th {\n",
       "        text-align: left;\n",
       "    }\n",
       "\n",
       "    .dataframe thead tr:last-of-type th {\n",
       "        text-align: right;\n",
       "    }\n",
       "</style>\n",
       "<table border=\"1\" class=\"dataframe\">\n",
       "  <thead>\n",
       "    <tr>\n",
       "      <th></th>\n",
       "      <th>min</th>\n",
       "      <th>max</th>\n",
       "      <th>median</th>\n",
       "    </tr>\n",
       "    <tr>\n",
       "      <th></th>\n",
       "      <th>days_employed</th>\n",
       "      <th>days_employed</th>\n",
       "      <th>days_employed</th>\n",
       "    </tr>\n",
       "    <tr>\n",
       "      <th>income_type</th>\n",
       "      <th></th>\n",
       "      <th></th>\n",
       "      <th></th>\n",
       "    </tr>\n",
       "  </thead>\n",
       "  <tbody>\n",
       "    <tr>\n",
       "      <th>безработный</th>\n",
       "      <td>337524.47</td>\n",
       "      <td>395302.84</td>\n",
       "      <td>366413.65</td>\n",
       "    </tr>\n",
       "    <tr>\n",
       "      <th>в декрете</th>\n",
       "      <td>3296.76</td>\n",
       "      <td>3296.76</td>\n",
       "      <td>3296.76</td>\n",
       "    </tr>\n",
       "    <tr>\n",
       "      <th>госслужащий</th>\n",
       "      <td>39.95</td>\n",
       "      <td>15193.03</td>\n",
       "      <td>2689.37</td>\n",
       "    </tr>\n",
       "    <tr>\n",
       "      <th>компаньон</th>\n",
       "      <td>30.20</td>\n",
       "      <td>17615.56</td>\n",
       "      <td>1547.38</td>\n",
       "    </tr>\n",
       "    <tr>\n",
       "      <th>пенсионер</th>\n",
       "      <td>328728.72</td>\n",
       "      <td>401755.40</td>\n",
       "      <td>365213.31</td>\n",
       "    </tr>\n",
       "    <tr>\n",
       "      <th>предприниматель</th>\n",
       "      <td>520.85</td>\n",
       "      <td>520.85</td>\n",
       "      <td>520.85</td>\n",
       "    </tr>\n",
       "    <tr>\n",
       "      <th>сотрудник</th>\n",
       "      <td>24.14</td>\n",
       "      <td>18388.95</td>\n",
       "      <td>1574.20</td>\n",
       "    </tr>\n",
       "    <tr>\n",
       "      <th>студент</th>\n",
       "      <td>578.75</td>\n",
       "      <td>578.75</td>\n",
       "      <td>578.75</td>\n",
       "    </tr>\n",
       "  </tbody>\n",
       "</table>\n",
       "</div>"
      ],
      "text/plain": [
       "                          min           max        median\n",
       "                days_employed days_employed days_employed\n",
       "income_type                                              \n",
       "безработный         337524.47     395302.84     366413.65\n",
       "в декрете             3296.76       3296.76       3296.76\n",
       "госслужащий             39.95      15193.03       2689.37\n",
       "компаньон               30.20      17615.56       1547.38\n",
       "пенсионер           328728.72     401755.40     365213.31\n",
       "предприниматель        520.85        520.85        520.85\n",
       "сотрудник               24.14      18388.95       1574.20\n",
       "студент                578.75        578.75        578.75"
      ]
     },
     "execution_count": 9,
     "metadata": {},
     "output_type": "execute_result"
    }
   ],
   "source": [
    "days.round(2)"
   ]
  },
  {
   "cell_type": "markdown",
   "id": "30c82700",
   "metadata": {},
   "source": [
    "* Наиболее существенные аномалии в данных у пенсионеров и безработных\n",
    "* Порядок значений позволяет сделать предположение, что размерность этих аномальных строк не соответствует числу дней, а указывает количество рабочих часов"
   ]
  },
  {
   "cell_type": "markdown",
   "id": "f880ae70",
   "metadata": {},
   "source": [
    "#### Замена аномальных значений столбца days_employed и заполнение пропусков"
   ]
  },
  {
   "cell_type": "code",
   "execution_count": 10,
   "id": "c0d1799c",
   "metadata": {},
   "outputs": [],
   "source": [
    "statistics.loc[statistics['days_employed']>20000,'days_employed'] = statistics.loc[statistics['days_employed']>20000 ,'days_employed']  / 24\n",
    "#перевод аномально больших значений из часов в дни\n",
    "statistics_days = statistics.groupby('income_type')['days_employed'].median() \n",
    "#поиск медианных значений\n",
    "\n",
    "#функция для заполнения пропусков столбца days_employed\n",
    "def func_days(row): \n",
    "    if pd.isna(row['days_employed']):\n",
    "        return statistics_days.loc[row['income_type']]\n",
    "    return row['days_employed']\n",
    "\n",
    "statistics['days_employed'] = statistics.apply(func_days, axis=1) \n",
    "#заполнение пропусков столбца days_employed с применением функции\n"
   ]
  },
  {
   "cell_type": "markdown",
   "id": "947b1820",
   "metadata": {},
   "source": [
    "#### Проверка столбца days_employed после замены аномальных значений и заполнения пропусков"
   ]
  },
  {
   "cell_type": "code",
   "execution_count": 11,
   "id": "b785d02b",
   "metadata": {},
   "outputs": [],
   "source": [
    "days_changed = statistics.pivot_table(index=['income_type'], \n",
    "                                      values = ['days_employed'], \n",
    "                                      aggfunc=['min', 'max','median'])\n",
    "# сводная таблица обновленных значений столбца минимальных, максимальных и медианных значений столбца \n",
    "# days_employed в зависимости от типа занятости"
   ]
  },
  {
   "cell_type": "code",
   "execution_count": 12,
   "id": "d3fa01b8",
   "metadata": {},
   "outputs": [
    {
     "data": {
      "text/html": [
       "<div>\n",
       "<style scoped>\n",
       "    .dataframe tbody tr th:only-of-type {\n",
       "        vertical-align: middle;\n",
       "    }\n",
       "\n",
       "    .dataframe tbody tr th {\n",
       "        vertical-align: top;\n",
       "    }\n",
       "\n",
       "    .dataframe thead tr th {\n",
       "        text-align: left;\n",
       "    }\n",
       "\n",
       "    .dataframe thead tr:last-of-type th {\n",
       "        text-align: right;\n",
       "    }\n",
       "</style>\n",
       "<table border=\"1\" class=\"dataframe\">\n",
       "  <thead>\n",
       "    <tr>\n",
       "      <th></th>\n",
       "      <th>min</th>\n",
       "      <th>max</th>\n",
       "      <th>median</th>\n",
       "    </tr>\n",
       "    <tr>\n",
       "      <th></th>\n",
       "      <th>days_employed</th>\n",
       "      <th>days_employed</th>\n",
       "      <th>days_employed</th>\n",
       "    </tr>\n",
       "    <tr>\n",
       "      <th>income_type</th>\n",
       "      <th></th>\n",
       "      <th></th>\n",
       "      <th></th>\n",
       "    </tr>\n",
       "  </thead>\n",
       "  <tbody>\n",
       "    <tr>\n",
       "      <th>безработный</th>\n",
       "      <td>14063.52</td>\n",
       "      <td>16470.95</td>\n",
       "      <td>15267.24</td>\n",
       "    </tr>\n",
       "    <tr>\n",
       "      <th>в декрете</th>\n",
       "      <td>3296.76</td>\n",
       "      <td>3296.76</td>\n",
       "      <td>3296.76</td>\n",
       "    </tr>\n",
       "    <tr>\n",
       "      <th>госслужащий</th>\n",
       "      <td>39.95</td>\n",
       "      <td>15193.03</td>\n",
       "      <td>2689.37</td>\n",
       "    </tr>\n",
       "    <tr>\n",
       "      <th>компаньон</th>\n",
       "      <td>30.20</td>\n",
       "      <td>17615.56</td>\n",
       "      <td>1547.38</td>\n",
       "    </tr>\n",
       "    <tr>\n",
       "      <th>пенсионер</th>\n",
       "      <td>13697.03</td>\n",
       "      <td>16739.81</td>\n",
       "      <td>15217.22</td>\n",
       "    </tr>\n",
       "    <tr>\n",
       "      <th>предприниматель</th>\n",
       "      <td>520.85</td>\n",
       "      <td>520.85</td>\n",
       "      <td>520.85</td>\n",
       "    </tr>\n",
       "    <tr>\n",
       "      <th>сотрудник</th>\n",
       "      <td>24.14</td>\n",
       "      <td>18388.95</td>\n",
       "      <td>1574.20</td>\n",
       "    </tr>\n",
       "    <tr>\n",
       "      <th>студент</th>\n",
       "      <td>578.75</td>\n",
       "      <td>578.75</td>\n",
       "      <td>578.75</td>\n",
       "    </tr>\n",
       "  </tbody>\n",
       "</table>\n",
       "</div>"
      ],
      "text/plain": [
       "                          min           max        median\n",
       "                days_employed days_employed days_employed\n",
       "income_type                                              \n",
       "безработный          14063.52      16470.95      15267.24\n",
       "в декрете             3296.76       3296.76       3296.76\n",
       "госслужащий             39.95      15193.03       2689.37\n",
       "компаньон               30.20      17615.56       1547.38\n",
       "пенсионер            13697.03      16739.81      15217.22\n",
       "предприниматель        520.85        520.85        520.85\n",
       "сотрудник               24.14      18388.95       1574.20\n",
       "студент                578.75        578.75        578.75"
      ]
     },
     "execution_count": 12,
     "metadata": {},
     "output_type": "execute_result"
    }
   ],
   "source": [
    "days_changed.round(2)"
   ]
  },
  {
   "cell_type": "markdown",
   "id": "62377fda",
   "metadata": {},
   "source": [
    "* Обновленные значения более адекватно отображают значения \n",
    "* В случае с типами занятости \"в декрете\" и \"студент\" и \"предприниматель\" аномалий в данных нет, т.к. количественно они представлены в одной-двух строках "
   ]
  },
  {
   "cell_type": "markdown",
   "id": "68cbd3fb",
   "metadata": {},
   "source": [
    "#### Заполнение пропусков значений столбца total_income "
   ]
  },
  {
   "cell_type": "code",
   "execution_count": 13,
   "id": "31816aa8",
   "metadata": {},
   "outputs": [],
   "source": [
    "statistics_grouped = statistics.groupby('income_type')['total_income'].mean()\n",
    "#поиск средних значений\n",
    "\n",
    "#функция для заполнения пропусков столбца total_income\n",
    "def func(row):\n",
    "    if pd.isna(row['total_income']):\n",
    "        return statistics_grouped.loc[row['income_type']]\n",
    "    return row['total_income']\n",
    "\n",
    "statistics['total_income'] = statistics.apply(func, axis=1)\n",
    "#заполнение пропусков столбца total_income с применением функции\n"
   ]
  },
  {
   "cell_type": "markdown",
   "id": "ddf32f2d",
   "metadata": {},
   "source": [
    "Уникальные значения столбца dob_years:"
   ]
  },
  {
   "cell_type": "code",
   "execution_count": 14,
   "id": "c40b516f",
   "metadata": {},
   "outputs": [
    {
     "data": {
      "text/plain": [
       "array([ 0, 19, 20, 21, 22, 23, 24, 25, 26, 27, 28, 29, 30, 31, 32, 33, 34,\n",
       "       35, 36, 37, 38, 39, 40, 41, 42, 43, 44, 45, 46, 47, 48, 49, 50, 51,\n",
       "       52, 53, 54, 55, 56, 57, 58, 59, 60, 61, 62, 63, 64, 65, 66, 67, 68,\n",
       "       69, 70, 71, 72, 73, 74, 75])"
      ]
     },
     "execution_count": 14,
     "metadata": {},
     "output_type": "execute_result"
    }
   ],
   "source": [
    "statistics['dob_years'].sort_values(ascending = True).unique()"
   ]
  },
  {
   "cell_type": "code",
   "execution_count": 15,
   "id": "8eba2a35",
   "metadata": {},
   "outputs": [
    {
     "name": "stdout",
     "output_type": "stream",
     "text": [
      "Количество строк с указанным возрастом 0: 101\n"
     ]
    }
   ],
   "source": [
    "print ('Количество строк с указанным возрастом 0:', statistics.loc[statistics['dob_years'] == 0, 'dob_years'].count())"
   ]
  },
  {
   "cell_type": "markdown",
   "id": "2f497993",
   "metadata": {},
   "source": [
    "* Аномалии в данных: значения возраста, равные 0.\n",
    "* В связи с тем, что столбец не участвует в дальнейшей работе, на данном этапе их можно не исправлять\n",
    "* В случае изменения поставленной задачи, требуется внесение изменений"
   ]
  },
  {
   "cell_type": "markdown",
   "id": "7017166d",
   "metadata": {},
   "source": [
    "#### Замена вещественного типа данных в столбце total_income на целочисленный"
   ]
  },
  {
   "cell_type": "code",
   "execution_count": 16,
   "id": "29e31b39",
   "metadata": {},
   "outputs": [],
   "source": [
    "statistics['total_income'] = statistics['total_income'].astype('int64', copy=False)\n",
    "#замена вещественного типа данных в столбце total_income на целочисленный"
   ]
  },
  {
   "cell_type": "code",
   "execution_count": 17,
   "id": "77c10f4c",
   "metadata": {},
   "outputs": [
    {
     "name": "stdout",
     "output_type": "stream",
     "text": [
      "<class 'pandas.core.frame.DataFrame'>\n",
      "RangeIndex: 21525 entries, 0 to 21524\n",
      "Data columns (total 12 columns):\n",
      " #   Column            Non-Null Count  Dtype  \n",
      "---  ------            --------------  -----  \n",
      " 0   children          21525 non-null  int64  \n",
      " 1   days_employed     21525 non-null  float64\n",
      " 2   dob_years         21525 non-null  int64  \n",
      " 3   education         21525 non-null  object \n",
      " 4   education_id      21525 non-null  int64  \n",
      " 5   family_status     21525 non-null  object \n",
      " 6   family_status_id  21525 non-null  int64  \n",
      " 7   gender            21525 non-null  object \n",
      " 8   income_type       21525 non-null  object \n",
      " 9   debt              21525 non-null  int64  \n",
      " 10  total_income      21525 non-null  int64  \n",
      " 11  purpose           21525 non-null  object \n",
      "dtypes: float64(1), int64(6), object(5)\n",
      "memory usage: 2.0+ MB\n"
     ]
    }
   ],
   "source": [
    "statistics.info()"
   ]
  },
  {
   "cell_type": "markdown",
   "id": "26157b29",
   "metadata": {},
   "source": [
    "* Проверка полученной таблицы на предмет отсутствия пропусков - все строки с недостающими данными заполнены, тип столбца total_income земенен"
   ]
  },
  {
   "cell_type": "markdown",
   "id": "7947df33",
   "metadata": {},
   "source": [
    "### Поиск дубликатов"
   ]
  },
  {
   "cell_type": "markdown",
   "id": "cdf28ca4",
   "metadata": {},
   "source": [
    "#### Поиск аномалий данных и неявных дубликатов"
   ]
  },
  {
   "cell_type": "markdown",
   "id": "edce939d",
   "metadata": {},
   "source": [
    "Уникальные значения столбца children:"
   ]
  },
  {
   "cell_type": "code",
   "execution_count": 20,
   "id": "d63bd636",
   "metadata": {},
   "outputs": [
    {
     "name": "stdout",
     "output_type": "stream",
     "text": [
      "[-1  0  1  2  3  4  5 20]\n"
     ]
    }
   ],
   "source": [
    "print (statistics['children'].sort_values(ascending = True).unique())"
   ]
  },
  {
   "cell_type": "markdown",
   "id": "00be90c1",
   "metadata": {},
   "source": [
    "* Аномалии в данных: значения -1, 20.\n",
    "* Возможная причина: ручной ввод данных."
   ]
  },
  {
   "cell_type": "code",
   "execution_count": 21,
   "id": "26a3c9ef",
   "metadata": {},
   "outputs": [
    {
     "name": "stdout",
     "output_type": "stream",
     "text": [
      "Количество строк с аномальным значением столбца children -1: 47\n",
      "Количество строк с аномальным значением столбца children 20: 76\n"
     ]
    }
   ],
   "source": [
    "#подсчет количества строк, содержащих значение -1\n",
    "count1 = statistics.loc[statistics['children'] == -1, 'children'].count()\n",
    "\n",
    "#подсчет количества строк, содержащих значение 20\n",
    "count2 = statistics.loc[statistics['children'] == 20, 'children'].count()\n",
    "\n",
    "print ('Количество строк с аномальным значением столбца children -1:', count1)\n",
    "print ('Количество строк с аномальным значением столбца children 20:', count2)"
   ]
  },
  {
   "cell_type": "markdown",
   "id": "9e477a42",
   "metadata": {},
   "source": [
    "* Аномалии в данных являются несущественными, можно рассматривать в качестве причины ручной ввод данных \n",
    "* Аномальные значения столбца children заменим на значение 1 (всесто -1) и значение 2 (вместо 20)"
   ]
  },
  {
   "cell_type": "code",
   "execution_count": 22,
   "id": "40f757b4",
   "metadata": {},
   "outputs": [
    {
     "name": "stdout",
     "output_type": "stream",
     "text": [
      "[0 1 2 3 4 5]\n"
     ]
    }
   ],
   "source": [
    "#замена строк, содержащих значение -1\n",
    "statistics.loc[statistics['children'] == -1, 'children'] = 1\n",
    "\n",
    "#замена строк, содержащих значение 20\n",
    "statistics.loc[statistics['children'] == 20, 'children'] = 2\n",
    "\n",
    "#проверка обновленных уникальных значений стобца children\n",
    "print (statistics['children'].sort_values(ascending = True).unique())"
   ]
  },
  {
   "cell_type": "markdown",
   "id": "2a285797",
   "metadata": {},
   "source": [
    "Уникальные значения столбца education:"
   ]
  },
  {
   "cell_type": "code",
   "execution_count": 23,
   "id": "a7a54b92",
   "metadata": {},
   "outputs": [
    {
     "name": "stdout",
     "output_type": "stream",
     "text": [
      "['ВЫСШЕЕ' 'Высшее' 'НАЧАЛЬНОЕ' 'НЕОКОНЧЕННОЕ ВЫСШЕЕ' 'Начальное'\n",
      " 'Неоконченное высшее' 'СРЕДНЕЕ' 'Среднее' 'УЧЕНАЯ СТЕПЕНЬ'\n",
      " 'Ученая степень' 'высшее' 'начальное' 'неоконченное высшее' 'среднее'\n",
      " 'ученая степень']\n"
     ]
    }
   ],
   "source": [
    "print (statistics['education'].sort_values(ascending = True).unique())"
   ]
  },
  {
   "cell_type": "markdown",
   "id": "6645783f",
   "metadata": {},
   "source": [
    "* Аномалии в данных: наличие верхних и нижних регистров\n",
    "* Необходимо привести все значения к нижнему регистру"
   ]
  },
  {
   "cell_type": "code",
   "execution_count": 24,
   "id": "01f1f153",
   "metadata": {},
   "outputs": [
    {
     "data": {
      "text/plain": [
       "array(['высшее', 'начальное', 'неоконченное высшее', 'среднее',\n",
       "       'ученая степень'], dtype=object)"
      ]
     },
     "execution_count": 24,
     "metadata": {},
     "output_type": "execute_result"
    }
   ],
   "source": [
    "#приведение к нижнему регистру\n",
    "\n",
    "statistics['education'] = statistics['education'].str.lower()\n",
    "statistics['education'].sort_values(ascending = True).unique()"
   ]
  },
  {
   "cell_type": "markdown",
   "id": "28552335",
   "metadata": {},
   "source": [
    "Уникальные значения столбца purpose:"
   ]
  },
  {
   "cell_type": "code",
   "execution_count": 25,
   "id": "7a8861a6",
   "metadata": {},
   "outputs": [
    {
     "name": "stdout",
     "output_type": "stream",
     "text": [
      "['автомобили' 'автомобиль' 'высшее образование'\n",
      " 'дополнительное образование' 'жилье' 'заняться высшим образованием'\n",
      " 'заняться образованием' 'на покупку автомобиля'\n",
      " 'на покупку подержанного автомобиля' 'на покупку своего автомобиля'\n",
      " 'на проведение свадьбы' 'недвижимость' 'образование' 'операции с жильем'\n",
      " 'операции с коммерческой недвижимостью' 'операции с недвижимостью'\n",
      " 'операции со своей недвижимостью' 'покупка жилой недвижимости'\n",
      " 'покупка жилья' 'покупка жилья для сдачи' 'покупка жилья для семьи'\n",
      " 'покупка коммерческой недвижимости' 'покупка недвижимости'\n",
      " 'покупка своего жилья' 'получение высшего образования'\n",
      " 'получение дополнительного образования' 'получение образования'\n",
      " 'приобретение автомобиля' 'профильное образование' 'ремонт жилью'\n",
      " 'свадьба' 'свой автомобиль' 'сделка с автомобилем'\n",
      " 'сделка с подержанным автомобилем' 'строительство жилой недвижимости'\n",
      " 'строительство недвижимости' 'строительство собственной недвижимости'\n",
      " 'сыграть свадьбу']\n"
     ]
    }
   ],
   "source": [
    "print (statistics['purpose'].sort_values(ascending = True).unique())"
   ]
  },
  {
   "cell_type": "markdown",
   "id": "e3345720",
   "metadata": {},
   "source": [
    "* Аномалии в данных: дублирование по смыслу\n",
    "* Необходима категоризация переменных, которая будет произведена после устранения аномальных данных во всех столбцах"
   ]
  },
  {
   "cell_type": "markdown",
   "id": "84936684",
   "metadata": {},
   "source": [
    "Уникальные значения столбца gender:"
   ]
  },
  {
   "cell_type": "code",
   "execution_count": 26,
   "id": "6f7be204",
   "metadata": {},
   "outputs": [
    {
     "name": "stdout",
     "output_type": "stream",
     "text": [
      "['F' 'M' 'XNA']\n"
     ]
    }
   ],
   "source": [
    "print(statistics['gender'].sort_values(ascending = True).unique())"
   ]
  },
  {
   "cell_type": "markdown",
   "id": "0bcfe582",
   "metadata": {},
   "source": [
    "* Аномалии в данных: неизвестно значение XNA"
   ]
  },
  {
   "cell_type": "code",
   "execution_count": 27,
   "id": "5f8b9747",
   "metadata": {},
   "outputs": [
    {
     "name": "stdout",
     "output_type": "stream",
     "text": [
      "Количество строк с аномальным значением столбца gender:  1\n"
     ]
    }
   ],
   "source": [
    "#анализ количества строк, содержащих значение XNA\n",
    "\n",
    "gender = statistics.loc[statistics['gender'] == 'XNA', 'gender'].count()\n",
    "print ('Количество строк с аномальным значением столбца gender: ', gender)"
   ]
  },
  {
   "cell_type": "markdown",
   "id": "5d200c38",
   "metadata": {},
   "source": [
    "* Количество строк, содержащих значение XNA несущественно\n",
    "* Строку, содержащую значение XNA можно не учитывать"
   ]
  },
  {
   "cell_type": "code",
   "execution_count": 28,
   "id": "bdac3348",
   "metadata": {},
   "outputs": [],
   "source": [
    "# исключение строки, cоlержащей XNA\n",
    " \n",
    "statistics = statistics[statistics['gender'] != 'XNA']"
   ]
  },
  {
   "cell_type": "markdown",
   "id": "42189792",
   "metadata": {},
   "source": [
    "print ('Количество явных дубликатов:', statistics.duplicated().sum())"
   ]
  },
  {
   "cell_type": "code",
   "execution_count": 29,
   "id": "d75a4e15",
   "metadata": {},
   "outputs": [
    {
     "name": "stdout",
     "output_type": "stream",
     "text": [
      "Количество явных дубликатов: 0\n"
     ]
    }
   ],
   "source": [
    "statistics = statistics.drop_duplicates() \n",
    "#удаление явных дубликатов\n",
    "\n",
    "print ('Количество явных дубликатов:', statistics.duplicated().sum())\n",
    "#проверка"
   ]
  },
  {
   "cell_type": "markdown",
   "id": "1f3a3334",
   "metadata": {},
   "source": [
    "### Создание новых датафреймов"
   ]
  },
  {
   "cell_type": "markdown",
   "id": "57876038",
   "metadata": {},
   "source": [
    "#### Датафрейм на основе столбцов education и education_id"
   ]
  },
  {
   "cell_type": "code",
   "execution_count": 30,
   "id": "1a994df5",
   "metadata": {},
   "outputs": [],
   "source": [
    "# cоздание датафрейма, в котором каждому уникальному значению из education соответствует уникальное значение education_id \n",
    "\n",
    "statistics_edu = statistics[['education', 'education_id']]\n",
    "statistics_edu = statistics_edu.drop_duplicates()\n",
    "statistics_edu = statistics_edu.reset_index(drop=True)"
   ]
  },
  {
   "cell_type": "code",
   "execution_count": 31,
   "id": "6e842c2a",
   "metadata": {},
   "outputs": [
    {
     "data": {
      "text/html": [
       "<div>\n",
       "<style scoped>\n",
       "    .dataframe tbody tr th:only-of-type {\n",
       "        vertical-align: middle;\n",
       "    }\n",
       "\n",
       "    .dataframe tbody tr th {\n",
       "        vertical-align: top;\n",
       "    }\n",
       "\n",
       "    .dataframe thead th {\n",
       "        text-align: right;\n",
       "    }\n",
       "</style>\n",
       "<table border=\"1\" class=\"dataframe\">\n",
       "  <thead>\n",
       "    <tr style=\"text-align: right;\">\n",
       "      <th></th>\n",
       "      <th>education</th>\n",
       "      <th>education_id</th>\n",
       "    </tr>\n",
       "  </thead>\n",
       "  <tbody>\n",
       "    <tr>\n",
       "      <th>0</th>\n",
       "      <td>высшее</td>\n",
       "      <td>0</td>\n",
       "    </tr>\n",
       "    <tr>\n",
       "      <th>1</th>\n",
       "      <td>среднее</td>\n",
       "      <td>1</td>\n",
       "    </tr>\n",
       "    <tr>\n",
       "      <th>2</th>\n",
       "      <td>неоконченное высшее</td>\n",
       "      <td>2</td>\n",
       "    </tr>\n",
       "    <tr>\n",
       "      <th>3</th>\n",
       "      <td>начальное</td>\n",
       "      <td>3</td>\n",
       "    </tr>\n",
       "    <tr>\n",
       "      <th>4</th>\n",
       "      <td>ученая степень</td>\n",
       "      <td>4</td>\n",
       "    </tr>\n",
       "  </tbody>\n",
       "</table>\n",
       "</div>"
      ],
      "text/plain": [
       "             education  education_id\n",
       "0               высшее             0\n",
       "1              среднее             1\n",
       "2  неоконченное высшее             2\n",
       "3            начальное             3\n",
       "4       ученая степень             4"
      ]
     },
     "execution_count": 31,
     "metadata": {},
     "output_type": "execute_result"
    }
   ],
   "source": [
    "statistics_edu"
   ]
  },
  {
   "cell_type": "code",
   "execution_count": 32,
   "id": "b02b1f6c",
   "metadata": {},
   "outputs": [],
   "source": [
    "# cоздание датафрейма, в котором каждому уникальному значению из family_status соответствует уникальное значение family_status_id\n",
    "\n",
    "statistics_fam = statistics[['family_status', 'family_status_id']]\n",
    "statistics_fam = statistics_fam.drop_duplicates()\n",
    "statistics_fam = statistics_fam.reset_index(drop=True)"
   ]
  },
  {
   "cell_type": "code",
   "execution_count": 33,
   "id": "9f3a3316",
   "metadata": {},
   "outputs": [
    {
     "data": {
      "text/html": [
       "<div>\n",
       "<style scoped>\n",
       "    .dataframe tbody tr th:only-of-type {\n",
       "        vertical-align: middle;\n",
       "    }\n",
       "\n",
       "    .dataframe tbody tr th {\n",
       "        vertical-align: top;\n",
       "    }\n",
       "\n",
       "    .dataframe thead th {\n",
       "        text-align: right;\n",
       "    }\n",
       "</style>\n",
       "<table border=\"1\" class=\"dataframe\">\n",
       "  <thead>\n",
       "    <tr style=\"text-align: right;\">\n",
       "      <th></th>\n",
       "      <th>family_status</th>\n",
       "      <th>family_status_id</th>\n",
       "    </tr>\n",
       "  </thead>\n",
       "  <tbody>\n",
       "    <tr>\n",
       "      <th>0</th>\n",
       "      <td>женат / замужем</td>\n",
       "      <td>0</td>\n",
       "    </tr>\n",
       "    <tr>\n",
       "      <th>1</th>\n",
       "      <td>гражданский брак</td>\n",
       "      <td>1</td>\n",
       "    </tr>\n",
       "    <tr>\n",
       "      <th>2</th>\n",
       "      <td>вдовец / вдова</td>\n",
       "      <td>2</td>\n",
       "    </tr>\n",
       "    <tr>\n",
       "      <th>3</th>\n",
       "      <td>в разводе</td>\n",
       "      <td>3</td>\n",
       "    </tr>\n",
       "    <tr>\n",
       "      <th>4</th>\n",
       "      <td>Не женат / не замужем</td>\n",
       "      <td>4</td>\n",
       "    </tr>\n",
       "  </tbody>\n",
       "</table>\n",
       "</div>"
      ],
      "text/plain": [
       "           family_status  family_status_id\n",
       "0        женат / замужем                 0\n",
       "1       гражданский брак                 1\n",
       "2         вдовец / вдова                 2\n",
       "3              в разводе                 3\n",
       "4  Не женат / не замужем                 4"
      ]
     },
     "execution_count": 33,
     "metadata": {},
     "output_type": "execute_result"
    }
   ],
   "source": [
    "statistics_fam"
   ]
  },
  {
   "cell_type": "code",
   "execution_count": 34,
   "id": "748a9788",
   "metadata": {},
   "outputs": [],
   "source": [
    "#удаление из исходного датафрейма столбцы education и family_status\n",
    "\n",
    "statistics = statistics.drop(columns=['education', 'family_status'])"
   ]
  },
  {
   "cell_type": "code",
   "execution_count": 35,
   "id": "01d7dca2",
   "metadata": {},
   "outputs": [
    {
     "data": {
      "text/html": [
       "<div>\n",
       "<style scoped>\n",
       "    .dataframe tbody tr th:only-of-type {\n",
       "        vertical-align: middle;\n",
       "    }\n",
       "\n",
       "    .dataframe tbody tr th {\n",
       "        vertical-align: top;\n",
       "    }\n",
       "\n",
       "    .dataframe thead th {\n",
       "        text-align: right;\n",
       "    }\n",
       "</style>\n",
       "<table border=\"1\" class=\"dataframe\">\n",
       "  <thead>\n",
       "    <tr style=\"text-align: right;\">\n",
       "      <th></th>\n",
       "      <th>children</th>\n",
       "      <th>days_employed</th>\n",
       "      <th>dob_years</th>\n",
       "      <th>education_id</th>\n",
       "      <th>family_status_id</th>\n",
       "      <th>gender</th>\n",
       "      <th>income_type</th>\n",
       "      <th>debt</th>\n",
       "      <th>total_income</th>\n",
       "      <th>purpose</th>\n",
       "    </tr>\n",
       "  </thead>\n",
       "  <tbody>\n",
       "    <tr>\n",
       "      <th>0</th>\n",
       "      <td>1</td>\n",
       "      <td>8437.673028</td>\n",
       "      <td>42</td>\n",
       "      <td>0</td>\n",
       "      <td>0</td>\n",
       "      <td>F</td>\n",
       "      <td>сотрудник</td>\n",
       "      <td>0</td>\n",
       "      <td>253875</td>\n",
       "      <td>покупка жилья</td>\n",
       "    </tr>\n",
       "    <tr>\n",
       "      <th>1</th>\n",
       "      <td>1</td>\n",
       "      <td>4024.803754</td>\n",
       "      <td>36</td>\n",
       "      <td>1</td>\n",
       "      <td>0</td>\n",
       "      <td>F</td>\n",
       "      <td>сотрудник</td>\n",
       "      <td>0</td>\n",
       "      <td>112080</td>\n",
       "      <td>приобретение автомобиля</td>\n",
       "    </tr>\n",
       "    <tr>\n",
       "      <th>2</th>\n",
       "      <td>0</td>\n",
       "      <td>5623.422610</td>\n",
       "      <td>33</td>\n",
       "      <td>1</td>\n",
       "      <td>0</td>\n",
       "      <td>M</td>\n",
       "      <td>сотрудник</td>\n",
       "      <td>0</td>\n",
       "      <td>145885</td>\n",
       "      <td>покупка жилья</td>\n",
       "    </tr>\n",
       "    <tr>\n",
       "      <th>3</th>\n",
       "      <td>3</td>\n",
       "      <td>4124.747207</td>\n",
       "      <td>32</td>\n",
       "      <td>1</td>\n",
       "      <td>0</td>\n",
       "      <td>M</td>\n",
       "      <td>сотрудник</td>\n",
       "      <td>0</td>\n",
       "      <td>267628</td>\n",
       "      <td>дополнительное образование</td>\n",
       "    </tr>\n",
       "    <tr>\n",
       "      <th>4</th>\n",
       "      <td>0</td>\n",
       "      <td>14177.753002</td>\n",
       "      <td>53</td>\n",
       "      <td>1</td>\n",
       "      <td>1</td>\n",
       "      <td>F</td>\n",
       "      <td>пенсионер</td>\n",
       "      <td>0</td>\n",
       "      <td>158616</td>\n",
       "      <td>сыграть свадьбу</td>\n",
       "    </tr>\n",
       "  </tbody>\n",
       "</table>\n",
       "</div>"
      ],
      "text/plain": [
       "   children  days_employed  dob_years  education_id  family_status_id gender  \\\n",
       "0         1    8437.673028         42             0                 0      F   \n",
       "1         1    4024.803754         36             1                 0      F   \n",
       "2         0    5623.422610         33             1                 0      M   \n",
       "3         3    4124.747207         32             1                 0      M   \n",
       "4         0   14177.753002         53             1                 1      F   \n",
       "\n",
       "  income_type  debt  total_income                     purpose  \n",
       "0   сотрудник     0        253875               покупка жилья  \n",
       "1   сотрудник     0        112080     приобретение автомобиля  \n",
       "2   сотрудник     0        145885               покупка жилья  \n",
       "3   сотрудник     0        267628  дополнительное образование  \n",
       "4   пенсионер     0        158616             сыграть свадьбу  "
      ]
     },
     "execution_count": 35,
     "metadata": {},
     "output_type": "execute_result"
    }
   ],
   "source": [
    "statistics.head()"
   ]
  },
  {
   "cell_type": "code",
   "execution_count": 36,
   "id": "8aef4809",
   "metadata": {},
   "outputs": [],
   "source": [
    "# Создание столбца total_income_category\n",
    "\n",
    "def group(income):\n",
    "    if (income > 0) & (income <= 30000):\n",
    "        return 'E'\n",
    "    if (income > 30001) & (income <= 50000):\n",
    "        return 'D'\n",
    "    if (income > 50001) & (income <= 200000):\n",
    "        return 'C'\n",
    "    if (income > 200001) & (income <= 1000000):\n",
    "        return 'B'\n",
    "    return 'A'\n",
    "\n",
    "statistics['total_income_category'] = statistics['total_income'].apply(group)"
   ]
  },
  {
   "cell_type": "code",
   "execution_count": 37,
   "id": "cf9703a8",
   "metadata": {},
   "outputs": [
    {
     "data": {
      "text/html": [
       "<div>\n",
       "<style scoped>\n",
       "    .dataframe tbody tr th:only-of-type {\n",
       "        vertical-align: middle;\n",
       "    }\n",
       "\n",
       "    .dataframe tbody tr th {\n",
       "        vertical-align: top;\n",
       "    }\n",
       "\n",
       "    .dataframe thead th {\n",
       "        text-align: right;\n",
       "    }\n",
       "</style>\n",
       "<table border=\"1\" class=\"dataframe\">\n",
       "  <thead>\n",
       "    <tr style=\"text-align: right;\">\n",
       "      <th></th>\n",
       "      <th>children</th>\n",
       "      <th>days_employed</th>\n",
       "      <th>dob_years</th>\n",
       "      <th>education_id</th>\n",
       "      <th>family_status_id</th>\n",
       "      <th>gender</th>\n",
       "      <th>income_type</th>\n",
       "      <th>debt</th>\n",
       "      <th>total_income</th>\n",
       "      <th>purpose</th>\n",
       "      <th>total_income_category</th>\n",
       "    </tr>\n",
       "  </thead>\n",
       "  <tbody>\n",
       "    <tr>\n",
       "      <th>0</th>\n",
       "      <td>1</td>\n",
       "      <td>8437.673028</td>\n",
       "      <td>42</td>\n",
       "      <td>0</td>\n",
       "      <td>0</td>\n",
       "      <td>F</td>\n",
       "      <td>сотрудник</td>\n",
       "      <td>0</td>\n",
       "      <td>253875</td>\n",
       "      <td>покупка жилья</td>\n",
       "      <td>B</td>\n",
       "    </tr>\n",
       "    <tr>\n",
       "      <th>1</th>\n",
       "      <td>1</td>\n",
       "      <td>4024.803754</td>\n",
       "      <td>36</td>\n",
       "      <td>1</td>\n",
       "      <td>0</td>\n",
       "      <td>F</td>\n",
       "      <td>сотрудник</td>\n",
       "      <td>0</td>\n",
       "      <td>112080</td>\n",
       "      <td>приобретение автомобиля</td>\n",
       "      <td>C</td>\n",
       "    </tr>\n",
       "    <tr>\n",
       "      <th>2</th>\n",
       "      <td>0</td>\n",
       "      <td>5623.422610</td>\n",
       "      <td>33</td>\n",
       "      <td>1</td>\n",
       "      <td>0</td>\n",
       "      <td>M</td>\n",
       "      <td>сотрудник</td>\n",
       "      <td>0</td>\n",
       "      <td>145885</td>\n",
       "      <td>покупка жилья</td>\n",
       "      <td>C</td>\n",
       "    </tr>\n",
       "    <tr>\n",
       "      <th>3</th>\n",
       "      <td>3</td>\n",
       "      <td>4124.747207</td>\n",
       "      <td>32</td>\n",
       "      <td>1</td>\n",
       "      <td>0</td>\n",
       "      <td>M</td>\n",
       "      <td>сотрудник</td>\n",
       "      <td>0</td>\n",
       "      <td>267628</td>\n",
       "      <td>дополнительное образование</td>\n",
       "      <td>B</td>\n",
       "    </tr>\n",
       "    <tr>\n",
       "      <th>4</th>\n",
       "      <td>0</td>\n",
       "      <td>14177.753002</td>\n",
       "      <td>53</td>\n",
       "      <td>1</td>\n",
       "      <td>1</td>\n",
       "      <td>F</td>\n",
       "      <td>пенсионер</td>\n",
       "      <td>0</td>\n",
       "      <td>158616</td>\n",
       "      <td>сыграть свадьбу</td>\n",
       "      <td>C</td>\n",
       "    </tr>\n",
       "  </tbody>\n",
       "</table>\n",
       "</div>"
      ],
      "text/plain": [
       "   children  days_employed  dob_years  education_id  family_status_id gender  \\\n",
       "0         1    8437.673028         42             0                 0      F   \n",
       "1         1    4024.803754         36             1                 0      F   \n",
       "2         0    5623.422610         33             1                 0      M   \n",
       "3         3    4124.747207         32             1                 0      M   \n",
       "4         0   14177.753002         53             1                 1      F   \n",
       "\n",
       "  income_type  debt  total_income                     purpose  \\\n",
       "0   сотрудник     0        253875               покупка жилья   \n",
       "1   сотрудник     0        112080     приобретение автомобиля   \n",
       "2   сотрудник     0        145885               покупка жилья   \n",
       "3   сотрудник     0        267628  дополнительное образование   \n",
       "4   пенсионер     0        158616             сыграть свадьбу   \n",
       "\n",
       "  total_income_category  \n",
       "0                     B  \n",
       "1                     C  \n",
       "2                     C  \n",
       "3                     B  \n",
       "4                     C  "
      ]
     },
     "execution_count": 37,
     "metadata": {},
     "output_type": "execute_result"
    }
   ],
   "source": [
    "statistics.head()"
   ]
  },
  {
   "cell_type": "code",
   "execution_count": 38,
   "id": "2dd7bd63",
   "metadata": {},
   "outputs": [],
   "source": [
    "# Создание столбца purpose_category\n",
    "\n",
    "def cathegory(purpose):\n",
    "    if 'автомобил' in purpose:\n",
    "        return 'операции с автомобилем'\n",
    "    if ('жиль') in purpose:\n",
    "        return 'операции с недвижимостью'\n",
    "    if 'свадьб' in purpose:\n",
    "        return 'проведение свадьбы'\n",
    "    if 'образов' in purpose:\n",
    "        return 'получение образования'\n",
    "    return 'операции с недвижимостью'\n",
    "\n",
    "statistics['purpose_category'] = statistics['purpose'].apply(cathegory)"
   ]
  },
  {
   "cell_type": "code",
   "execution_count": 39,
   "id": "69a7c032",
   "metadata": {
    "scrolled": true
   },
   "outputs": [
    {
     "data": {
      "text/html": [
       "<div>\n",
       "<style scoped>\n",
       "    .dataframe tbody tr th:only-of-type {\n",
       "        vertical-align: middle;\n",
       "    }\n",
       "\n",
       "    .dataframe tbody tr th {\n",
       "        vertical-align: top;\n",
       "    }\n",
       "\n",
       "    .dataframe thead th {\n",
       "        text-align: right;\n",
       "    }\n",
       "</style>\n",
       "<table border=\"1\" class=\"dataframe\">\n",
       "  <thead>\n",
       "    <tr style=\"text-align: right;\">\n",
       "      <th></th>\n",
       "      <th>children</th>\n",
       "      <th>days_employed</th>\n",
       "      <th>dob_years</th>\n",
       "      <th>education_id</th>\n",
       "      <th>family_status_id</th>\n",
       "      <th>gender</th>\n",
       "      <th>income_type</th>\n",
       "      <th>debt</th>\n",
       "      <th>total_income</th>\n",
       "      <th>purpose</th>\n",
       "      <th>total_income_category</th>\n",
       "      <th>purpose_category</th>\n",
       "    </tr>\n",
       "  </thead>\n",
       "  <tbody>\n",
       "    <tr>\n",
       "      <th>0</th>\n",
       "      <td>1</td>\n",
       "      <td>8437.673028</td>\n",
       "      <td>42</td>\n",
       "      <td>0</td>\n",
       "      <td>0</td>\n",
       "      <td>F</td>\n",
       "      <td>сотрудник</td>\n",
       "      <td>0</td>\n",
       "      <td>253875</td>\n",
       "      <td>покупка жилья</td>\n",
       "      <td>B</td>\n",
       "      <td>операции с недвижимостью</td>\n",
       "    </tr>\n",
       "    <tr>\n",
       "      <th>1</th>\n",
       "      <td>1</td>\n",
       "      <td>4024.803754</td>\n",
       "      <td>36</td>\n",
       "      <td>1</td>\n",
       "      <td>0</td>\n",
       "      <td>F</td>\n",
       "      <td>сотрудник</td>\n",
       "      <td>0</td>\n",
       "      <td>112080</td>\n",
       "      <td>приобретение автомобиля</td>\n",
       "      <td>C</td>\n",
       "      <td>операции с автомобилем</td>\n",
       "    </tr>\n",
       "    <tr>\n",
       "      <th>2</th>\n",
       "      <td>0</td>\n",
       "      <td>5623.422610</td>\n",
       "      <td>33</td>\n",
       "      <td>1</td>\n",
       "      <td>0</td>\n",
       "      <td>M</td>\n",
       "      <td>сотрудник</td>\n",
       "      <td>0</td>\n",
       "      <td>145885</td>\n",
       "      <td>покупка жилья</td>\n",
       "      <td>C</td>\n",
       "      <td>операции с недвижимостью</td>\n",
       "    </tr>\n",
       "    <tr>\n",
       "      <th>3</th>\n",
       "      <td>3</td>\n",
       "      <td>4124.747207</td>\n",
       "      <td>32</td>\n",
       "      <td>1</td>\n",
       "      <td>0</td>\n",
       "      <td>M</td>\n",
       "      <td>сотрудник</td>\n",
       "      <td>0</td>\n",
       "      <td>267628</td>\n",
       "      <td>дополнительное образование</td>\n",
       "      <td>B</td>\n",
       "      <td>получение образования</td>\n",
       "    </tr>\n",
       "    <tr>\n",
       "      <th>4</th>\n",
       "      <td>0</td>\n",
       "      <td>14177.753002</td>\n",
       "      <td>53</td>\n",
       "      <td>1</td>\n",
       "      <td>1</td>\n",
       "      <td>F</td>\n",
       "      <td>пенсионер</td>\n",
       "      <td>0</td>\n",
       "      <td>158616</td>\n",
       "      <td>сыграть свадьбу</td>\n",
       "      <td>C</td>\n",
       "      <td>проведение свадьбы</td>\n",
       "    </tr>\n",
       "    <tr>\n",
       "      <th>5</th>\n",
       "      <td>0</td>\n",
       "      <td>926.185831</td>\n",
       "      <td>27</td>\n",
       "      <td>0</td>\n",
       "      <td>1</td>\n",
       "      <td>M</td>\n",
       "      <td>компаньон</td>\n",
       "      <td>0</td>\n",
       "      <td>255763</td>\n",
       "      <td>покупка жилья</td>\n",
       "      <td>B</td>\n",
       "      <td>операции с недвижимостью</td>\n",
       "    </tr>\n",
       "    <tr>\n",
       "      <th>6</th>\n",
       "      <td>0</td>\n",
       "      <td>2879.202052</td>\n",
       "      <td>43</td>\n",
       "      <td>0</td>\n",
       "      <td>0</td>\n",
       "      <td>F</td>\n",
       "      <td>компаньон</td>\n",
       "      <td>0</td>\n",
       "      <td>240525</td>\n",
       "      <td>операции с жильем</td>\n",
       "      <td>B</td>\n",
       "      <td>операции с недвижимостью</td>\n",
       "    </tr>\n",
       "    <tr>\n",
       "      <th>7</th>\n",
       "      <td>0</td>\n",
       "      <td>152.779569</td>\n",
       "      <td>50</td>\n",
       "      <td>1</td>\n",
       "      <td>0</td>\n",
       "      <td>M</td>\n",
       "      <td>сотрудник</td>\n",
       "      <td>0</td>\n",
       "      <td>135823</td>\n",
       "      <td>образование</td>\n",
       "      <td>C</td>\n",
       "      <td>получение образования</td>\n",
       "    </tr>\n",
       "    <tr>\n",
       "      <th>8</th>\n",
       "      <td>2</td>\n",
       "      <td>6929.865299</td>\n",
       "      <td>35</td>\n",
       "      <td>0</td>\n",
       "      <td>1</td>\n",
       "      <td>F</td>\n",
       "      <td>сотрудник</td>\n",
       "      <td>0</td>\n",
       "      <td>95856</td>\n",
       "      <td>на проведение свадьбы</td>\n",
       "      <td>C</td>\n",
       "      <td>проведение свадьбы</td>\n",
       "    </tr>\n",
       "    <tr>\n",
       "      <th>9</th>\n",
       "      <td>0</td>\n",
       "      <td>2188.756445</td>\n",
       "      <td>41</td>\n",
       "      <td>1</td>\n",
       "      <td>0</td>\n",
       "      <td>M</td>\n",
       "      <td>сотрудник</td>\n",
       "      <td>0</td>\n",
       "      <td>144425</td>\n",
       "      <td>покупка жилья для семьи</td>\n",
       "      <td>C</td>\n",
       "      <td>операции с недвижимостью</td>\n",
       "    </tr>\n",
       "    <tr>\n",
       "      <th>10</th>\n",
       "      <td>2</td>\n",
       "      <td>4171.483647</td>\n",
       "      <td>36</td>\n",
       "      <td>0</td>\n",
       "      <td>0</td>\n",
       "      <td>M</td>\n",
       "      <td>компаньон</td>\n",
       "      <td>0</td>\n",
       "      <td>113943</td>\n",
       "      <td>покупка недвижимости</td>\n",
       "      <td>C</td>\n",
       "      <td>операции с недвижимостью</td>\n",
       "    </tr>\n",
       "    <tr>\n",
       "      <th>11</th>\n",
       "      <td>0</td>\n",
       "      <td>792.701887</td>\n",
       "      <td>40</td>\n",
       "      <td>1</td>\n",
       "      <td>0</td>\n",
       "      <td>F</td>\n",
       "      <td>сотрудник</td>\n",
       "      <td>0</td>\n",
       "      <td>77069</td>\n",
       "      <td>покупка коммерческой недвижимости</td>\n",
       "      <td>C</td>\n",
       "      <td>операции с недвижимостью</td>\n",
       "    </tr>\n",
       "    <tr>\n",
       "      <th>12</th>\n",
       "      <td>0</td>\n",
       "      <td>15217.221094</td>\n",
       "      <td>65</td>\n",
       "      <td>1</td>\n",
       "      <td>1</td>\n",
       "      <td>M</td>\n",
       "      <td>пенсионер</td>\n",
       "      <td>0</td>\n",
       "      <td>137127</td>\n",
       "      <td>сыграть свадьбу</td>\n",
       "      <td>C</td>\n",
       "      <td>проведение свадьбы</td>\n",
       "    </tr>\n",
       "    <tr>\n",
       "      <th>13</th>\n",
       "      <td>0</td>\n",
       "      <td>1846.641941</td>\n",
       "      <td>54</td>\n",
       "      <td>2</td>\n",
       "      <td>0</td>\n",
       "      <td>F</td>\n",
       "      <td>сотрудник</td>\n",
       "      <td>0</td>\n",
       "      <td>130458</td>\n",
       "      <td>приобретение автомобиля</td>\n",
       "      <td>C</td>\n",
       "      <td>операции с автомобилем</td>\n",
       "    </tr>\n",
       "    <tr>\n",
       "      <th>14</th>\n",
       "      <td>0</td>\n",
       "      <td>1844.956182</td>\n",
       "      <td>56</td>\n",
       "      <td>0</td>\n",
       "      <td>1</td>\n",
       "      <td>F</td>\n",
       "      <td>компаньон</td>\n",
       "      <td>1</td>\n",
       "      <td>165127</td>\n",
       "      <td>покупка жилой недвижимости</td>\n",
       "      <td>C</td>\n",
       "      <td>операции с недвижимостью</td>\n",
       "    </tr>\n",
       "    <tr>\n",
       "      <th>15</th>\n",
       "      <td>1</td>\n",
       "      <td>972.364419</td>\n",
       "      <td>26</td>\n",
       "      <td>1</td>\n",
       "      <td>0</td>\n",
       "      <td>F</td>\n",
       "      <td>сотрудник</td>\n",
       "      <td>0</td>\n",
       "      <td>116820</td>\n",
       "      <td>строительство собственной недвижимости</td>\n",
       "      <td>C</td>\n",
       "      <td>операции с недвижимостью</td>\n",
       "    </tr>\n",
       "    <tr>\n",
       "      <th>16</th>\n",
       "      <td>0</td>\n",
       "      <td>1719.934226</td>\n",
       "      <td>35</td>\n",
       "      <td>1</td>\n",
       "      <td>0</td>\n",
       "      <td>F</td>\n",
       "      <td>сотрудник</td>\n",
       "      <td>0</td>\n",
       "      <td>289202</td>\n",
       "      <td>недвижимость</td>\n",
       "      <td>B</td>\n",
       "      <td>операции с недвижимостью</td>\n",
       "    </tr>\n",
       "    <tr>\n",
       "      <th>17</th>\n",
       "      <td>0</td>\n",
       "      <td>2369.999720</td>\n",
       "      <td>33</td>\n",
       "      <td>0</td>\n",
       "      <td>1</td>\n",
       "      <td>M</td>\n",
       "      <td>сотрудник</td>\n",
       "      <td>0</td>\n",
       "      <td>90410</td>\n",
       "      <td>строительство недвижимости</td>\n",
       "      <td>C</td>\n",
       "      <td>операции с недвижимостью</td>\n",
       "    </tr>\n",
       "    <tr>\n",
       "      <th>18</th>\n",
       "      <td>0</td>\n",
       "      <td>16678.380705</td>\n",
       "      <td>53</td>\n",
       "      <td>1</td>\n",
       "      <td>2</td>\n",
       "      <td>F</td>\n",
       "      <td>пенсионер</td>\n",
       "      <td>0</td>\n",
       "      <td>56823</td>\n",
       "      <td>на покупку подержанного автомобиля</td>\n",
       "      <td>C</td>\n",
       "      <td>операции с автомобилем</td>\n",
       "    </tr>\n",
       "    <tr>\n",
       "      <th>19</th>\n",
       "      <td>0</td>\n",
       "      <td>10038.818549</td>\n",
       "      <td>48</td>\n",
       "      <td>1</td>\n",
       "      <td>3</td>\n",
       "      <td>F</td>\n",
       "      <td>сотрудник</td>\n",
       "      <td>0</td>\n",
       "      <td>242831</td>\n",
       "      <td>на покупку своего автомобиля</td>\n",
       "      <td>B</td>\n",
       "      <td>операции с автомобилем</td>\n",
       "    </tr>\n",
       "  </tbody>\n",
       "</table>\n",
       "</div>"
      ],
      "text/plain": [
       "    children  days_employed  dob_years  education_id  family_status_id gender  \\\n",
       "0          1    8437.673028         42             0                 0      F   \n",
       "1          1    4024.803754         36             1                 0      F   \n",
       "2          0    5623.422610         33             1                 0      M   \n",
       "3          3    4124.747207         32             1                 0      M   \n",
       "4          0   14177.753002         53             1                 1      F   \n",
       "5          0     926.185831         27             0                 1      M   \n",
       "6          0    2879.202052         43             0                 0      F   \n",
       "7          0     152.779569         50             1                 0      M   \n",
       "8          2    6929.865299         35             0                 1      F   \n",
       "9          0    2188.756445         41             1                 0      M   \n",
       "10         2    4171.483647         36             0                 0      M   \n",
       "11         0     792.701887         40             1                 0      F   \n",
       "12         0   15217.221094         65             1                 1      M   \n",
       "13         0    1846.641941         54             2                 0      F   \n",
       "14         0    1844.956182         56             0                 1      F   \n",
       "15         1     972.364419         26             1                 0      F   \n",
       "16         0    1719.934226         35             1                 0      F   \n",
       "17         0    2369.999720         33             0                 1      M   \n",
       "18         0   16678.380705         53             1                 2      F   \n",
       "19         0   10038.818549         48             1                 3      F   \n",
       "\n",
       "   income_type  debt  total_income                                 purpose  \\\n",
       "0    сотрудник     0        253875                           покупка жилья   \n",
       "1    сотрудник     0        112080                 приобретение автомобиля   \n",
       "2    сотрудник     0        145885                           покупка жилья   \n",
       "3    сотрудник     0        267628              дополнительное образование   \n",
       "4    пенсионер     0        158616                         сыграть свадьбу   \n",
       "5    компаньон     0        255763                           покупка жилья   \n",
       "6    компаньон     0        240525                       операции с жильем   \n",
       "7    сотрудник     0        135823                             образование   \n",
       "8    сотрудник     0         95856                   на проведение свадьбы   \n",
       "9    сотрудник     0        144425                 покупка жилья для семьи   \n",
       "10   компаньон     0        113943                    покупка недвижимости   \n",
       "11   сотрудник     0         77069       покупка коммерческой недвижимости   \n",
       "12   пенсионер     0        137127                         сыграть свадьбу   \n",
       "13   сотрудник     0        130458                 приобретение автомобиля   \n",
       "14   компаньон     1        165127              покупка жилой недвижимости   \n",
       "15   сотрудник     0        116820  строительство собственной недвижимости   \n",
       "16   сотрудник     0        289202                            недвижимость   \n",
       "17   сотрудник     0         90410              строительство недвижимости   \n",
       "18   пенсионер     0         56823      на покупку подержанного автомобиля   \n",
       "19   сотрудник     0        242831            на покупку своего автомобиля   \n",
       "\n",
       "   total_income_category          purpose_category  \n",
       "0                      B  операции с недвижимостью  \n",
       "1                      C    операции с автомобилем  \n",
       "2                      C  операции с недвижимостью  \n",
       "3                      B     получение образования  \n",
       "4                      C        проведение свадьбы  \n",
       "5                      B  операции с недвижимостью  \n",
       "6                      B  операции с недвижимостью  \n",
       "7                      C     получение образования  \n",
       "8                      C        проведение свадьбы  \n",
       "9                      C  операции с недвижимостью  \n",
       "10                     C  операции с недвижимостью  \n",
       "11                     C  операции с недвижимостью  \n",
       "12                     C        проведение свадьбы  \n",
       "13                     C    операции с автомобилем  \n",
       "14                     C  операции с недвижимостью  \n",
       "15                     C  операции с недвижимостью  \n",
       "16                     B  операции с недвижимостью  \n",
       "17                     C  операции с недвижимостью  \n",
       "18                     C    операции с автомобилем  \n",
       "19                     B    операции с автомобилем  "
      ]
     },
     "execution_count": 39,
     "metadata": {},
     "output_type": "execute_result"
    }
   ],
   "source": [
    "statistics.head(20)"
   ]
  },
  {
   "cell_type": "markdown",
   "id": "35b44ae2",
   "metadata": {},
   "source": [
    "### Ответы на вопросы"
   ]
  },
  {
   "cell_type": "markdown",
   "id": "19628905",
   "metadata": {},
   "source": [
    "#### Есть ли зависимость между количеством детей и возвратом кредита в срок?"
   ]
  },
  {
   "cell_type": "code",
   "execution_count": 40,
   "id": "325815a9",
   "metadata": {},
   "outputs": [],
   "source": [
    "# Формирование таблицы, позволяющей проанализировать общее количество строк в столбце dept, их суммарное значение и среднее \n",
    "# в зависимости от количества детейa\n",
    "\n",
    "family = statistics.pivot_table(index=['children'], values = ['debt'], aggfunc=['count', 'sum','mean'])"
   ]
  },
  {
   "cell_type": "code",
   "execution_count": 41,
   "id": "9b45d494",
   "metadata": {},
   "outputs": [
    {
     "data": {
      "text/html": [
       "<div>\n",
       "<style scoped>\n",
       "    .dataframe tbody tr th:only-of-type {\n",
       "        vertical-align: middle;\n",
       "    }\n",
       "\n",
       "    .dataframe tbody tr th {\n",
       "        vertical-align: top;\n",
       "    }\n",
       "\n",
       "    .dataframe thead tr th {\n",
       "        text-align: left;\n",
       "    }\n",
       "\n",
       "    .dataframe thead tr:last-of-type th {\n",
       "        text-align: right;\n",
       "    }\n",
       "</style>\n",
       "<table border=\"1\" class=\"dataframe\">\n",
       "  <thead>\n",
       "    <tr>\n",
       "      <th></th>\n",
       "      <th>count</th>\n",
       "      <th>sum</th>\n",
       "      <th>mean</th>\n",
       "    </tr>\n",
       "    <tr>\n",
       "      <th></th>\n",
       "      <th>debt</th>\n",
       "      <th>debt</th>\n",
       "      <th>debt</th>\n",
       "    </tr>\n",
       "    <tr>\n",
       "      <th>children</th>\n",
       "      <th></th>\n",
       "      <th></th>\n",
       "      <th></th>\n",
       "    </tr>\n",
       "  </thead>\n",
       "  <tbody>\n",
       "    <tr>\n",
       "      <th>0</th>\n",
       "      <td>14090</td>\n",
       "      <td>1063</td>\n",
       "      <td>0.075</td>\n",
       "    </tr>\n",
       "    <tr>\n",
       "      <th>1</th>\n",
       "      <td>4855</td>\n",
       "      <td>445</td>\n",
       "      <td>0.092</td>\n",
       "    </tr>\n",
       "    <tr>\n",
       "      <th>2</th>\n",
       "      <td>2128</td>\n",
       "      <td>202</td>\n",
       "      <td>0.095</td>\n",
       "    </tr>\n",
       "    <tr>\n",
       "      <th>3</th>\n",
       "      <td>330</td>\n",
       "      <td>27</td>\n",
       "      <td>0.082</td>\n",
       "    </tr>\n",
       "    <tr>\n",
       "      <th>4</th>\n",
       "      <td>41</td>\n",
       "      <td>4</td>\n",
       "      <td>0.098</td>\n",
       "    </tr>\n",
       "    <tr>\n",
       "      <th>5</th>\n",
       "      <td>9</td>\n",
       "      <td>0</td>\n",
       "      <td>0.000</td>\n",
       "    </tr>\n",
       "  </tbody>\n",
       "</table>\n",
       "</div>"
      ],
      "text/plain": [
       "          count   sum   mean\n",
       "           debt  debt   debt\n",
       "children                    \n",
       "0         14090  1063  0.075\n",
       "1          4855   445  0.092\n",
       "2          2128   202  0.095\n",
       "3           330    27  0.082\n",
       "4            41     4  0.098\n",
       "5             9     0  0.000"
      ]
     },
     "execution_count": 41,
     "metadata": {},
     "output_type": "execute_result"
    }
   ],
   "source": [
    "family.round(3)"
   ]
  },
  {
   "cell_type": "markdown",
   "id": "31b4adb7",
   "metadata": {},
   "source": [
    "* Явная зависимость между количеством детей и возвратом кредита в срок не прослеживается.\n",
    "* Заемщики без детей имеют задолженности в 7,5 % случаев\n",
    "* Заемщики с одним и двумя детьми - в 9 % случаев\n",
    "* При наличии трех детей - в 8% случаев\n",
    "* При наличии четырех детей - в 10 % случаев\n",
    "* Заемщики с пятью детей не имели задолженностей, но их количество составляет всего 9 человек\n"
   ]
  },
  {
   "cell_type": "markdown",
   "id": "629fcb2a",
   "metadata": {},
   "source": [
    "#### Есть ли зависимость между семейным положением и возвратом кредита в срок?"
   ]
  },
  {
   "cell_type": "code",
   "execution_count": 42,
   "id": "d8381688",
   "metadata": {},
   "outputs": [],
   "source": [
    "# Формирование таблицы, позволяющей проанализировать общее количество строк в столбце dept, их суммарное значение и среднее \n",
    "# в зависимости от значений family_id\n",
    "\n",
    "family_id = statistics.pivot_table(index=['family_status_id'], values = ['debt'], aggfunc=['count', 'sum','mean'])"
   ]
  },
  {
   "cell_type": "code",
   "execution_count": 43,
   "id": "eec0753e",
   "metadata": {},
   "outputs": [
    {
     "data": {
      "text/html": [
       "<div>\n",
       "<style scoped>\n",
       "    .dataframe tbody tr th:only-of-type {\n",
       "        vertical-align: middle;\n",
       "    }\n",
       "\n",
       "    .dataframe tbody tr th {\n",
       "        vertical-align: top;\n",
       "    }\n",
       "\n",
       "    .dataframe thead tr th {\n",
       "        text-align: left;\n",
       "    }\n",
       "\n",
       "    .dataframe thead tr:last-of-type th {\n",
       "        text-align: right;\n",
       "    }\n",
       "</style>\n",
       "<table border=\"1\" class=\"dataframe\">\n",
       "  <thead>\n",
       "    <tr>\n",
       "      <th></th>\n",
       "      <th>count</th>\n",
       "      <th>sum</th>\n",
       "      <th>mean</th>\n",
       "    </tr>\n",
       "    <tr>\n",
       "      <th></th>\n",
       "      <th>debt</th>\n",
       "      <th>debt</th>\n",
       "      <th>debt</th>\n",
       "    </tr>\n",
       "    <tr>\n",
       "      <th>family_status_id</th>\n",
       "      <th></th>\n",
       "      <th></th>\n",
       "      <th></th>\n",
       "    </tr>\n",
       "  </thead>\n",
       "  <tbody>\n",
       "    <tr>\n",
       "      <th>0</th>\n",
       "      <td>12339</td>\n",
       "      <td>931</td>\n",
       "      <td>0.075</td>\n",
       "    </tr>\n",
       "    <tr>\n",
       "      <th>1</th>\n",
       "      <td>4150</td>\n",
       "      <td>388</td>\n",
       "      <td>0.093</td>\n",
       "    </tr>\n",
       "    <tr>\n",
       "      <th>2</th>\n",
       "      <td>959</td>\n",
       "      <td>63</td>\n",
       "      <td>0.066</td>\n",
       "    </tr>\n",
       "    <tr>\n",
       "      <th>3</th>\n",
       "      <td>1195</td>\n",
       "      <td>85</td>\n",
       "      <td>0.071</td>\n",
       "    </tr>\n",
       "    <tr>\n",
       "      <th>4</th>\n",
       "      <td>2810</td>\n",
       "      <td>274</td>\n",
       "      <td>0.098</td>\n",
       "    </tr>\n",
       "  </tbody>\n",
       "</table>\n",
       "</div>"
      ],
      "text/plain": [
       "                  count  sum   mean\n",
       "                   debt debt   debt\n",
       "family_status_id                   \n",
       "0                 12339  931  0.075\n",
       "1                  4150  388  0.093\n",
       "2                   959   63  0.066\n",
       "3                  1195   85  0.071\n",
       "4                  2810  274  0.098"
      ]
     },
     "execution_count": 43,
     "metadata": {},
     "output_type": "execute_result"
    }
   ],
   "source": [
    "family_id.round(3)"
   ]
  },
  {
   "cell_type": "code",
   "execution_count": 44,
   "id": "2c6ea55f",
   "metadata": {},
   "outputs": [
    {
     "data": {
      "text/html": [
       "<div>\n",
       "<style scoped>\n",
       "    .dataframe tbody tr th:only-of-type {\n",
       "        vertical-align: middle;\n",
       "    }\n",
       "\n",
       "    .dataframe tbody tr th {\n",
       "        vertical-align: top;\n",
       "    }\n",
       "\n",
       "    .dataframe thead th {\n",
       "        text-align: right;\n",
       "    }\n",
       "</style>\n",
       "<table border=\"1\" class=\"dataframe\">\n",
       "  <thead>\n",
       "    <tr style=\"text-align: right;\">\n",
       "      <th></th>\n",
       "      <th>family_status</th>\n",
       "      <th>family_status_id</th>\n",
       "    </tr>\n",
       "  </thead>\n",
       "  <tbody>\n",
       "    <tr>\n",
       "      <th>0</th>\n",
       "      <td>женат / замужем</td>\n",
       "      <td>0</td>\n",
       "    </tr>\n",
       "    <tr>\n",
       "      <th>1</th>\n",
       "      <td>гражданский брак</td>\n",
       "      <td>1</td>\n",
       "    </tr>\n",
       "    <tr>\n",
       "      <th>2</th>\n",
       "      <td>вдовец / вдова</td>\n",
       "      <td>2</td>\n",
       "    </tr>\n",
       "    <tr>\n",
       "      <th>3</th>\n",
       "      <td>в разводе</td>\n",
       "      <td>3</td>\n",
       "    </tr>\n",
       "    <tr>\n",
       "      <th>4</th>\n",
       "      <td>Не женат / не замужем</td>\n",
       "      <td>4</td>\n",
       "    </tr>\n",
       "  </tbody>\n",
       "</table>\n",
       "</div>"
      ],
      "text/plain": [
       "           family_status  family_status_id\n",
       "0        женат / замужем                 0\n",
       "1       гражданский брак                 1\n",
       "2         вдовец / вдова                 2\n",
       "3              в разводе                 3\n",
       "4  Не женат / не замужем                 4"
      ]
     },
     "execution_count": 44,
     "metadata": {},
     "output_type": "execute_result"
    }
   ],
   "source": [
    "statistics_fam"
   ]
  },
  {
   "cell_type": "markdown",
   "id": "b1f263df",
   "metadata": {},
   "source": [
    "* Наменьший процент задолженностей у вдовцов/вдов и составляет 6,6 %\n",
    "* Далее в рейтинге следуют разведенные заемшики с 7,1 % задолженностей\n",
    "* У женатых заемщиков процент задолженностей 7,5 %\n",
    "* 9,3 % задолженностей у сожительствующих\n",
    "* 9,8 % задолженностей у неженатых\n",
    "* Наибольший процент задолженностей из представленных категорий у неженатых, наименьший - у вдовцов/вдов"
   ]
  },
  {
   "cell_type": "markdown",
   "id": "5cc52bcf",
   "metadata": {},
   "source": [
    "#### Есть ли зависимость между уровнем дохода и возвратом кредита в срок?"
   ]
  },
  {
   "cell_type": "code",
   "execution_count": 45,
   "id": "bd81f7d5",
   "metadata": {},
   "outputs": [],
   "source": [
    "# Формирование таблицы, позволяющей проанализировать минимальное, максимальное и среднее значение дохода\n",
    "# в зависимости от значений dept\n",
    "\n",
    "income = statistics.pivot_table(index=['debt'], values = ['total_income'], aggfunc=['min', 'max','mean', 'count', 'median'])"
   ]
  },
  {
   "cell_type": "code",
   "execution_count": 46,
   "id": "bcd47eca",
   "metadata": {},
   "outputs": [
    {
     "data": {
      "text/html": [
       "<div>\n",
       "<style scoped>\n",
       "    .dataframe tbody tr th:only-of-type {\n",
       "        vertical-align: middle;\n",
       "    }\n",
       "\n",
       "    .dataframe tbody tr th {\n",
       "        vertical-align: top;\n",
       "    }\n",
       "\n",
       "    .dataframe thead tr th {\n",
       "        text-align: left;\n",
       "    }\n",
       "\n",
       "    .dataframe thead tr:last-of-type th {\n",
       "        text-align: right;\n",
       "    }\n",
       "</style>\n",
       "<table border=\"1\" class=\"dataframe\">\n",
       "  <thead>\n",
       "    <tr>\n",
       "      <th></th>\n",
       "      <th>min</th>\n",
       "      <th>max</th>\n",
       "      <th>mean</th>\n",
       "      <th>count</th>\n",
       "      <th>median</th>\n",
       "    </tr>\n",
       "    <tr>\n",
       "      <th></th>\n",
       "      <th>total_income</th>\n",
       "      <th>total_income</th>\n",
       "      <th>total_income</th>\n",
       "      <th>total_income</th>\n",
       "      <th>total_income</th>\n",
       "    </tr>\n",
       "    <tr>\n",
       "      <th>debt</th>\n",
       "      <th></th>\n",
       "      <th></th>\n",
       "      <th></th>\n",
       "      <th></th>\n",
       "      <th></th>\n",
       "    </tr>\n",
       "  </thead>\n",
       "  <tbody>\n",
       "    <tr>\n",
       "      <th>0</th>\n",
       "      <td>21205</td>\n",
       "      <td>2265604</td>\n",
       "      <td>167804.34</td>\n",
       "      <td>19712</td>\n",
       "      <td>152187.5</td>\n",
       "    </tr>\n",
       "    <tr>\n",
       "      <th>1</th>\n",
       "      <td>20667</td>\n",
       "      <td>2200852</td>\n",
       "      <td>163190.24</td>\n",
       "      <td>1741</td>\n",
       "      <td>148800.0</td>\n",
       "    </tr>\n",
       "  </tbody>\n",
       "</table>\n",
       "</div>"
      ],
      "text/plain": [
       "              min          max         mean        count       median\n",
       "     total_income total_income total_income total_income total_income\n",
       "debt                                                                 \n",
       "0           21205      2265604    167804.34        19712     152187.5\n",
       "1           20667      2200852    163190.24         1741     148800.0"
      ]
     },
     "execution_count": 46,
     "metadata": {},
     "output_type": "execute_result"
    }
   ],
   "source": [
    "income.round (2)"
   ]
  },
  {
   "cell_type": "markdown",
   "id": "e381fb88",
   "metadata": {},
   "source": [
    "* Анализ минимального, максимального и среднего значения дохода позволяет сделать вывод, что как в случае с наличием задолженностей, так и в случае с их отсутствием минимальные, максимальные и средние значения дохода являются сопоставимыми  \n",
    "* Зависимость между уровнем дохода и возвратом кредита в срок не прослеживается в явном виде\n"
   ]
  },
  {
   "cell_type": "markdown",
   "id": "524ac873",
   "metadata": {},
   "source": [
    "#### Как разные цели кредита влияют на его возврат в срок?"
   ]
  },
  {
   "cell_type": "code",
   "execution_count": 47,
   "id": "b69cfac8",
   "metadata": {},
   "outputs": [],
   "source": [
    "# Формирование таблицы, позволяющей проанализировать общее количество строк в столбце dept, их суммарное значение и среднее\n",
    "# в зависимости от целей кредита\n",
    "\n",
    "purpose = statistics.pivot_table(index=['purpose_category'], values = ['debt'], aggfunc=['count', 'sum','mean'])"
   ]
  },
  {
   "cell_type": "code",
   "execution_count": 48,
   "id": "ae5fdca4",
   "metadata": {},
   "outputs": [
    {
     "data": {
      "text/html": [
       "<div>\n",
       "<style scoped>\n",
       "    .dataframe tbody tr th:only-of-type {\n",
       "        vertical-align: middle;\n",
       "    }\n",
       "\n",
       "    .dataframe tbody tr th {\n",
       "        vertical-align: top;\n",
       "    }\n",
       "\n",
       "    .dataframe thead tr th {\n",
       "        text-align: left;\n",
       "    }\n",
       "\n",
       "    .dataframe thead tr:last-of-type th {\n",
       "        text-align: right;\n",
       "    }\n",
       "</style>\n",
       "<table border=\"1\" class=\"dataframe\">\n",
       "  <thead>\n",
       "    <tr>\n",
       "      <th></th>\n",
       "      <th>count</th>\n",
       "      <th>sum</th>\n",
       "      <th>mean</th>\n",
       "    </tr>\n",
       "    <tr>\n",
       "      <th></th>\n",
       "      <th>debt</th>\n",
       "      <th>debt</th>\n",
       "      <th>debt</th>\n",
       "    </tr>\n",
       "    <tr>\n",
       "      <th>purpose_category</th>\n",
       "      <th></th>\n",
       "      <th></th>\n",
       "      <th></th>\n",
       "    </tr>\n",
       "  </thead>\n",
       "  <tbody>\n",
       "    <tr>\n",
       "      <th>операции с автомобилем</th>\n",
       "      <td>4306</td>\n",
       "      <td>403</td>\n",
       "      <td>0.094</td>\n",
       "    </tr>\n",
       "    <tr>\n",
       "      <th>операции с недвижимостью</th>\n",
       "      <td>10810</td>\n",
       "      <td>782</td>\n",
       "      <td>0.072</td>\n",
       "    </tr>\n",
       "    <tr>\n",
       "      <th>получение образования</th>\n",
       "      <td>4013</td>\n",
       "      <td>370</td>\n",
       "      <td>0.092</td>\n",
       "    </tr>\n",
       "    <tr>\n",
       "      <th>проведение свадьбы</th>\n",
       "      <td>2324</td>\n",
       "      <td>186</td>\n",
       "      <td>0.080</td>\n",
       "    </tr>\n",
       "  </tbody>\n",
       "</table>\n",
       "</div>"
      ],
      "text/plain": [
       "                          count  sum   mean\n",
       "                           debt debt   debt\n",
       "purpose_category                           \n",
       "операции с автомобилем     4306  403  0.094\n",
       "операции с недвижимостью  10810  782  0.072\n",
       "получение образования      4013  370  0.092\n",
       "проведение свадьбы         2324  186  0.080"
      ]
     },
     "execution_count": 48,
     "metadata": {},
     "output_type": "execute_result"
    }
   ],
   "source": [
    "purpose.round(3)"
   ]
  },
  {
   "cell_type": "markdown",
   "id": "5ec2ca2b",
   "metadata": {},
   "source": [
    "* Наименьший процент задолженностей (7,2 %) у операций с недвижимостью\n",
    "* 8% задолженностей в случае проведения свадьбы\n",
    "* Самый высокий процент задолженностей у операций с недвижимостью, 9,4%, чуть ниже для целей получения образования, 9,2%"
   ]
  },
  {
   "cell_type": "markdown",
   "id": "9960811d",
   "metadata": {},
   "source": [
    "### Общие выводы"
   ]
  },
  {
   "cell_type": "markdown",
   "id": "a46239bb",
   "metadata": {},
   "source": [
    "* На основании полученных данных можно сделать выводы о том что семейное положение и количество детей клиента не влияет на факт погашения кредита в срок\n",
    "* Разница между наибольшим и наибольшим процентом задолженностей при рассмотрении количества детей составляет 2,5 %\n",
    "* Разница между наибольшим и наибольшим процентом задолженностей при рассмотрении семейного положения составляет 3,2 %\n",
    "* Разница между наибольшим и наибольшим процентом задолженностей при рассмотрении цели кредита составляет 2,2 %\n",
    "* Выводы об отсутствии взаимосвязей сделаны на основании того что 2 - 3 % несуществнная разница"
   ]
  },
  {
   "cell_type": "markdown",
   "id": "54ad9a92",
   "metadata": {},
   "source": [
    "### Общие выводы\n",
    "\n",
    "* В ходе работы проведен первичный анализ данных, выявлены пропуски в данных в двух столбцах - days_employed (общий трудовой стаж в днях) и total_income (ежемесячный доход), доля незаполненных значений в каждом из столбцов days_employed и одинакова и составляет 10%, что является существенным, поэтому после отработки аномальных значений пропуски заполняются медианными значениями.\n",
    "* Отработаны аномальные значения столбцов, проведен поиск неявных и явных дубликатов. Возможная причина появления аномальных значений: ручной ввод данных. \n",
    "* Наиболее существенные аномалии в данных у пенсионеров и безработных.  \n",
    "Порядок значений позволяет сделать предположение, что размерность этих аномальных строк не соответствует числу дней, а указывает количество рабочих часов. \n",
    "* Аномалии в данных по количеству детей: значения -1, 20. Аномалии в данных по обучению: наличие верхних и нижних регистров.\n",
    "Аномалии в данных по целям кредитования: дублирование по смыслу, что выявило необходимость категоризация переменных. Аномальные данные во всех столбцах устранены.\n",
    "* Произведена категоризация переменных после устранения аномальных данных во всех столбцах, выделены категории платежеспособности: А, В, С, D, E и категории целей получения кредита: 'операции с автомобилем', 'операции с недвижимостью', 'проведение свадьбы', 'получение образования'.\n",
    "* Категоризация позволила упростить анализ и сделать более наглядными ответы на вопросы.\n",
    "* Явная зависимость между количеством детей и возвратом кредита в срок не прослеживается. Заемщики без детей имеют задолженности в 7,5 % случаев. Заемщики с одним и двумя детьми - в 9 % случаев. При наличии трех детей - в 8% случаев. При наличии четырех детей - в 10 % случаев. Заемщики с пятью детьми не имели задолженностей, но их количество составляет всего 9 человек.\n",
    "* Наменьший процент задолженностей у вдовцов/вдов и составляет 6,6 %. Далее в рейтинге следуют разведенные заемшики с 7,1 % задолженностей. У женатых заемщиков процент задолженностей 7,5 %. 9,3 % задолженностей у сожительствующих. 9,8 % задолженностей у неженатых. Наибольший процент задолженностей из представленных категорий у неженатых, наименьший - у вдовцов/вдов.\n",
    "* Зависимость между уровнем дохода и возвратом кредита в срок не прослеживается в явном виде.\n",
    "* Наименьший процент задолженностей (7,2 %) у операций с недвижимостью, 8% задолженностей в случае проведения свадьбы. Самый высокий процент задолженностей у операций с недвижимостью, 9,4%, чуть ниже для целей получения образования, 9,2%.\n",
    "\n",
    "\n"
   ]
  }
 ],
 "metadata": {
  "ExecuteTimeLog": [
   {
    "duration": 720,
    "start_time": "2022-05-02T08:46:04.502Z"
   },
   {
    "duration": 0,
    "start_time": "2022-05-02T08:46:05.226Z"
   },
   {
    "duration": 0,
    "start_time": "2022-05-02T08:46:05.227Z"
   },
   {
    "duration": 0,
    "start_time": "2022-05-02T08:46:05.229Z"
   },
   {
    "duration": 0,
    "start_time": "2022-05-02T08:46:05.230Z"
   },
   {
    "duration": 0,
    "start_time": "2022-05-02T08:46:05.232Z"
   },
   {
    "duration": 0,
    "start_time": "2022-05-02T08:46:05.233Z"
   },
   {
    "duration": 0,
    "start_time": "2022-05-02T08:46:05.234Z"
   },
   {
    "duration": 0,
    "start_time": "2022-05-02T08:46:05.249Z"
   },
   {
    "duration": 0,
    "start_time": "2022-05-02T08:46:05.250Z"
   },
   {
    "duration": 0,
    "start_time": "2022-05-02T08:46:05.251Z"
   },
   {
    "duration": 0,
    "start_time": "2022-05-02T08:46:05.253Z"
   },
   {
    "duration": 0,
    "start_time": "2022-05-02T08:46:05.254Z"
   },
   {
    "duration": 0,
    "start_time": "2022-05-02T08:46:05.256Z"
   },
   {
    "duration": 0,
    "start_time": "2022-05-02T08:46:05.257Z"
   },
   {
    "duration": 0,
    "start_time": "2022-05-02T08:46:05.258Z"
   },
   {
    "duration": 0,
    "start_time": "2022-05-02T08:46:05.260Z"
   },
   {
    "duration": 0,
    "start_time": "2022-05-02T08:46:05.261Z"
   },
   {
    "duration": 0,
    "start_time": "2022-05-02T08:46:05.263Z"
   },
   {
    "duration": 0,
    "start_time": "2022-05-02T08:46:05.264Z"
   },
   {
    "duration": 0,
    "start_time": "2022-05-02T08:46:05.265Z"
   },
   {
    "duration": 0,
    "start_time": "2022-05-02T08:46:05.266Z"
   },
   {
    "duration": 0,
    "start_time": "2022-05-02T08:46:05.268Z"
   },
   {
    "duration": 0,
    "start_time": "2022-05-02T08:46:05.269Z"
   },
   {
    "duration": 0,
    "start_time": "2022-05-02T08:46:05.270Z"
   },
   {
    "duration": 0,
    "start_time": "2022-05-02T08:46:05.272Z"
   },
   {
    "duration": 0,
    "start_time": "2022-05-02T08:46:05.273Z"
   },
   {
    "duration": 0,
    "start_time": "2022-05-02T08:46:05.274Z"
   },
   {
    "duration": 0,
    "start_time": "2022-05-02T08:46:05.275Z"
   },
   {
    "duration": 0,
    "start_time": "2022-05-02T08:46:05.276Z"
   },
   {
    "duration": 0,
    "start_time": "2022-05-02T08:46:05.279Z"
   },
   {
    "duration": 0,
    "start_time": "2022-05-02T08:46:05.280Z"
   },
   {
    "duration": 0,
    "start_time": "2022-05-02T08:46:05.281Z"
   },
   {
    "duration": 0,
    "start_time": "2022-05-02T08:46:05.282Z"
   },
   {
    "duration": 0,
    "start_time": "2022-05-02T08:46:05.284Z"
   },
   {
    "duration": 0,
    "start_time": "2022-05-02T08:46:05.285Z"
   },
   {
    "duration": 0,
    "start_time": "2022-05-02T08:46:05.287Z"
   },
   {
    "duration": 0,
    "start_time": "2022-05-02T08:46:05.348Z"
   },
   {
    "duration": 0,
    "start_time": "2022-05-02T08:46:05.350Z"
   },
   {
    "duration": 0,
    "start_time": "2022-05-02T08:46:05.351Z"
   },
   {
    "duration": 0,
    "start_time": "2022-05-02T08:46:05.353Z"
   },
   {
    "duration": 0,
    "start_time": "2022-05-02T08:46:05.353Z"
   },
   {
    "duration": 0,
    "start_time": "2022-05-02T08:46:05.355Z"
   },
   {
    "duration": 0,
    "start_time": "2022-05-02T08:46:05.356Z"
   },
   {
    "duration": 0,
    "start_time": "2022-05-02T08:46:05.357Z"
   },
   {
    "duration": 498,
    "start_time": "2022-05-02T08:46:28.521Z"
   },
   {
    "duration": 15,
    "start_time": "2022-05-02T08:46:29.021Z"
   },
   {
    "duration": 16,
    "start_time": "2022-05-02T08:46:29.037Z"
   },
   {
    "duration": 8,
    "start_time": "2022-05-02T08:46:29.055Z"
   },
   {
    "duration": 4,
    "start_time": "2022-05-02T08:46:29.065Z"
   },
   {
    "duration": 5,
    "start_time": "2022-05-02T08:46:29.071Z"
   },
   {
    "duration": 18,
    "start_time": "2022-05-02T08:46:29.077Z"
   },
   {
    "duration": 54,
    "start_time": "2022-05-02T08:46:29.097Z"
   },
   {
    "duration": 13,
    "start_time": "2022-05-02T08:46:29.153Z"
   },
   {
    "duration": 219,
    "start_time": "2022-05-02T08:46:29.168Z"
   },
   {
    "duration": 21,
    "start_time": "2022-05-02T08:46:29.389Z"
   },
   {
    "duration": 12,
    "start_time": "2022-05-02T08:46:29.412Z"
   },
   {
    "duration": 223,
    "start_time": "2022-05-02T08:46:29.426Z"
   },
   {
    "duration": 4,
    "start_time": "2022-05-02T08:46:29.650Z"
   },
   {
    "duration": 15,
    "start_time": "2022-05-02T08:46:29.656Z"
   },
   {
    "duration": 16,
    "start_time": "2022-05-02T08:46:29.672Z"
   },
   {
    "duration": 17,
    "start_time": "2022-05-02T08:46:29.690Z"
   },
   {
    "duration": 5,
    "start_time": "2022-05-02T08:46:29.709Z"
   },
   {
    "duration": 6,
    "start_time": "2022-05-02T08:46:29.749Z"
   },
   {
    "duration": 10,
    "start_time": "2022-05-02T08:46:29.757Z"
   },
   {
    "duration": 14,
    "start_time": "2022-05-02T08:46:29.768Z"
   },
   {
    "duration": 26,
    "start_time": "2022-05-02T08:46:29.784Z"
   },
   {
    "duration": 48,
    "start_time": "2022-05-02T08:46:29.812Z"
   },
   {
    "duration": 12,
    "start_time": "2022-05-02T08:46:29.862Z"
   },
   {
    "duration": 5,
    "start_time": "2022-05-02T08:46:29.876Z"
   },
   {
    "duration": 7,
    "start_time": "2022-05-02T08:46:29.883Z"
   },
   {
    "duration": 8,
    "start_time": "2022-05-02T08:46:29.891Z"
   },
   {
    "duration": 5,
    "start_time": "2022-05-02T08:46:29.903Z"
   },
   {
    "duration": 42,
    "start_time": "2022-05-02T08:46:29.910Z"
   },
   {
    "duration": 6,
    "start_time": "2022-05-02T08:46:29.953Z"
   },
   {
    "duration": 6,
    "start_time": "2022-05-02T08:46:29.961Z"
   },
   {
    "duration": 10,
    "start_time": "2022-05-02T08:46:29.968Z"
   },
   {
    "duration": 11,
    "start_time": "2022-05-02T08:46:29.979Z"
   },
   {
    "duration": 13,
    "start_time": "2022-05-02T08:46:29.991Z"
   },
   {
    "duration": 50,
    "start_time": "2022-05-02T08:46:30.006Z"
   },
   {
    "duration": 17,
    "start_time": "2022-05-02T08:46:30.058Z"
   },
   {
    "duration": 26,
    "start_time": "2022-05-02T08:46:30.077Z"
   },
   {
    "duration": 13,
    "start_time": "2022-05-02T08:46:30.104Z"
   },
   {
    "duration": 36,
    "start_time": "2022-05-02T08:46:30.119Z"
   },
   {
    "duration": 11,
    "start_time": "2022-05-02T08:46:30.156Z"
   },
   {
    "duration": 18,
    "start_time": "2022-05-02T08:46:30.168Z"
   },
   {
    "duration": 47,
    "start_time": "2022-05-02T08:46:30.188Z"
   },
   {
    "duration": 11,
    "start_time": "2022-05-02T08:46:30.237Z"
   },
   {
    "duration": 37,
    "start_time": "2022-05-02T08:46:30.250Z"
   },
   {
    "duration": 11,
    "start_time": "2022-05-02T08:46:30.289Z"
   },
   {
    "duration": 547,
    "start_time": "2022-05-02T08:51:48.621Z"
   },
   {
    "duration": 0,
    "start_time": "2022-05-02T08:51:49.171Z"
   },
   {
    "duration": 0,
    "start_time": "2022-05-02T08:51:49.172Z"
   },
   {
    "duration": 0,
    "start_time": "2022-05-02T08:51:49.173Z"
   },
   {
    "duration": 0,
    "start_time": "2022-05-02T08:51:49.174Z"
   },
   {
    "duration": 0,
    "start_time": "2022-05-02T08:51:49.175Z"
   },
   {
    "duration": 0,
    "start_time": "2022-05-02T08:51:49.176Z"
   },
   {
    "duration": 0,
    "start_time": "2022-05-02T08:51:49.176Z"
   },
   {
    "duration": 0,
    "start_time": "2022-05-02T08:51:49.177Z"
   },
   {
    "duration": 0,
    "start_time": "2022-05-02T08:51:49.178Z"
   },
   {
    "duration": 0,
    "start_time": "2022-05-02T08:51:49.179Z"
   },
   {
    "duration": 0,
    "start_time": "2022-05-02T08:51:49.180Z"
   },
   {
    "duration": 0,
    "start_time": "2022-05-02T08:51:49.181Z"
   },
   {
    "duration": 0,
    "start_time": "2022-05-02T08:51:49.182Z"
   },
   {
    "duration": 0,
    "start_time": "2022-05-02T08:51:49.183Z"
   },
   {
    "duration": 0,
    "start_time": "2022-05-02T08:51:49.183Z"
   },
   {
    "duration": 0,
    "start_time": "2022-05-02T08:51:49.185Z"
   },
   {
    "duration": 0,
    "start_time": "2022-05-02T08:51:49.186Z"
   },
   {
    "duration": 0,
    "start_time": "2022-05-02T08:51:49.187Z"
   },
   {
    "duration": 0,
    "start_time": "2022-05-02T08:51:49.188Z"
   },
   {
    "duration": 0,
    "start_time": "2022-05-02T08:51:49.189Z"
   },
   {
    "duration": 0,
    "start_time": "2022-05-02T08:51:49.189Z"
   },
   {
    "duration": 0,
    "start_time": "2022-05-02T08:51:49.190Z"
   },
   {
    "duration": 0,
    "start_time": "2022-05-02T08:51:49.191Z"
   },
   {
    "duration": 0,
    "start_time": "2022-05-02T08:51:49.192Z"
   },
   {
    "duration": 0,
    "start_time": "2022-05-02T08:51:49.193Z"
   },
   {
    "duration": 0,
    "start_time": "2022-05-02T08:51:49.194Z"
   },
   {
    "duration": 0,
    "start_time": "2022-05-02T08:51:49.195Z"
   },
   {
    "duration": 0,
    "start_time": "2022-05-02T08:51:49.196Z"
   },
   {
    "duration": 0,
    "start_time": "2022-05-02T08:51:49.197Z"
   },
   {
    "duration": 0,
    "start_time": "2022-05-02T08:51:49.198Z"
   },
   {
    "duration": 0,
    "start_time": "2022-05-02T08:51:49.199Z"
   },
   {
    "duration": 0,
    "start_time": "2022-05-02T08:51:49.200Z"
   },
   {
    "duration": 0,
    "start_time": "2022-05-02T08:51:49.201Z"
   },
   {
    "duration": 0,
    "start_time": "2022-05-02T08:51:49.202Z"
   },
   {
    "duration": 0,
    "start_time": "2022-05-02T08:51:49.203Z"
   },
   {
    "duration": 0,
    "start_time": "2022-05-02T08:51:49.203Z"
   },
   {
    "duration": 0,
    "start_time": "2022-05-02T08:51:49.247Z"
   },
   {
    "duration": 0,
    "start_time": "2022-05-02T08:51:49.249Z"
   },
   {
    "duration": 0,
    "start_time": "2022-05-02T08:51:49.249Z"
   },
   {
    "duration": 0,
    "start_time": "2022-05-02T08:51:49.250Z"
   },
   {
    "duration": 0,
    "start_time": "2022-05-02T08:51:49.251Z"
   },
   {
    "duration": 0,
    "start_time": "2022-05-02T08:51:49.252Z"
   },
   {
    "duration": 0,
    "start_time": "2022-05-02T08:51:49.253Z"
   },
   {
    "duration": 0,
    "start_time": "2022-05-02T08:51:49.254Z"
   },
   {
    "duration": 920,
    "start_time": "2022-05-03T17:17:55.885Z"
   },
   {
    "duration": 31,
    "start_time": "2022-05-03T17:17:56.808Z"
   },
   {
    "duration": 11,
    "start_time": "2022-05-03T17:17:56.842Z"
   },
   {
    "duration": 11,
    "start_time": "2022-05-03T17:17:56.856Z"
   },
   {
    "duration": 28,
    "start_time": "2022-05-03T17:17:56.869Z"
   },
   {
    "duration": 16,
    "start_time": "2022-05-03T17:17:56.901Z"
   },
   {
    "duration": 28,
    "start_time": "2022-05-03T17:17:56.920Z"
   },
   {
    "duration": 53,
    "start_time": "2022-05-03T17:17:56.950Z"
   },
   {
    "duration": 30,
    "start_time": "2022-05-03T17:17:57.005Z"
   },
   {
    "duration": 534,
    "start_time": "2022-05-03T17:17:57.041Z"
   },
   {
    "duration": 40,
    "start_time": "2022-05-03T17:17:57.577Z"
   },
   {
    "duration": 23,
    "start_time": "2022-05-03T17:17:57.620Z"
   },
   {
    "duration": 595,
    "start_time": "2022-05-03T17:17:57.646Z"
   },
   {
    "duration": 8,
    "start_time": "2022-05-03T17:17:58.243Z"
   },
   {
    "duration": 6,
    "start_time": "2022-05-03T17:17:58.254Z"
   },
   {
    "duration": 31,
    "start_time": "2022-05-03T17:17:58.262Z"
   },
   {
    "duration": 35,
    "start_time": "2022-05-03T17:17:58.296Z"
   },
   {
    "duration": 4,
    "start_time": "2022-05-03T17:17:58.335Z"
   },
   {
    "duration": 9,
    "start_time": "2022-05-03T17:17:58.341Z"
   },
   {
    "duration": 8,
    "start_time": "2022-05-03T17:17:58.352Z"
   },
   {
    "duration": 38,
    "start_time": "2022-05-03T17:17:58.362Z"
   },
   {
    "duration": 15,
    "start_time": "2022-05-03T17:17:58.403Z"
   },
   {
    "duration": 30,
    "start_time": "2022-05-03T17:17:58.420Z"
   },
   {
    "duration": 84,
    "start_time": "2022-05-03T17:17:58.453Z"
   },
   {
    "duration": 24,
    "start_time": "2022-05-03T17:17:58.540Z"
   },
   {
    "duration": 52,
    "start_time": "2022-05-03T17:17:58.567Z"
   },
   {
    "duration": 19,
    "start_time": "2022-05-03T17:17:58.622Z"
   },
   {
    "duration": 11,
    "start_time": "2022-05-03T17:17:58.651Z"
   },
   {
    "duration": 80,
    "start_time": "2022-05-03T17:17:58.665Z"
   },
   {
    "duration": 13,
    "start_time": "2022-05-03T17:17:58.748Z"
   },
   {
    "duration": 42,
    "start_time": "2022-05-03T17:17:58.764Z"
   },
   {
    "duration": 16,
    "start_time": "2022-05-03T17:17:58.808Z"
   },
   {
    "duration": 17,
    "start_time": "2022-05-03T17:17:58.827Z"
   },
   {
    "duration": 9,
    "start_time": "2022-05-03T17:17:58.847Z"
   },
   {
    "duration": 45,
    "start_time": "2022-05-03T17:17:58.858Z"
   },
   {
    "duration": 26,
    "start_time": "2022-05-03T17:17:58.906Z"
   },
   {
    "duration": 23,
    "start_time": "2022-05-03T17:17:58.935Z"
   },
   {
    "duration": 41,
    "start_time": "2022-05-03T17:17:58.961Z"
   },
   {
    "duration": 38,
    "start_time": "2022-05-03T17:17:59.005Z"
   },
   {
    "duration": 53,
    "start_time": "2022-05-03T17:17:59.045Z"
   },
   {
    "duration": 18,
    "start_time": "2022-05-03T17:17:59.100Z"
   },
   {
    "duration": 38,
    "start_time": "2022-05-03T17:17:59.121Z"
   },
   {
    "duration": 49,
    "start_time": "2022-05-03T17:17:59.161Z"
   },
   {
    "duration": 13,
    "start_time": "2022-05-03T17:17:59.213Z"
   },
   {
    "duration": 83,
    "start_time": "2022-05-03T17:17:59.229Z"
   },
   {
    "duration": 25,
    "start_time": "2022-05-03T17:17:59.315Z"
   },
   {
    "duration": 59,
    "start_time": "2022-05-03T17:17:59.343Z"
   },
   {
    "duration": 16,
    "start_time": "2022-05-03T17:17:59.405Z"
   },
   {
    "duration": 697,
    "start_time": "2022-05-03T17:19:23.027Z"
   },
   {
    "duration": 22,
    "start_time": "2022-05-03T17:19:23.727Z"
   },
   {
    "duration": 12,
    "start_time": "2022-05-03T17:19:23.751Z"
   },
   {
    "duration": 36,
    "start_time": "2022-05-03T17:19:23.765Z"
   },
   {
    "duration": 6,
    "start_time": "2022-05-03T17:19:23.804Z"
   },
   {
    "duration": 10,
    "start_time": "2022-05-03T17:19:23.812Z"
   },
   {
    "duration": 21,
    "start_time": "2022-05-03T17:19:23.824Z"
   },
   {
    "duration": 74,
    "start_time": "2022-05-03T17:19:23.847Z"
   },
   {
    "duration": 19,
    "start_time": "2022-05-03T17:19:23.923Z"
   },
   {
    "duration": 396,
    "start_time": "2022-05-03T17:19:23.947Z"
   },
   {
    "duration": 34,
    "start_time": "2022-05-03T17:19:24.345Z"
   },
   {
    "duration": 18,
    "start_time": "2022-05-03T17:19:24.394Z"
   },
   {
    "duration": 390,
    "start_time": "2022-05-03T17:19:24.414Z"
   },
   {
    "duration": 8,
    "start_time": "2022-05-03T17:19:24.806Z"
   },
   {
    "duration": 7,
    "start_time": "2022-05-03T17:19:24.816Z"
   },
   {
    "duration": 7,
    "start_time": "2022-05-03T17:19:24.825Z"
   },
   {
    "duration": 59,
    "start_time": "2022-05-03T17:19:24.834Z"
   },
   {
    "duration": 4,
    "start_time": "2022-05-03T17:19:24.895Z"
   },
   {
    "duration": 8,
    "start_time": "2022-05-03T17:19:24.901Z"
   },
   {
    "duration": 12,
    "start_time": "2022-05-03T17:19:24.911Z"
   },
   {
    "duration": 9,
    "start_time": "2022-05-03T17:19:24.925Z"
   },
   {
    "duration": 10,
    "start_time": "2022-05-03T17:19:24.936Z"
   },
   {
    "duration": 57,
    "start_time": "2022-05-03T17:19:24.948Z"
   },
   {
    "duration": 38,
    "start_time": "2022-05-03T17:19:25.007Z"
   },
   {
    "duration": 22,
    "start_time": "2022-05-03T17:19:25.047Z"
   },
   {
    "duration": 38,
    "start_time": "2022-05-03T17:19:25.071Z"
   },
   {
    "duration": 8,
    "start_time": "2022-05-03T17:19:25.111Z"
   },
   {
    "duration": 9,
    "start_time": "2022-05-03T17:19:25.125Z"
   },
   {
    "duration": 88,
    "start_time": "2022-05-03T17:19:25.136Z"
   },
   {
    "duration": 10,
    "start_time": "2022-05-03T17:19:25.226Z"
   },
   {
    "duration": 10,
    "start_time": "2022-05-03T17:19:25.239Z"
   },
   {
    "duration": 13,
    "start_time": "2022-05-03T17:19:25.251Z"
   },
   {
    "duration": 34,
    "start_time": "2022-05-03T17:19:25.266Z"
   },
   {
    "duration": 7,
    "start_time": "2022-05-03T17:19:25.302Z"
   },
   {
    "duration": 18,
    "start_time": "2022-05-03T17:19:25.311Z"
   },
   {
    "duration": 18,
    "start_time": "2022-05-03T17:19:25.331Z"
   },
   {
    "duration": 52,
    "start_time": "2022-05-03T17:19:25.351Z"
   },
   {
    "duration": 15,
    "start_time": "2022-05-03T17:19:25.406Z"
   },
   {
    "duration": 23,
    "start_time": "2022-05-03T17:19:25.423Z"
   },
   {
    "duration": 62,
    "start_time": "2022-05-03T17:19:25.448Z"
   },
   {
    "duration": 16,
    "start_time": "2022-05-03T17:19:25.512Z"
   },
   {
    "duration": 28,
    "start_time": "2022-05-03T17:19:25.530Z"
   },
   {
    "duration": 37,
    "start_time": "2022-05-03T17:19:25.561Z"
   },
   {
    "duration": 15,
    "start_time": "2022-05-03T17:19:25.600Z"
   },
   {
    "duration": 44,
    "start_time": "2022-05-03T17:19:25.617Z"
   },
   {
    "duration": 47,
    "start_time": "2022-05-03T17:19:25.664Z"
   },
   {
    "duration": 40,
    "start_time": "2022-05-03T17:19:25.713Z"
   },
   {
    "duration": 17,
    "start_time": "2022-05-03T17:19:25.755Z"
   }
  ],
  "kernelspec": {
   "display_name": "Python 3 (ipykernel)",
   "language": "python",
   "name": "python3"
  },
  "language_info": {
   "codemirror_mode": {
    "name": "ipython",
    "version": 3
   },
   "file_extension": ".py",
   "mimetype": "text/x-python",
   "name": "python",
   "nbconvert_exporter": "python",
   "pygments_lexer": "ipython3",
   "version": "3.9.13"
  },
  "toc": {
   "base_numbering": 1,
   "nav_menu": {},
   "number_sections": true,
   "sideBar": true,
   "skip_h1_title": true,
   "title_cell": "Table of Contents",
   "title_sidebar": "Contents",
   "toc_cell": false,
   "toc_position": {},
   "toc_section_display": true,
   "toc_window_display": false
  }
 },
 "nbformat": 4,
 "nbformat_minor": 5
}
